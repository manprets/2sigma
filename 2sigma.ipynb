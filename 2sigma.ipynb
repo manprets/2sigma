{
 "metadata": {
  "kernelspec": {
   "display_name": "Python 2",
   "language": "python",
   "name": "python2"
  },
  "language_info": {
   "codemirror_mode": {
    "name": "ipython",
    "version": 2
   },
   "file_extension": ".py",
   "mimetype": "text/x-python",
   "name": "python",
   "nbconvert_exporter": "python",
   "pygments_lexer": "ipython2",
   "version": "2.7.11"
  },
  "name": "",
  "signature": "sha256:c503b52c3cf3f539deea2e69b846f370f6383ace3acec28e62bd38bb4d20693b"
 },
 "nbformat": 3,
 "nbformat_minor": 0,
 "worksheets": [
  {
   "cells": [
    {
     "cell_type": "raw",
     "metadata": {},
     "source": [
      "Two Sigma Financial Modeling Challenge\n",
      "Can you uncover predictive value in an uncertain world?\n",
      "\n",
      "Submissions will be evaluated on the R value between the predicted and actual values."
     ]
    },
    {
     "cell_type": "code",
     "collapsed": false,
     "input": [
      "import numpy as np \n",
      "import pandas as pd \n",
      "from scipy import signal\n",
      "import matplotlib.pyplot as plt\n",
      "%matplotlib inline"
     ],
     "language": "python",
     "metadata": {},
     "outputs": [],
     "prompt_number": 1
    },
    {
     "cell_type": "code",
     "collapsed": false,
     "input": [
      "# load the dataset\n",
      "with pd.HDFStore(\"./data/train.h5\", \"r\") as train:\n",
      "    df = train.get(\"train\")"
     ],
     "language": "python",
     "metadata": {},
     "outputs": [],
     "prompt_number": 2
    },
    {
     "cell_type": "raw",
     "metadata": {},
     "source": [
      "This dataset contains anonymized features pertaining to a time-varying value for a financial instrument. \n",
      "Each instrument has an id. \n",
      "Time is represented by the 'timestamp' feature and the variable to predict is 'y'. \n",
      "\n",
      "No further information will be provided on the meaning of the features, the transformations that were applied to them, the timescale, or the type of instruments that are included in the data. Moreover, in accordance with competition rules, participants must not use data other than the data linked from the competition website for the purpose of use in this competition to develop and test their models and submissions.\n",
      "\n",
      "Data is saved and accessed as a .h5 file in the Kernels environment. We have used the .h5 file format instead of the standard .csv format to achieve faster read speeds. The training set file is available for download and offline modeling outside of Kernels. The test set is not available for download.\n",
      "\n",
      "The API also provides a \"reward\" for each timestamp, in the form of an average R value over the predicted values for the previous day. You may choose to use this reward to do reinforcement-style learning. Your code should expect and handle missing values.\n",
      "\n",
      "We have setup the kernels environment such that the code structure you use for training on the test set (clicking \"Run\") will ideally work for submissions on the test set (clicking \"Submit\"). To achieve this, we have partitioned the training set such that the first half is provided as a training set at the start of a run, and the latter half is streamed through the API, as though it is a holdout set. In other words:\n",
      "\n",
      "Run: first half of training set (split by time) provided initially, second half of training set used for API/predictions.\n",
      "Submit: all of training set provided initially, test set used for API/predictions."
     ]
    },
    {
     "cell_type": "code",
     "collapsed": false,
     "input": [
      "df.head()"
     ],
     "language": "python",
     "metadata": {},
     "outputs": [
      {
       "html": [
        "<div style=\"max-width:1500px;overflow:auto;\">\n",
        "<table border=\"1\" class=\"dataframe\">\n",
        "  <thead>\n",
        "    <tr style=\"text-align: right;\">\n",
        "      <th></th>\n",
        "      <th>id</th>\n",
        "      <th>timestamp</th>\n",
        "      <th>derived_0</th>\n",
        "      <th>derived_1</th>\n",
        "      <th>derived_2</th>\n",
        "      <th>derived_3</th>\n",
        "      <th>derived_4</th>\n",
        "      <th>fundamental_0</th>\n",
        "      <th>fundamental_1</th>\n",
        "      <th>fundamental_2</th>\n",
        "      <th>...</th>\n",
        "      <th>technical_36</th>\n",
        "      <th>technical_37</th>\n",
        "      <th>technical_38</th>\n",
        "      <th>technical_39</th>\n",
        "      <th>technical_40</th>\n",
        "      <th>technical_41</th>\n",
        "      <th>technical_42</th>\n",
        "      <th>technical_43</th>\n",
        "      <th>technical_44</th>\n",
        "      <th>y</th>\n",
        "    </tr>\n",
        "  </thead>\n",
        "  <tbody>\n",
        "    <tr>\n",
        "      <th>0</th>\n",
        "      <td>10</td>\n",
        "      <td>0</td>\n",
        "      <td>0.370326</td>\n",
        "      <td>-0.006316</td>\n",
        "      <td>0.222831</td>\n",
        "      <td>-0.213030</td>\n",
        "      <td>0.729277</td>\n",
        "      <td>-0.335633</td>\n",
        "      <td>0.113292</td>\n",
        "      <td>1.621238</td>\n",
        "      <td>...</td>\n",
        "      <td>0.775208</td>\n",
        "      <td>NaN</td>\n",
        "      <td>NaN</td>\n",
        "      <td>NaN</td>\n",
        "      <td>-0.414776</td>\n",
        "      <td>NaN</td>\n",
        "      <td>NaN</td>\n",
        "      <td>-2.0</td>\n",
        "      <td>NaN</td>\n",
        "      <td>-0.011753</td>\n",
        "    </tr>\n",
        "    <tr>\n",
        "      <th>1</th>\n",
        "      <td>11</td>\n",
        "      <td>0</td>\n",
        "      <td>0.014765</td>\n",
        "      <td>-0.038064</td>\n",
        "      <td>-0.017425</td>\n",
        "      <td>0.320652</td>\n",
        "      <td>-0.034134</td>\n",
        "      <td>0.004413</td>\n",
        "      <td>0.114285</td>\n",
        "      <td>-0.210185</td>\n",
        "      <td>...</td>\n",
        "      <td>0.025590</td>\n",
        "      <td>NaN</td>\n",
        "      <td>NaN</td>\n",
        "      <td>NaN</td>\n",
        "      <td>-0.273607</td>\n",
        "      <td>NaN</td>\n",
        "      <td>NaN</td>\n",
        "      <td>-2.0</td>\n",
        "      <td>NaN</td>\n",
        "      <td>-0.001240</td>\n",
        "    </tr>\n",
        "    <tr>\n",
        "      <th>2</th>\n",
        "      <td>12</td>\n",
        "      <td>0</td>\n",
        "      <td>-0.010622</td>\n",
        "      <td>-0.050577</td>\n",
        "      <td>3.379575</td>\n",
        "      <td>-0.157525</td>\n",
        "      <td>-0.068550</td>\n",
        "      <td>-0.155937</td>\n",
        "      <td>1.219439</td>\n",
        "      <td>-0.764516</td>\n",
        "      <td>...</td>\n",
        "      <td>0.151881</td>\n",
        "      <td>NaN</td>\n",
        "      <td>NaN</td>\n",
        "      <td>NaN</td>\n",
        "      <td>-0.175710</td>\n",
        "      <td>NaN</td>\n",
        "      <td>NaN</td>\n",
        "      <td>-2.0</td>\n",
        "      <td>NaN</td>\n",
        "      <td>-0.020940</td>\n",
        "    </tr>\n",
        "    <tr>\n",
        "      <th>3</th>\n",
        "      <td>25</td>\n",
        "      <td>0</td>\n",
        "      <td>NaN</td>\n",
        "      <td>NaN</td>\n",
        "      <td>NaN</td>\n",
        "      <td>NaN</td>\n",
        "      <td>NaN</td>\n",
        "      <td>0.178495</td>\n",
        "      <td>NaN</td>\n",
        "      <td>-0.007262</td>\n",
        "      <td>...</td>\n",
        "      <td>1.035936</td>\n",
        "      <td>NaN</td>\n",
        "      <td>NaN</td>\n",
        "      <td>NaN</td>\n",
        "      <td>-0.211506</td>\n",
        "      <td>NaN</td>\n",
        "      <td>NaN</td>\n",
        "      <td>-2.0</td>\n",
        "      <td>NaN</td>\n",
        "      <td>-0.015959</td>\n",
        "    </tr>\n",
        "    <tr>\n",
        "      <th>4</th>\n",
        "      <td>26</td>\n",
        "      <td>0</td>\n",
        "      <td>0.176693</td>\n",
        "      <td>-0.025284</td>\n",
        "      <td>-0.057680</td>\n",
        "      <td>0.015100</td>\n",
        "      <td>0.180894</td>\n",
        "      <td>0.139445</td>\n",
        "      <td>-0.125687</td>\n",
        "      <td>-0.018707</td>\n",
        "      <td>...</td>\n",
        "      <td>0.630232</td>\n",
        "      <td>NaN</td>\n",
        "      <td>NaN</td>\n",
        "      <td>NaN</td>\n",
        "      <td>-0.001957</td>\n",
        "      <td>NaN</td>\n",
        "      <td>NaN</td>\n",
        "      <td>0.0</td>\n",
        "      <td>NaN</td>\n",
        "      <td>-0.007338</td>\n",
        "    </tr>\n",
        "  </tbody>\n",
        "</table>\n",
        "<p>5 rows \u00d7 111 columns</p>\n",
        "</div>"
       ],
       "metadata": {},
       "output_type": "pyout",
       "prompt_number": 7,
       "text": [
        "   id  timestamp  derived_0  derived_1  derived_2  derived_3  derived_4  \\\n",
        "0  10          0   0.370326  -0.006316   0.222831  -0.213030   0.729277   \n",
        "1  11          0   0.014765  -0.038064  -0.017425   0.320652  -0.034134   \n",
        "2  12          0  -0.010622  -0.050577   3.379575  -0.157525  -0.068550   \n",
        "3  25          0        NaN        NaN        NaN        NaN        NaN   \n",
        "4  26          0   0.176693  -0.025284  -0.057680   0.015100   0.180894   \n",
        "\n",
        "   fundamental_0  fundamental_1  fundamental_2    ...     technical_36  \\\n",
        "0      -0.335633       0.113292       1.621238    ...         0.775208   \n",
        "1       0.004413       0.114285      -0.210185    ...         0.025590   \n",
        "2      -0.155937       1.219439      -0.764516    ...         0.151881   \n",
        "3       0.178495            NaN      -0.007262    ...         1.035936   \n",
        "4       0.139445      -0.125687      -0.018707    ...         0.630232   \n",
        "\n",
        "   technical_37  technical_38  technical_39  technical_40  technical_41  \\\n",
        "0           NaN           NaN           NaN     -0.414776           NaN   \n",
        "1           NaN           NaN           NaN     -0.273607           NaN   \n",
        "2           NaN           NaN           NaN     -0.175710           NaN   \n",
        "3           NaN           NaN           NaN     -0.211506           NaN   \n",
        "4           NaN           NaN           NaN     -0.001957           NaN   \n",
        "\n",
        "   technical_42  technical_43  technical_44         y  \n",
        "0           NaN          -2.0           NaN -0.011753  \n",
        "1           NaN          -2.0           NaN -0.001240  \n",
        "2           NaN          -2.0           NaN -0.020940  \n",
        "3           NaN          -2.0           NaN -0.015959  \n",
        "4           NaN           0.0           NaN -0.007338  \n",
        "\n",
        "[5 rows x 111 columns]"
       ]
      }
     ],
     "prompt_number": 7
    },
    {
     "cell_type": "code",
     "collapsed": false,
     "input": [
      "# classes of cols\n",
      "list(set([c.split('_')[0] for c in df.columns]))"
     ],
     "language": "python",
     "metadata": {},
     "outputs": [
      {
       "metadata": {},
       "output_type": "pyout",
       "prompt_number": 8,
       "text": [
        "[u'technical', u'timestamp', u'derived', u'fundamental', u'y', u'id']"
       ]
      }
     ],
     "prompt_number": 8
    },
    {
     "cell_type": "code",
     "collapsed": false,
     "input": [
      "#print stats of all columns in the dataset\n",
      "df.describe()"
     ],
     "language": "python",
     "metadata": {},
     "outputs": [
      {
       "output_type": "stream",
       "stream": "stderr",
       "text": [
        "/Library/Python/2.7/site-packages/numpy/lib/function_base.py:3823: RuntimeWarning: Invalid value encountered in percentile\n",
        "  RuntimeWarning)\n"
       ]
      },
      {
       "html": [
        "<div style=\"max-width:1500px;overflow:auto;\">\n",
        "<table border=\"1\" class=\"dataframe\">\n",
        "  <thead>\n",
        "    <tr style=\"text-align: right;\">\n",
        "      <th></th>\n",
        "      <th>id</th>\n",
        "      <th>timestamp</th>\n",
        "      <th>derived_0</th>\n",
        "      <th>derived_1</th>\n",
        "      <th>derived_2</th>\n",
        "      <th>derived_3</th>\n",
        "      <th>derived_4</th>\n",
        "      <th>fundamental_0</th>\n",
        "      <th>fundamental_1</th>\n",
        "      <th>fundamental_2</th>\n",
        "      <th>...</th>\n",
        "      <th>technical_36</th>\n",
        "      <th>technical_37</th>\n",
        "      <th>technical_38</th>\n",
        "      <th>technical_39</th>\n",
        "      <th>technical_40</th>\n",
        "      <th>technical_41</th>\n",
        "      <th>technical_42</th>\n",
        "      <th>technical_43</th>\n",
        "      <th>technical_44</th>\n",
        "      <th>y</th>\n",
        "    </tr>\n",
        "  </thead>\n",
        "  <tbody>\n",
        "    <tr>\n",
        "      <th>count</th>\n",
        "      <td>1.710756e+06</td>\n",
        "      <td>1.710756e+06</td>\n",
        "      <td>1.637797e+06</td>\n",
        "      <td>1.629727e+06</td>\n",
        "      <td>1.312105e+06</td>\n",
        "      <td>1.561285e+06</td>\n",
        "      <td>1.304298e+06</td>\n",
        "      <td>1.686809e+06</td>\n",
        "      <td>1.031686e+06</td>\n",
        "      <td>1.341916e+06</td>\n",
        "      <td>...</td>\n",
        "      <td>1.708204e+06</td>\n",
        "      <td>1.691591e+06</td>\n",
        "      <td>1.691591e+06</td>\n",
        "      <td>1.690740e+06</td>\n",
        "      <td>1.708520e+06</td>\n",
        "      <td>1.666567e+06</td>\n",
        "      <td>1.690755e+06</td>\n",
        "      <td>1.706070e+06</td>\n",
        "      <td>1.473977e+06</td>\n",
        "      <td>1.710756e+06</td>\n",
        "    </tr>\n",
        "    <tr>\n",
        "      <th>mean</th>\n",
        "      <td>1.093858e+03</td>\n",
        "      <td>9.456257e+02</td>\n",
        "      <td>-4.537569e+00</td>\n",
        "      <td>7.729437e+11</td>\n",
        "      <td>-3.321289e-01</td>\n",
        "      <td>-5.047151e-01</td>\n",
        "      <td>1.803233e+01</td>\n",
        "      <td>-2.041142e-02</td>\n",
        "      <td>-5.703752e+08</td>\n",
        "      <td>-1.623607e-01</td>\n",
        "      <td>...</td>\n",
        "      <td>-8.584284e-02</td>\n",
        "      <td>-9.108464e-02</td>\n",
        "      <td>-8.161018e-02</td>\n",
        "      <td>-7.290059e-02</td>\n",
        "      <td>4.907529e-02</td>\n",
        "      <td>5.236320e-03</td>\n",
        "      <td>-1.700147e-02</td>\n",
        "      <td>-9.735643e-01</td>\n",
        "      <td>3.881556e-04</td>\n",
        "      <td>2.217474e-04</td>\n",
        "    </tr>\n",
        "    <tr>\n",
        "      <th>std</th>\n",
        "      <td>6.308563e+02</td>\n",
        "      <td>5.195685e+02</td>\n",
        "      <td>2.497790e+02</td>\n",
        "      <td>7.620848e+13</td>\n",
        "      <td>6.521051e+01</td>\n",
        "      <td>1.020845e+02</td>\n",
        "      <td>9.260062e+02</td>\n",
        "      <td>2.496619e-01</td>\n",
        "      <td>7.502489e+10</td>\n",
        "      <td>3.675968e+00</td>\n",
        "      <td>...</td>\n",
        "      <td>6.129349e-01</td>\n",
        "      <td>2.476959e-01</td>\n",
        "      <td>2.333819e-01</td>\n",
        "      <td>2.230485e-01</td>\n",
        "      <td>3.105295e-01</td>\n",
        "      <td>1.134394e-01</td>\n",
        "      <td>2.121332e-01</td>\n",
        "      <td>9.626583e-01</td>\n",
        "      <td>3.013458e-02</td>\n",
        "      <td>2.242171e-02</td>\n",
        "    </tr>\n",
        "    <tr>\n",
        "      <th>min</th>\n",
        "      <td>0.000000e+00</td>\n",
        "      <td>0.000000e+00</td>\n",
        "      <td>-2.017497e+04</td>\n",
        "      <td>-7.375435e-02</td>\n",
        "      <td>-9.848880e+03</td>\n",
        "      <td>-3.434176e+04</td>\n",
        "      <td>-8.551914e+03</td>\n",
        "      <td>-2.344957e+00</td>\n",
        "      <td>-1.043737e+13</td>\n",
        "      <td>-1.077101e+03</td>\n",
        "      <td>...</td>\n",
        "      <td>-1.687572e+00</td>\n",
        "      <td>-1.000000e+00</td>\n",
        "      <td>-1.000000e+00</td>\n",
        "      <td>-1.000000e+00</td>\n",
        "      <td>-5.250904e-01</td>\n",
        "      <td>-4.449529e-01</td>\n",
        "      <td>-1.000000e+00</td>\n",
        "      <td>-2.000000e+00</td>\n",
        "      <td>-1.265686e-01</td>\n",
        "      <td>-8.609413e-02</td>\n",
        "    </tr>\n",
        "    <tr>\n",
        "      <th>25%</th>\n",
        "      <td>5.500000e+02</td>\n",
        "      <td>5.040000e+02</td>\n",
        "      <td>NaN</td>\n",
        "      <td>NaN</td>\n",
        "      <td>NaN</td>\n",
        "      <td>NaN</td>\n",
        "      <td>NaN</td>\n",
        "      <td>NaN</td>\n",
        "      <td>NaN</td>\n",
        "      <td>NaN</td>\n",
        "      <td>...</td>\n",
        "      <td>NaN</td>\n",
        "      <td>NaN</td>\n",
        "      <td>NaN</td>\n",
        "      <td>NaN</td>\n",
        "      <td>NaN</td>\n",
        "      <td>NaN</td>\n",
        "      <td>NaN</td>\n",
        "      <td>NaN</td>\n",
        "      <td>NaN</td>\n",
        "      <td>-9.561389e-03</td>\n",
        "    </tr>\n",
        "    <tr>\n",
        "      <th>50%</th>\n",
        "      <td>1.098000e+03</td>\n",
        "      <td>9.560000e+02</td>\n",
        "      <td>NaN</td>\n",
        "      <td>NaN</td>\n",
        "      <td>NaN</td>\n",
        "      <td>NaN</td>\n",
        "      <td>NaN</td>\n",
        "      <td>NaN</td>\n",
        "      <td>NaN</td>\n",
        "      <td>NaN</td>\n",
        "      <td>...</td>\n",
        "      <td>NaN</td>\n",
        "      <td>NaN</td>\n",
        "      <td>NaN</td>\n",
        "      <td>NaN</td>\n",
        "      <td>NaN</td>\n",
        "      <td>NaN</td>\n",
        "      <td>NaN</td>\n",
        "      <td>NaN</td>\n",
        "      <td>NaN</td>\n",
        "      <td>-1.570681e-04</td>\n",
        "    </tr>\n",
        "    <tr>\n",
        "      <th>75%</th>\n",
        "      <td>1.657000e+03</td>\n",
        "      <td>1.401000e+03</td>\n",
        "      <td>NaN</td>\n",
        "      <td>NaN</td>\n",
        "      <td>NaN</td>\n",
        "      <td>NaN</td>\n",
        "      <td>NaN</td>\n",
        "      <td>NaN</td>\n",
        "      <td>NaN</td>\n",
        "      <td>NaN</td>\n",
        "      <td>...</td>\n",
        "      <td>NaN</td>\n",
        "      <td>NaN</td>\n",
        "      <td>NaN</td>\n",
        "      <td>NaN</td>\n",
        "      <td>NaN</td>\n",
        "      <td>NaN</td>\n",
        "      <td>NaN</td>\n",
        "      <td>NaN</td>\n",
        "      <td>NaN</td>\n",
        "      <td>9.520990e-03</td>\n",
        "    </tr>\n",
        "    <tr>\n",
        "      <th>max</th>\n",
        "      <td>2.158000e+03</td>\n",
        "      <td>1.812000e+03</td>\n",
        "      <td>3.252527e+03</td>\n",
        "      <td>1.068448e+16</td>\n",
        "      <td>3.823001e+03</td>\n",
        "      <td>1.239737e+03</td>\n",
        "      <td>6.785965e+04</td>\n",
        "      <td>1.378195e+00</td>\n",
        "      <td>5.203165e+02</td>\n",
        "      <td>7.677125e+01</td>\n",
        "      <td>...</td>\n",
        "      <td>4.957758e+01</td>\n",
        "      <td>0.000000e+00</td>\n",
        "      <td>0.000000e+00</td>\n",
        "      <td>0.000000e+00</td>\n",
        "      <td>1.569265e+00</td>\n",
        "      <td>6.844833e-01</td>\n",
        "      <td>1.000000e+00</td>\n",
        "      <td>0.000000e+00</td>\n",
        "      <td>1.435858e-01</td>\n",
        "      <td>9.349781e-02</td>\n",
        "    </tr>\n",
        "  </tbody>\n",
        "</table>\n",
        "<p>8 rows \u00d7 111 columns</p>\n",
        "</div>"
       ],
       "metadata": {},
       "output_type": "pyout",
       "prompt_number": 9,
       "text": [
        "                 id     timestamp     derived_0     derived_1     derived_2  \\\n",
        "count  1.710756e+06  1.710756e+06  1.637797e+06  1.629727e+06  1.312105e+06   \n",
        "mean   1.093858e+03  9.456257e+02 -4.537569e+00  7.729437e+11 -3.321289e-01   \n",
        "std    6.308563e+02  5.195685e+02  2.497790e+02  7.620848e+13  6.521051e+01   \n",
        "min    0.000000e+00  0.000000e+00 -2.017497e+04 -7.375435e-02 -9.848880e+03   \n",
        "25%    5.500000e+02  5.040000e+02           NaN           NaN           NaN   \n",
        "50%    1.098000e+03  9.560000e+02           NaN           NaN           NaN   \n",
        "75%    1.657000e+03  1.401000e+03           NaN           NaN           NaN   \n",
        "max    2.158000e+03  1.812000e+03  3.252527e+03  1.068448e+16  3.823001e+03   \n",
        "\n",
        "          derived_3     derived_4  fundamental_0  fundamental_1  \\\n",
        "count  1.561285e+06  1.304298e+06   1.686809e+06   1.031686e+06   \n",
        "mean  -5.047151e-01  1.803233e+01  -2.041142e-02  -5.703752e+08   \n",
        "std    1.020845e+02  9.260062e+02   2.496619e-01   7.502489e+10   \n",
        "min   -3.434176e+04 -8.551914e+03  -2.344957e+00  -1.043737e+13   \n",
        "25%             NaN           NaN            NaN            NaN   \n",
        "50%             NaN           NaN            NaN            NaN   \n",
        "75%             NaN           NaN            NaN            NaN   \n",
        "max    1.239737e+03  6.785965e+04   1.378195e+00   5.203165e+02   \n",
        "\n",
        "       fundamental_2      ...       technical_36  technical_37  technical_38  \\\n",
        "count   1.341916e+06      ...       1.708204e+06  1.691591e+06  1.691591e+06   \n",
        "mean   -1.623607e-01      ...      -8.584284e-02 -9.108464e-02 -8.161018e-02   \n",
        "std     3.675968e+00      ...       6.129349e-01  2.476959e-01  2.333819e-01   \n",
        "min    -1.077101e+03      ...      -1.687572e+00 -1.000000e+00 -1.000000e+00   \n",
        "25%              NaN      ...                NaN           NaN           NaN   \n",
        "50%              NaN      ...                NaN           NaN           NaN   \n",
        "75%              NaN      ...                NaN           NaN           NaN   \n",
        "max     7.677125e+01      ...       4.957758e+01  0.000000e+00  0.000000e+00   \n",
        "\n",
        "       technical_39  technical_40  technical_41  technical_42  technical_43  \\\n",
        "count  1.690740e+06  1.708520e+06  1.666567e+06  1.690755e+06  1.706070e+06   \n",
        "mean  -7.290059e-02  4.907529e-02  5.236320e-03 -1.700147e-02 -9.735643e-01   \n",
        "std    2.230485e-01  3.105295e-01  1.134394e-01  2.121332e-01  9.626583e-01   \n",
        "min   -1.000000e+00 -5.250904e-01 -4.449529e-01 -1.000000e+00 -2.000000e+00   \n",
        "25%             NaN           NaN           NaN           NaN           NaN   \n",
        "50%             NaN           NaN           NaN           NaN           NaN   \n",
        "75%             NaN           NaN           NaN           NaN           NaN   \n",
        "max    0.000000e+00  1.569265e+00  6.844833e-01  1.000000e+00  0.000000e+00   \n",
        "\n",
        "       technical_44             y  \n",
        "count  1.473977e+06  1.710756e+06  \n",
        "mean   3.881556e-04  2.217474e-04  \n",
        "std    3.013458e-02  2.242171e-02  \n",
        "min   -1.265686e-01 -8.609413e-02  \n",
        "25%             NaN -9.561389e-03  \n",
        "50%             NaN -1.570681e-04  \n",
        "75%             NaN  9.520990e-03  \n",
        "max    1.435858e-01  9.349781e-02  \n",
        "\n",
        "[8 rows x 111 columns]"
       ]
      }
     ],
     "prompt_number": 9
    },
    {
     "cell_type": "code",
     "collapsed": false,
     "input": [
      "# explore small portion of dataset\n",
      "# timestamp 0 and 1\n",
      "ndf = df[['id','timestamp','derived_0','derived_1','derived_2','derived_3','derived_4','y']]\n",
      "ndf.describe()"
     ],
     "language": "python",
     "metadata": {},
     "outputs": [
      {
       "output_type": "stream",
       "stream": "stderr",
       "text": [
        "/Library/Python/2.7/site-packages/numpy/lib/function_base.py:3823: RuntimeWarning: Invalid value encountered in percentile\n",
        "  RuntimeWarning)\n"
       ]
      },
      {
       "html": [
        "<div style=\"max-width:1500px;overflow:auto;\">\n",
        "<table border=\"1\" class=\"dataframe\">\n",
        "  <thead>\n",
        "    <tr style=\"text-align: right;\">\n",
        "      <th></th>\n",
        "      <th>id</th>\n",
        "      <th>timestamp</th>\n",
        "      <th>derived_0</th>\n",
        "      <th>derived_1</th>\n",
        "      <th>derived_2</th>\n",
        "      <th>derived_3</th>\n",
        "      <th>derived_4</th>\n",
        "      <th>y</th>\n",
        "    </tr>\n",
        "  </thead>\n",
        "  <tbody>\n",
        "    <tr>\n",
        "      <th>count</th>\n",
        "      <td>1.710756e+06</td>\n",
        "      <td>1.710756e+06</td>\n",
        "      <td>1.637797e+06</td>\n",
        "      <td>1.629727e+06</td>\n",
        "      <td>1.312105e+06</td>\n",
        "      <td>1.561285e+06</td>\n",
        "      <td>1.304298e+06</td>\n",
        "      <td>1.710756e+06</td>\n",
        "    </tr>\n",
        "    <tr>\n",
        "      <th>mean</th>\n",
        "      <td>1.093858e+03</td>\n",
        "      <td>9.456257e+02</td>\n",
        "      <td>-4.537569e+00</td>\n",
        "      <td>7.729437e+11</td>\n",
        "      <td>-3.321289e-01</td>\n",
        "      <td>-5.047151e-01</td>\n",
        "      <td>1.803233e+01</td>\n",
        "      <td>2.217474e-04</td>\n",
        "    </tr>\n",
        "    <tr>\n",
        "      <th>std</th>\n",
        "      <td>6.308563e+02</td>\n",
        "      <td>5.195685e+02</td>\n",
        "      <td>2.497790e+02</td>\n",
        "      <td>7.620848e+13</td>\n",
        "      <td>6.521051e+01</td>\n",
        "      <td>1.020845e+02</td>\n",
        "      <td>9.260062e+02</td>\n",
        "      <td>2.242171e-02</td>\n",
        "    </tr>\n",
        "    <tr>\n",
        "      <th>min</th>\n",
        "      <td>0.000000e+00</td>\n",
        "      <td>0.000000e+00</td>\n",
        "      <td>-2.017497e+04</td>\n",
        "      <td>-7.375435e-02</td>\n",
        "      <td>-9.848880e+03</td>\n",
        "      <td>-3.434176e+04</td>\n",
        "      <td>-8.551914e+03</td>\n",
        "      <td>-8.609413e-02</td>\n",
        "    </tr>\n",
        "    <tr>\n",
        "      <th>25%</th>\n",
        "      <td>5.500000e+02</td>\n",
        "      <td>5.040000e+02</td>\n",
        "      <td>NaN</td>\n",
        "      <td>NaN</td>\n",
        "      <td>NaN</td>\n",
        "      <td>NaN</td>\n",
        "      <td>NaN</td>\n",
        "      <td>-9.561389e-03</td>\n",
        "    </tr>\n",
        "    <tr>\n",
        "      <th>50%</th>\n",
        "      <td>1.098000e+03</td>\n",
        "      <td>9.560000e+02</td>\n",
        "      <td>NaN</td>\n",
        "      <td>NaN</td>\n",
        "      <td>NaN</td>\n",
        "      <td>NaN</td>\n",
        "      <td>NaN</td>\n",
        "      <td>-1.570681e-04</td>\n",
        "    </tr>\n",
        "    <tr>\n",
        "      <th>75%</th>\n",
        "      <td>1.657000e+03</td>\n",
        "      <td>1.401000e+03</td>\n",
        "      <td>NaN</td>\n",
        "      <td>NaN</td>\n",
        "      <td>NaN</td>\n",
        "      <td>NaN</td>\n",
        "      <td>NaN</td>\n",
        "      <td>9.520990e-03</td>\n",
        "    </tr>\n",
        "    <tr>\n",
        "      <th>max</th>\n",
        "      <td>2.158000e+03</td>\n",
        "      <td>1.812000e+03</td>\n",
        "      <td>3.252527e+03</td>\n",
        "      <td>1.068448e+16</td>\n",
        "      <td>3.823001e+03</td>\n",
        "      <td>1.239737e+03</td>\n",
        "      <td>6.785965e+04</td>\n",
        "      <td>9.349781e-02</td>\n",
        "    </tr>\n",
        "  </tbody>\n",
        "</table>\n",
        "</div>"
       ],
       "metadata": {},
       "output_type": "pyout",
       "prompt_number": 3,
       "text": [
        "                 id     timestamp     derived_0     derived_1     derived_2  \\\n",
        "count  1.710756e+06  1.710756e+06  1.637797e+06  1.629727e+06  1.312105e+06   \n",
        "mean   1.093858e+03  9.456257e+02 -4.537569e+00  7.729437e+11 -3.321289e-01   \n",
        "std    6.308563e+02  5.195685e+02  2.497790e+02  7.620848e+13  6.521051e+01   \n",
        "min    0.000000e+00  0.000000e+00 -2.017497e+04 -7.375435e-02 -9.848880e+03   \n",
        "25%    5.500000e+02  5.040000e+02           NaN           NaN           NaN   \n",
        "50%    1.098000e+03  9.560000e+02           NaN           NaN           NaN   \n",
        "75%    1.657000e+03  1.401000e+03           NaN           NaN           NaN   \n",
        "max    2.158000e+03  1.812000e+03  3.252527e+03  1.068448e+16  3.823001e+03   \n",
        "\n",
        "          derived_3     derived_4             y  \n",
        "count  1.561285e+06  1.304298e+06  1.710756e+06  \n",
        "mean  -5.047151e-01  1.803233e+01  2.217474e-04  \n",
        "std    1.020845e+02  9.260062e+02  2.242171e-02  \n",
        "min   -3.434176e+04 -8.551914e+03 -8.609413e-02  \n",
        "25%             NaN           NaN -9.561389e-03  \n",
        "50%             NaN           NaN -1.570681e-04  \n",
        "75%             NaN           NaN  9.520990e-03  \n",
        "max    1.239737e+03  6.785965e+04  9.349781e-02  "
       ]
      }
     ],
     "prompt_number": 3
    },
    {
     "cell_type": "code",
     "collapsed": false,
     "input": [
      "#delete df to save space\n",
      "del df"
     ],
     "language": "python",
     "metadata": {},
     "outputs": [],
     "prompt_number": 4
    },
    {
     "cell_type": "code",
     "collapsed": false,
     "input": [
      "#ndf.loc[ndf.id==10]\n",
      "print \"number of times security {} is traded: {}\".format(10,sum(ndf.id==10))"
     ],
     "language": "python",
     "metadata": {},
     "outputs": [
      {
       "output_type": "stream",
       "stream": "stdout",
       "text": [
        "number of times security 10 is traded: 116\n"
       ]
      }
     ],
     "prompt_number": 12
    },
    {
     "cell_type": "code",
     "collapsed": false,
     "input": [
      "print \"number of securities traded at timestamp {} are : {}\".format(0,sum(ndf.timestamp==0))\n",
      "print \"number of securities traded at timestamp {} are : {}\".format(1,sum(ndf.timestamp==1))\n",
      "print \"number of securities traded at timestamp {} are : {}\".format(25,sum(ndf.timestamp==25))"
     ],
     "language": "python",
     "metadata": {},
     "outputs": [
      {
       "output_type": "stream",
       "stream": "stdout",
       "text": [
        "number of securities traded at timestamp 0 are : 750\n",
        "number of securities traded at timestamp 1 are : 750"
       ]
      },
      {
       "output_type": "stream",
       "stream": "stdout",
       "text": [
        "\n",
        "number of securities traded at timestamp 25 are : 745"
       ]
      },
      {
       "output_type": "stream",
       "stream": "stdout",
       "text": [
        "\n"
       ]
      }
     ],
     "prompt_number": 13
    },
    {
     "cell_type": "code",
     "collapsed": false,
     "input": [
      "#get info\n",
      "ndf.info()"
     ],
     "language": "python",
     "metadata": {},
     "outputs": [
      {
       "output_type": "stream",
       "stream": "stdout",
       "text": [
        "<class 'pandas.core.frame.DataFrame'>\n",
        "Int64Index: 1710756 entries, 0 to 1710755\n",
        "Data columns (total 8 columns):\n",
        "id           int16\n",
        "timestamp    int16\n",
        "derived_0    float32\n",
        "derived_1    float32\n",
        "derived_2    float32\n",
        "derived_3    float32\n",
        "derived_4    float32\n",
        "y            float32\n",
        "dtypes: float32(6), int16(2)\n",
        "memory usage: 58.7 MB\n"
       ]
      }
     ],
     "prompt_number": 14
    },
    {
     "cell_type": "code",
     "collapsed": false,
     "input": [
      "#get info on missing data\n",
      "ndf.isnull().sum()"
     ],
     "language": "python",
     "metadata": {},
     "outputs": [
      {
       "metadata": {},
       "output_type": "pyout",
       "prompt_number": 15,
       "text": [
        "id                0\n",
        "timestamp         0\n",
        "derived_0     72959\n",
        "derived_1     81029\n",
        "derived_2    398651\n",
        "derived_3    149471\n",
        "derived_4    406458\n",
        "y                 0\n",
        "dtype: int64"
       ]
      }
     ],
     "prompt_number": 15
    },
    {
     "cell_type": "code",
     "collapsed": false,
     "input": [
      "#calculate mean\n",
      "ndf_mean=ndf.mean()"
     ],
     "language": "python",
     "metadata": {},
     "outputs": [],
     "prompt_number": 5
    },
    {
     "cell_type": "code",
     "collapsed": false,
     "input": [
      "#show mean\n",
      "ndf_mean"
     ],
     "language": "python",
     "metadata": {},
     "outputs": [
      {
       "metadata": {},
       "output_type": "pyout",
       "prompt_number": 22,
       "text": [
        "id           1.093369e+03\n",
        "timestamp    9.455825e+02\n",
        "derived_0   -4.536046e+00\n",
        "derived_1    7.729436e+11\n",
        "derived_2   -3.320328e-01\n",
        "derived_3   -5.046012e-01\n",
        "derived_4    1.801661e+01\n",
        "y            2.217509e-04\n",
        "dtype: float32"
       ]
      }
     ],
     "prompt_number": 22
    },
    {
     "cell_type": "code",
     "collapsed": false,
     "input": [
      "#list securities at timestamp 0\n",
      "ndf.loc[ndf.timestamp==0]"
     ],
     "language": "python",
     "metadata": {},
     "outputs": [
      {
       "html": [
        "<div style=\"max-width:1500px;overflow:auto;\">\n",
        "<table border=\"1\" class=\"dataframe\">\n",
        "  <thead>\n",
        "    <tr style=\"text-align: right;\">\n",
        "      <th></th>\n",
        "      <th>id</th>\n",
        "      <th>timestamp</th>\n",
        "      <th>derived_0</th>\n",
        "      <th>derived_1</th>\n",
        "      <th>derived_2</th>\n",
        "      <th>derived_3</th>\n",
        "      <th>derived_4</th>\n",
        "      <th>y</th>\n",
        "    </tr>\n",
        "  </thead>\n",
        "  <tbody>\n",
        "    <tr>\n",
        "      <th>0</th>\n",
        "      <td>10</td>\n",
        "      <td>0</td>\n",
        "      <td>0.370326</td>\n",
        "      <td>-0.006316</td>\n",
        "      <td>0.222831</td>\n",
        "      <td>-0.213030</td>\n",
        "      <td>0.729277</td>\n",
        "      <td>-0.011753</td>\n",
        "    </tr>\n",
        "    <tr>\n",
        "      <th>1</th>\n",
        "      <td>11</td>\n",
        "      <td>0</td>\n",
        "      <td>0.014765</td>\n",
        "      <td>-0.038064</td>\n",
        "      <td>-0.017425</td>\n",
        "      <td>0.320652</td>\n",
        "      <td>-0.034134</td>\n",
        "      <td>-0.001240</td>\n",
        "    </tr>\n",
        "    <tr>\n",
        "      <th>2</th>\n",
        "      <td>12</td>\n",
        "      <td>0</td>\n",
        "      <td>-0.010622</td>\n",
        "      <td>-0.050577</td>\n",
        "      <td>3.379575</td>\n",
        "      <td>-0.157525</td>\n",
        "      <td>-0.068550</td>\n",
        "      <td>-0.020940</td>\n",
        "    </tr>\n",
        "    <tr>\n",
        "      <th>3</th>\n",
        "      <td>25</td>\n",
        "      <td>0</td>\n",
        "      <td>NaN</td>\n",
        "      <td>NaN</td>\n",
        "      <td>NaN</td>\n",
        "      <td>NaN</td>\n",
        "      <td>NaN</td>\n",
        "      <td>-0.015959</td>\n",
        "    </tr>\n",
        "    <tr>\n",
        "      <th>4</th>\n",
        "      <td>26</td>\n",
        "      <td>0</td>\n",
        "      <td>0.176693</td>\n",
        "      <td>-0.025284</td>\n",
        "      <td>-0.057680</td>\n",
        "      <td>0.015100</td>\n",
        "      <td>0.180894</td>\n",
        "      <td>-0.007338</td>\n",
        "    </tr>\n",
        "    <tr>\n",
        "      <th>5</th>\n",
        "      <td>27</td>\n",
        "      <td>0</td>\n",
        "      <td>0.346856</td>\n",
        "      <td>0.166239</td>\n",
        "      <td>-6.080701</td>\n",
        "      <td>-0.992249</td>\n",
        "      <td>-0.125916</td>\n",
        "      <td>0.031425</td>\n",
        "    </tr>\n",
        "    <tr>\n",
        "      <th>6</th>\n",
        "      <td>31</td>\n",
        "      <td>0</td>\n",
        "      <td>0.072036</td>\n",
        "      <td>0.014931</td>\n",
        "      <td>NaN</td>\n",
        "      <td>0.014063</td>\n",
        "      <td>NaN</td>\n",
        "      <td>-0.032895</td>\n",
        "    </tr>\n",
        "    <tr>\n",
        "      <th>7</th>\n",
        "      <td>38</td>\n",
        "      <td>0</td>\n",
        "      <td>0.300062</td>\n",
        "      <td>0.071251</td>\n",
        "      <td>-0.074451</td>\n",
        "      <td>-0.065292</td>\n",
        "      <td>-0.011286</td>\n",
        "      <td>0.015803</td>\n",
        "    </tr>\n",
        "    <tr>\n",
        "      <th>8</th>\n",
        "      <td>39</td>\n",
        "      <td>0</td>\n",
        "      <td>-0.003511</td>\n",
        "      <td>-0.034270</td>\n",
        "      <td>0.082372</td>\n",
        "      <td>-0.023937</td>\n",
        "      <td>-0.025750</td>\n",
        "      <td>-0.027593</td>\n",
        "    </tr>\n",
        "    <tr>\n",
        "      <th>9</th>\n",
        "      <td>40</td>\n",
        "      <td>0</td>\n",
        "      <td>-0.083330</td>\n",
        "      <td>0.081935</td>\n",
        "      <td>-2.048438</td>\n",
        "      <td>-0.206856</td>\n",
        "      <td>-0.839563</td>\n",
        "      <td>0.006662</td>\n",
        "    </tr>\n",
        "    <tr>\n",
        "      <th>10</th>\n",
        "      <td>41</td>\n",
        "      <td>0</td>\n",
        "      <td>0.435826</td>\n",
        "      <td>1.797289</td>\n",
        "      <td>0.363570</td>\n",
        "      <td>-0.005651</td>\n",
        "      <td>0.442866</td>\n",
        "      <td>-0.001899</td>\n",
        "    </tr>\n",
        "    <tr>\n",
        "      <th>11</th>\n",
        "      <td>43</td>\n",
        "      <td>0</td>\n",
        "      <td>NaN</td>\n",
        "      <td>NaN</td>\n",
        "      <td>NaN</td>\n",
        "      <td>NaN</td>\n",
        "      <td>NaN</td>\n",
        "      <td>0.050219</td>\n",
        "    </tr>\n",
        "    <tr>\n",
        "      <th>12</th>\n",
        "      <td>44</td>\n",
        "      <td>0</td>\n",
        "      <td>0.034991</td>\n",
        "      <td>-0.019258</td>\n",
        "      <td>0.055769</td>\n",
        "      <td>-0.084496</td>\n",
        "      <td>0.259828</td>\n",
        "      <td>-0.018991</td>\n",
        "    </tr>\n",
        "    <tr>\n",
        "      <th>13</th>\n",
        "      <td>49</td>\n",
        "      <td>0</td>\n",
        "      <td>NaN</td>\n",
        "      <td>0.212615</td>\n",
        "      <td>-0.979520</td>\n",
        "      <td>NaN</td>\n",
        "      <td>NaN</td>\n",
        "      <td>-0.005203</td>\n",
        "    </tr>\n",
        "    <tr>\n",
        "      <th>14</th>\n",
        "      <td>54</td>\n",
        "      <td>0</td>\n",
        "      <td>0.071704</td>\n",
        "      <td>-0.044019</td>\n",
        "      <td>NaN</td>\n",
        "      <td>0.038046</td>\n",
        "      <td>NaN</td>\n",
        "      <td>-0.006369</td>\n",
        "    </tr>\n",
        "    <tr>\n",
        "      <th>15</th>\n",
        "      <td>59</td>\n",
        "      <td>0</td>\n",
        "      <td>0.116360</td>\n",
        "      <td>0.164506</td>\n",
        "      <td>0.156510</td>\n",
        "      <td>-0.129252</td>\n",
        "      <td>1.310059</td>\n",
        "      <td>0.017768</td>\n",
        "    </tr>\n",
        "    <tr>\n",
        "      <th>16</th>\n",
        "      <td>60</td>\n",
        "      <td>0</td>\n",
        "      <td>0.026824</td>\n",
        "      <td>-0.024105</td>\n",
        "      <td>-0.028991</td>\n",
        "      <td>0.433277</td>\n",
        "      <td>-0.006366</td>\n",
        "      <td>-0.001089</td>\n",
        "    </tr>\n",
        "    <tr>\n",
        "      <th>17</th>\n",
        "      <td>62</td>\n",
        "      <td>0</td>\n",
        "      <td>0.367122</td>\n",
        "      <td>0.675543</td>\n",
        "      <td>-0.008483</td>\n",
        "      <td>-0.367778</td>\n",
        "      <td>-0.015529</td>\n",
        "      <td>-0.008794</td>\n",
        "    </tr>\n",
        "    <tr>\n",
        "      <th>18</th>\n",
        "      <td>63</td>\n",
        "      <td>0</td>\n",
        "      <td>0.453271</td>\n",
        "      <td>-0.036301</td>\n",
        "      <td>0.094657</td>\n",
        "      <td>-0.521106</td>\n",
        "      <td>0.049715</td>\n",
        "      <td>0.040724</td>\n",
        "    </tr>\n",
        "    <tr>\n",
        "      <th>19</th>\n",
        "      <td>68</td>\n",
        "      <td>0</td>\n",
        "      <td>-0.122734</td>\n",
        "      <td>0.038939</td>\n",
        "      <td>0.148015</td>\n",
        "      <td>2.493512</td>\n",
        "      <td>0.009746</td>\n",
        "      <td>-0.003921</td>\n",
        "    </tr>\n",
        "    <tr>\n",
        "      <th>20</th>\n",
        "      <td>69</td>\n",
        "      <td>0</td>\n",
        "      <td>-0.062361</td>\n",
        "      <td>-0.063724</td>\n",
        "      <td>0.021274</td>\n",
        "      <td>0.032845</td>\n",
        "      <td>0.174025</td>\n",
        "      <td>-0.011317</td>\n",
        "    </tr>\n",
        "    <tr>\n",
        "      <th>21</th>\n",
        "      <td>70</td>\n",
        "      <td>0</td>\n",
        "      <td>0.175489</td>\n",
        "      <td>-0.024445</td>\n",
        "      <td>-0.034079</td>\n",
        "      <td>-0.020533</td>\n",
        "      <td>0.282478</td>\n",
        "      <td>0.044167</td>\n",
        "    </tr>\n",
        "    <tr>\n",
        "      <th>22</th>\n",
        "      <td>76</td>\n",
        "      <td>0</td>\n",
        "      <td>-0.190705</td>\n",
        "      <td>0.006221</td>\n",
        "      <td>-0.056835</td>\n",
        "      <td>0.063464</td>\n",
        "      <td>-0.149507</td>\n",
        "      <td>0.001395</td>\n",
        "    </tr>\n",
        "    <tr>\n",
        "      <th>23</th>\n",
        "      <td>79</td>\n",
        "      <td>0</td>\n",
        "      <td>0.008503</td>\n",
        "      <td>0.048732</td>\n",
        "      <td>0.123793</td>\n",
        "      <td>0.266366</td>\n",
        "      <td>-0.009772</td>\n",
        "      <td>-0.012101</td>\n",
        "    </tr>\n",
        "    <tr>\n",
        "      <th>24</th>\n",
        "      <td>80</td>\n",
        "      <td>0</td>\n",
        "      <td>0.043156</td>\n",
        "      <td>0.540945</td>\n",
        "      <td>0.278394</td>\n",
        "      <td>0.563343</td>\n",
        "      <td>-0.144004</td>\n",
        "      <td>-0.070837</td>\n",
        "    </tr>\n",
        "    <tr>\n",
        "      <th>25</th>\n",
        "      <td>82</td>\n",
        "      <td>0</td>\n",
        "      <td>0.086832</td>\n",
        "      <td>-0.022962</td>\n",
        "      <td>NaN</td>\n",
        "      <td>0.006783</td>\n",
        "      <td>NaN</td>\n",
        "      <td>-0.001766</td>\n",
        "    </tr>\n",
        "    <tr>\n",
        "      <th>26</th>\n",
        "      <td>83</td>\n",
        "      <td>0</td>\n",
        "      <td>-0.082307</td>\n",
        "      <td>-0.039761</td>\n",
        "      <td>0.102000</td>\n",
        "      <td>-0.798021</td>\n",
        "      <td>0.149622</td>\n",
        "      <td>-0.012542</td>\n",
        "    </tr>\n",
        "    <tr>\n",
        "      <th>27</th>\n",
        "      <td>85</td>\n",
        "      <td>0</td>\n",
        "      <td>0.005351</td>\n",
        "      <td>-0.031086</td>\n",
        "      <td>0.078334</td>\n",
        "      <td>0.417328</td>\n",
        "      <td>-0.020146</td>\n",
        "      <td>0.029697</td>\n",
        "    </tr>\n",
        "    <tr>\n",
        "      <th>28</th>\n",
        "      <td>87</td>\n",
        "      <td>0</td>\n",
        "      <td>0.045536</td>\n",
        "      <td>0.054391</td>\n",
        "      <td>0.330190</td>\n",
        "      <td>-0.816961</td>\n",
        "      <td>0.012602</td>\n",
        "      <td>0.030815</td>\n",
        "    </tr>\n",
        "    <tr>\n",
        "      <th>29</th>\n",
        "      <td>90</td>\n",
        "      <td>0</td>\n",
        "      <td>-0.003925</td>\n",
        "      <td>-0.037522</td>\n",
        "      <td>NaN</td>\n",
        "      <td>-0.028244</td>\n",
        "      <td>NaN</td>\n",
        "      <td>-0.016336</td>\n",
        "    </tr>\n",
        "    <tr>\n",
        "      <th>...</th>\n",
        "      <td>...</td>\n",
        "      <td>...</td>\n",
        "      <td>...</td>\n",
        "      <td>...</td>\n",
        "      <td>...</td>\n",
        "      <td>...</td>\n",
        "      <td>...</td>\n",
        "      <td>...</td>\n",
        "    </tr>\n",
        "    <tr>\n",
        "      <th>720</th>\n",
        "      <td>2074</td>\n",
        "      <td>0</td>\n",
        "      <td>0.056334</td>\n",
        "      <td>-0.024173</td>\n",
        "      <td>0.505663</td>\n",
        "      <td>-0.009277</td>\n",
        "      <td>-0.133143</td>\n",
        "      <td>0.005135</td>\n",
        "    </tr>\n",
        "    <tr>\n",
        "      <th>721</th>\n",
        "      <td>2078</td>\n",
        "      <td>0</td>\n",
        "      <td>-0.036254</td>\n",
        "      <td>-0.063378</td>\n",
        "      <td>0.035784</td>\n",
        "      <td>4.633692</td>\n",
        "      <td>-0.040540</td>\n",
        "      <td>0.008808</td>\n",
        "    </tr>\n",
        "    <tr>\n",
        "      <th>722</th>\n",
        "      <td>2079</td>\n",
        "      <td>0</td>\n",
        "      <td>0.001377</td>\n",
        "      <td>-0.052848</td>\n",
        "      <td>0.753175</td>\n",
        "      <td>-1.983791</td>\n",
        "      <td>0.055307</td>\n",
        "      <td>0.023070</td>\n",
        "    </tr>\n",
        "    <tr>\n",
        "      <th>723</th>\n",
        "      <td>2080</td>\n",
        "      <td>0</td>\n",
        "      <td>0.016116</td>\n",
        "      <td>0.225681</td>\n",
        "      <td>0.594787</td>\n",
        "      <td>0.527371</td>\n",
        "      <td>-0.014343</td>\n",
        "      <td>0.003474</td>\n",
        "    </tr>\n",
        "    <tr>\n",
        "      <th>724</th>\n",
        "      <td>2083</td>\n",
        "      <td>0</td>\n",
        "      <td>0.004248</td>\n",
        "      <td>-0.050419</td>\n",
        "      <td>0.194612</td>\n",
        "      <td>0.047253</td>\n",
        "      <td>0.473132</td>\n",
        "      <td>-0.009413</td>\n",
        "    </tr>\n",
        "    <tr>\n",
        "      <th>725</th>\n",
        "      <td>2089</td>\n",
        "      <td>0</td>\n",
        "      <td>0.306512</td>\n",
        "      <td>0.049792</td>\n",
        "      <td>0.218089</td>\n",
        "      <td>0.337464</td>\n",
        "      <td>0.062121</td>\n",
        "      <td>0.037273</td>\n",
        "    </tr>\n",
        "    <tr>\n",
        "      <th>726</th>\n",
        "      <td>2092</td>\n",
        "      <td>0</td>\n",
        "      <td>-0.006467</td>\n",
        "      <td>-0.040217</td>\n",
        "      <td>-0.070135</td>\n",
        "      <td>3.893649</td>\n",
        "      <td>0.204717</td>\n",
        "      <td>-0.002967</td>\n",
        "    </tr>\n",
        "    <tr>\n",
        "      <th>727</th>\n",
        "      <td>2095</td>\n",
        "      <td>0</td>\n",
        "      <td>-0.086424</td>\n",
        "      <td>0.277874</td>\n",
        "      <td>0.054017</td>\n",
        "      <td>0.012384</td>\n",
        "      <td>-0.081166</td>\n",
        "      <td>0.022886</td>\n",
        "    </tr>\n",
        "    <tr>\n",
        "      <th>728</th>\n",
        "      <td>2100</td>\n",
        "      <td>0</td>\n",
        "      <td>0.013591</td>\n",
        "      <td>0.003154</td>\n",
        "      <td>0.151552</td>\n",
        "      <td>0.656983</td>\n",
        "      <td>0.047161</td>\n",
        "      <td>0.002857</td>\n",
        "    </tr>\n",
        "    <tr>\n",
        "      <th>729</th>\n",
        "      <td>2101</td>\n",
        "      <td>0</td>\n",
        "      <td>-0.303248</td>\n",
        "      <td>0.189905</td>\n",
        "      <td>-0.463898</td>\n",
        "      <td>-0.234003</td>\n",
        "      <td>0.979185</td>\n",
        "      <td>0.021650</td>\n",
        "    </tr>\n",
        "    <tr>\n",
        "      <th>730</th>\n",
        "      <td>2104</td>\n",
        "      <td>0</td>\n",
        "      <td>1.246992</td>\n",
        "      <td>2.347787</td>\n",
        "      <td>0.019648</td>\n",
        "      <td>-0.121395</td>\n",
        "      <td>-0.190802</td>\n",
        "      <td>0.005550</td>\n",
        "    </tr>\n",
        "    <tr>\n",
        "      <th>731</th>\n",
        "      <td>2108</td>\n",
        "      <td>0</td>\n",
        "      <td>-0.124914</td>\n",
        "      <td>0.017854</td>\n",
        "      <td>NaN</td>\n",
        "      <td>-0.530267</td>\n",
        "      <td>NaN</td>\n",
        "      <td>-0.012419</td>\n",
        "    </tr>\n",
        "    <tr>\n",
        "      <th>732</th>\n",
        "      <td>2109</td>\n",
        "      <td>0</td>\n",
        "      <td>-0.473143</td>\n",
        "      <td>0.068132</td>\n",
        "      <td>0.148928</td>\n",
        "      <td>-0.364261</td>\n",
        "      <td>-0.293650</td>\n",
        "      <td>0.011236</td>\n",
        "    </tr>\n",
        "    <tr>\n",
        "      <th>733</th>\n",
        "      <td>2112</td>\n",
        "      <td>0</td>\n",
        "      <td>NaN</td>\n",
        "      <td>NaN</td>\n",
        "      <td>NaN</td>\n",
        "      <td>NaN</td>\n",
        "      <td>NaN</td>\n",
        "      <td>-0.005484</td>\n",
        "    </tr>\n",
        "    <tr>\n",
        "      <th>734</th>\n",
        "      <td>2114</td>\n",
        "      <td>0</td>\n",
        "      <td>-0.009873</td>\n",
        "      <td>-0.038499</td>\n",
        "      <td>0.239589</td>\n",
        "      <td>0.003397</td>\n",
        "      <td>0.097162</td>\n",
        "      <td>0.046571</td>\n",
        "    </tr>\n",
        "    <tr>\n",
        "      <th>735</th>\n",
        "      <td>2124</td>\n",
        "      <td>0</td>\n",
        "      <td>-0.087591</td>\n",
        "      <td>-0.028109</td>\n",
        "      <td>NaN</td>\n",
        "      <td>-0.222032</td>\n",
        "      <td>NaN</td>\n",
        "      <td>-0.007969</td>\n",
        "    </tr>\n",
        "    <tr>\n",
        "      <th>736</th>\n",
        "      <td>2125</td>\n",
        "      <td>0</td>\n",
        "      <td>0.350644</td>\n",
        "      <td>0.109313</td>\n",
        "      <td>0.004337</td>\n",
        "      <td>0.609463</td>\n",
        "      <td>-0.015973</td>\n",
        "      <td>-0.065537</td>\n",
        "    </tr>\n",
        "    <tr>\n",
        "      <th>737</th>\n",
        "      <td>2126</td>\n",
        "      <td>0</td>\n",
        "      <td>0.009904</td>\n",
        "      <td>-0.023238</td>\n",
        "      <td>0.319562</td>\n",
        "      <td>-0.230808</td>\n",
        "      <td>-0.042284</td>\n",
        "      <td>-0.013762</td>\n",
        "    </tr>\n",
        "    <tr>\n",
        "      <th>738</th>\n",
        "      <td>2129</td>\n",
        "      <td>0</td>\n",
        "      <td>-0.041841</td>\n",
        "      <td>-0.020209</td>\n",
        "      <td>NaN</td>\n",
        "      <td>0.355451</td>\n",
        "      <td>NaN</td>\n",
        "      <td>-0.016341</td>\n",
        "    </tr>\n",
        "    <tr>\n",
        "      <th>739</th>\n",
        "      <td>2131</td>\n",
        "      <td>0</td>\n",
        "      <td>0.162852</td>\n",
        "      <td>0.028530</td>\n",
        "      <td>0.820861</td>\n",
        "      <td>0.076152</td>\n",
        "      <td>-0.555212</td>\n",
        "      <td>0.010705</td>\n",
        "    </tr>\n",
        "    <tr>\n",
        "      <th>740</th>\n",
        "      <td>2134</td>\n",
        "      <td>0</td>\n",
        "      <td>-0.299135</td>\n",
        "      <td>0.454445</td>\n",
        "      <td>3.639410</td>\n",
        "      <td>0.449223</td>\n",
        "      <td>-0.066026</td>\n",
        "      <td>-0.002183</td>\n",
        "    </tr>\n",
        "    <tr>\n",
        "      <th>741</th>\n",
        "      <td>2136</td>\n",
        "      <td>0</td>\n",
        "      <td>0.028612</td>\n",
        "      <td>0.012739</td>\n",
        "      <td>NaN</td>\n",
        "      <td>-0.056783</td>\n",
        "      <td>NaN</td>\n",
        "      <td>-0.009422</td>\n",
        "    </tr>\n",
        "    <tr>\n",
        "      <th>742</th>\n",
        "      <td>2138</td>\n",
        "      <td>0</td>\n",
        "      <td>-0.099961</td>\n",
        "      <td>0.021106</td>\n",
        "      <td>0.306440</td>\n",
        "      <td>-0.232636</td>\n",
        "      <td>-0.019977</td>\n",
        "      <td>0.012018</td>\n",
        "    </tr>\n",
        "    <tr>\n",
        "      <th>743</th>\n",
        "      <td>2142</td>\n",
        "      <td>0</td>\n",
        "      <td>0.118954</td>\n",
        "      <td>-0.048489</td>\n",
        "      <td>0.025550</td>\n",
        "      <td>0.081252</td>\n",
        "      <td>0.180253</td>\n",
        "      <td>0.002089</td>\n",
        "    </tr>\n",
        "    <tr>\n",
        "      <th>744</th>\n",
        "      <td>2146</td>\n",
        "      <td>0</td>\n",
        "      <td>0.070941</td>\n",
        "      <td>0.069254</td>\n",
        "      <td>0.263410</td>\n",
        "      <td>0.444488</td>\n",
        "      <td>0.040901</td>\n",
        "      <td>0.053261</td>\n",
        "    </tr>\n",
        "    <tr>\n",
        "      <th>745</th>\n",
        "      <td>2148</td>\n",
        "      <td>0</td>\n",
        "      <td>0.022360</td>\n",
        "      <td>-0.004905</td>\n",
        "      <td>0.042436</td>\n",
        "      <td>0.943392</td>\n",
        "      <td>0.018635</td>\n",
        "      <td>-0.015025</td>\n",
        "    </tr>\n",
        "    <tr>\n",
        "      <th>746</th>\n",
        "      <td>2149</td>\n",
        "      <td>0</td>\n",
        "      <td>0.150793</td>\n",
        "      <td>0.127834</td>\n",
        "      <td>-0.016396</td>\n",
        "      <td>-0.472917</td>\n",
        "      <td>0.021409</td>\n",
        "      <td>-0.016335</td>\n",
        "    </tr>\n",
        "    <tr>\n",
        "      <th>747</th>\n",
        "      <td>2152</td>\n",
        "      <td>0</td>\n",
        "      <td>0.734572</td>\n",
        "      <td>0.166620</td>\n",
        "      <td>-0.656262</td>\n",
        "      <td>0.054532</td>\n",
        "      <td>0.350405</td>\n",
        "      <td>0.015117</td>\n",
        "    </tr>\n",
        "    <tr>\n",
        "      <th>748</th>\n",
        "      <td>2154</td>\n",
        "      <td>0</td>\n",
        "      <td>0.008213</td>\n",
        "      <td>-0.013258</td>\n",
        "      <td>0.022656</td>\n",
        "      <td>2.177400</td>\n",
        "      <td>-0.008794</td>\n",
        "      <td>-0.016151</td>\n",
        "    </tr>\n",
        "    <tr>\n",
        "      <th>749</th>\n",
        "      <td>2156</td>\n",
        "      <td>0</td>\n",
        "      <td>-0.003221</td>\n",
        "      <td>-0.032994</td>\n",
        "      <td>NaN</td>\n",
        "      <td>-0.066352</td>\n",
        "      <td>NaN</td>\n",
        "      <td>-0.011723</td>\n",
        "    </tr>\n",
        "  </tbody>\n",
        "</table>\n",
        "<p>750 rows \u00d7 8 columns</p>\n",
        "</div>"
       ],
       "metadata": {},
       "output_type": "pyout",
       "prompt_number": 23,
       "text": [
        "       id  timestamp  derived_0  derived_1  derived_2  derived_3  derived_4  \\\n",
        "0      10          0   0.370326  -0.006316   0.222831  -0.213030   0.729277   \n",
        "1      11          0   0.014765  -0.038064  -0.017425   0.320652  -0.034134   \n",
        "2      12          0  -0.010622  -0.050577   3.379575  -0.157525  -0.068550   \n",
        "3      25          0        NaN        NaN        NaN        NaN        NaN   \n",
        "4      26          0   0.176693  -0.025284  -0.057680   0.015100   0.180894   \n",
        "5      27          0   0.346856   0.166239  -6.080701  -0.992249  -0.125916   \n",
        "6      31          0   0.072036   0.014931        NaN   0.014063        NaN   \n",
        "7      38          0   0.300062   0.071251  -0.074451  -0.065292  -0.011286   \n",
        "8      39          0  -0.003511  -0.034270   0.082372  -0.023937  -0.025750   \n",
        "9      40          0  -0.083330   0.081935  -2.048438  -0.206856  -0.839563   \n",
        "10     41          0   0.435826   1.797289   0.363570  -0.005651   0.442866   \n",
        "11     43          0        NaN        NaN        NaN        NaN        NaN   \n",
        "12     44          0   0.034991  -0.019258   0.055769  -0.084496   0.259828   \n",
        "13     49          0        NaN   0.212615  -0.979520        NaN        NaN   \n",
        "14     54          0   0.071704  -0.044019        NaN   0.038046        NaN   \n",
        "15     59          0   0.116360   0.164506   0.156510  -0.129252   1.310059   \n",
        "16     60          0   0.026824  -0.024105  -0.028991   0.433277  -0.006366   \n",
        "17     62          0   0.367122   0.675543  -0.008483  -0.367778  -0.015529   \n",
        "18     63          0   0.453271  -0.036301   0.094657  -0.521106   0.049715   \n",
        "19     68          0  -0.122734   0.038939   0.148015   2.493512   0.009746   \n",
        "20     69          0  -0.062361  -0.063724   0.021274   0.032845   0.174025   \n",
        "21     70          0   0.175489  -0.024445  -0.034079  -0.020533   0.282478   \n",
        "22     76          0  -0.190705   0.006221  -0.056835   0.063464  -0.149507   \n",
        "23     79          0   0.008503   0.048732   0.123793   0.266366  -0.009772   \n",
        "24     80          0   0.043156   0.540945   0.278394   0.563343  -0.144004   \n",
        "25     82          0   0.086832  -0.022962        NaN   0.006783        NaN   \n",
        "26     83          0  -0.082307  -0.039761   0.102000  -0.798021   0.149622   \n",
        "27     85          0   0.005351  -0.031086   0.078334   0.417328  -0.020146   \n",
        "28     87          0   0.045536   0.054391   0.330190  -0.816961   0.012602   \n",
        "29     90          0  -0.003925  -0.037522        NaN  -0.028244        NaN   \n",
        "..    ...        ...        ...        ...        ...        ...        ...   \n",
        "720  2074          0   0.056334  -0.024173   0.505663  -0.009277  -0.133143   \n",
        "721  2078          0  -0.036254  -0.063378   0.035784   4.633692  -0.040540   \n",
        "722  2079          0   0.001377  -0.052848   0.753175  -1.983791   0.055307   \n",
        "723  2080          0   0.016116   0.225681   0.594787   0.527371  -0.014343   \n",
        "724  2083          0   0.004248  -0.050419   0.194612   0.047253   0.473132   \n",
        "725  2089          0   0.306512   0.049792   0.218089   0.337464   0.062121   \n",
        "726  2092          0  -0.006467  -0.040217  -0.070135   3.893649   0.204717   \n",
        "727  2095          0  -0.086424   0.277874   0.054017   0.012384  -0.081166   \n",
        "728  2100          0   0.013591   0.003154   0.151552   0.656983   0.047161   \n",
        "729  2101          0  -0.303248   0.189905  -0.463898  -0.234003   0.979185   \n",
        "730  2104          0   1.246992   2.347787   0.019648  -0.121395  -0.190802   \n",
        "731  2108          0  -0.124914   0.017854        NaN  -0.530267        NaN   \n",
        "732  2109          0  -0.473143   0.068132   0.148928  -0.364261  -0.293650   \n",
        "733  2112          0        NaN        NaN        NaN        NaN        NaN   \n",
        "734  2114          0  -0.009873  -0.038499   0.239589   0.003397   0.097162   \n",
        "735  2124          0  -0.087591  -0.028109        NaN  -0.222032        NaN   \n",
        "736  2125          0   0.350644   0.109313   0.004337   0.609463  -0.015973   \n",
        "737  2126          0   0.009904  -0.023238   0.319562  -0.230808  -0.042284   \n",
        "738  2129          0  -0.041841  -0.020209        NaN   0.355451        NaN   \n",
        "739  2131          0   0.162852   0.028530   0.820861   0.076152  -0.555212   \n",
        "740  2134          0  -0.299135   0.454445   3.639410   0.449223  -0.066026   \n",
        "741  2136          0   0.028612   0.012739        NaN  -0.056783        NaN   \n",
        "742  2138          0  -0.099961   0.021106   0.306440  -0.232636  -0.019977   \n",
        "743  2142          0   0.118954  -0.048489   0.025550   0.081252   0.180253   \n",
        "744  2146          0   0.070941   0.069254   0.263410   0.444488   0.040901   \n",
        "745  2148          0   0.022360  -0.004905   0.042436   0.943392   0.018635   \n",
        "746  2149          0   0.150793   0.127834  -0.016396  -0.472917   0.021409   \n",
        "747  2152          0   0.734572   0.166620  -0.656262   0.054532   0.350405   \n",
        "748  2154          0   0.008213  -0.013258   0.022656   2.177400  -0.008794   \n",
        "749  2156          0  -0.003221  -0.032994        NaN  -0.066352        NaN   \n",
        "\n",
        "            y  \n",
        "0   -0.011753  \n",
        "1   -0.001240  \n",
        "2   -0.020940  \n",
        "3   -0.015959  \n",
        "4   -0.007338  \n",
        "5    0.031425  \n",
        "6   -0.032895  \n",
        "7    0.015803  \n",
        "8   -0.027593  \n",
        "9    0.006662  \n",
        "10  -0.001899  \n",
        "11   0.050219  \n",
        "12  -0.018991  \n",
        "13  -0.005203  \n",
        "14  -0.006369  \n",
        "15   0.017768  \n",
        "16  -0.001089  \n",
        "17  -0.008794  \n",
        "18   0.040724  \n",
        "19  -0.003921  \n",
        "20  -0.011317  \n",
        "21   0.044167  \n",
        "22   0.001395  \n",
        "23  -0.012101  \n",
        "24  -0.070837  \n",
        "25  -0.001766  \n",
        "26  -0.012542  \n",
        "27   0.029697  \n",
        "28   0.030815  \n",
        "29  -0.016336  \n",
        "..        ...  \n",
        "720  0.005135  \n",
        "721  0.008808  \n",
        "722  0.023070  \n",
        "723  0.003474  \n",
        "724 -0.009413  \n",
        "725  0.037273  \n",
        "726 -0.002967  \n",
        "727  0.022886  \n",
        "728  0.002857  \n",
        "729  0.021650  \n",
        "730  0.005550  \n",
        "731 -0.012419  \n",
        "732  0.011236  \n",
        "733 -0.005484  \n",
        "734  0.046571  \n",
        "735 -0.007969  \n",
        "736 -0.065537  \n",
        "737 -0.013762  \n",
        "738 -0.016341  \n",
        "739  0.010705  \n",
        "740 -0.002183  \n",
        "741 -0.009422  \n",
        "742  0.012018  \n",
        "743  0.002089  \n",
        "744  0.053261  \n",
        "745 -0.015025  \n",
        "746 -0.016335  \n",
        "747  0.015117  \n",
        "748 -0.016151  \n",
        "749 -0.011723  \n",
        "\n",
        "[750 rows x 8 columns]"
       ]
      }
     ],
     "prompt_number": 23
    },
    {
     "cell_type": "code",
     "collapsed": false,
     "input": [
      "#list all rows where security 10 data is available in train data \n",
      "ndf.loc[ndf.id==10]"
     ],
     "language": "python",
     "metadata": {},
     "outputs": [
      {
       "html": [
        "<div style=\"max-width:1500px;overflow:auto;\">\n",
        "<table border=\"1\" class=\"dataframe\">\n",
        "  <thead>\n",
        "    <tr style=\"text-align: right;\">\n",
        "      <th></th>\n",
        "      <th>id</th>\n",
        "      <th>timestamp</th>\n",
        "      <th>derived_0</th>\n",
        "      <th>derived_1</th>\n",
        "      <th>derived_2</th>\n",
        "      <th>derived_3</th>\n",
        "      <th>derived_4</th>\n",
        "      <th>y</th>\n",
        "    </tr>\n",
        "  </thead>\n",
        "  <tbody>\n",
        "    <tr>\n",
        "      <th>0</th>\n",
        "      <td>10</td>\n",
        "      <td>0</td>\n",
        "      <td>0.370326</td>\n",
        "      <td>-0.006316</td>\n",
        "      <td>0.222831</td>\n",
        "      <td>-0.213030</td>\n",
        "      <td>0.729277</td>\n",
        "      <td>-0.011753</td>\n",
        "    </tr>\n",
        "    <tr>\n",
        "      <th>750</th>\n",
        "      <td>10</td>\n",
        "      <td>1</td>\n",
        "      <td>0.370326</td>\n",
        "      <td>-0.008504</td>\n",
        "      <td>0.224193</td>\n",
        "      <td>-0.216165</td>\n",
        "      <td>0.729277</td>\n",
        "      <td>0.005850</td>\n",
        "    </tr>\n",
        "    <tr>\n",
        "      <th>1500</th>\n",
        "      <td>10</td>\n",
        "      <td>2</td>\n",
        "      <td>0.370326</td>\n",
        "      <td>-0.009375</td>\n",
        "      <td>0.224736</td>\n",
        "      <td>-0.217415</td>\n",
        "      <td>0.729277</td>\n",
        "      <td>-0.000476</td>\n",
        "    </tr>\n",
        "    <tr>\n",
        "      <th>2250</th>\n",
        "      <td>10</td>\n",
        "      <td>3</td>\n",
        "      <td>0.370326</td>\n",
        "      <td>-0.010127</td>\n",
        "      <td>0.225204</td>\n",
        "      <td>-0.218492</td>\n",
        "      <td>0.729277</td>\n",
        "      <td>0.005212</td>\n",
        "    </tr>\n",
        "    <tr>\n",
        "      <th>3000</th>\n",
        "      <td>10</td>\n",
        "      <td>4</td>\n",
        "      <td>0.370326</td>\n",
        "      <td>-0.011338</td>\n",
        "      <td>0.225958</td>\n",
        "      <td>-0.220228</td>\n",
        "      <td>0.729277</td>\n",
        "      <td>-0.077211</td>\n",
        "    </tr>\n",
        "    <tr>\n",
        "      <th>3750</th>\n",
        "      <td>10</td>\n",
        "      <td>5</td>\n",
        "      <td>0.370326</td>\n",
        "      <td>-0.011824</td>\n",
        "      <td>0.226261</td>\n",
        "      <td>-0.220925</td>\n",
        "      <td>0.729277</td>\n",
        "      <td>0.006086</td>\n",
        "    </tr>\n",
        "    <tr>\n",
        "      <th>4500</th>\n",
        "      <td>10</td>\n",
        "      <td>6</td>\n",
        "      <td>0.370326</td>\n",
        "      <td>-0.012245</td>\n",
        "      <td>0.226523</td>\n",
        "      <td>-0.221528</td>\n",
        "      <td>0.729277</td>\n",
        "      <td>-0.027747</td>\n",
        "    </tr>\n",
        "    <tr>\n",
        "      <th>5250</th>\n",
        "      <td>10</td>\n",
        "      <td>7</td>\n",
        "      <td>0.370326</td>\n",
        "      <td>-0.012610</td>\n",
        "      <td>0.226750</td>\n",
        "      <td>-0.222051</td>\n",
        "      <td>0.729277</td>\n",
        "      <td>-0.033304</td>\n",
        "    </tr>\n",
        "    <tr>\n",
        "      <th>6000</th>\n",
        "      <td>10</td>\n",
        "      <td>8</td>\n",
        "      <td>0.370326</td>\n",
        "      <td>-0.012926</td>\n",
        "      <td>0.226947</td>\n",
        "      <td>-0.222505</td>\n",
        "      <td>0.729277</td>\n",
        "      <td>-0.002235</td>\n",
        "    </tr>\n",
        "    <tr>\n",
        "      <th>6750</th>\n",
        "      <td>10</td>\n",
        "      <td>9</td>\n",
        "      <td>0.370326</td>\n",
        "      <td>-0.013200</td>\n",
        "      <td>0.227118</td>\n",
        "      <td>-0.222898</td>\n",
        "      <td>0.729277</td>\n",
        "      <td>0.067070</td>\n",
        "    </tr>\n",
        "    <tr>\n",
        "      <th>7500</th>\n",
        "      <td>10</td>\n",
        "      <td>10</td>\n",
        "      <td>0.370326</td>\n",
        "      <td>-0.013439</td>\n",
        "      <td>0.227266</td>\n",
        "      <td>-0.223240</td>\n",
        "      <td>0.729277</td>\n",
        "      <td>-0.005389</td>\n",
        "    </tr>\n",
        "    <tr>\n",
        "      <th>8250</th>\n",
        "      <td>10</td>\n",
        "      <td>11</td>\n",
        "      <td>0.370326</td>\n",
        "      <td>-0.013646</td>\n",
        "      <td>0.227395</td>\n",
        "      <td>-0.223537</td>\n",
        "      <td>0.729277</td>\n",
        "      <td>-0.011667</td>\n",
        "    </tr>\n",
        "    <tr>\n",
        "      <th>9000</th>\n",
        "      <td>10</td>\n",
        "      <td>12</td>\n",
        "      <td>0.370326</td>\n",
        "      <td>-0.014117</td>\n",
        "      <td>0.227689</td>\n",
        "      <td>-0.224213</td>\n",
        "      <td>0.729277</td>\n",
        "      <td>-0.029225</td>\n",
        "    </tr>\n",
        "    <tr>\n",
        "      <th>9749</th>\n",
        "      <td>10</td>\n",
        "      <td>13</td>\n",
        "      <td>0.370326</td>\n",
        "      <td>-0.014235</td>\n",
        "      <td>0.227763</td>\n",
        "      <td>-0.224382</td>\n",
        "      <td>0.729277</td>\n",
        "      <td>0.001087</td>\n",
        "    </tr>\n",
        "    <tr>\n",
        "      <th>10498</th>\n",
        "      <td>10</td>\n",
        "      <td>14</td>\n",
        "      <td>0.370326</td>\n",
        "      <td>-0.014338</td>\n",
        "      <td>0.227826</td>\n",
        "      <td>-0.224529</td>\n",
        "      <td>0.729277</td>\n",
        "      <td>-0.005209</td>\n",
        "    </tr>\n",
        "    <tr>\n",
        "      <th>11247</th>\n",
        "      <td>10</td>\n",
        "      <td>15</td>\n",
        "      <td>0.370326</td>\n",
        "      <td>-0.014427</td>\n",
        "      <td>0.227882</td>\n",
        "      <td>-0.224657</td>\n",
        "      <td>0.729277</td>\n",
        "      <td>-0.086094</td>\n",
        "    </tr>\n",
        "    <tr>\n",
        "      <th>11996</th>\n",
        "      <td>10</td>\n",
        "      <td>16</td>\n",
        "      <td>0.370326</td>\n",
        "      <td>-0.014505</td>\n",
        "      <td>0.227930</td>\n",
        "      <td>-0.224768</td>\n",
        "      <td>0.729277</td>\n",
        "      <td>-0.068428</td>\n",
        "    </tr>\n",
        "    <tr>\n",
        "      <th>12744</th>\n",
        "      <td>10</td>\n",
        "      <td>17</td>\n",
        "      <td>0.360687</td>\n",
        "      <td>-0.013314</td>\n",
        "      <td>0.229458</td>\n",
        "      <td>-0.221352</td>\n",
        "      <td>0.720794</td>\n",
        "      <td>0.004538</td>\n",
        "    </tr>\n",
        "    <tr>\n",
        "      <th>13492</th>\n",
        "      <td>10</td>\n",
        "      <td>18</td>\n",
        "      <td>0.352302</td>\n",
        "      <td>-0.012277</td>\n",
        "      <td>0.230787</td>\n",
        "      <td>-0.218380</td>\n",
        "      <td>0.713414</td>\n",
        "      <td>0.042246</td>\n",
        "    </tr>\n",
        "    <tr>\n",
        "      <th>14239</th>\n",
        "      <td>10</td>\n",
        "      <td>19</td>\n",
        "      <td>0.345007</td>\n",
        "      <td>-0.011376</td>\n",
        "      <td>0.231943</td>\n",
        "      <td>-0.215795</td>\n",
        "      <td>0.706993</td>\n",
        "      <td>0.003133</td>\n",
        "    </tr>\n",
        "    <tr>\n",
        "      <th>14986</th>\n",
        "      <td>10</td>\n",
        "      <td>20</td>\n",
        "      <td>0.338659</td>\n",
        "      <td>-0.010592</td>\n",
        "      <td>0.232949</td>\n",
        "      <td>-0.213545</td>\n",
        "      <td>0.701407</td>\n",
        "      <td>0.005106</td>\n",
        "    </tr>\n",
        "    <tr>\n",
        "      <th>15733</th>\n",
        "      <td>10</td>\n",
        "      <td>21</td>\n",
        "      <td>0.333136</td>\n",
        "      <td>-0.009909</td>\n",
        "      <td>0.233825</td>\n",
        "      <td>-0.211588</td>\n",
        "      <td>0.696546</td>\n",
        "      <td>-0.070115</td>\n",
        "    </tr>\n",
        "    <tr>\n",
        "      <th>16480</th>\n",
        "      <td>10</td>\n",
        "      <td>22</td>\n",
        "      <td>0.328330</td>\n",
        "      <td>-0.009315</td>\n",
        "      <td>0.234586</td>\n",
        "      <td>-0.209885</td>\n",
        "      <td>0.692316</td>\n",
        "      <td>-0.014666</td>\n",
        "    </tr>\n",
        "    <tr>\n",
        "      <th>17227</th>\n",
        "      <td>10</td>\n",
        "      <td>23</td>\n",
        "      <td>0.324147</td>\n",
        "      <td>-0.008798</td>\n",
        "      <td>0.235249</td>\n",
        "      <td>-0.208403</td>\n",
        "      <td>0.688635</td>\n",
        "      <td>-0.022988</td>\n",
        "    </tr>\n",
        "    <tr>\n",
        "      <th>17974</th>\n",
        "      <td>10</td>\n",
        "      <td>24</td>\n",
        "      <td>0.320507</td>\n",
        "      <td>-0.008348</td>\n",
        "      <td>0.235826</td>\n",
        "      <td>-0.207113</td>\n",
        "      <td>0.685432</td>\n",
        "      <td>-0.001996</td>\n",
        "    </tr>\n",
        "    <tr>\n",
        "      <th>18720</th>\n",
        "      <td>10</td>\n",
        "      <td>25</td>\n",
        "      <td>0.317339</td>\n",
        "      <td>-0.007957</td>\n",
        "      <td>0.236328</td>\n",
        "      <td>-0.205990</td>\n",
        "      <td>0.682644</td>\n",
        "      <td>0.006521</td>\n",
        "    </tr>\n",
        "    <tr>\n",
        "      <th>19465</th>\n",
        "      <td>10</td>\n",
        "      <td>26</td>\n",
        "      <td>0.314582</td>\n",
        "      <td>-0.007616</td>\n",
        "      <td>0.236765</td>\n",
        "      <td>-0.205013</td>\n",
        "      <td>0.680217</td>\n",
        "      <td>-0.014590</td>\n",
        "    </tr>\n",
        "    <tr>\n",
        "      <th>20210</th>\n",
        "      <td>10</td>\n",
        "      <td>27</td>\n",
        "      <td>0.310094</td>\n",
        "      <td>-0.007062</td>\n",
        "      <td>0.237476</td>\n",
        "      <td>-0.203422</td>\n",
        "      <td>0.676267</td>\n",
        "      <td>0.014012</td>\n",
        "    </tr>\n",
        "    <tr>\n",
        "      <th>20954</th>\n",
        "      <td>10</td>\n",
        "      <td>28</td>\n",
        "      <td>0.308275</td>\n",
        "      <td>-0.006837</td>\n",
        "      <td>0.237765</td>\n",
        "      <td>-0.202778</td>\n",
        "      <td>0.674667</td>\n",
        "      <td>-0.001151</td>\n",
        "    </tr>\n",
        "    <tr>\n",
        "      <th>21698</th>\n",
        "      <td>10</td>\n",
        "      <td>29</td>\n",
        "      <td>0.306693</td>\n",
        "      <td>-0.006641</td>\n",
        "      <td>0.238015</td>\n",
        "      <td>-0.202217</td>\n",
        "      <td>0.673274</td>\n",
        "      <td>-0.022119</td>\n",
        "    </tr>\n",
        "    <tr>\n",
        "      <th>...</th>\n",
        "      <td>...</td>\n",
        "      <td>...</td>\n",
        "      <td>...</td>\n",
        "      <td>...</td>\n",
        "      <td>...</td>\n",
        "      <td>...</td>\n",
        "      <td>...</td>\n",
        "      <td>...</td>\n",
        "    </tr>\n",
        "    <tr>\n",
        "      <th>65429</th>\n",
        "      <td>10</td>\n",
        "      <td>86</td>\n",
        "      <td>0.040678</td>\n",
        "      <td>0.004929</td>\n",
        "      <td>0.228905</td>\n",
        "      <td>-0.094609</td>\n",
        "      <td>0.321574</td>\n",
        "      <td>-0.086094</td>\n",
        "    </tr>\n",
        "    <tr>\n",
        "      <th>66247</th>\n",
        "      <td>10</td>\n",
        "      <td>87</td>\n",
        "      <td>0.014607</td>\n",
        "      <td>0.006936</td>\n",
        "      <td>0.229152</td>\n",
        "      <td>-0.075277</td>\n",
        "      <td>0.286469</td>\n",
        "      <td>0.031564</td>\n",
        "    </tr>\n",
        "    <tr>\n",
        "      <th>67065</th>\n",
        "      <td>10</td>\n",
        "      <td>88</td>\n",
        "      <td>0.004044</td>\n",
        "      <td>0.007750</td>\n",
        "      <td>0.229251</td>\n",
        "      <td>-0.067445</td>\n",
        "      <td>0.272247</td>\n",
        "      <td>0.006429</td>\n",
        "    </tr>\n",
        "    <tr>\n",
        "      <th>67883</th>\n",
        "      <td>10</td>\n",
        "      <td>89</td>\n",
        "      <td>-0.005152</td>\n",
        "      <td>0.008458</td>\n",
        "      <td>0.229338</td>\n",
        "      <td>-0.060626</td>\n",
        "      <td>0.259865</td>\n",
        "      <td>-0.006855</td>\n",
        "    </tr>\n",
        "    <tr>\n",
        "      <th>68701</th>\n",
        "      <td>10</td>\n",
        "      <td>90</td>\n",
        "      <td>-0.020126</td>\n",
        "      <td>0.009610</td>\n",
        "      <td>0.229480</td>\n",
        "      <td>-0.049523</td>\n",
        "      <td>0.239703</td>\n",
        "      <td>0.011290</td>\n",
        "    </tr>\n",
        "    <tr>\n",
        "      <th>69519</th>\n",
        "      <td>10</td>\n",
        "      <td>91</td>\n",
        "      <td>-0.026193</td>\n",
        "      <td>0.010077</td>\n",
        "      <td>0.229537</td>\n",
        "      <td>-0.045025</td>\n",
        "      <td>0.231534</td>\n",
        "      <td>-0.008732</td>\n",
        "    </tr>\n",
        "    <tr>\n",
        "      <th>70337</th>\n",
        "      <td>10</td>\n",
        "      <td>92</td>\n",
        "      <td>-0.031474</td>\n",
        "      <td>0.010484</td>\n",
        "      <td>0.229587</td>\n",
        "      <td>-0.041109</td>\n",
        "      <td>0.224423</td>\n",
        "      <td>0.007650</td>\n",
        "    </tr>\n",
        "    <tr>\n",
        "      <th>71155</th>\n",
        "      <td>10</td>\n",
        "      <td>93</td>\n",
        "      <td>-0.036072</td>\n",
        "      <td>0.010838</td>\n",
        "      <td>0.229630</td>\n",
        "      <td>-0.037699</td>\n",
        "      <td>0.218232</td>\n",
        "      <td>-0.003137</td>\n",
        "    </tr>\n",
        "    <tr>\n",
        "      <th>71973</th>\n",
        "      <td>10</td>\n",
        "      <td>94</td>\n",
        "      <td>-0.040075</td>\n",
        "      <td>0.011146</td>\n",
        "      <td>0.229668</td>\n",
        "      <td>-0.034732</td>\n",
        "      <td>0.212843</td>\n",
        "      <td>-0.030724</td>\n",
        "    </tr>\n",
        "    <tr>\n",
        "      <th>72791</th>\n",
        "      <td>10</td>\n",
        "      <td>95</td>\n",
        "      <td>-0.043559</td>\n",
        "      <td>0.011414</td>\n",
        "      <td>0.229701</td>\n",
        "      <td>-0.032148</td>\n",
        "      <td>0.208151</td>\n",
        "      <td>0.006176</td>\n",
        "    </tr>\n",
        "    <tr>\n",
        "      <th>73609</th>\n",
        "      <td>10</td>\n",
        "      <td>96</td>\n",
        "      <td>-0.049233</td>\n",
        "      <td>0.011851</td>\n",
        "      <td>0.229754</td>\n",
        "      <td>-0.027941</td>\n",
        "      <td>0.200511</td>\n",
        "      <td>-0.005210</td>\n",
        "    </tr>\n",
        "    <tr>\n",
        "      <th>74427</th>\n",
        "      <td>10</td>\n",
        "      <td>97</td>\n",
        "      <td>-0.051532</td>\n",
        "      <td>0.012028</td>\n",
        "      <td>0.229776</td>\n",
        "      <td>-0.026236</td>\n",
        "      <td>0.197416</td>\n",
        "      <td>-0.011088</td>\n",
        "    </tr>\n",
        "    <tr>\n",
        "      <th>75245</th>\n",
        "      <td>10</td>\n",
        "      <td>98</td>\n",
        "      <td>-0.053533</td>\n",
        "      <td>0.012182</td>\n",
        "      <td>0.229795</td>\n",
        "      <td>-0.024752</td>\n",
        "      <td>0.194721</td>\n",
        "      <td>0.013483</td>\n",
        "    </tr>\n",
        "    <tr>\n",
        "      <th>76063</th>\n",
        "      <td>10</td>\n",
        "      <td>99</td>\n",
        "      <td>-0.056792</td>\n",
        "      <td>0.012433</td>\n",
        "      <td>0.229826</td>\n",
        "      <td>-0.022336</td>\n",
        "      <td>0.190333</td>\n",
        "      <td>0.015008</td>\n",
        "    </tr>\n",
        "    <tr>\n",
        "      <th>76879</th>\n",
        "      <td>10</td>\n",
        "      <td>100</td>\n",
        "      <td>-0.058113</td>\n",
        "      <td>0.012535</td>\n",
        "      <td>0.229838</td>\n",
        "      <td>-0.021357</td>\n",
        "      <td>0.188555</td>\n",
        "      <td>-0.001984</td>\n",
        "    </tr>\n",
        "    <tr>\n",
        "      <th>77694</th>\n",
        "      <td>10</td>\n",
        "      <td>101</td>\n",
        "      <td>-0.059262</td>\n",
        "      <td>0.012623</td>\n",
        "      <td>0.229849</td>\n",
        "      <td>-0.020504</td>\n",
        "      <td>0.187008</td>\n",
        "      <td>0.029165</td>\n",
        "    </tr>\n",
        "    <tr>\n",
        "      <th>78509</th>\n",
        "      <td>10</td>\n",
        "      <td>102</td>\n",
        "      <td>-0.061134</td>\n",
        "      <td>0.012767</td>\n",
        "      <td>0.229867</td>\n",
        "      <td>-0.008525</td>\n",
        "      <td>0.184488</td>\n",
        "      <td>0.003515</td>\n",
        "    </tr>\n",
        "    <tr>\n",
        "      <th>79324</th>\n",
        "      <td>10</td>\n",
        "      <td>103</td>\n",
        "      <td>-0.061892</td>\n",
        "      <td>0.012826</td>\n",
        "      <td>0.229874</td>\n",
        "      <td>-0.003672</td>\n",
        "      <td>0.183466</td>\n",
        "      <td>0.014531</td>\n",
        "    </tr>\n",
        "    <tr>\n",
        "      <th>80139</th>\n",
        "      <td>10</td>\n",
        "      <td>104</td>\n",
        "      <td>-0.062552</td>\n",
        "      <td>0.012877</td>\n",
        "      <td>0.229880</td>\n",
        "      <td>0.000553</td>\n",
        "      <td>0.182578</td>\n",
        "      <td>-0.019597</td>\n",
        "    </tr>\n",
        "    <tr>\n",
        "      <th>80954</th>\n",
        "      <td>10</td>\n",
        "      <td>105</td>\n",
        "      <td>-0.063127</td>\n",
        "      <td>0.012921</td>\n",
        "      <td>0.229886</td>\n",
        "      <td>0.004231</td>\n",
        "      <td>0.181804</td>\n",
        "      <td>-0.009115</td>\n",
        "    </tr>\n",
        "    <tr>\n",
        "      <th>81769</th>\n",
        "      <td>10</td>\n",
        "      <td>106</td>\n",
        "      <td>-0.063627</td>\n",
        "      <td>0.012959</td>\n",
        "      <td>0.229890</td>\n",
        "      <td>0.007433</td>\n",
        "      <td>0.181130</td>\n",
        "      <td>-0.007080</td>\n",
        "    </tr>\n",
        "    <tr>\n",
        "      <th>82582</th>\n",
        "      <td>10</td>\n",
        "      <td>107</td>\n",
        "      <td>-0.064063</td>\n",
        "      <td>0.012993</td>\n",
        "      <td>0.229894</td>\n",
        "      <td>0.010221</td>\n",
        "      <td>0.180544</td>\n",
        "      <td>-0.006951</td>\n",
        "    </tr>\n",
        "    <tr>\n",
        "      <th>83395</th>\n",
        "      <td>10</td>\n",
        "      <td>108</td>\n",
        "      <td>-0.064442</td>\n",
        "      <td>0.013022</td>\n",
        "      <td>0.229898</td>\n",
        "      <td>0.012647</td>\n",
        "      <td>0.180033</td>\n",
        "      <td>-0.015513</td>\n",
        "    </tr>\n",
        "    <tr>\n",
        "      <th>84208</th>\n",
        "      <td>10</td>\n",
        "      <td>109</td>\n",
        "      <td>-0.064772</td>\n",
        "      <td>0.013047</td>\n",
        "      <td>0.229901</td>\n",
        "      <td>0.014760</td>\n",
        "      <td>0.179589</td>\n",
        "      <td>-0.046703</td>\n",
        "    </tr>\n",
        "    <tr>\n",
        "      <th>85021</th>\n",
        "      <td>10</td>\n",
        "      <td>110</td>\n",
        "      <td>-0.065060</td>\n",
        "      <td>0.013070</td>\n",
        "      <td>0.229904</td>\n",
        "      <td>0.016599</td>\n",
        "      <td>0.179202</td>\n",
        "      <td>-0.003692</td>\n",
        "    </tr>\n",
        "    <tr>\n",
        "      <th>85834</th>\n",
        "      <td>10</td>\n",
        "      <td>111</td>\n",
        "      <td>-0.065310</td>\n",
        "      <td>0.013089</td>\n",
        "      <td>0.229906</td>\n",
        "      <td>0.018200</td>\n",
        "      <td>0.178865</td>\n",
        "      <td>-0.031386</td>\n",
        "    </tr>\n",
        "    <tr>\n",
        "      <th>86647</th>\n",
        "      <td>10</td>\n",
        "      <td>112</td>\n",
        "      <td>-0.065528</td>\n",
        "      <td>0.013106</td>\n",
        "      <td>0.229908</td>\n",
        "      <td>0.019594</td>\n",
        "      <td>0.178572</td>\n",
        "      <td>0.025665</td>\n",
        "    </tr>\n",
        "    <tr>\n",
        "      <th>87460</th>\n",
        "      <td>10</td>\n",
        "      <td>113</td>\n",
        "      <td>-0.065717</td>\n",
        "      <td>0.013120</td>\n",
        "      <td>0.229910</td>\n",
        "      <td>0.020807</td>\n",
        "      <td>0.178316</td>\n",
        "      <td>0.093498</td>\n",
        "    </tr>\n",
        "    <tr>\n",
        "      <th>88273</th>\n",
        "      <td>10</td>\n",
        "      <td>114</td>\n",
        "      <td>-0.065882</td>\n",
        "      <td>0.013133</td>\n",
        "      <td>0.229912</td>\n",
        "      <td>0.021863</td>\n",
        "      <td>0.178094</td>\n",
        "      <td>0.000759</td>\n",
        "    </tr>\n",
        "    <tr>\n",
        "      <th>89086</th>\n",
        "      <td>10</td>\n",
        "      <td>115</td>\n",
        "      <td>-0.066026</td>\n",
        "      <td>0.013144</td>\n",
        "      <td>0.229913</td>\n",
        "      <td>0.022783</td>\n",
        "      <td>0.177901</td>\n",
        "      <td>-0.027145</td>\n",
        "    </tr>\n",
        "  </tbody>\n",
        "</table>\n",
        "<p>116 rows \u00d7 8 columns</p>\n",
        "</div>"
       ],
       "metadata": {},
       "output_type": "pyout",
       "prompt_number": 24,
       "text": [
        "       id  timestamp  derived_0  derived_1  derived_2  derived_3  derived_4  \\\n",
        "0      10          0   0.370326  -0.006316   0.222831  -0.213030   0.729277   \n",
        "750    10          1   0.370326  -0.008504   0.224193  -0.216165   0.729277   \n",
        "1500   10          2   0.370326  -0.009375   0.224736  -0.217415   0.729277   \n",
        "2250   10          3   0.370326  -0.010127   0.225204  -0.218492   0.729277   \n",
        "3000   10          4   0.370326  -0.011338   0.225958  -0.220228   0.729277   \n",
        "3750   10          5   0.370326  -0.011824   0.226261  -0.220925   0.729277   \n",
        "4500   10          6   0.370326  -0.012245   0.226523  -0.221528   0.729277   \n",
        "5250   10          7   0.370326  -0.012610   0.226750  -0.222051   0.729277   \n",
        "6000   10          8   0.370326  -0.012926   0.226947  -0.222505   0.729277   \n",
        "6750   10          9   0.370326  -0.013200   0.227118  -0.222898   0.729277   \n",
        "7500   10         10   0.370326  -0.013439   0.227266  -0.223240   0.729277   \n",
        "8250   10         11   0.370326  -0.013646   0.227395  -0.223537   0.729277   \n",
        "9000   10         12   0.370326  -0.014117   0.227689  -0.224213   0.729277   \n",
        "9749   10         13   0.370326  -0.014235   0.227763  -0.224382   0.729277   \n",
        "10498  10         14   0.370326  -0.014338   0.227826  -0.224529   0.729277   \n",
        "11247  10         15   0.370326  -0.014427   0.227882  -0.224657   0.729277   \n",
        "11996  10         16   0.370326  -0.014505   0.227930  -0.224768   0.729277   \n",
        "12744  10         17   0.360687  -0.013314   0.229458  -0.221352   0.720794   \n",
        "13492  10         18   0.352302  -0.012277   0.230787  -0.218380   0.713414   \n",
        "14239  10         19   0.345007  -0.011376   0.231943  -0.215795   0.706993   \n",
        "14986  10         20   0.338659  -0.010592   0.232949  -0.213545   0.701407   \n",
        "15733  10         21   0.333136  -0.009909   0.233825  -0.211588   0.696546   \n",
        "16480  10         22   0.328330  -0.009315   0.234586  -0.209885   0.692316   \n",
        "17227  10         23   0.324147  -0.008798   0.235249  -0.208403   0.688635   \n",
        "17974  10         24   0.320507  -0.008348   0.235826  -0.207113   0.685432   \n",
        "18720  10         25   0.317339  -0.007957   0.236328  -0.205990   0.682644   \n",
        "19465  10         26   0.314582  -0.007616   0.236765  -0.205013   0.680217   \n",
        "20210  10         27   0.310094  -0.007062   0.237476  -0.203422   0.676267   \n",
        "20954  10         28   0.308275  -0.006837   0.237765  -0.202778   0.674667   \n",
        "21698  10         29   0.306693  -0.006641   0.238015  -0.202217   0.673274   \n",
        "...    ..        ...        ...        ...        ...        ...        ...   \n",
        "65429  10         86   0.040678   0.004929   0.228905  -0.094609   0.321574   \n",
        "66247  10         87   0.014607   0.006936   0.229152  -0.075277   0.286469   \n",
        "67065  10         88   0.004044   0.007750   0.229251  -0.067445   0.272247   \n",
        "67883  10         89  -0.005152   0.008458   0.229338  -0.060626   0.259865   \n",
        "68701  10         90  -0.020126   0.009610   0.229480  -0.049523   0.239703   \n",
        "69519  10         91  -0.026193   0.010077   0.229537  -0.045025   0.231534   \n",
        "70337  10         92  -0.031474   0.010484   0.229587  -0.041109   0.224423   \n",
        "71155  10         93  -0.036072   0.010838   0.229630  -0.037699   0.218232   \n",
        "71973  10         94  -0.040075   0.011146   0.229668  -0.034732   0.212843   \n",
        "72791  10         95  -0.043559   0.011414   0.229701  -0.032148   0.208151   \n",
        "73609  10         96  -0.049233   0.011851   0.229754  -0.027941   0.200511   \n",
        "74427  10         97  -0.051532   0.012028   0.229776  -0.026236   0.197416   \n",
        "75245  10         98  -0.053533   0.012182   0.229795  -0.024752   0.194721   \n",
        "76063  10         99  -0.056792   0.012433   0.229826  -0.022336   0.190333   \n",
        "76879  10        100  -0.058113   0.012535   0.229838  -0.021357   0.188555   \n",
        "77694  10        101  -0.059262   0.012623   0.229849  -0.020504   0.187008   \n",
        "78509  10        102  -0.061134   0.012767   0.229867  -0.008525   0.184488   \n",
        "79324  10        103  -0.061892   0.012826   0.229874  -0.003672   0.183466   \n",
        "80139  10        104  -0.062552   0.012877   0.229880   0.000553   0.182578   \n",
        "80954  10        105  -0.063127   0.012921   0.229886   0.004231   0.181804   \n",
        "81769  10        106  -0.063627   0.012959   0.229890   0.007433   0.181130   \n",
        "82582  10        107  -0.064063   0.012993   0.229894   0.010221   0.180544   \n",
        "83395  10        108  -0.064442   0.013022   0.229898   0.012647   0.180033   \n",
        "84208  10        109  -0.064772   0.013047   0.229901   0.014760   0.179589   \n",
        "85021  10        110  -0.065060   0.013070   0.229904   0.016599   0.179202   \n",
        "85834  10        111  -0.065310   0.013089   0.229906   0.018200   0.178865   \n",
        "86647  10        112  -0.065528   0.013106   0.229908   0.019594   0.178572   \n",
        "87460  10        113  -0.065717   0.013120   0.229910   0.020807   0.178316   \n",
        "88273  10        114  -0.065882   0.013133   0.229912   0.021863   0.178094   \n",
        "89086  10        115  -0.066026   0.013144   0.229913   0.022783   0.177901   \n",
        "\n",
        "              y  \n",
        "0     -0.011753  \n",
        "750    0.005850  \n",
        "1500  -0.000476  \n",
        "2250   0.005212  \n",
        "3000  -0.077211  \n",
        "3750   0.006086  \n",
        "4500  -0.027747  \n",
        "5250  -0.033304  \n",
        "6000  -0.002235  \n",
        "6750   0.067070  \n",
        "7500  -0.005389  \n",
        "8250  -0.011667  \n",
        "9000  -0.029225  \n",
        "9749   0.001087  \n",
        "10498 -0.005209  \n",
        "11247 -0.086094  \n",
        "11996 -0.068428  \n",
        "12744  0.004538  \n",
        "13492  0.042246  \n",
        "14239  0.003133  \n",
        "14986  0.005106  \n",
        "15733 -0.070115  \n",
        "16480 -0.014666  \n",
        "17227 -0.022988  \n",
        "17974 -0.001996  \n",
        "18720  0.006521  \n",
        "19465 -0.014590  \n",
        "20210  0.014012  \n",
        "20954 -0.001151  \n",
        "21698 -0.022119  \n",
        "...         ...  \n",
        "65429 -0.086094  \n",
        "66247  0.031564  \n",
        "67065  0.006429  \n",
        "67883 -0.006855  \n",
        "68701  0.011290  \n",
        "69519 -0.008732  \n",
        "70337  0.007650  \n",
        "71155 -0.003137  \n",
        "71973 -0.030724  \n",
        "72791  0.006176  \n",
        "73609 -0.005210  \n",
        "74427 -0.011088  \n",
        "75245  0.013483  \n",
        "76063  0.015008  \n",
        "76879 -0.001984  \n",
        "77694  0.029165  \n",
        "78509  0.003515  \n",
        "79324  0.014531  \n",
        "80139 -0.019597  \n",
        "80954 -0.009115  \n",
        "81769 -0.007080  \n",
        "82582 -0.006951  \n",
        "83395 -0.015513  \n",
        "84208 -0.046703  \n",
        "85021 -0.003692  \n",
        "85834 -0.031386  \n",
        "86647  0.025665  \n",
        "87460  0.093498  \n",
        "88273  0.000759  \n",
        "89086 -0.027145  \n",
        "\n",
        "[116 rows x 8 columns]"
       ]
      }
     ],
     "prompt_number": 24
    },
    {
     "cell_type": "code",
     "collapsed": false,
     "input": [
      "unique_times = list(ndf[\"timestamp\"].unique())\n",
      "(min(unique_times), max(unique_times))"
     ],
     "language": "python",
     "metadata": {},
     "outputs": [
      {
       "metadata": {},
       "output_type": "pyout",
       "prompt_number": 27,
       "text": [
        "(0, 1812)"
       ]
      }
     ],
     "prompt_number": 27
    },
    {
     "cell_type": "code",
     "collapsed": true,
     "input": [
      "# get the number of stocks to be predicted/traded at each timestamp\n",
      "#ndf['id'].loc[ndf.timestamp==0]\n",
      "#min(ndf['timestamp'])\n",
      "for tstamp in range(1813):\n",
      "    unique_ids = list(ndf['id'].loc[ndf.timestamp==tstamp].unique())\n",
      "    print('timestamp:'+str(tstamp),min(unique_ids), max(unique_ids),len(unique_ids))\n"
     ],
     "language": "python",
     "metadata": {},
     "outputs": [
      {
       "output_type": "stream",
       "stream": "stdout",
       "text": [
        "('timestamp:0', 10, 2156, 750)\n",
        "('timestamp:1', 10, 2156, 750)\n",
        "('timestamp:2', 10, 2156, 750)\n",
        "('timestamp:3', 10, 2156, 750)\n",
        "('timestamp:4', 10, 2156, 750)\n",
        "('timestamp:5', 10, 2156, 750)\n",
        "('timestamp:6', 10, 2156, 750)"
       ]
      },
      {
       "output_type": "stream",
       "stream": "stdout",
       "text": [
        "\n",
        "('timestamp:7', 10, 2156, 750)\n",
        "('timestamp:8', 10, 2156, 750)\n",
        "('timestamp:9', 10, 2156, 750)\n",
        "('timestamp:10', 10, 2156, 750)\n",
        "('timestamp:11', 10, 2156, 750)\n",
        "('timestamp:12', 10, 2156, 749)\n",
        "('timestamp:13', 10, 2156, 749)"
       ]
      },
      {
       "output_type": "stream",
       "stream": "stdout",
       "text": [
        "\n",
        "('timestamp:14', 10, 2156, 749)\n",
        "('timestamp:15', 10, 2156, 749)\n",
        "('timestamp:16', 10, 2156, 748)\n",
        "('timestamp:17', 10, 2156, 748)\n",
        "('timestamp:18', 10, 2156, 747)\n",
        "('timestamp:19', 10, 2156, 747)\n",
        "('timestamp:20', 10, 2156, 747)"
       ]
      },
      {
       "output_type": "stream",
       "stream": "stdout",
       "text": [
        "\n",
        "('timestamp:21', 10, 2156, 747)\n",
        "('timestamp:22', 10, 2156, 747)\n",
        "('timestamp:23', 10, 2156, 747)\n",
        "('timestamp:24', 10, 2156, 746)\n",
        "('timestamp:25', 10, 2156, 745)\n",
        "('timestamp:26', 10, 2156, 745)\n",
        "('timestamp:27', 10, 2156, 744)"
       ]
      },
      {
       "output_type": "stream",
       "stream": "stdout",
       "text": [
        "\n",
        "('timestamp:28', 10, 2156, 744)\n",
        "('timestamp:29', 10, 2156, 744)\n",
        "('timestamp:30', 10, 2156, 744)\n",
        "('timestamp:31', 10, 2156, 744)\n",
        "('timestamp:32', 10, 2156, 744)\n",
        "('timestamp:33', 10, 2156, 744)\n",
        "('timestamp:34', 10, 2156, 744)\n",
        "('timestamp:35', 10, 2156, 744)"
       ]
      },
      {
       "output_type": "stream",
       "stream": "stdout",
       "text": [
        "\n",
        "('timestamp:36', 10, 2156, 744)\n",
        "('timestamp:37', 10, 2156, 744)\n",
        "('timestamp:38', 10, 2156, 744)\n",
        "('timestamp:39', 10, 2156, 744)\n",
        "('timestamp:40', 10, 2156, 744)\n",
        "('timestamp:41', 10, 2156, 744)\n",
        "('timestamp:42', 10, 2156, 744)\n",
        "('timestamp:43', 10, 2156, 744)"
       ]
      },
      {
       "output_type": "stream",
       "stream": "stdout",
       "text": [
        "\n",
        "('timestamp:44', 10, 2156, 744)\n",
        "('timestamp:45', 10, 2156, 745)\n",
        "('timestamp:46', 10, 2156, 745)\n",
        "('timestamp:47', 10, 2156, 745)\n",
        "('timestamp:48', 10, 2156, 745)\n",
        "('timestamp:49', 10, 2156, 742)\n",
        "('timestamp:50', 10, 2156, 741)"
       ]
      },
      {
       "output_type": "stream",
       "stream": "stdout",
       "text": [
        "\n",
        "('timestamp:51', 10, 2156, 741)\n",
        "('timestamp:52', 10, 2156, 740)\n",
        "('timestamp:53', 10, 2156, 740)\n",
        "('timestamp:54', 10, 2156, 740)\n",
        "('timestamp:55', 10, 2156, 740)\n",
        "('timestamp:56', 10, 2156, 740)\n",
        "('timestamp:57', 10, 2156, 740)\n",
        "('timestamp:58', 10, 2156, 740)"
       ]
      },
      {
       "output_type": "stream",
       "stream": "stdout",
       "text": [
        "\n",
        "('timestamp:59', 10, 2156, 740)\n",
        "('timestamp:60', 10, 2156, 739)\n",
        "('timestamp:61', 10, 2156, 739)\n",
        "('timestamp:62', 10, 2156, 738)\n",
        "('timestamp:63', 10, 2156, 738)\n",
        "('timestamp:64', 10, 2156, 738)\n",
        "('timestamp:65', 10, 2156, 738)\n",
        "('timestamp:66', 10, 2156, 738)"
       ]
      },
      {
       "output_type": "stream",
       "stream": "stdout",
       "text": [
        "\n",
        "('timestamp:67', 10, 2156, 738)\n",
        "('timestamp:68', 10, 2156, 824)\n",
        "('timestamp:69', 10, 2156, 824)\n",
        "('timestamp:70', 10, 2156, 824)\n",
        "('timestamp:71', 10, 2156, 824)\n",
        "('timestamp:72', 10, 2156, 824)\n",
        "('timestamp:73', 10, 2156, 823)"
       ]
      },
      {
       "output_type": "stream",
       "stream": "stdout",
       "text": [
        "\n",
        "('timestamp:74', 10, 2156, 823)\n",
        "('timestamp:75', 10, 2156, 823)\n",
        "('timestamp:76', 10, 2156, 823)\n",
        "('timestamp:77', 10, 2156, 821)\n",
        "('timestamp:78', 10, 2156, 821)\n",
        "('timestamp:79', 10, 2156, 821)\n",
        "('timestamp:80', 10, 2156, 821)"
       ]
      },
      {
       "output_type": "stream",
       "stream": "stdout",
       "text": [
        "\n",
        "('timestamp:81', 10, 2156, 821)\n",
        "('timestamp:82', 10, 2156, 821)\n",
        "('timestamp:83', 10, 2156, 821)\n",
        "('timestamp:84', 10, 2156, 819)\n",
        "('timestamp:85', 10, 2156, 819)\n",
        "('timestamp:86', 10, 2156, 818)\n",
        "('timestamp:87', 10, 2156, 818)"
       ]
      },
      {
       "output_type": "stream",
       "stream": "stdout",
       "text": [
        "\n",
        "('timestamp:88', 10, 2156, 818)\n",
        "('timestamp:89', 10, 2156, 818)\n",
        "('timestamp:90', 10, 2156, 818)\n",
        "('timestamp:91', 10, 2156, 818)\n",
        "('timestamp:92', 10, 2156, 818)\n",
        "('timestamp:93', 10, 2156, 818)\n",
        "('timestamp:94', 10, 2156, 818)"
       ]
      },
      {
       "output_type": "stream",
       "stream": "stdout",
       "text": [
        "\n",
        "('timestamp:95', 10, 2156, 818)\n",
        "('timestamp:96', 10, 2156, 818)\n",
        "('timestamp:97', 10, 2156, 818)\n",
        "('timestamp:98', 10, 2156, 818)\n",
        "('timestamp:99', 10, 2156, 816)\n",
        "('timestamp:100', 10, 2156, 815)\n",
        "('timestamp:101', 10, 2156, 815)"
       ]
      },
      {
       "output_type": "stream",
       "stream": "stdout",
       "text": [
        "\n",
        "('timestamp:102', 10, 2156, 815)\n",
        "('timestamp:103', 10, 2156, 815)\n",
        "('timestamp:104', 10, 2156, 815)\n",
        "('timestamp:105', 10, 2156, 815)\n",
        "('timestamp:106', 10, 2156, 813)\n",
        "('timestamp:107', 10, 2156, 813)\n",
        "('timestamp:108', 10, 2156, 813)\n",
        "('timestamp:109', 10, 2156, 813)"
       ]
      },
      {
       "output_type": "stream",
       "stream": "stdout",
       "text": [
        "\n",
        "('timestamp:110', 10, 2156, 813)\n",
        "('timestamp:111', 10, 2156, 813)\n",
        "('timestamp:112', 10, 2156, 813)\n",
        "('timestamp:113', 10, 2156, 813)\n",
        "('timestamp:114', 10, 2156, 813)\n",
        "('timestamp:115', 10, 2156, 813)"
       ]
      },
      {
       "output_type": "stream",
       "stream": "stdout",
       "text": [
        "\n",
        "('timestamp:116', 11, 2156, 812)\n",
        "('timestamp:117', 11, 2156, 811)\n",
        "('timestamp:118', 11, 2156, 811)\n",
        "('timestamp:119', 11, 2156, 811)\n",
        "('timestamp:120', 11, 2156, 811)\n",
        "('timestamp:121', 11, 2156, 810)"
       ]
      },
      {
       "output_type": "stream",
       "stream": "stdout",
       "text": [
        "\n",
        "('timestamp:122', 11, 2156, 810)\n",
        "('timestamp:123', 11, 2156, 810)\n",
        "('timestamp:124', 11, 2156, 810)\n",
        "('timestamp:125', 11, 2156, 810)\n",
        "('timestamp:126', 11, 2156, 810)"
       ]
      },
      {
       "output_type": "stream",
       "stream": "stdout",
       "text": [
        "\n",
        "('timestamp:127', 11, 2156, 810)\n",
        "('timestamp:128', 11, 2156, 810)\n",
        "('timestamp:129', 11, 2156, 809)\n",
        "('timestamp:130', 11, 2156, 809)"
       ]
      },
      {
       "output_type": "stream",
       "stream": "stdout",
       "text": [
        "\n",
        "('timestamp:131', 11, 2156, 809)\n",
        "('timestamp:132', 11, 2156, 809)\n",
        "('timestamp:133', 11, 2156, 808)\n",
        "('timestamp:134', 11, 2156, 808)\n",
        "('timestamp:135', 11, 2156, 808)\n",
        "('timestamp:136', 11, 2156, 807)"
       ]
      },
      {
       "output_type": "stream",
       "stream": "stdout",
       "text": [
        "\n",
        "('timestamp:137', 11, 2156, 807)\n",
        "('timestamp:138', 11, 2156, 807)\n",
        "('timestamp:139', 11, 2156, 807)\n",
        "('timestamp:140', 11, 2156, 807)\n",
        "('timestamp:141', 11, 2156, 807)\n",
        "('timestamp:142', 11, 2156, 807)\n",
        "('timestamp:143', 11, 2156, 807)"
       ]
      },
      {
       "output_type": "stream",
       "stream": "stdout",
       "text": [
        "\n",
        "('timestamp:144', 11, 2156, 807)\n",
        "('timestamp:145', 11, 2156, 807)\n",
        "('timestamp:146', 11, 2156, 806)\n",
        "('timestamp:147', 11, 2156, 806)\n",
        "('timestamp:148', 11, 2156, 806)\n",
        "('timestamp:149', 11, 2156, 806)"
       ]
      },
      {
       "output_type": "stream",
       "stream": "stdout",
       "text": [
        "\n",
        "('timestamp:150', 11, 2156, 807)\n",
        "('timestamp:151', 11, 2156, 807)\n",
        "('timestamp:152', 11, 2156, 807)\n",
        "('timestamp:153', 11, 2156, 807)\n",
        "('timestamp:154', 11, 2156, 806)\n",
        "('timestamp:155', 11, 2156, 806)\n",
        "('timestamp:156', 11, 2156, 806)"
       ]
      },
      {
       "output_type": "stream",
       "stream": "stdout",
       "text": [
        "\n",
        "('timestamp:157', 11, 2156, 805)\n",
        "('timestamp:158', 11, 2156, 804)\n",
        "('timestamp:159', 11, 2156, 803)\n",
        "('timestamp:160', 11, 2156, 803)\n",
        "('timestamp:161', 11, 2156, 803)\n",
        "('timestamp:162', 11, 2156, 802)"
       ]
      },
      {
       "output_type": "stream",
       "stream": "stdout",
       "text": [
        "\n",
        "('timestamp:163', 11, 2156, 802)\n",
        "('timestamp:164', 11, 2156, 801)\n",
        "('timestamp:165', 11, 2156, 802)\n",
        "('timestamp:166', 11, 2156, 802)\n",
        "('timestamp:167', 0, 2156, 833)"
       ]
      },
      {
       "output_type": "stream",
       "stream": "stdout",
       "text": [
        "\n",
        "('timestamp:168', 0, 2156, 833)\n",
        "('timestamp:169', 0, 2156, 833)\n",
        "('timestamp:170', 0, 2156, 832)\n",
        "('timestamp:171', 0, 2156, 831)\n",
        "('timestamp:172', 0, 2156, 831)\n",
        "('timestamp:173', 0, 2156, 830)"
       ]
      },
      {
       "output_type": "stream",
       "stream": "stdout",
       "text": [
        "\n",
        "('timestamp:174', 0, 2156, 830)\n",
        "('timestamp:175', 0, 2156, 830)\n",
        "('timestamp:176', 0, 2156, 829)\n",
        "('timestamp:177', 0, 2156, 829)\n",
        "('timestamp:178', 0, 2156, 829)\n",
        "('timestamp:179', 0, 2156, 829)\n",
        "('timestamp:180', 0, 2156, 829)"
       ]
      },
      {
       "output_type": "stream",
       "stream": "stdout",
       "text": [
        "\n",
        "('timestamp:181', 0, 2156, 828)\n",
        "('timestamp:182', 0, 2156, 828)\n",
        "('timestamp:183', 0, 2156, 827)\n",
        "('timestamp:184', 0, 2156, 827)\n",
        "('timestamp:185', 0, 2156, 827)\n",
        "('timestamp:186', 0, 2156, 828)\n",
        "('timestamp:187', 0, 2156, 828)"
       ]
      },
      {
       "output_type": "stream",
       "stream": "stdout",
       "text": [
        "\n",
        "('timestamp:188', 0, 2156, 828)\n",
        "('timestamp:189', 0, 2156, 827)\n",
        "('timestamp:190', 0, 2156, 828)\n",
        "('timestamp:191', 0, 2156, 827)\n",
        "('timestamp:192', 0, 2156, 826)\n",
        "('timestamp:193', 0, 2156, 825)"
       ]
      },
      {
       "output_type": "stream",
       "stream": "stdout",
       "text": [
        "\n",
        "('timestamp:194', 0, 2156, 826)\n",
        "('timestamp:195', 0, 2156, 825)\n",
        "('timestamp:196', 0, 2156, 826)\n",
        "('timestamp:197', 0, 2156, 825)\n",
        "('timestamp:198', 0, 2156, 825)\n",
        "('timestamp:199', 0, 2156, 826)\n",
        "('timestamp:200', 0, 2156, 826)"
       ]
      },
      {
       "output_type": "stream",
       "stream": "stdout",
       "text": [
        "\n",
        "('timestamp:201', 0, 2156, 826)\n",
        "('timestamp:202', 0, 2156, 826)\n",
        "('timestamp:203', 0, 2156, 826)\n",
        "('timestamp:204', 0, 2156, 826)\n",
        "('timestamp:205', 0, 2156, 826)\n",
        "('timestamp:206', 0, 2156, 826)\n",
        "('timestamp:207', 0, 2156, 826)"
       ]
      },
      {
       "output_type": "stream",
       "stream": "stdout",
       "text": [
        "\n",
        "('timestamp:208', 0, 2156, 826)\n",
        "('timestamp:209', 0, 2156, 826)\n",
        "('timestamp:210', 0, 2156, 824)\n",
        "('timestamp:211', 0, 2156, 824)\n",
        "('timestamp:212', 0, 2156, 823)\n",
        "('timestamp:213', 0, 2156, 823)\n",
        "('timestamp:214', 0, 2156, 822)"
       ]
      },
      {
       "output_type": "stream",
       "stream": "stdout",
       "text": [
        "\n",
        "('timestamp:215', 0, 2156, 822)\n",
        "('timestamp:216', 0, 2156, 822)\n",
        "('timestamp:217', 0, 2156, 822)\n",
        "('timestamp:218', 0, 2156, 822)\n",
        "('timestamp:219', 0, 2156, 823)\n",
        "('timestamp:220', 0, 2156, 823)\n",
        "('timestamp:221', 0, 2156, 823)\n",
        "('timestamp:222', 0, 2156, 823)"
       ]
      },
      {
       "output_type": "stream",
       "stream": "stdout",
       "text": [
        "\n",
        "('timestamp:223', 0, 2156, 823)\n",
        "('timestamp:224', 0, 2156, 823)\n",
        "('timestamp:225', 0, 2156, 823)\n",
        "('timestamp:226', 0, 2156, 822)\n",
        "('timestamp:227', 0, 2156, 822)\n",
        "('timestamp:228', 0, 2156, 822)\n",
        "('timestamp:229', 0, 2156, 822)"
       ]
      },
      {
       "output_type": "stream",
       "stream": "stdout",
       "text": [
        "\n",
        "('timestamp:230', 0, 2156, 822)\n",
        "('timestamp:231', 0, 2156, 822)\n",
        "('timestamp:232', 0, 2156, 822)\n",
        "('timestamp:233', 0, 2156, 822)\n",
        "('timestamp:234', 0, 2156, 822)\n",
        "('timestamp:235', 0, 2156, 822)\n",
        "('timestamp:236', 0, 2156, 822)"
       ]
      },
      {
       "output_type": "stream",
       "stream": "stdout",
       "text": [
        "\n",
        "('timestamp:237', 0, 2156, 822)\n",
        "('timestamp:238', 0, 2156, 821)\n",
        "('timestamp:239', 0, 2156, 821)\n",
        "('timestamp:240', 0, 2156, 821)\n",
        "('timestamp:241', 0, 2156, 821)\n",
        "('timestamp:242', 0, 2156, 820)\n",
        "('timestamp:243', 0, 2156, 820)"
       ]
      },
      {
       "output_type": "stream",
       "stream": "stdout",
       "text": [
        "\n",
        "('timestamp:244', 0, 2156, 820)\n",
        "('timestamp:245', 0, 2156, 819)\n",
        "('timestamp:246', 0, 2156, 819)\n",
        "('timestamp:247', 0, 2156, 819)\n",
        "('timestamp:248', 0, 2156, 819)\n",
        "('timestamp:249', 0, 2156, 819)\n",
        "('timestamp:250', 0, 2156, 819)"
       ]
      },
      {
       "output_type": "stream",
       "stream": "stdout",
       "text": [
        "\n",
        "('timestamp:251', 0, 2156, 819)\n",
        "('timestamp:252', 0, 2156, 819)\n",
        "('timestamp:253', 0, 2156, 819)\n",
        "('timestamp:254', 0, 2156, 819)\n",
        "('timestamp:255', 0, 2156, 819)\n",
        "('timestamp:256', 0, 2156, 819)\n",
        "('timestamp:257', 0, 2156, 819)"
       ]
      },
      {
       "output_type": "stream",
       "stream": "stdout",
       "text": [
        "\n",
        "('timestamp:258', 0, 2156, 819)\n",
        "('timestamp:259', 0, 2156, 819)\n",
        "('timestamp:260', 0, 2156, 819)\n",
        "('timestamp:261', 0, 2156, 819)\n",
        "('timestamp:262', 0, 2156, 819)\n",
        "('timestamp:263', 0, 2156, 819)\n",
        "('timestamp:264', 0, 2156, 819)\n",
        "('timestamp:265', 0, 2156, 819)"
       ]
      },
      {
       "output_type": "stream",
       "stream": "stdout",
       "text": [
        "\n",
        "('timestamp:266', 0, 2156, 819)\n",
        "('timestamp:267', 0, 2156, 819)\n",
        "('timestamp:268', 0, 2156, 819)\n",
        "('timestamp:269', 0, 2156, 819)\n",
        "('timestamp:270', 0, 2156, 881)\n",
        "('timestamp:271', 0, 2156, 881)\n",
        "('timestamp:272', 0, 2156, 881)"
       ]
      },
      {
       "output_type": "stream",
       "stream": "stdout",
       "text": [
        "\n",
        "('timestamp:273', 0, 2156, 881)\n",
        "('timestamp:274', 0, 2156, 881)\n",
        "('timestamp:275', 0, 2156, 881)\n",
        "('timestamp:276', 0, 2156, 881)\n",
        "('timestamp:277', 0, 2156, 880)\n",
        "('timestamp:278', 0, 2156, 880)\n",
        "('timestamp:279', 0, 2156, 880)"
       ]
      },
      {
       "output_type": "stream",
       "stream": "stdout",
       "text": [
        "\n",
        "('timestamp:280', 0, 2156, 880)\n",
        "('timestamp:281', 0, 2156, 880)\n",
        "('timestamp:282', 0, 2156, 880)\n",
        "('timestamp:283', 0, 2156, 880)\n",
        "('timestamp:284', 0, 2156, 880)\n",
        "('timestamp:285', 0, 2156, 880)\n",
        "('timestamp:286', 0, 2156, 888)"
       ]
      },
      {
       "output_type": "stream",
       "stream": "stdout",
       "text": [
        "\n",
        "('timestamp:287', 0, 2156, 887)\n",
        "('timestamp:288', 0, 2156, 887)\n",
        "('timestamp:289', 0, 2156, 887)\n",
        "('timestamp:290', 0, 2156, 887)\n",
        "('timestamp:291', 0, 2156, 887)\n",
        "('timestamp:292', 0, 2156, 887)\n",
        "('timestamp:293', 0, 2156, 887)"
       ]
      },
      {
       "output_type": "stream",
       "stream": "stdout",
       "text": [
        "\n",
        "('timestamp:294', 0, 2156, 887)\n",
        "('timestamp:295', 0, 2156, 887)\n",
        "('timestamp:296', 0, 2156, 887)\n",
        "('timestamp:297', 0, 2156, 887)\n",
        "('timestamp:298', 0, 2156, 887)\n",
        "('timestamp:299', 0, 2156, 887)"
       ]
      },
      {
       "output_type": "stream",
       "stream": "stdout",
       "text": [
        "\n",
        "('timestamp:300', 0, 2156, 887)\n",
        "('timestamp:301', 0, 2156, 887)\n",
        "('timestamp:302', 0, 2156, 887)\n",
        "('timestamp:303', 0, 2156, 887)\n",
        "('timestamp:304', 0, 2156, 888)\n",
        "('timestamp:305', 0, 2156, 888)\n",
        "('timestamp:306', 0, 2156, 888)\n",
        "('timestamp:307', 0, 2156, 888)"
       ]
      },
      {
       "output_type": "stream",
       "stream": "stdout",
       "text": [
        "\n",
        "('timestamp:308', 0, 2156, 888)\n",
        "('timestamp:309', 0, 2156, 888)\n",
        "('timestamp:310', 0, 2156, 888)\n",
        "('timestamp:311', 0, 2156, 888)\n",
        "('timestamp:312', 0, 2156, 888)\n",
        "('timestamp:313', 0, 2156, 888)\n",
        "('timestamp:314', 0, 2156, 888)"
       ]
      },
      {
       "output_type": "stream",
       "stream": "stdout",
       "text": [
        "\n",
        "('timestamp:315', 0, 2156, 888)\n",
        "('timestamp:316', 0, 2156, 888)\n",
        "('timestamp:317', 0, 2156, 888)\n",
        "('timestamp:318', 0, 2156, 888)\n",
        "('timestamp:319', 0, 2156, 888)\n",
        "('timestamp:320', 0, 2156, 888)\n",
        "('timestamp:321', 0, 2156, 888)"
       ]
      },
      {
       "output_type": "stream",
       "stream": "stdout",
       "text": [
        "\n",
        "('timestamp:322', 0, 2156, 888)\n",
        "('timestamp:323', 0, 2156, 888)\n",
        "('timestamp:324', 0, 2156, 888)\n",
        "('timestamp:325', 0, 2156, 888)\n",
        "('timestamp:326', 0, 2156, 888)\n",
        "('timestamp:327', 0, 2156, 888)"
       ]
      },
      {
       "output_type": "stream",
       "stream": "stdout",
       "text": [
        "\n",
        "('timestamp:328', 0, 2156, 888)\n",
        "('timestamp:329', 0, 2156, 888)\n",
        "('timestamp:330', 0, 2156, 888)\n",
        "('timestamp:331', 0, 2156, 888)\n",
        "('timestamp:332', 0, 2156, 888)\n",
        "('timestamp:333', 0, 2156, 888)\n",
        "('timestamp:334', 0, 2156, 888)\n",
        "('timestamp:335', 0, 2156, 888)"
       ]
      },
      {
       "output_type": "stream",
       "stream": "stdout",
       "text": [
        "\n",
        "('timestamp:336', 0, 2156, 888)\n",
        "('timestamp:337', 0, 2156, 888)\n",
        "('timestamp:338', 0, 2156, 888)\n",
        "('timestamp:339', 0, 2156, 888)\n",
        "('timestamp:340', 0, 2156, 888)\n",
        "('timestamp:341', 0, 2156, 888)"
       ]
      },
      {
       "output_type": "stream",
       "stream": "stdout",
       "text": [
        "\n",
        "('timestamp:342', 0, 2156, 888)\n",
        "('timestamp:343', 0, 2156, 888)\n",
        "('timestamp:344', 0, 2156, 888)\n",
        "('timestamp:345', 0, 2156, 888)\n",
        "('timestamp:346', 0, 2156, 888)\n",
        "('timestamp:347', 0, 2156, 888)\n",
        "('timestamp:348', 0, 2156, 888)"
       ]
      },
      {
       "output_type": "stream",
       "stream": "stdout",
       "text": [
        "\n",
        "('timestamp:349', 0, 2156, 888)\n",
        "('timestamp:350', 0, 2156, 888)\n",
        "('timestamp:351', 0, 2156, 888)\n",
        "('timestamp:352', 0, 2156, 888)\n",
        "('timestamp:353', 0, 2156, 888)\n",
        "('timestamp:354', 0, 2156, 888)\n",
        "('timestamp:355', 0, 2156, 889)"
       ]
      },
      {
       "output_type": "stream",
       "stream": "stdout",
       "text": [
        "\n",
        "('timestamp:356', 0, 2156, 889)\n",
        "('timestamp:357', 0, 2156, 889)\n",
        "('timestamp:358', 0, 2156, 889)\n",
        "('timestamp:359', 0, 2156, 889)\n",
        "('timestamp:360', 0, 2156, 889)\n",
        "('timestamp:361', 0, 2156, 889)\n",
        "('timestamp:362', 0, 2156, 888)"
       ]
      },
      {
       "output_type": "stream",
       "stream": "stdout",
       "text": [
        "\n",
        "('timestamp:363', 0, 2156, 888)\n",
        "('timestamp:364', 0, 2156, 888)\n",
        "('timestamp:365', 0, 2156, 888)\n",
        "('timestamp:366', 0, 2156, 888)\n",
        "('timestamp:367', 0, 2156, 887)\n",
        "('timestamp:368', 0, 2156, 887)\n",
        "('timestamp:369', 0, 2156, 887)\n",
        "('timestamp:370', 0, 2156, 887)"
       ]
      },
      {
       "output_type": "stream",
       "stream": "stdout",
       "text": [
        "\n",
        "('timestamp:371', 0, 2156, 908)\n",
        "('timestamp:372', 0, 2156, 908)\n",
        "('timestamp:373', 0, 2156, 908)\n",
        "('timestamp:374', 0, 2156, 908)\n",
        "('timestamp:375', 0, 2156, 908)\n",
        "('timestamp:376', 0, 2156, 908)\n",
        "('timestamp:377', 0, 2156, 907)\n",
        "('timestamp:378', 0, 2156, 907)"
       ]
      },
      {
       "output_type": "stream",
       "stream": "stdout",
       "text": [
        "\n",
        "('timestamp:379', 0, 2156, 907)\n",
        "('timestamp:380', 0, 2156, 907)\n",
        "('timestamp:381', 0, 2156, 907)\n",
        "('timestamp:382', 0, 2156, 907)\n",
        "('timestamp:383', 0, 2156, 907)\n",
        "('timestamp:384', 0, 2156, 907)\n",
        "('timestamp:385', 0, 2156, 907)\n",
        "('timestamp:386', 0, 2156, 907)"
       ]
      },
      {
       "output_type": "stream",
       "stream": "stdout",
       "text": [
        "\n",
        "('timestamp:387', 0, 2156, 907)\n",
        "('timestamp:388', 0, 2156, 908)\n",
        "('timestamp:389', 0, 2156, 908)\n",
        "('timestamp:390', 0, 2156, 908)\n",
        "('timestamp:391', 0, 2156, 908)\n",
        "('timestamp:392', 0, 2156, 908)\n",
        "('timestamp:393', 0, 2156, 908)\n",
        "('timestamp:394', 0, 2156, 908)"
       ]
      },
      {
       "output_type": "stream",
       "stream": "stdout",
       "text": [
        "\n",
        "('timestamp:395', 0, 2156, 908)\n",
        "('timestamp:396', 0, 2156, 908)\n",
        "('timestamp:397', 0, 2156, 908)\n",
        "('timestamp:398', 0, 2156, 908)\n",
        "('timestamp:399', 0, 2156, 908)\n",
        "('timestamp:400', 0, 2156, 908)\n",
        "('timestamp:401', 0, 2156, 908)\n",
        "('timestamp:402', 0, 2156, 908)"
       ]
      },
      {
       "output_type": "stream",
       "stream": "stdout",
       "text": [
        "\n",
        "('timestamp:403', 0, 2156, 908)\n",
        "('timestamp:404', 0, 2156, 908)\n",
        "('timestamp:405', 0, 2156, 908)\n",
        "('timestamp:406', 0, 2156, 908)\n",
        "('timestamp:407', 0, 2156, 908)\n",
        "('timestamp:408', 0, 2156, 908)\n",
        "('timestamp:409', 0, 2156, 908)"
       ]
      },
      {
       "output_type": "stream",
       "stream": "stdout",
       "text": [
        "\n",
        "('timestamp:410', 0, 2156, 908)\n",
        "('timestamp:411', 0, 2156, 908)\n",
        "('timestamp:412', 0, 2156, 908)\n",
        "('timestamp:413', 0, 2156, 908)\n",
        "('timestamp:414', 0, 2156, 908)\n",
        "('timestamp:415', 0, 2156, 908)\n",
        "('timestamp:416', 0, 2156, 908)\n",
        "('timestamp:417', 0, 2156, 907)"
       ]
      },
      {
       "output_type": "stream",
       "stream": "stdout",
       "text": [
        "\n",
        "('timestamp:418', 0, 2156, 907)\n",
        "('timestamp:419', 0, 2156, 907)\n",
        "('timestamp:420', 0, 2156, 907)\n",
        "('timestamp:421', 0, 2156, 905)\n",
        "('timestamp:422', 0, 2156, 905)\n",
        "('timestamp:423', 0, 2156, 905)\n",
        "('timestamp:424', 0, 2156, 905)\n",
        "('timestamp:425', 0, 2156, 905)"
       ]
      },
      {
       "output_type": "stream",
       "stream": "stdout",
       "text": [
        "\n",
        "('timestamp:426', 0, 2156, 905)\n",
        "('timestamp:427', 0, 2156, 905)\n",
        "('timestamp:428', 0, 2156, 905)\n",
        "('timestamp:429', 0, 2156, 905)\n",
        "('timestamp:430', 0, 2156, 905)\n",
        "('timestamp:431', 0, 2156, 904)\n",
        "('timestamp:432', 0, 2156, 904)\n",
        "('timestamp:433', 0, 2156, 904)"
       ]
      },
      {
       "output_type": "stream",
       "stream": "stdout",
       "text": [
        "\n",
        "('timestamp:434', 0, 2156, 904)\n",
        "('timestamp:435', 0, 2156, 904)\n",
        "('timestamp:436', 0, 2156, 904)\n",
        "('timestamp:437', 0, 2156, 903)\n",
        "('timestamp:438', 0, 2156, 903)\n",
        "('timestamp:439', 0, 2156, 902)\n",
        "('timestamp:440', 0, 2156, 902)\n",
        "('timestamp:441', 0, 2156, 902)"
       ]
      },
      {
       "output_type": "stream",
       "stream": "stdout",
       "text": [
        "\n",
        "('timestamp:442', 0, 2156, 902)\n",
        "('timestamp:443', 0, 2156, 902)\n",
        "('timestamp:444', 0, 2156, 902)\n",
        "('timestamp:445', 0, 2156, 902)\n",
        "('timestamp:446', 0, 2156, 902)\n",
        "('timestamp:447', 0, 2156, 902)\n",
        "('timestamp:448', 0, 2156, 902)\n",
        "('timestamp:449', 0, 2156, 902)"
       ]
      },
      {
       "output_type": "stream",
       "stream": "stdout",
       "text": [
        "\n",
        "('timestamp:450', 0, 2156, 902)\n",
        "('timestamp:451', 0, 2156, 902)\n",
        "('timestamp:452', 0, 2156, 902)\n",
        "('timestamp:453', 0, 2156, 902)\n",
        "('timestamp:454', 0, 2156, 902)\n",
        "('timestamp:455', 0, 2156, 902)\n",
        "('timestamp:456', 0, 2156, 901)\n",
        "('timestamp:457', 0, 2156, 901)"
       ]
      },
      {
       "output_type": "stream",
       "stream": "stdout",
       "text": [
        "\n",
        "('timestamp:458', 0, 2156, 901)\n",
        "('timestamp:459', 0, 2156, 901)\n",
        "('timestamp:460', 0, 2156, 901)\n",
        "('timestamp:461', 0, 2156, 901)\n",
        "('timestamp:462', 0, 2156, 901)\n",
        "('timestamp:463', 0, 2156, 901)\n",
        "('timestamp:464', 0, 2156, 901)\n",
        "('timestamp:465', 0, 2156, 901)"
       ]
      },
      {
       "output_type": "stream",
       "stream": "stdout",
       "text": [
        "\n",
        "('timestamp:466', 0, 2156, 901)\n",
        "('timestamp:467', 0, 2156, 901)\n",
        "('timestamp:468', 0, 2156, 901)\n",
        "('timestamp:469', 0, 2156, 900)\n",
        "('timestamp:470', 0, 2156, 900)\n",
        "('timestamp:471', 0, 2156, 900)\n",
        "('timestamp:472', 0, 2156, 900)\n",
        "('timestamp:473', 0, 2156, 941)"
       ]
      },
      {
       "output_type": "stream",
       "stream": "stdout",
       "text": [
        "\n",
        "('timestamp:474', 0, 2156, 940)\n",
        "('timestamp:475', 0, 2156, 940)\n",
        "('timestamp:476', 0, 2156, 940)\n",
        "('timestamp:477', 0, 2156, 940)\n",
        "('timestamp:478', 0, 2156, 940)\n",
        "('timestamp:479', 0, 2156, 940)\n",
        "('timestamp:480', 0, 2156, 940)\n",
        "('timestamp:481', 0, 2156, 940)"
       ]
      },
      {
       "output_type": "stream",
       "stream": "stdout",
       "text": [
        "\n",
        "('timestamp:482', 0, 2156, 940)\n",
        "('timestamp:483', 0, 2156, 940)\n",
        "('timestamp:484', 0, 2156, 940)\n",
        "('timestamp:485', 0, 2156, 940)\n",
        "('timestamp:486', 0, 2156, 940)\n",
        "('timestamp:487', 0, 2156, 940)\n",
        "('timestamp:488', 0, 2156, 940)\n",
        "('timestamp:489', 0, 2156, 940)"
       ]
      },
      {
       "output_type": "stream",
       "stream": "stdout",
       "text": [
        "\n",
        "('timestamp:490', 0, 2156, 940)\n",
        "('timestamp:491', 0, 2156, 940)\n",
        "('timestamp:492', 0, 2156, 940)\n",
        "('timestamp:493', 0, 2156, 940)\n",
        "('timestamp:494', 0, 2156, 940)\n",
        "('timestamp:495', 0, 2156, 939)\n",
        "('timestamp:496', 0, 2156, 939)\n",
        "('timestamp:497', 0, 2156, 939)"
       ]
      },
      {
       "output_type": "stream",
       "stream": "stdout",
       "text": [
        "\n",
        "('timestamp:498', 0, 2156, 936)\n",
        "('timestamp:499', 0, 2156, 939)\n",
        "('timestamp:500', 0, 2156, 939)\n",
        "('timestamp:501', 0, 2156, 939)\n",
        "('timestamp:502', 0, 2156, 939)\n",
        "('timestamp:503', 0, 2156, 939)\n",
        "('timestamp:504', 0, 2156, 939)"
       ]
      },
      {
       "output_type": "stream",
       "stream": "stdout",
       "text": [
        "\n",
        "('timestamp:505', 0, 2156, 939)\n",
        "('timestamp:506', 0, 2156, 939)\n",
        "('timestamp:507', 0, 2156, 939)\n",
        "('timestamp:508', 0, 2156, 939)\n",
        "('timestamp:509', 0, 2156, 939)\n",
        "('timestamp:510', 0, 2156, 939)\n",
        "('timestamp:511', 0, 2156, 939)\n",
        "('timestamp:512', 0, 2156, 939)"
       ]
      },
      {
       "output_type": "stream",
       "stream": "stdout",
       "text": [
        "\n",
        "('timestamp:513', 0, 2156, 939)\n",
        "('timestamp:514', 0, 2156, 939)\n",
        "('timestamp:515', 0, 2156, 939)\n",
        "('timestamp:516', 0, 2156, 939)\n",
        "('timestamp:517', 0, 2156, 939)\n",
        "('timestamp:518', 0, 2156, 939)\n",
        "('timestamp:519', 0, 2156, 939)\n",
        "('timestamp:520', 0, 2156, 938)"
       ]
      },
      {
       "output_type": "stream",
       "stream": "stdout",
       "text": [
        "\n",
        "('timestamp:521', 0, 2156, 938)\n",
        "('timestamp:522', 0, 2156, 938)\n",
        "('timestamp:523', 0, 2156, 937)\n",
        "('timestamp:524', 0, 2156, 937)\n",
        "('timestamp:525', 0, 2156, 937)\n",
        "('timestamp:526', 0, 2156, 937)\n",
        "('timestamp:527', 0, 2156, 937)\n",
        "('timestamp:528', 0, 2156, 937)"
       ]
      },
      {
       "output_type": "stream",
       "stream": "stdout",
       "text": [
        "\n",
        "('timestamp:529', 0, 2156, 937)\n",
        "('timestamp:530', 0, 2156, 936)\n",
        "('timestamp:531', 0, 2156, 936)\n",
        "('timestamp:532', 0, 2156, 936)\n",
        "('timestamp:533', 0, 2156, 936)\n",
        "('timestamp:534', 0, 2156, 936)\n",
        "('timestamp:535', 0, 2156, 936)\n",
        "('timestamp:536', 0, 2156, 936)"
       ]
      },
      {
       "output_type": "stream",
       "stream": "stdout",
       "text": [
        "\n",
        "('timestamp:537', 0, 2156, 936)\n",
        "('timestamp:538', 0, 2156, 936)\n",
        "('timestamp:539', 0, 2156, 936)\n",
        "('timestamp:540', 0, 2156, 936)\n",
        "('timestamp:541', 0, 2156, 936)\n",
        "('timestamp:542', 0, 2156, 935)\n",
        "('timestamp:543', 0, 2156, 935)\n",
        "('timestamp:544', 0, 2156, 935)"
       ]
      },
      {
       "output_type": "stream",
       "stream": "stdout",
       "text": [
        "\n",
        "('timestamp:545', 0, 2156, 935)\n",
        "('timestamp:546', 0, 2156, 935)\n",
        "('timestamp:547', 0, 2156, 935)\n",
        "('timestamp:548', 0, 2156, 934)\n",
        "('timestamp:549', 0, 2156, 934)\n",
        "('timestamp:550', 0, 2156, 934)\n",
        "('timestamp:551', 0, 2156, 934)\n",
        "('timestamp:552', 0, 2156, 934)"
       ]
      },
      {
       "output_type": "stream",
       "stream": "stdout",
       "text": [
        "\n",
        "('timestamp:553', 0, 2156, 934)\n",
        "('timestamp:554', 0, 2156, 934)\n",
        "('timestamp:555', 0, 2156, 934)\n",
        "('timestamp:556', 0, 2156, 934)\n",
        "('timestamp:557', 0, 2156, 934)\n",
        "('timestamp:558', 0, 2156, 934)\n",
        "('timestamp:559', 0, 2156, 934)\n",
        "('timestamp:560', 0, 2156, 934)"
       ]
      },
      {
       "output_type": "stream",
       "stream": "stdout",
       "text": [
        "\n",
        "('timestamp:561', 0, 2156, 934)\n",
        "('timestamp:562', 0, 2156, 934)\n",
        "('timestamp:563', 0, 2156, 934)\n",
        "('timestamp:564', 0, 2156, 934)\n",
        "('timestamp:565', 0, 2156, 934)\n",
        "('timestamp:566', 0, 2156, 934)\n",
        "('timestamp:567', 0, 2156, 934)\n",
        "('timestamp:568', 0, 2156, 934)"
       ]
      },
      {
       "output_type": "stream",
       "stream": "stdout",
       "text": [
        "\n",
        "('timestamp:569', 0, 2156, 934)\n",
        "('timestamp:570', 0, 2156, 934)\n",
        "('timestamp:571', 0, 2156, 934)\n",
        "('timestamp:572', 0, 2156, 934)\n",
        "('timestamp:573', 0, 2156, 934)\n",
        "('timestamp:574', 0, 2156, 934)\n",
        "('timestamp:575', 0, 2156, 941)\n",
        "('timestamp:576', 0, 2156, 941)"
       ]
      },
      {
       "output_type": "stream",
       "stream": "stdout",
       "text": [
        "\n",
        "('timestamp:577', 0, 2156, 941)\n",
        "('timestamp:578', 0, 2156, 941)\n",
        "('timestamp:579', 0, 2156, 941)\n",
        "('timestamp:580', 0, 2156, 941)\n",
        "('timestamp:581', 0, 2156, 938)\n",
        "('timestamp:582', 0, 2156, 941)\n",
        "('timestamp:583', 0, 2156, 941)\n",
        "('timestamp:584', 0, 2156, 941)"
       ]
      },
      {
       "output_type": "stream",
       "stream": "stdout",
       "text": [
        "\n",
        "('timestamp:585', 0, 2156, 941)\n",
        "('timestamp:586', 0, 2156, 941)\n",
        "('timestamp:587', 0, 2156, 937)\n",
        "('timestamp:588', 0, 2156, 940)\n",
        "('timestamp:589', 0, 2156, 940)\n",
        "('timestamp:590', 0, 2156, 940)\n",
        "('timestamp:591', 0, 2156, 940)\n",
        "('timestamp:592', 0, 2156, 940)"
       ]
      },
      {
       "output_type": "stream",
       "stream": "stdout",
       "text": [
        "\n",
        "('timestamp:593', 0, 2156, 940)\n",
        "('timestamp:594', 0, 2156, 940)\n",
        "('timestamp:595', 0, 2156, 940)\n",
        "('timestamp:596', 0, 2156, 940)\n",
        "('timestamp:597', 0, 2156, 940)\n",
        "('timestamp:598', 0, 2156, 940)\n",
        "('timestamp:599', 0, 2156, 939)\n",
        "('timestamp:600', 0, 2156, 939)"
       ]
      },
      {
       "output_type": "stream",
       "stream": "stdout",
       "text": [
        "\n",
        "('timestamp:601', 0, 2156, 939)\n",
        "('timestamp:602', 0, 2156, 939)\n",
        "('timestamp:603', 0, 2156, 939)\n",
        "('timestamp:604', 0, 2156, 939)\n",
        "('timestamp:605', 0, 2156, 939)\n",
        "('timestamp:606', 0, 2156, 939)\n",
        "('timestamp:607', 0, 2156, 939)\n",
        "('timestamp:608', 0, 2156, 939)"
       ]
      },
      {
       "output_type": "stream",
       "stream": "stdout",
       "text": [
        "\n",
        "('timestamp:609', 0, 2156, 938)\n",
        "('timestamp:610', 0, 2156, 938)\n",
        "('timestamp:611', 0, 2156, 938)\n",
        "('timestamp:612', 0, 2156, 938)\n",
        "('timestamp:613', 0, 2156, 938)\n",
        "('timestamp:614', 0, 2156, 938)\n",
        "('timestamp:615', 0, 2156, 938)\n",
        "('timestamp:616', 0, 2156, 938)"
       ]
      },
      {
       "output_type": "stream",
       "stream": "stdout",
       "text": [
        "\n",
        "('timestamp:617', 0, 2156, 938)\n",
        "('timestamp:618', 0, 2156, 938)\n",
        "('timestamp:619', 0, 2156, 938)\n",
        "('timestamp:620', 0, 2156, 938)\n",
        "('timestamp:621', 0, 2156, 938)\n",
        "('timestamp:622', 0, 2156, 938)\n",
        "('timestamp:623', 0, 2156, 938)\n",
        "('timestamp:624', 0, 2156, 934)"
       ]
      },
      {
       "output_type": "stream",
       "stream": "stdout",
       "text": [
        "\n",
        "('timestamp:625', 0, 2156, 937)\n",
        "('timestamp:626', 0, 2156, 936)\n",
        "('timestamp:627', 0, 2156, 935)\n",
        "('timestamp:628', 0, 2156, 935)\n",
        "('timestamp:629', 0, 2156, 935)\n",
        "('timestamp:630', 0, 2156, 935)\n",
        "('timestamp:631', 0, 2156, 935)\n",
        "('timestamp:632', 0, 2156, 935)"
       ]
      },
      {
       "output_type": "stream",
       "stream": "stdout",
       "text": [
        "\n",
        "('timestamp:633', 0, 2156, 935)\n",
        "('timestamp:634', 0, 2156, 935)\n",
        "('timestamp:635', 0, 2156, 935)\n",
        "('timestamp:636', 0, 2156, 934)\n",
        "('timestamp:637', 0, 2156, 934)\n",
        "('timestamp:638', 0, 2156, 934)\n",
        "('timestamp:639', 0, 2156, 934)\n",
        "('timestamp:640', 0, 2156, 934)"
       ]
      },
      {
       "output_type": "stream",
       "stream": "stdout",
       "text": [
        "\n",
        "('timestamp:641', 0, 2156, 934)\n",
        "('timestamp:642', 0, 2156, 933)\n",
        "('timestamp:643', 0, 2156, 933)\n",
        "('timestamp:644', 0, 2156, 933)\n",
        "('timestamp:645', 0, 2156, 932)\n",
        "('timestamp:646', 0, 2156, 932)\n",
        "('timestamp:647', 0, 2156, 932)\n",
        "('timestamp:648', 0, 2156, 932)"
       ]
      },
      {
       "output_type": "stream",
       "stream": "stdout",
       "text": [
        "\n",
        "('timestamp:649', 0, 2156, 932)\n",
        "('timestamp:650', 0, 2156, 932)\n",
        "('timestamp:651', 0, 2156, 932)\n",
        "('timestamp:652', 0, 2156, 932)\n",
        "('timestamp:653', 0, 2156, 932)\n",
        "('timestamp:654', 0, 2156, 932)\n",
        "('timestamp:655', 0, 2156, 932)\n",
        "('timestamp:656', 0, 2156, 932)"
       ]
      },
      {
       "output_type": "stream",
       "stream": "stdout",
       "text": [
        "\n",
        "('timestamp:657', 0, 2156, 932)\n",
        "('timestamp:658', 0, 2156, 932)\n",
        "('timestamp:659', 0, 2156, 932)\n",
        "('timestamp:660', 0, 2156, 932)\n",
        "('timestamp:661', 0, 2156, 932)\n",
        "('timestamp:662', 0, 2156, 932)\n",
        "('timestamp:663', 0, 2156, 932)\n",
        "('timestamp:664', 0, 2156, 932)"
       ]
      },
      {
       "output_type": "stream",
       "stream": "stdout",
       "text": [
        "\n",
        "('timestamp:665', 0, 2156, 932)\n",
        "('timestamp:666', 0, 2156, 932)\n",
        "('timestamp:667', 0, 2156, 932)\n",
        "('timestamp:668', 0, 2156, 932)\n",
        "('timestamp:669', 0, 2156, 932)\n",
        "('timestamp:670', 0, 2156, 932)\n",
        "('timestamp:671', 0, 2156, 932)\n",
        "('timestamp:672', 0, 2156, 932)"
       ]
      },
      {
       "output_type": "stream",
       "stream": "stdout",
       "text": [
        "\n",
        "('timestamp:673', 0, 2156, 932)\n",
        "('timestamp:674', 0, 2156, 931)\n",
        "('timestamp:675', 0, 2156, 931)\n",
        "('timestamp:676', 0, 2156, 931)\n",
        "('timestamp:677', 0, 2156, 960)\n",
        "('timestamp:678', 0, 2156, 957)\n",
        "('timestamp:679', 0, 2156, 957)\n",
        "('timestamp:680', 0, 2156, 957)"
       ]
      },
      {
       "output_type": "stream",
       "stream": "stdout",
       "text": [
        "\n",
        "('timestamp:681', 0, 2156, 956)\n",
        "('timestamp:682', 0, 2156, 955)\n",
        "('timestamp:683', 0, 2156, 955)\n",
        "('timestamp:684', 0, 2156, 955)\n",
        "('timestamp:685', 0, 2156, 955)\n",
        "('timestamp:686', 0, 2156, 955)"
       ]
      },
      {
       "output_type": "stream",
       "stream": "stdout",
       "text": [
        "\n",
        "('timestamp:687', 0, 2156, 953)\n",
        "('timestamp:688', 0, 2156, 953)\n",
        "('timestamp:689', 0, 2156, 953)\n",
        "('timestamp:690', 0, 2156, 955)\n",
        "('timestamp:691', 0, 2156, 953)\n",
        "('timestamp:692', 0, 2156, 955)\n",
        "('timestamp:693', 0, 2156, 955)\n",
        "('timestamp:694', 0, 2156, 955)"
       ]
      },
      {
       "output_type": "stream",
       "stream": "stdout",
       "text": [
        "\n",
        "('timestamp:695', 0, 2156, 955)\n",
        "('timestamp:696', 0, 2156, 953)\n",
        "('timestamp:697', 0, 2156, 955)\n",
        "('timestamp:698', 0, 2156, 955)\n",
        "('timestamp:699', 0, 2156, 955)\n",
        "('timestamp:700', 0, 2156, 955)\n",
        "('timestamp:701', 0, 2156, 955)\n",
        "('timestamp:702', 0, 2156, 955)"
       ]
      },
      {
       "output_type": "stream",
       "stream": "stdout",
       "text": [
        "\n",
        "('timestamp:703', 0, 2156, 955)\n",
        "('timestamp:704', 0, 2156, 955)\n",
        "('timestamp:705', 0, 2156, 954)\n",
        "('timestamp:706', 0, 2156, 953)\n",
        "('timestamp:707', 0, 2156, 953)\n",
        "('timestamp:708', 0, 2156, 953)\n",
        "('timestamp:709', 0, 2156, 952)\n",
        "('timestamp:710', 0, 2156, 954)"
       ]
      },
      {
       "output_type": "stream",
       "stream": "stdout",
       "text": [
        "\n",
        "('timestamp:711', 0, 2156, 955)\n",
        "('timestamp:712', 0, 2156, 954)\n",
        "('timestamp:713', 0, 2156, 954)\n",
        "('timestamp:714', 0, 2156, 954)\n",
        "('timestamp:715', 0, 2156, 952)\n",
        "('timestamp:716', 0, 2156, 952)\n",
        "('timestamp:717', 0, 2156, 952)\n",
        "('timestamp:718', 0, 2156, 952)"
       ]
      },
      {
       "output_type": "stream",
       "stream": "stdout",
       "text": [
        "\n",
        "('timestamp:719', 0, 2156, 952)\n",
        "('timestamp:720', 0, 2156, 952)\n",
        "('timestamp:721', 0, 2156, 952)\n",
        "('timestamp:722', 0, 2156, 952)\n",
        "('timestamp:723', 0, 2156, 952)\n",
        "('timestamp:724', 0, 2156, 952)\n",
        "('timestamp:725', 0, 2156, 952)\n",
        "('timestamp:726', 0, 2156, 952)"
       ]
      },
      {
       "output_type": "stream",
       "stream": "stdout",
       "text": [
        "\n",
        "('timestamp:727', 0, 2156, 951)\n",
        "('timestamp:728', 0, 2156, 951)\n",
        "('timestamp:729', 0, 2156, 950)\n",
        "('timestamp:730', 0, 2156, 950)\n",
        "('timestamp:731', 0, 2156, 950)\n",
        "('timestamp:732', 0, 2156, 950)\n",
        "('timestamp:733', 0, 2156, 949)"
       ]
      },
      {
       "output_type": "stream",
       "stream": "stdout",
       "text": [
        "\n",
        "('timestamp:734', 0, 2156, 950)\n",
        "('timestamp:735', 0, 2156, 950)\n",
        "('timestamp:736', 0, 2156, 950)\n",
        "('timestamp:737', 0, 2156, 949)\n",
        "('timestamp:738', 0, 2156, 949)\n",
        "('timestamp:739', 0, 2156, 949)\n",
        "('timestamp:740', 0, 2156, 949)\n",
        "('timestamp:741', 0, 2156, 949)"
       ]
      },
      {
       "output_type": "stream",
       "stream": "stdout",
       "text": [
        "\n",
        "('timestamp:742', 0, 2156, 949)\n",
        "('timestamp:743', 0, 2156, 949)\n",
        "('timestamp:744', 0, 2156, 948)\n",
        "('timestamp:745', 0, 2156, 948)\n",
        "('timestamp:746', 0, 2156, 948)\n",
        "('timestamp:747', 0, 2156, 948)\n",
        "('timestamp:748', 0, 2156, 947)\n",
        "('timestamp:749', 0, 2156, 948)"
       ]
      },
      {
       "output_type": "stream",
       "stream": "stdout",
       "text": [
        "\n",
        "('timestamp:750', 0, 2156, 948)\n",
        "('timestamp:751', 0, 2156, 948)\n",
        "('timestamp:752', 0, 2156, 948)\n",
        "('timestamp:753', 0, 2156, 947)\n",
        "('timestamp:754', 0, 2156, 948)\n",
        "('timestamp:755', 0, 2156, 947)\n",
        "('timestamp:756', 0, 2156, 946)\n",
        "('timestamp:757', 0, 2156, 947)"
       ]
      },
      {
       "output_type": "stream",
       "stream": "stdout",
       "text": [
        "\n",
        "('timestamp:758', 0, 2156, 947)\n",
        "('timestamp:759', 0, 2156, 946)\n",
        "('timestamp:760', 0, 2156, 946)\n",
        "('timestamp:761', 0, 2156, 946)\n",
        "('timestamp:762', 0, 2156, 945)\n",
        "('timestamp:763', 0, 2156, 944)\n",
        "('timestamp:764', 0, 2156, 944)\n",
        "('timestamp:765', 0, 2156, 944)"
       ]
      },
      {
       "output_type": "stream",
       "stream": "stdout",
       "text": [
        "\n",
        "('timestamp:766', 0, 2156, 943)\n",
        "('timestamp:767', 0, 2156, 943)\n",
        "('timestamp:768', 0, 2156, 943)\n",
        "('timestamp:769', 0, 2156, 943)\n",
        "('timestamp:770', 0, 2156, 943)\n",
        "('timestamp:771', 0, 2156, 943)\n",
        "('timestamp:772', 0, 2156, 943)"
       ]
      },
      {
       "output_type": "stream",
       "stream": "stdout",
       "text": [
        "\n",
        "('timestamp:773', 0, 2156, 943)\n",
        "('timestamp:774', 0, 2156, 943)\n",
        "('timestamp:775', 0, 2156, 943)\n",
        "('timestamp:776', 0, 2156, 943)\n",
        "('timestamp:777', 0, 2156, 943)\n",
        "('timestamp:778', 0, 2156, 943)\n",
        "('timestamp:779', 0, 2156, 951)\n",
        "('timestamp:780', 0, 2156, 951)"
       ]
      },
      {
       "output_type": "stream",
       "stream": "stdout",
       "text": [
        "\n",
        "('timestamp:781', 0, 2156, 950)\n",
        "('timestamp:782', 0, 2156, 950)\n",
        "('timestamp:783', 0, 2156, 951)\n",
        "('timestamp:784', 0, 2156, 951)\n",
        "('timestamp:785', 0, 2156, 950)\n",
        "('timestamp:786', 0, 2156, 950)\n",
        "('timestamp:787', 0, 2156, 950)\n",
        "('timestamp:788', 0, 2156, 950)"
       ]
      },
      {
       "output_type": "stream",
       "stream": "stdout",
       "text": [
        "\n",
        "('timestamp:789', 0, 2156, 950)\n",
        "('timestamp:790', 0, 2156, 950)\n",
        "('timestamp:791', 0, 2156, 950)\n",
        "('timestamp:792', 0, 2156, 950)\n",
        "('timestamp:793', 0, 2156, 950)\n",
        "('timestamp:794', 0, 2156, 950)"
       ]
      },
      {
       "output_type": "stream",
       "stream": "stdout",
       "text": [
        "\n",
        "('timestamp:795', 0, 2156, 950)\n",
        "('timestamp:796', 0, 2156, 949)\n",
        "('timestamp:797', 0, 2156, 949)\n",
        "('timestamp:798', 0, 2156, 949)\n",
        "('timestamp:799', 0, 2156, 949)\n",
        "('timestamp:800', 0, 2156, 948)\n",
        "('timestamp:801', 0, 2156, 948)"
       ]
      },
      {
       "output_type": "stream",
       "stream": "stdout",
       "text": [
        "\n",
        "('timestamp:802', 0, 2156, 948)\n",
        "('timestamp:803', 0, 2156, 948)\n",
        "('timestamp:804', 0, 2156, 948)\n",
        "('timestamp:805', 0, 2156, 947)\n",
        "('timestamp:806', 0, 2156, 948)\n",
        "('timestamp:807', 0, 2156, 948)"
       ]
      },
      {
       "output_type": "stream",
       "stream": "stdout",
       "text": [
        "\n",
        "('timestamp:808', 0, 2156, 948)\n",
        "('timestamp:809', 0, 2156, 947)\n",
        "('timestamp:810', 0, 2156, 947)\n",
        "('timestamp:811', 0, 2156, 946)\n",
        "('timestamp:812', 0, 2156, 946)\n",
        "('timestamp:813', 0, 2156, 946)"
       ]
      },
      {
       "output_type": "stream",
       "stream": "stdout",
       "text": [
        "\n",
        "('timestamp:814', 0, 2156, 946)\n",
        "('timestamp:815', 0, 2156, 946)\n",
        "('timestamp:816', 0, 2156, 946)\n",
        "('timestamp:817', 0, 2156, 946)\n",
        "('timestamp:818', 0, 2156, 946)"
       ]
      },
      {
       "output_type": "stream",
       "stream": "stdout",
       "text": [
        "\n",
        "('timestamp:819', 0, 2156, 946)\n",
        "('timestamp:820', 0, 2156, 945)\n",
        "('timestamp:821', 0, 2156, 945)\n",
        "('timestamp:822', 0, 2156, 945)\n",
        "('timestamp:823', 0, 2156, 945)\n",
        "('timestamp:824', 0, 2156, 944)"
       ]
      },
      {
       "output_type": "stream",
       "stream": "stdout",
       "text": [
        "\n",
        "('timestamp:825', 0, 2156, 944)\n",
        "('timestamp:826', 0, 2156, 943)\n",
        "('timestamp:827', 0, 2156, 943)\n",
        "('timestamp:828', 0, 2156, 943)\n",
        "('timestamp:829', 0, 2156, 943)"
       ]
      },
      {
       "output_type": "stream",
       "stream": "stdout",
       "text": [
        "\n",
        "('timestamp:830', 0, 2156, 943)\n",
        "('timestamp:831', 0, 2156, 943)\n",
        "('timestamp:832', 0, 2156, 943)\n",
        "('timestamp:833', 0, 2156, 943)\n",
        "('timestamp:834', 0, 2156, 942)\n",
        "('timestamp:835', 0, 2156, 941)\n",
        "('timestamp:836', 0, 2156, 941)\n",
        "('timestamp:837', 0, 2156, 941)"
       ]
      },
      {
       "output_type": "stream",
       "stream": "stdout",
       "text": [
        "\n",
        "('timestamp:838', 0, 2156, 941)\n",
        "('timestamp:839', 0, 2156, 941)\n",
        "('timestamp:840', 0, 2156, 941)\n",
        "('timestamp:841', 0, 2156, 941)\n",
        "('timestamp:842', 0, 2156, 941)\n",
        "('timestamp:843', 0, 2156, 941)\n",
        "('timestamp:844', 0, 2156, 940)\n",
        "('timestamp:845', 0, 2156, 940)"
       ]
      },
      {
       "output_type": "stream",
       "stream": "stdout",
       "text": [
        "\n",
        "('timestamp:846', 0, 2156, 940)\n",
        "('timestamp:847', 0, 2156, 940)\n",
        "('timestamp:848', 0, 2156, 940)\n",
        "('timestamp:849', 0, 2156, 940)\n",
        "('timestamp:850', 0, 2156, 940)\n",
        "('timestamp:851', 0, 2156, 940)\n",
        "('timestamp:852', 0, 2156, 940)\n",
        "('timestamp:853', 0, 2156, 940)"
       ]
      },
      {
       "output_type": "stream",
       "stream": "stdout",
       "text": [
        "\n",
        "('timestamp:854', 0, 2156, 940)\n",
        "('timestamp:855', 0, 2156, 940)\n",
        "('timestamp:856', 0, 2156, 940)\n",
        "('timestamp:857', 0, 2156, 940)\n",
        "('timestamp:858', 0, 2156, 938)\n",
        "('timestamp:859', 0, 2156, 938)\n",
        "('timestamp:860', 0, 2156, 938)\n",
        "('timestamp:861', 0, 2156, 938)"
       ]
      },
      {
       "output_type": "stream",
       "stream": "stdout",
       "text": [
        "\n",
        "('timestamp:862', 0, 2156, 938)\n",
        "('timestamp:863', 0, 2156, 938)\n",
        "('timestamp:864', 0, 2156, 939)\n",
        "('timestamp:865', 0, 2156, 939)\n",
        "('timestamp:866', 0, 2156, 938)\n",
        "('timestamp:867', 0, 2156, 938)\n",
        "('timestamp:868', 0, 2156, 938)"
       ]
      },
      {
       "output_type": "stream",
       "stream": "stdout",
       "text": [
        "\n",
        "('timestamp:869', 0, 2156, 938)\n",
        "('timestamp:870', 0, 2156, 938)\n",
        "('timestamp:871', 0, 2156, 938)\n",
        "('timestamp:872', 0, 2156, 937)\n",
        "('timestamp:873', 0, 2156, 937)\n",
        "('timestamp:874', 0, 2156, 937)\n",
        "('timestamp:875', 0, 2156, 937)\n",
        "('timestamp:876', 0, 2156, 937)"
       ]
      },
      {
       "output_type": "stream",
       "stream": "stdout",
       "text": [
        "\n",
        "('timestamp:877', 0, 2156, 936)\n",
        "('timestamp:878', 0, 2156, 936)\n",
        "('timestamp:879', 0, 2156, 936)\n",
        "('timestamp:880', 0, 2156, 936)\n",
        "('timestamp:881', 0, 2156, 976)\n",
        "('timestamp:882', 0, 2156, 975)\n",
        "('timestamp:883', 0, 2156, 974)\n",
        "('timestamp:884', 0, 2156, 974)"
       ]
      },
      {
       "output_type": "stream",
       "stream": "stdout",
       "text": [
        "\n",
        "('timestamp:885', 0, 2156, 974)\n",
        "('timestamp:886', 0, 2156, 974)\n",
        "('timestamp:887', 0, 2156, 974)\n",
        "('timestamp:888', 0, 2156, 974)\n",
        "('timestamp:889', 0, 2156, 974)\n",
        "('timestamp:890', 0, 2156, 974)\n",
        "('timestamp:891', 0, 2156, 973)\n",
        "('timestamp:892', 0, 2156, 973)"
       ]
      },
      {
       "output_type": "stream",
       "stream": "stdout",
       "text": [
        "\n",
        "('timestamp:893', 0, 2156, 972)\n",
        "('timestamp:894', 0, 2156, 972)\n",
        "('timestamp:895', 0, 2156, 971)\n",
        "('timestamp:896', 0, 2156, 971)\n",
        "('timestamp:897', 0, 2156, 972)\n",
        "('timestamp:898', 0, 2156, 970)\n",
        "('timestamp:899', 0, 2156, 970)\n",
        "('timestamp:900', 0, 2156, 970)"
       ]
      },
      {
       "output_type": "stream",
       "stream": "stdout",
       "text": [
        "\n",
        "('timestamp:901', 0, 2156, 970)\n",
        "('timestamp:902', 0, 2156, 969)\n",
        "('timestamp:903', 0, 2156, 969)\n",
        "('timestamp:904', 0, 2156, 969)\n",
        "('timestamp:905', 0, 2156, 968)\n",
        "('timestamp:906', 0, 2156, 968)\n",
        "('timestamp:907', 0, 2156, 968)"
       ]
      },
      {
       "output_type": "stream",
       "stream": "stdout",
       "text": [
        "\n",
        "('timestamp:908', 0, 2156, 968)\n",
        "('timestamp:909', 0, 2156, 968)\n",
        "('timestamp:910', 0, 2156, 967)\n",
        "('timestamp:911', 0, 2156, 967)\n",
        "('timestamp:912', 0, 2156, 967)\n",
        "('timestamp:913', 0, 2156, 967)\n",
        "('timestamp:914', 0, 2156, 967)\n",
        "('timestamp:915', 0, 2156, 967)"
       ]
      },
      {
       "output_type": "stream",
       "stream": "stdout",
       "text": [
        "\n",
        "('timestamp:916', 0, 2156, 966)\n",
        "('timestamp:917', 0, 2156, 966)\n",
        "('timestamp:918', 0, 2156, 966)\n",
        "('timestamp:919', 0, 2156, 966)\n",
        "('timestamp:920', 0, 2156, 966)\n",
        "('timestamp:921', 0, 2156, 966)\n",
        "('timestamp:922', 0, 2156, 966)\n",
        "('timestamp:923', 0, 2156, 965)"
       ]
      },
      {
       "output_type": "stream",
       "stream": "stdout",
       "text": [
        "\n",
        "('timestamp:924', 0, 2156, 964)\n",
        "('timestamp:925', 0, 2156, 964)\n",
        "('timestamp:926', 0, 2156, 964)\n",
        "('timestamp:927', 0, 2156, 964)\n",
        "('timestamp:928', 0, 2156, 964)\n",
        "('timestamp:929', 0, 2156, 963)\n",
        "('timestamp:930', 0, 2156, 963)\n",
        "('timestamp:931', 0, 2156, 963)"
       ]
      },
      {
       "output_type": "stream",
       "stream": "stdout",
       "text": [
        "\n",
        "('timestamp:932', 0, 2156, 963)\n",
        "('timestamp:933', 0, 2156, 966)\n",
        "('timestamp:934', 0, 2156, 966)\n",
        "('timestamp:935', 0, 2156, 966)\n",
        "('timestamp:936', 0, 2156, 966)\n",
        "('timestamp:937', 0, 2156, 966)\n",
        "('timestamp:938', 0, 2156, 965)\n",
        "('timestamp:939', 0, 2156, 965)"
       ]
      },
      {
       "output_type": "stream",
       "stream": "stdout",
       "text": [
        "\n",
        "('timestamp:940', 0, 2156, 964)\n",
        "('timestamp:941', 0, 2156, 964)\n",
        "('timestamp:942', 0, 2156, 964)\n",
        "('timestamp:943', 0, 2156, 964)\n",
        "('timestamp:944', 0, 2156, 964)\n",
        "('timestamp:945', 0, 2156, 964)\n",
        "('timestamp:946', 0, 2156, 964)\n",
        "('timestamp:947', 0, 2156, 964)"
       ]
      },
      {
       "output_type": "stream",
       "stream": "stdout",
       "text": [
        "\n",
        "('timestamp:948', 0, 2156, 964)\n",
        "('timestamp:949', 0, 2156, 964)\n",
        "('timestamp:950', 0, 2156, 964)\n",
        "('timestamp:951', 0, 2156, 964)\n",
        "('timestamp:952', 0, 2156, 964)\n",
        "('timestamp:953', 0, 2156, 964)\n",
        "('timestamp:954', 0, 2156, 964)\n",
        "('timestamp:955', 0, 2156, 963)"
       ]
      },
      {
       "output_type": "stream",
       "stream": "stdout",
       "text": [
        "\n",
        "('timestamp:956', 0, 2156, 963)\n",
        "('timestamp:957', 0, 2156, 963)\n",
        "('timestamp:958', 0, 2156, 963)\n",
        "('timestamp:959', 0, 2156, 963)\n",
        "('timestamp:960', 0, 2156, 962)\n",
        "('timestamp:961', 0, 2156, 962)\n",
        "('timestamp:962', 0, 2156, 962)\n",
        "('timestamp:963', 0, 2156, 962)"
       ]
      },
      {
       "output_type": "stream",
       "stream": "stdout",
       "text": [
        "\n",
        "('timestamp:964', 0, 2156, 962)\n",
        "('timestamp:965', 0, 2156, 962)\n",
        "('timestamp:966', 0, 2156, 962)\n",
        "('timestamp:967', 0, 2156, 961)\n",
        "('timestamp:968', 0, 2156, 961)\n",
        "('timestamp:969', 0, 2156, 959)\n",
        "('timestamp:970', 0, 2156, 959)\n",
        "('timestamp:971', 0, 2156, 957)"
       ]
      },
      {
       "output_type": "stream",
       "stream": "stdout",
       "text": [
        "\n",
        "('timestamp:972', 0, 2156, 956)\n",
        "('timestamp:973', 0, 2156, 956)\n",
        "('timestamp:974', 0, 2156, 956)\n",
        "('timestamp:975', 0, 2156, 956)\n",
        "('timestamp:976', 0, 2156, 956)\n",
        "('timestamp:977', 0, 2156, 956)\n",
        "('timestamp:978', 0, 2156, 955)\n",
        "('timestamp:979', 0, 2156, 954)"
       ]
      },
      {
       "output_type": "stream",
       "stream": "stdout",
       "text": [
        "\n",
        "('timestamp:980', 0, 2156, 953)\n",
        "('timestamp:981', 0, 2156, 953)\n",
        "('timestamp:982', 0, 2156, 953)\n",
        "('timestamp:983', 0, 2156, 952)\n",
        "('timestamp:984', 0, 2156, 965)\n",
        "('timestamp:985', 0, 2156, 965)\n",
        "('timestamp:986', 0, 2156, 964)\n",
        "('timestamp:987', 0, 2156, 964)"
       ]
      },
      {
       "output_type": "stream",
       "stream": "stdout",
       "text": [
        "\n",
        "('timestamp:988', 0, 2156, 964)\n",
        "('timestamp:989', 0, 2156, 964)\n",
        "('timestamp:990', 0, 2156, 964)\n",
        "('timestamp:991', 0, 2156, 964)\n",
        "('timestamp:992', 0, 2156, 964)\n",
        "('timestamp:993', 0, 2156, 964)\n",
        "('timestamp:994', 0, 2156, 964)\n",
        "('timestamp:995', 0, 2156, 964)"
       ]
      },
      {
       "output_type": "stream",
       "stream": "stdout",
       "text": [
        "\n",
        "('timestamp:996', 0, 2156, 964)\n",
        "('timestamp:997', 0, 2156, 964)\n",
        "('timestamp:998', 0, 2156, 963)\n",
        "('timestamp:999', 0, 2156, 962)\n",
        "('timestamp:1000', 0, 2156, 959)\n",
        "('timestamp:1001', 0, 2156, 958)\n",
        "('timestamp:1002', 0, 2156, 958)\n",
        "('timestamp:1003', 0, 2156, 958)"
       ]
      },
      {
       "output_type": "stream",
       "stream": "stdout",
       "text": [
        "\n",
        "('timestamp:1004', 0, 2156, 958)\n",
        "('timestamp:1005', 0, 2156, 958)\n",
        "('timestamp:1006', 0, 2156, 958)\n",
        "('timestamp:1007', 0, 2156, 958)\n",
        "('timestamp:1008', 0, 2156, 958)\n",
        "('timestamp:1009', 0, 2156, 958)\n",
        "('timestamp:1010', 0, 2156, 957)\n",
        "('timestamp:1011', 0, 2156, 957)"
       ]
      },
      {
       "output_type": "stream",
       "stream": "stdout",
       "text": [
        "\n",
        "('timestamp:1012', 0, 2156, 957)\n",
        "('timestamp:1013', 0, 2156, 957)\n",
        "('timestamp:1014', 0, 2156, 957)\n",
        "('timestamp:1015', 0, 2156, 957)\n",
        "('timestamp:1016', 0, 2156, 957)\n",
        "('timestamp:1017', 0, 2156, 956)\n",
        "('timestamp:1018', 0, 2156, 956)\n",
        "('timestamp:1019', 0, 2156, 956)"
       ]
      },
      {
       "output_type": "stream",
       "stream": "stdout",
       "text": [
        "\n",
        "('timestamp:1020', 0, 2156, 954)\n",
        "('timestamp:1021', 0, 2156, 954)\n",
        "('timestamp:1022', 0, 2156, 954)\n",
        "('timestamp:1023', 0, 2156, 954)\n",
        "('timestamp:1024', 0, 2156, 954)\n",
        "('timestamp:1025', 0, 2156, 954)\n",
        "('timestamp:1026', 0, 2156, 954)\n",
        "('timestamp:1027', 0, 2156, 953)"
       ]
      },
      {
       "output_type": "stream",
       "stream": "stdout",
       "text": [
        "\n",
        "('timestamp:1028', 0, 2156, 953)\n",
        "('timestamp:1029', 0, 2156, 953)\n",
        "('timestamp:1030', 0, 2156, 953)\n",
        "('timestamp:1031', 0, 2156, 953)\n",
        "('timestamp:1032', 0, 2156, 953)\n",
        "('timestamp:1033', 0, 2156, 953)\n",
        "('timestamp:1034', 0, 2156, 955)\n",
        "('timestamp:1035', 0, 2156, 952)"
       ]
      },
      {
       "output_type": "stream",
       "stream": "stdout",
       "text": [
        "\n",
        "('timestamp:1036', 0, 2156, 952)\n",
        "('timestamp:1037', 0, 2156, 951)\n",
        "('timestamp:1038', 0, 2156, 950)\n",
        "('timestamp:1039', 0, 2156, 951)\n",
        "('timestamp:1040', 0, 2156, 951)\n",
        "('timestamp:1041', 0, 2156, 951)\n",
        "('timestamp:1042', 0, 2156, 951)\n",
        "('timestamp:1043', 0, 2156, 951)"
       ]
      },
      {
       "output_type": "stream",
       "stream": "stdout",
       "text": [
        "\n",
        "('timestamp:1044', 0, 2156, 950)\n",
        "('timestamp:1045', 0, 2156, 950)\n",
        "('timestamp:1046', 0, 2156, 949)\n",
        "('timestamp:1047', 0, 2156, 949)\n",
        "('timestamp:1048', 0, 2156, 949)\n",
        "('timestamp:1049', 0, 2156, 949)\n",
        "('timestamp:1050', 0, 2156, 949)\n",
        "('timestamp:1051', 0, 2156, 949)"
       ]
      },
      {
       "output_type": "stream",
       "stream": "stdout",
       "text": [
        "\n",
        "('timestamp:1052', 0, 2156, 949)\n",
        "('timestamp:1053', 0, 2156, 948)\n",
        "('timestamp:1054', 0, 2156, 948)\n",
        "('timestamp:1055', 0, 2156, 948)\n",
        "('timestamp:1056', 0, 2156, 947)\n",
        "('timestamp:1057', 0, 2156, 947)\n",
        "('timestamp:1058', 0, 2156, 947)\n",
        "('timestamp:1059', 0, 2156, 947)"
       ]
      },
      {
       "output_type": "stream",
       "stream": "stdout",
       "text": [
        "\n",
        "('timestamp:1060', 0, 2156, 947)\n",
        "('timestamp:1061', 0, 2156, 947)\n",
        "('timestamp:1062', 0, 2156, 947)\n",
        "('timestamp:1063', 0, 2156, 947)\n",
        "('timestamp:1064', 0, 2156, 946)\n",
        "('timestamp:1065', 0, 2156, 946)"
       ]
      },
      {
       "output_type": "stream",
       "stream": "stdout",
       "text": [
        "\n",
        "('timestamp:1066', 0, 2156, 946)\n",
        "('timestamp:1067', 0, 2156, 946)\n",
        "('timestamp:1068', 0, 2156, 946)\n",
        "('timestamp:1069', 0, 2156, 945)\n",
        "('timestamp:1070', 0, 2156, 943)\n",
        "('timestamp:1071', 0, 2156, 943)\n",
        "('timestamp:1072', 0, 2156, 943)"
       ]
      },
      {
       "output_type": "stream",
       "stream": "stdout",
       "text": [
        "\n",
        "('timestamp:1073', 0, 2156, 943)\n",
        "('timestamp:1074', 0, 2156, 943)\n",
        "('timestamp:1075', 0, 2156, 943)\n",
        "('timestamp:1076', 0, 2156, 942)\n",
        "('timestamp:1077', 0, 2156, 942)"
       ]
      },
      {
       "output_type": "stream",
       "stream": "stdout",
       "text": [
        "\n",
        "('timestamp:1078', 0, 2156, 942)\n",
        "('timestamp:1079', 0, 2156, 942)\n",
        "('timestamp:1080', 0, 2156, 942)\n",
        "('timestamp:1081', 0, 2156, 942)\n",
        "('timestamp:1082', 0, 2156, 942)\n",
        "('timestamp:1083', 0, 2156, 942)\n",
        "('timestamp:1084', 0, 2156, 941)\n",
        "('timestamp:1085', 0, 2156, 978)"
       ]
      },
      {
       "output_type": "stream",
       "stream": "stdout",
       "text": [
        "\n",
        "('timestamp:1086', 0, 2156, 977)\n",
        "('timestamp:1087', 0, 2156, 977)\n",
        "('timestamp:1088', 0, 2156, 975)\n",
        "('timestamp:1089', 0, 2156, 975)\n",
        "('timestamp:1090', 0, 2156, 975)\n",
        "('timestamp:1091', 0, 2156, 975)\n",
        "('timestamp:1092', 0, 2156, 974)\n",
        "('timestamp:1093', 0, 2156, 974)"
       ]
      },
      {
       "output_type": "stream",
       "stream": "stdout",
       "text": [
        "\n",
        "('timestamp:1094', 0, 2156, 974)\n",
        "('timestamp:1095', 0, 2156, 974)\n",
        "('timestamp:1096', 0, 2156, 974)\n",
        "('timestamp:1097', 0, 2156, 974)\n",
        "('timestamp:1098', 0, 2156, 974)\n",
        "('timestamp:1099', 0, 2156, 974)\n",
        "('timestamp:1100', 0, 2156, 974)\n",
        "('timestamp:1101', 0, 2156, 974)"
       ]
      },
      {
       "output_type": "stream",
       "stream": "stdout",
       "text": [
        "\n",
        "('timestamp:1102', 0, 2156, 975)\n",
        "('timestamp:1103', 0, 2156, 975)\n",
        "('timestamp:1104', 0, 2156, 975)\n",
        "('timestamp:1105', 0, 2156, 975)\n",
        "('timestamp:1106', 0, 2156, 974)\n",
        "('timestamp:1107', 0, 2156, 974)\n",
        "('timestamp:1108', 0, 2156, 974)\n",
        "('timestamp:1109', 0, 2156, 974)"
       ]
      },
      {
       "output_type": "stream",
       "stream": "stdout",
       "text": [
        "\n",
        "('timestamp:1110', 0, 2156, 974)\n",
        "('timestamp:1111', 0, 2156, 974)\n",
        "('timestamp:1112', 0, 2156, 973)\n",
        "('timestamp:1113', 0, 2156, 973)\n",
        "('timestamp:1114', 0, 2156, 973)\n",
        "('timestamp:1115', 0, 2156, 973)\n",
        "('timestamp:1116', 0, 2156, 973)\n",
        "('timestamp:1117', 0, 2156, 973)"
       ]
      },
      {
       "output_type": "stream",
       "stream": "stdout",
       "text": [
        "\n",
        "('timestamp:1118', 0, 2156, 973)\n",
        "('timestamp:1119', 0, 2156, 974)\n",
        "('timestamp:1120', 0, 2156, 974)\n",
        "('timestamp:1121', 0, 2156, 974)\n",
        "('timestamp:1122', 0, 2156, 974)\n",
        "('timestamp:1123', 0, 2156, 974)\n",
        "('timestamp:1124', 0, 2156, 974)\n",
        "('timestamp:1125', 0, 2156, 974)"
       ]
      },
      {
       "output_type": "stream",
       "stream": "stdout",
       "text": [
        "\n",
        "('timestamp:1126', 0, 2156, 974)\n",
        "('timestamp:1127', 0, 2156, 974)\n",
        "('timestamp:1128', 0, 2156, 973)\n",
        "('timestamp:1129', 0, 2156, 973)\n",
        "('timestamp:1130', 0, 2156, 973)\n",
        "('timestamp:1131', 0, 2156, 973)\n",
        "('timestamp:1132', 0, 2156, 973)\n",
        "('timestamp:1133', 0, 2156, 973)"
       ]
      },
      {
       "output_type": "stream",
       "stream": "stdout",
       "text": [
        "\n",
        "('timestamp:1134', 0, 2156, 973)\n",
        "('timestamp:1135', 0, 2156, 973)\n",
        "('timestamp:1136', 0, 2156, 973)\n",
        "('timestamp:1137', 0, 2156, 974)\n",
        "('timestamp:1138', 0, 2156, 974)\n",
        "('timestamp:1139', 0, 2156, 973)\n",
        "('timestamp:1140', 0, 2156, 973)\n",
        "('timestamp:1141', 0, 2156, 973)"
       ]
      },
      {
       "output_type": "stream",
       "stream": "stdout",
       "text": [
        "\n",
        "('timestamp:1142', 0, 2156, 973)\n",
        "('timestamp:1143', 0, 2156, 973)\n",
        "('timestamp:1144', 0, 2156, 973)\n",
        "('timestamp:1145', 0, 2156, 973)\n",
        "('timestamp:1146', 0, 2156, 973)\n",
        "('timestamp:1147', 0, 2156, 973)\n",
        "('timestamp:1148', 0, 2156, 973)\n",
        "('timestamp:1149', 0, 2156, 972)"
       ]
      },
      {
       "output_type": "stream",
       "stream": "stdout",
       "text": [
        "\n",
        "('timestamp:1150', 0, 2156, 971)\n",
        "('timestamp:1151', 0, 2156, 970)\n",
        "('timestamp:1152', 0, 2156, 970)\n",
        "('timestamp:1153', 0, 2156, 970)\n",
        "('timestamp:1154', 0, 2156, 969)\n",
        "('timestamp:1155', 0, 2156, 969)\n",
        "('timestamp:1156', 0, 2156, 969)\n",
        "('timestamp:1157', 0, 2156, 967)"
       ]
      },
      {
       "output_type": "stream",
       "stream": "stdout",
       "text": [
        "\n",
        "('timestamp:1158', 0, 2156, 967)\n",
        "('timestamp:1159', 0, 2156, 966)\n",
        "('timestamp:1160', 0, 2156, 966)\n",
        "('timestamp:1161', 0, 2156, 965)\n",
        "('timestamp:1162', 0, 2156, 965)\n",
        "('timestamp:1163', 0, 2156, 965)\n",
        "('timestamp:1164', 0, 2156, 965)\n",
        "('timestamp:1165', 0, 2156, 965)"
       ]
      },
      {
       "output_type": "stream",
       "stream": "stdout",
       "text": [
        "\n",
        "('timestamp:1166', 0, 2156, 965)\n",
        "('timestamp:1167', 0, 2156, 965)\n",
        "('timestamp:1168', 0, 2156, 965)\n",
        "('timestamp:1169', 0, 2156, 965)\n",
        "('timestamp:1170', 0, 2156, 963)\n",
        "('timestamp:1171', 0, 2156, 963)\n",
        "('timestamp:1172', 0, 2156, 963)\n",
        "('timestamp:1173', 0, 2156, 963)"
       ]
      },
      {
       "output_type": "stream",
       "stream": "stdout",
       "text": [
        "\n",
        "('timestamp:1174', 0, 2156, 963)\n",
        "('timestamp:1175', 0, 2156, 963)\n",
        "('timestamp:1176', 0, 2156, 963)\n",
        "('timestamp:1177', 0, 2156, 963)\n",
        "('timestamp:1178', 0, 2156, 963)\n",
        "('timestamp:1179', 0, 2156, 963)\n",
        "('timestamp:1180', 0, 2156, 962)\n",
        "('timestamp:1181', 0, 2156, 962)"
       ]
      },
      {
       "output_type": "stream",
       "stream": "stdout",
       "text": [
        "\n",
        "('timestamp:1182', 0, 2156, 962)\n",
        "('timestamp:1183', 0, 2156, 962)\n",
        "('timestamp:1184', 0, 2156, 962)\n",
        "('timestamp:1185', 0, 2156, 962)\n",
        "('timestamp:1186', 0, 2156, 962)\n",
        "('timestamp:1187', 0, 2156, 962)\n",
        "('timestamp:1188', 0, 2156, 977)\n",
        "('timestamp:1189', 0, 2156, 977)"
       ]
      },
      {
       "output_type": "stream",
       "stream": "stdout",
       "text": [
        "\n",
        "('timestamp:1190', 0, 2156, 977)\n",
        "('timestamp:1191', 0, 2156, 977)\n",
        "('timestamp:1192', 0, 2156, 977)\n",
        "('timestamp:1193', 0, 2156, 977)\n",
        "('timestamp:1194', 0, 2156, 977)\n",
        "('timestamp:1195', 0, 2156, 977)\n",
        "('timestamp:1196', 0, 2156, 976)\n",
        "('timestamp:1197', 0, 2156, 976)"
       ]
      },
      {
       "output_type": "stream",
       "stream": "stdout",
       "text": [
        "\n",
        "('timestamp:1198', 0, 2156, 976)\n",
        "('timestamp:1199', 0, 2156, 976)\n",
        "('timestamp:1200', 0, 2156, 976)\n",
        "('timestamp:1201', 0, 2156, 976)\n",
        "('timestamp:1202', 0, 2156, 975)\n",
        "('timestamp:1203', 0, 2156, 972)\n",
        "('timestamp:1204', 0, 2156, 972)\n",
        "('timestamp:1205', 0, 2156, 972)"
       ]
      },
      {
       "output_type": "stream",
       "stream": "stdout",
       "text": [
        "\n",
        "('timestamp:1206', 0, 2156, 972)\n",
        "('timestamp:1207', 0, 2156, 972)\n",
        "('timestamp:1208', 0, 2156, 972)\n",
        "('timestamp:1209', 0, 2156, 972)\n",
        "('timestamp:1210', 0, 2156, 972)\n",
        "('timestamp:1211', 0, 2156, 971)\n",
        "('timestamp:1212', 0, 2156, 971)\n",
        "('timestamp:1213', 0, 2156, 970)"
       ]
      },
      {
       "output_type": "stream",
       "stream": "stdout",
       "text": [
        "\n",
        "('timestamp:1214', 0, 2156, 970)\n",
        "('timestamp:1215', 0, 2156, 970)\n",
        "('timestamp:1216', 0, 2156, 969)\n",
        "('timestamp:1217', 0, 2156, 969)\n",
        "('timestamp:1218', 0, 2156, 969)\n",
        "('timestamp:1219', 0, 2156, 969)\n",
        "('timestamp:1220', 0, 2156, 969)\n",
        "('timestamp:1221', 0, 2156, 969)"
       ]
      },
      {
       "output_type": "stream",
       "stream": "stdout",
       "text": [
        "\n",
        "('timestamp:1222', 0, 2156, 968)\n",
        "('timestamp:1223', 0, 2156, 968)\n",
        "('timestamp:1224', 0, 2156, 968)\n",
        "('timestamp:1225', 0, 2156, 968)\n",
        "('timestamp:1226', 0, 2156, 968)\n",
        "('timestamp:1227', 0, 2156, 968)\n",
        "('timestamp:1228', 0, 2156, 967)\n",
        "('timestamp:1229', 0, 2156, 967)"
       ]
      },
      {
       "output_type": "stream",
       "stream": "stdout",
       "text": [
        "\n",
        "('timestamp:1230', 0, 2156, 966)\n",
        "('timestamp:1231', 0, 2156, 966)\n",
        "('timestamp:1232', 0, 2156, 965)\n",
        "('timestamp:1233', 0, 2156, 965)\n",
        "('timestamp:1234', 0, 2156, 965)\n",
        "('timestamp:1235', 0, 2156, 965)\n",
        "('timestamp:1236', 0, 2156, 965)\n",
        "('timestamp:1237', 0, 2156, 965)"
       ]
      },
      {
       "output_type": "stream",
       "stream": "stdout",
       "text": [
        "\n",
        "('timestamp:1238', 0, 2156, 964)\n",
        "('timestamp:1239', 0, 2156, 963)\n",
        "('timestamp:1240', 0, 2156, 963)\n",
        "('timestamp:1241', 0, 2156, 963)\n",
        "('timestamp:1242', 0, 2156, 963)\n",
        "('timestamp:1243', 0, 2156, 963)\n",
        "('timestamp:1244', 0, 2156, 963)\n",
        "('timestamp:1245', 0, 2156, 963)"
       ]
      },
      {
       "output_type": "stream",
       "stream": "stdout",
       "text": [
        "\n",
        "('timestamp:1246', 0, 2156, 963)\n",
        "('timestamp:1247', 0, 2156, 963)\n",
        "('timestamp:1248', 0, 2156, 963)\n",
        "('timestamp:1249', 0, 2156, 963)\n",
        "('timestamp:1250', 0, 2156, 961)\n",
        "('timestamp:1251', 0, 2156, 961)\n",
        "('timestamp:1252', 0, 2156, 961)\n",
        "('timestamp:1253', 0, 2156, 961)"
       ]
      },
      {
       "output_type": "stream",
       "stream": "stdout",
       "text": [
        "\n",
        "('timestamp:1254', 0, 2156, 961)\n",
        "('timestamp:1255', 0, 2156, 962)\n",
        "('timestamp:1256', 0, 2156, 962)\n",
        "('timestamp:1257', 0, 2156, 962)\n",
        "('timestamp:1258', 0, 2156, 962)\n",
        "('timestamp:1259', 0, 2156, 962)\n",
        "('timestamp:1260', 0, 2156, 961)\n",
        "('timestamp:1261', 0, 2156, 961)"
       ]
      },
      {
       "output_type": "stream",
       "stream": "stdout",
       "text": [
        "\n",
        "('timestamp:1262', 0, 2156, 961)\n",
        "('timestamp:1263', 0, 2156, 961)\n",
        "('timestamp:1264', 0, 2156, 961)\n",
        "('timestamp:1265', 0, 2156, 961)\n",
        "('timestamp:1266', 0, 2156, 961)\n",
        "('timestamp:1267', 0, 2156, 961)\n",
        "('timestamp:1268', 0, 2156, 961)\n",
        "('timestamp:1269', 0, 2156, 961)"
       ]
      },
      {
       "output_type": "stream",
       "stream": "stdout",
       "text": [
        "\n",
        "('timestamp:1270', 0, 2156, 961)\n",
        "('timestamp:1271', 0, 2156, 961)\n",
        "('timestamp:1272', 0, 2156, 960)\n",
        "('timestamp:1273', 0, 2156, 958)\n",
        "('timestamp:1274', 0, 2156, 957)\n",
        "('timestamp:1275', 0, 2156, 957)"
       ]
      },
      {
       "output_type": "stream",
       "stream": "stdout",
       "text": [
        "\n",
        "('timestamp:1276', 0, 2156, 957)\n",
        "('timestamp:1277', 0, 2156, 957)\n",
        "('timestamp:1278', 0, 2156, 957)\n",
        "('timestamp:1279', 0, 2156, 957)\n",
        "('timestamp:1280', 0, 2156, 956)\n",
        "('timestamp:1281', 0, 2156, 956)"
       ]
      },
      {
       "output_type": "stream",
       "stream": "stdout",
       "text": [
        "\n",
        "('timestamp:1282', 0, 2156, 956)\n",
        "('timestamp:1283', 0, 2156, 956)\n",
        "('timestamp:1284', 0, 2156, 956)\n",
        "('timestamp:1285', 0, 2156, 956)\n",
        "('timestamp:1286', 0, 2156, 956)\n",
        "('timestamp:1287', 0, 2156, 956)\n",
        "('timestamp:1288', 0, 2156, 956)"
       ]
      },
      {
       "output_type": "stream",
       "stream": "stdout",
       "text": [
        "\n",
        "('timestamp:1289', 0, 2156, 956)\n",
        "('timestamp:1290', 0, 2156, 971)\n",
        "('timestamp:1291', 0, 2156, 971)\n",
        "('timestamp:1292', 0, 2156, 971)\n",
        "('timestamp:1293', 0, 2156, 971)\n",
        "('timestamp:1294', 0, 2156, 971)\n",
        "('timestamp:1295', 0, 2156, 971)"
       ]
      },
      {
       "output_type": "stream",
       "stream": "stdout",
       "text": [
        "\n",
        "('timestamp:1296', 0, 2156, 970)\n",
        "('timestamp:1297', 0, 2156, 970)\n",
        "('timestamp:1298', 0, 2156, 970)\n",
        "('timestamp:1299', 0, 2156, 970)\n",
        "('timestamp:1300', 0, 2156, 970)\n",
        "('timestamp:1301', 0, 2156, 970)\n",
        "('timestamp:1302', 0, 2156, 968)\n",
        "('timestamp:1303', 0, 2156, 968)"
       ]
      },
      {
       "output_type": "stream",
       "stream": "stdout",
       "text": [
        "\n",
        "('timestamp:1304', 0, 2156, 968)\n",
        "('timestamp:1305', 0, 2156, 968)\n",
        "('timestamp:1306', 0, 2156, 971)\n",
        "('timestamp:1307', 0, 2156, 971)\n",
        "('timestamp:1308', 0, 2156, 970)\n",
        "('timestamp:1309', 0, 2156, 969)\n",
        "('timestamp:1310', 0, 2156, 969)\n",
        "('timestamp:1311', 0, 2156, 969)"
       ]
      },
      {
       "output_type": "stream",
       "stream": "stdout",
       "text": [
        "\n",
        "('timestamp:1312', 0, 2156, 969)\n",
        "('timestamp:1313', 0, 2156, 969)\n",
        "('timestamp:1314', 0, 2156, 969)\n",
        "('timestamp:1315', 0, 2156, 968)\n",
        "('timestamp:1316', 0, 2156, 967)\n",
        "('timestamp:1317', 0, 2156, 967)\n",
        "('timestamp:1318', 0, 2156, 967)\n",
        "('timestamp:1319', 0, 2156, 965)"
       ]
      },
      {
       "output_type": "stream",
       "stream": "stdout",
       "text": [
        "\n",
        "('timestamp:1320', 0, 2156, 965)\n",
        "('timestamp:1321', 0, 2156, 965)\n",
        "('timestamp:1322', 0, 2156, 965)\n",
        "('timestamp:1323', 0, 2156, 965)\n",
        "('timestamp:1324', 0, 2156, 965)\n",
        "('timestamp:1325', 0, 2156, 965)\n",
        "('timestamp:1326', 0, 2156, 965)\n",
        "('timestamp:1327', 0, 2156, 964)"
       ]
      },
      {
       "output_type": "stream",
       "stream": "stdout",
       "text": [
        "\n",
        "('timestamp:1328', 0, 2156, 964)\n",
        "('timestamp:1329', 0, 2156, 964)\n",
        "('timestamp:1330', 0, 2156, 964)\n",
        "('timestamp:1331', 0, 2156, 964)\n",
        "('timestamp:1332', 0, 2156, 963)\n",
        "('timestamp:1333', 0, 2156, 963)\n",
        "('timestamp:1334', 0, 2156, 963)\n",
        "('timestamp:1335', 0, 2156, 963)"
       ]
      },
      {
       "output_type": "stream",
       "stream": "stdout",
       "text": [
        "\n",
        "('timestamp:1336', 0, 2156, 963)\n",
        "('timestamp:1337', 0, 2156, 963)\n",
        "('timestamp:1338', 0, 2156, 962)\n",
        "('timestamp:1339', 0, 2156, 962)\n",
        "('timestamp:1340', 0, 2156, 962)\n",
        "('timestamp:1341', 0, 2156, 959)\n",
        "('timestamp:1342', 0, 2156, 957)\n",
        "('timestamp:1343', 0, 2156, 957)"
       ]
      },
      {
       "output_type": "stream",
       "stream": "stdout",
       "text": [
        "\n",
        "('timestamp:1344', 0, 2156, 956)\n",
        "('timestamp:1345', 0, 2156, 956)\n",
        "('timestamp:1346', 0, 2156, 956)\n",
        "('timestamp:1347', 0, 2156, 955)\n",
        "('timestamp:1348', 0, 2156, 955)\n",
        "('timestamp:1349', 0, 2156, 954)\n",
        "('timestamp:1350', 0, 2156, 954)\n",
        "('timestamp:1351', 0, 2156, 954)"
       ]
      },
      {
       "output_type": "stream",
       "stream": "stdout",
       "text": [
        "\n",
        "('timestamp:1352', 0, 2156, 953)\n",
        "('timestamp:1353', 0, 2156, 953)\n",
        "('timestamp:1354', 0, 2156, 952)\n",
        "('timestamp:1355', 0, 2156, 951)\n",
        "('timestamp:1356', 0, 2156, 951)\n",
        "('timestamp:1357', 0, 2156, 951)\n",
        "('timestamp:1358', 0, 2156, 954)\n",
        "('timestamp:1359', 0, 2156, 954)"
       ]
      },
      {
       "output_type": "stream",
       "stream": "stdout",
       "text": [
        "\n",
        "('timestamp:1360', 0, 2156, 954)\n",
        "('timestamp:1361', 0, 2156, 954)\n",
        "('timestamp:1362', 0, 2156, 952)\n",
        "('timestamp:1363', 0, 2156, 951)\n",
        "('timestamp:1364', 0, 2156, 951)\n",
        "('timestamp:1365', 0, 2156, 951)\n",
        "('timestamp:1366', 0, 2156, 950)\n",
        "('timestamp:1367', 0, 2156, 949)"
       ]
      },
      {
       "output_type": "stream",
       "stream": "stdout",
       "text": [
        "\n",
        "('timestamp:1368', 0, 2156, 946)\n",
        "('timestamp:1369', 0, 2156, 946)\n",
        "('timestamp:1370', 0, 2156, 945)\n",
        "('timestamp:1371', 0, 2156, 945)\n",
        "('timestamp:1372', 0, 2156, 945)\n",
        "('timestamp:1373', 0, 2156, 945)\n",
        "('timestamp:1374', 0, 2156, 945)\n",
        "('timestamp:1375', 0, 2156, 945)"
       ]
      },
      {
       "output_type": "stream",
       "stream": "stdout",
       "text": [
        "\n",
        "('timestamp:1376', 0, 2156, 945)\n",
        "('timestamp:1377', 0, 2156, 945)\n",
        "('timestamp:1378', 0, 2156, 945)\n",
        "('timestamp:1379', 0, 2156, 945)\n",
        "('timestamp:1380', 0, 2156, 945)\n",
        "('timestamp:1381', 0, 2156, 945)\n",
        "('timestamp:1382', 0, 2156, 944)\n",
        "('timestamp:1383', 0, 2156, 944)"
       ]
      },
      {
       "output_type": "stream",
       "stream": "stdout",
       "text": [
        "\n",
        "('timestamp:1384', 0, 2156, 944)\n",
        "('timestamp:1385', 0, 2156, 944)\n",
        "('timestamp:1386', 0, 2156, 942)\n",
        "('timestamp:1387', 0, 2156, 941)\n",
        "('timestamp:1388', 0, 2156, 941)\n",
        "('timestamp:1389', 0, 2156, 941)\n",
        "('timestamp:1390', 0, 2156, 940)\n",
        "('timestamp:1391', 0, 2156, 981)"
       ]
      },
      {
       "output_type": "stream",
       "stream": "stdout",
       "text": [
        "\n",
        "('timestamp:1392', 0, 2156, 981)\n",
        "('timestamp:1393', 0, 2156, 981)\n",
        "('timestamp:1394', 0, 2156, 981)\n",
        "('timestamp:1395', 0, 2156, 981)\n",
        "('timestamp:1396', 0, 2156, 981)\n",
        "('timestamp:1397', 0, 2156, 981)\n",
        "('timestamp:1398', 0, 2156, 981)\n",
        "('timestamp:1399', 0, 2156, 981)"
       ]
      },
      {
       "output_type": "stream",
       "stream": "stdout",
       "text": [
        "\n",
        "('timestamp:1400', 0, 2156, 981)\n",
        "('timestamp:1401', 0, 2156, 981)\n",
        "('timestamp:1402', 0, 2156, 981)\n",
        "('timestamp:1403', 0, 2156, 981)\n",
        "('timestamp:1404', 0, 2156, 981)\n",
        "('timestamp:1405', 0, 2156, 980)\n",
        "('timestamp:1406', 0, 2156, 979)\n",
        "('timestamp:1407', 0, 2156, 978)"
       ]
      },
      {
       "output_type": "stream",
       "stream": "stdout",
       "text": [
        "\n",
        "('timestamp:1408', 0, 2156, 979)\n",
        "('timestamp:1409', 0, 2156, 979)\n",
        "('timestamp:1410', 0, 2156, 979)\n",
        "('timestamp:1411', 0, 2156, 979)\n",
        "('timestamp:1412', 0, 2156, 979)\n",
        "('timestamp:1413', 0, 2156, 979)\n",
        "('timestamp:1414', 0, 2156, 979)\n",
        "('timestamp:1415', 0, 2156, 979)"
       ]
      },
      {
       "output_type": "stream",
       "stream": "stdout",
       "text": [
        "\n",
        "('timestamp:1416', 0, 2156, 979)\n",
        "('timestamp:1417', 0, 2156, 979)\n",
        "('timestamp:1418', 0, 2156, 978)\n",
        "('timestamp:1419', 0, 2156, 978)\n",
        "('timestamp:1420', 0, 2156, 978)\n",
        "('timestamp:1421', 0, 2156, 978)\n",
        "('timestamp:1422', 0, 2156, 977)\n",
        "('timestamp:1423', 0, 2156, 977)"
       ]
      },
      {
       "output_type": "stream",
       "stream": "stdout",
       "text": [
        "\n",
        "('timestamp:1424', 0, 2156, 977)\n",
        "('timestamp:1425', 0, 2156, 976)\n",
        "('timestamp:1426', 0, 2156, 976)\n",
        "('timestamp:1427', 0, 2156, 976)\n",
        "('timestamp:1428', 0, 2156, 976)\n",
        "('timestamp:1429', 0, 2156, 976)\n",
        "('timestamp:1430', 0, 2156, 975)\n",
        "('timestamp:1431', 0, 2156, 975)"
       ]
      },
      {
       "output_type": "stream",
       "stream": "stdout",
       "text": [
        "\n",
        "('timestamp:1432', 0, 2156, 975)\n",
        "('timestamp:1433', 0, 2156, 974)\n",
        "('timestamp:1434', 0, 2156, 974)\n",
        "('timestamp:1435', 0, 2156, 974)\n",
        "('timestamp:1436', 0, 2156, 974)\n",
        "('timestamp:1437', 0, 2156, 974)\n",
        "('timestamp:1438', 0, 2156, 974)\n",
        "('timestamp:1439', 0, 2156, 974)"
       ]
      },
      {
       "output_type": "stream",
       "stream": "stdout",
       "text": [
        "\n",
        "('timestamp:1440', 0, 2156, 974)\n",
        "('timestamp:1441', 0, 2156, 974)\n",
        "('timestamp:1442', 0, 2156, 974)\n",
        "('timestamp:1443', 0, 2156, 974)\n",
        "('timestamp:1444', 0, 2156, 973)\n",
        "('timestamp:1445', 0, 2156, 973)\n",
        "('timestamp:1446', 0, 2156, 973)\n",
        "('timestamp:1447', 0, 2156, 973)"
       ]
      },
      {
       "output_type": "stream",
       "stream": "stdout",
       "text": [
        "\n",
        "('timestamp:1448', 0, 2156, 973)\n",
        "('timestamp:1449', 0, 2156, 973)\n",
        "('timestamp:1450', 0, 2156, 972)\n",
        "('timestamp:1451', 0, 2156, 972)\n",
        "('timestamp:1452', 0, 2156, 972)\n",
        "('timestamp:1453', 0, 2156, 972)\n",
        "('timestamp:1454', 0, 2156, 972)\n",
        "('timestamp:1455', 0, 2156, 972)"
       ]
      },
      {
       "output_type": "stream",
       "stream": "stdout",
       "text": [
        "\n",
        "('timestamp:1456', 0, 2156, 972)\n",
        "('timestamp:1457', 0, 2156, 972)\n",
        "('timestamp:1458', 0, 2156, 972)\n",
        "('timestamp:1459', 0, 2156, 973)\n",
        "('timestamp:1460', 0, 2156, 973)\n",
        "('timestamp:1461', 0, 2156, 972)\n",
        "('timestamp:1462', 0, 2156, 972)\n",
        "('timestamp:1463', 0, 2156, 972)"
       ]
      },
      {
       "output_type": "stream",
       "stream": "stdout",
       "text": [
        "\n",
        "('timestamp:1464', 0, 2156, 972)\n",
        "('timestamp:1465', 0, 2156, 972)\n",
        "('timestamp:1466', 0, 2156, 972)\n",
        "('timestamp:1467', 0, 2156, 972)\n",
        "('timestamp:1468', 0, 2156, 971)\n",
        "('timestamp:1469', 0, 2156, 971)\n",
        "('timestamp:1470', 0, 2156, 971)\n",
        "('timestamp:1471', 0, 2156, 971)"
       ]
      },
      {
       "output_type": "stream",
       "stream": "stdout",
       "text": [
        "\n",
        "('timestamp:1472', 0, 2156, 971)\n",
        "('timestamp:1473', 0, 2156, 971)\n",
        "('timestamp:1474', 0, 2156, 971)\n",
        "('timestamp:1475', 0, 2156, 971)\n",
        "('timestamp:1476', 0, 2156, 971)\n",
        "('timestamp:1477', 0, 2156, 970)\n",
        "('timestamp:1478', 0, 2156, 970)\n",
        "('timestamp:1479', 0, 2156, 969)"
       ]
      },
      {
       "output_type": "stream",
       "stream": "stdout",
       "text": [
        "\n",
        "('timestamp:1480', 0, 2156, 969)\n",
        "('timestamp:1481', 0, 2156, 969)\n",
        "('timestamp:1482', 0, 2156, 969)\n",
        "('timestamp:1483', 0, 2156, 969)\n",
        "('timestamp:1484', 0, 2156, 969)\n",
        "('timestamp:1485', 0, 2156, 969)\n",
        "('timestamp:1486', 0, 2156, 969)\n",
        "('timestamp:1487', 0, 2156, 969)"
       ]
      },
      {
       "output_type": "stream",
       "stream": "stdout",
       "text": [
        "\n",
        "('timestamp:1488', 0, 2156, 969)\n",
        "('timestamp:1489', 0, 2156, 969)\n",
        "('timestamp:1490', 0, 2156, 969)\n",
        "('timestamp:1491', 0, 2156, 969)\n",
        "('timestamp:1492', 0, 2156, 969)\n",
        "('timestamp:1493', 0, 2156, 1030)\n",
        "('timestamp:1494', 0, 2156, 1028)\n",
        "('timestamp:1495', 0, 2156, 1028)"
       ]
      },
      {
       "output_type": "stream",
       "stream": "stdout",
       "text": [
        "\n",
        "('timestamp:1496', 0, 2156, 1028)\n",
        "('timestamp:1497', 0, 2156, 1028)\n",
        "('timestamp:1498', 0, 2156, 1028)\n",
        "('timestamp:1499', 0, 2156, 1027)\n",
        "('timestamp:1500', 0, 2156, 1027)\n",
        "('timestamp:1501', 0, 2156, 1027)\n",
        "('timestamp:1502', 0, 2156, 1027)\n",
        "('timestamp:1503', 0, 2156, 1027)"
       ]
      },
      {
       "output_type": "stream",
       "stream": "stdout",
       "text": [
        "\n",
        "('timestamp:1504', 0, 2156, 1027)\n",
        "('timestamp:1505', 0, 2156, 1027)\n",
        "('timestamp:1506', 0, 2156, 1027)\n",
        "('timestamp:1507', 0, 2156, 1027)\n",
        "('timestamp:1508', 0, 2156, 1027)\n",
        "('timestamp:1509', 0, 2156, 1027)\n",
        "('timestamp:1510', 0, 2156, 1026)\n",
        "('timestamp:1511', 0, 2156, 1027)"
       ]
      },
      {
       "output_type": "stream",
       "stream": "stdout",
       "text": [
        "\n",
        "('timestamp:1512', 0, 2156, 1027)\n",
        "('timestamp:1513', 0, 2156, 1027)\n",
        "('timestamp:1514', 0, 2156, 1027)\n",
        "('timestamp:1515', 0, 2156, 1027)\n",
        "('timestamp:1516', 0, 2156, 1027)\n",
        "('timestamp:1517', 0, 2156, 1027)\n",
        "('timestamp:1518', 0, 2156, 1027)\n",
        "('timestamp:1519', 0, 2156, 1027)"
       ]
      },
      {
       "output_type": "stream",
       "stream": "stdout",
       "text": [
        "\n",
        "('timestamp:1520', 0, 2156, 1027)\n",
        "('timestamp:1521', 0, 2156, 1027)\n",
        "('timestamp:1522', 0, 2156, 1026)\n",
        "('timestamp:1523', 0, 2156, 1026)\n",
        "('timestamp:1524', 0, 2156, 1025)\n",
        "('timestamp:1525', 0, 2156, 1025)\n",
        "('timestamp:1526', 0, 2156, 1025)\n",
        "('timestamp:1527', 0, 2156, 1025)"
       ]
      },
      {
       "output_type": "stream",
       "stream": "stdout",
       "text": [
        "\n",
        "('timestamp:1528', 0, 2156, 1026)\n",
        "('timestamp:1529', 0, 2156, 1026)\n",
        "('timestamp:1530', 0, 2156, 1026)\n",
        "('timestamp:1531', 0, 2156, 1026)\n",
        "('timestamp:1532', 0, 2156, 1026)\n",
        "('timestamp:1533', 0, 2156, 1026)\n",
        "('timestamp:1534', 0, 2156, 1026)\n",
        "('timestamp:1535', 0, 2156, 1026)"
       ]
      },
      {
       "output_type": "stream",
       "stream": "stdout",
       "text": [
        "\n",
        "('timestamp:1536', 0, 2156, 1026)\n",
        "('timestamp:1537', 0, 2156, 1025)\n",
        "('timestamp:1538', 0, 2156, 1025)\n",
        "('timestamp:1539', 0, 2156, 1024)\n",
        "('timestamp:1540', 0, 2156, 1024)\n",
        "('timestamp:1541', 0, 2156, 1024)\n",
        "('timestamp:1542', 0, 2156, 1024)\n",
        "('timestamp:1543', 0, 2156, 1023)"
       ]
      },
      {
       "output_type": "stream",
       "stream": "stdout",
       "text": [
        "\n",
        "('timestamp:1544', 0, 2156, 1023)\n",
        "('timestamp:1545', 0, 2156, 1023)\n",
        "('timestamp:1546', 0, 2156, 1022)\n",
        "('timestamp:1547', 0, 2156, 1022)\n",
        "('timestamp:1548', 0, 2156, 1022)\n",
        "('timestamp:1549', 0, 2156, 1022)\n",
        "('timestamp:1550', 0, 2156, 1022)"
       ]
      },
      {
       "output_type": "stream",
       "stream": "stdout",
       "text": [
        "\n",
        "('timestamp:1551', 0, 2156, 1022)\n",
        "('timestamp:1552', 0, 2156, 1022)\n",
        "('timestamp:1553', 0, 2156, 1022)\n",
        "('timestamp:1554', 0, 2156, 1022)\n",
        "('timestamp:1555', 0, 2156, 1021)"
       ]
      },
      {
       "output_type": "stream",
       "stream": "stdout",
       "text": [
        "\n",
        "('timestamp:1556', 0, 2156, 1021)\n",
        "('timestamp:1557', 0, 2156, 1021)\n",
        "('timestamp:1558', 0, 2156, 1021)\n",
        "('timestamp:1559', 0, 2156, 1020)\n",
        "('timestamp:1560', 0, 2156, 1019)"
       ]
      },
      {
       "output_type": "stream",
       "stream": "stdout",
       "text": [
        "\n",
        "('timestamp:1561', 0, 2156, 1024)\n",
        "('timestamp:1562', 0, 2156, 1023)\n",
        "('timestamp:1563', 0, 2156, 1022)\n",
        "('timestamp:1564', 0, 2156, 1022)\n",
        "('timestamp:1565', 0, 2156, 1022)\n",
        "('timestamp:1566', 0, 2156, 1022)\n",
        "('timestamp:1567', 0, 2156, 1022)\n",
        "('timestamp:1568', 0, 2156, 1022)"
       ]
      },
      {
       "output_type": "stream",
       "stream": "stdout",
       "text": [
        "\n",
        "('timestamp:1569', 0, 2156, 1022)\n",
        "('timestamp:1570', 0, 2156, 1022)\n",
        "('timestamp:1571', 0, 2156, 1021)\n",
        "('timestamp:1572', 0, 2156, 1020)\n",
        "('timestamp:1573', 0, 2156, 1020)\n",
        "('timestamp:1574', 0, 2156, 1020)\n",
        "('timestamp:1575', 0, 2156, 1020)\n",
        "('timestamp:1576', 0, 2156, 1019)"
       ]
      },
      {
       "output_type": "stream",
       "stream": "stdout",
       "text": [
        "\n",
        "('timestamp:1577', 0, 2156, 1018)\n",
        "('timestamp:1578', 0, 2156, 1018)\n",
        "('timestamp:1579', 0, 2156, 1019)\n",
        "('timestamp:1580', 0, 2156, 1019)\n",
        "('timestamp:1581', 0, 2156, 1018)\n",
        "('timestamp:1582', 0, 2156, 1018)\n",
        "('timestamp:1583', 0, 2156, 1018)\n",
        "('timestamp:1584', 0, 2156, 1018)"
       ]
      },
      {
       "output_type": "stream",
       "stream": "stdout",
       "text": [
        "\n",
        "('timestamp:1585', 0, 2156, 1018)\n",
        "('timestamp:1586', 0, 2156, 1018)\n",
        "('timestamp:1587', 0, 2156, 1018)\n",
        "('timestamp:1588', 0, 2156, 1018)\n",
        "('timestamp:1589', 0, 2156, 1018)\n",
        "('timestamp:1590', 0, 2156, 1018)\n",
        "('timestamp:1591', 0, 2156, 1018)\n",
        "('timestamp:1592', 0, 2156, 1018)"
       ]
      },
      {
       "output_type": "stream",
       "stream": "stdout",
       "text": [
        "\n",
        "('timestamp:1593', 0, 2156, 1018)\n",
        "('timestamp:1594', 0, 2156, 1017)\n",
        "('timestamp:1595', 0, 2156, 1070)\n",
        "('timestamp:1596', 0, 2156, 1063)\n",
        "('timestamp:1597', 0, 2156, 1063)\n",
        "('timestamp:1598', 0, 2156, 1063)\n",
        "('timestamp:1599', 0, 2156, 1063)\n",
        "('timestamp:1600', 0, 2156, 1063)"
       ]
      },
      {
       "output_type": "stream",
       "stream": "stdout",
       "text": [
        "\n",
        "('timestamp:1601', 0, 2156, 1063)\n",
        "('timestamp:1602', 0, 2156, 1063)\n",
        "('timestamp:1603', 0, 2156, 1063)\n",
        "('timestamp:1604', 0, 2156, 1063)\n",
        "('timestamp:1605', 0, 2156, 1063)\n",
        "('timestamp:1606', 0, 2156, 1063)\n",
        "('timestamp:1607', 0, 2156, 1063)\n",
        "('timestamp:1608', 0, 2156, 1063)"
       ]
      },
      {
       "output_type": "stream",
       "stream": "stdout",
       "text": [
        "\n",
        "('timestamp:1609', 0, 2156, 1063)\n",
        "('timestamp:1610', 0, 2156, 1063)\n",
        "('timestamp:1611', 0, 2156, 1063)\n",
        "('timestamp:1612', 0, 2156, 1063)\n",
        "('timestamp:1613', 0, 2156, 1063)\n",
        "('timestamp:1614', 0, 2156, 1063)\n",
        "('timestamp:1615', 0, 2156, 1063)\n",
        "('timestamp:1616', 0, 2156, 1063)"
       ]
      },
      {
       "output_type": "stream",
       "stream": "stdout",
       "text": [
        "\n",
        "('timestamp:1617', 0, 2156, 1063)\n",
        "('timestamp:1618', 0, 2156, 1063)\n",
        "('timestamp:1619', 0, 2156, 1063)\n",
        "('timestamp:1620', 0, 2156, 1063)\n",
        "('timestamp:1621', 0, 2156, 1063)\n",
        "('timestamp:1622', 0, 2156, 1063)\n",
        "('timestamp:1623', 0, 2156, 1063)\n",
        "('timestamp:1624', 0, 2156, 1063)"
       ]
      },
      {
       "output_type": "stream",
       "stream": "stdout",
       "text": [
        "\n",
        "('timestamp:1625', 0, 2156, 1063)\n",
        "('timestamp:1626', 0, 2156, 1063)\n",
        "('timestamp:1627', 0, 2156, 1063)\n",
        "('timestamp:1628', 0, 2156, 1063)\n",
        "('timestamp:1629', 0, 2156, 1062)\n",
        "('timestamp:1630', 0, 2156, 1062)\n",
        "('timestamp:1631', 0, 2156, 1062)\n",
        "('timestamp:1632', 0, 2156, 1062)"
       ]
      },
      {
       "output_type": "stream",
       "stream": "stdout",
       "text": [
        "\n",
        "('timestamp:1633', 0, 2156, 1062)\n",
        "('timestamp:1634', 0, 2156, 1062)\n",
        "('timestamp:1635', 0, 2156, 1062)\n",
        "('timestamp:1636', 0, 2156, 1062)\n",
        "('timestamp:1637', 0, 2156, 1062)\n",
        "('timestamp:1638', 0, 2156, 1062)\n",
        "('timestamp:1639', 0, 2156, 1062)\n",
        "('timestamp:1640', 0, 2156, 1062)"
       ]
      },
      {
       "output_type": "stream",
       "stream": "stdout",
       "text": [
        "\n",
        "('timestamp:1641', 0, 2156, 1062)\n",
        "('timestamp:1642', 0, 2156, 1062)\n",
        "('timestamp:1643', 0, 2156, 1062)\n",
        "('timestamp:1644', 0, 2156, 1062)\n",
        "('timestamp:1645', 0, 2156, 1061)\n",
        "('timestamp:1646', 0, 2156, 1079)\n",
        "('timestamp:1647', 0, 2156, 1079)"
       ]
      },
      {
       "output_type": "stream",
       "stream": "stdout",
       "text": [
        "\n",
        "('timestamp:1648', 0, 2156, 1078)\n",
        "('timestamp:1649', 0, 2156, 1078)\n",
        "('timestamp:1650', 0, 2156, 1078)\n",
        "('timestamp:1651', 0, 2156, 1078)\n",
        "('timestamp:1652', 0, 2156, 1078)\n",
        "('timestamp:1653', 0, 2156, 1078)\n",
        "('timestamp:1654', 0, 2156, 1078)\n",
        "('timestamp:1655', 0, 2156, 1078)"
       ]
      },
      {
       "output_type": "stream",
       "stream": "stdout",
       "text": [
        "\n",
        "('timestamp:1656', 0, 2156, 1078)\n",
        "('timestamp:1657', 0, 2156, 1078)\n",
        "('timestamp:1658', 0, 2156, 1078)\n",
        "('timestamp:1659', 0, 2156, 1078)\n",
        "('timestamp:1660', 0, 2156, 1078)\n",
        "('timestamp:1661', 0, 2156, 1078)\n",
        "('timestamp:1662', 0, 2156, 1078)\n",
        "('timestamp:1663', 0, 2158, 1080)"
       ]
      },
      {
       "output_type": "stream",
       "stream": "stdout",
       "text": [
        "\n",
        "('timestamp:1664', 0, 2158, 1080)\n",
        "('timestamp:1665', 0, 2158, 1080)\n",
        "('timestamp:1666', 0, 2158, 1080)\n",
        "('timestamp:1667', 0, 2158, 1080)\n",
        "('timestamp:1668', 0, 2158, 1080)\n",
        "('timestamp:1669', 0, 2158, 1080)\n",
        "('timestamp:1670', 0, 2158, 1080)"
       ]
      },
      {
       "output_type": "stream",
       "stream": "stdout",
       "text": [
        "\n",
        "('timestamp:1671', 0, 2158, 1080)\n",
        "('timestamp:1672', 0, 2158, 1080)\n",
        "('timestamp:1673', 0, 2158, 1080)\n",
        "('timestamp:1674', 0, 2158, 1080)\n",
        "('timestamp:1675', 0, 2158, 1074)\n",
        "('timestamp:1676', 0, 2158, 1074)\n",
        "('timestamp:1677', 0, 2158, 1074)"
       ]
      },
      {
       "output_type": "stream",
       "stream": "stdout",
       "text": [
        "\n",
        "('timestamp:1678', 0, 2158, 1074)\n",
        "('timestamp:1679', 0, 2158, 1074)\n",
        "('timestamp:1680', 0, 2158, 1074)\n",
        "('timestamp:1681', 0, 2158, 1073)\n",
        "('timestamp:1682', 0, 2158, 1073)\n",
        "('timestamp:1683', 0, 2158, 1072)\n",
        "('timestamp:1684', 0, 2158, 1071)\n",
        "('timestamp:1685', 0, 2158, 1071)"
       ]
      },
      {
       "output_type": "stream",
       "stream": "stdout",
       "text": [
        "\n",
        "('timestamp:1686', 0, 2158, 1071)\n",
        "('timestamp:1687', 0, 2158, 1071)\n",
        "('timestamp:1688', 0, 2158, 1071)\n",
        "('timestamp:1689', 0, 2158, 1071)\n",
        "('timestamp:1690', 0, 2158, 1071)\n",
        "('timestamp:1691', 0, 2158, 1071)\n",
        "('timestamp:1692', 0, 2158, 1071)\n",
        "('timestamp:1693', 0, 2158, 1071)"
       ]
      },
      {
       "output_type": "stream",
       "stream": "stdout",
       "text": [
        "\n",
        "('timestamp:1694', 0, 2158, 1071)\n",
        "('timestamp:1695', 0, 2158, 1071)\n",
        "('timestamp:1696', 0, 2158, 1071)\n",
        "('timestamp:1697', 0, 2158, 1071)\n",
        "('timestamp:1698', 0, 2158, 1086)\n",
        "('timestamp:1699', 0, 2158, 1086)\n",
        "('timestamp:1700', 0, 2158, 1086)"
       ]
      },
      {
       "output_type": "stream",
       "stream": "stdout",
       "text": [
        "\n",
        "('timestamp:1701', 0, 2158, 1086)\n",
        "('timestamp:1702', 0, 2158, 1086)\n",
        "('timestamp:1703', 0, 2158, 1086)\n",
        "('timestamp:1704', 0, 2158, 1086)\n",
        "('timestamp:1705', 0, 2158, 1086)\n",
        "('timestamp:1706', 0, 2158, 1086)\n",
        "('timestamp:1707', 0, 2158, 1085)\n",
        "('timestamp:1708', 0, 2158, 1085)"
       ]
      },
      {
       "output_type": "stream",
       "stream": "stdout",
       "text": [
        "\n",
        "('timestamp:1709', 0, 2158, 1085)\n",
        "('timestamp:1710', 0, 2158, 1084)\n",
        "('timestamp:1711', 0, 2158, 1083)\n",
        "('timestamp:1712', 0, 2158, 1083)\n",
        "('timestamp:1713', 0, 2158, 1083)\n",
        "('timestamp:1714', 0, 2158, 1083)\n",
        "('timestamp:1715', 0, 2158, 1082)"
       ]
      },
      {
       "output_type": "stream",
       "stream": "stdout",
       "text": [
        "\n",
        "('timestamp:1716', 0, 2158, 1082)\n",
        "('timestamp:1717', 0, 2158, 1082)\n",
        "('timestamp:1718', 0, 2158, 1082)\n",
        "('timestamp:1719', 0, 2158, 1082)\n",
        "('timestamp:1720', 0, 2158, 1082)\n",
        "('timestamp:1721', 0, 2158, 1082)\n",
        "('timestamp:1722', 0, 2158, 1082)\n",
        "('timestamp:1723', 0, 2158, 1082)"
       ]
      },
      {
       "output_type": "stream",
       "stream": "stdout",
       "text": [
        "\n",
        "('timestamp:1724', 0, 2158, 1082)\n",
        "('timestamp:1725', 0, 2158, 1081)\n",
        "('timestamp:1726', 0, 2158, 1080)\n",
        "('timestamp:1727', 0, 2158, 1080)\n",
        "('timestamp:1728', 0, 2158, 1080)\n",
        "('timestamp:1729', 0, 2158, 1080)\n",
        "('timestamp:1730', 0, 2158, 1080)\n",
        "('timestamp:1731', 0, 2158, 1080)"
       ]
      },
      {
       "output_type": "stream",
       "stream": "stdout",
       "text": [
        "\n",
        "('timestamp:1732', 0, 2158, 1080)\n",
        "('timestamp:1733', 0, 2158, 1079)\n",
        "('timestamp:1734', 0, 2158, 1079)\n",
        "('timestamp:1735', 0, 2158, 1079)\n",
        "('timestamp:1736', 0, 2158, 1078)\n",
        "('timestamp:1737', 0, 2158, 1078)\n",
        "('timestamp:1738', 0, 2158, 1078)\n",
        "('timestamp:1739', 0, 2158, 1078)"
       ]
      },
      {
       "output_type": "stream",
       "stream": "stdout",
       "text": [
        "\n",
        "('timestamp:1740', 0, 2158, 1078)\n",
        "('timestamp:1741', 0, 2158, 1078)\n",
        "('timestamp:1742', 0, 2158, 1078)\n",
        "('timestamp:1743', 0, 2158, 1078)\n",
        "('timestamp:1744', 0, 2158, 1078)\n",
        "('timestamp:1745', 0, 2158, 1078)\n",
        "('timestamp:1746', 0, 2158, 1078)\n",
        "('timestamp:1747', 0, 2158, 1078)"
       ]
      },
      {
       "output_type": "stream",
       "stream": "stdout",
       "text": [
        "\n",
        "('timestamp:1748', 0, 2158, 1078)\n",
        "('timestamp:1749', 0, 2158, 1078)\n",
        "('timestamp:1750', 0, 2158, 1076)\n",
        "('timestamp:1751', 0, 2158, 1076)\n",
        "('timestamp:1752', 0, 2158, 1076)\n",
        "('timestamp:1753', 0, 2158, 1076)\n",
        "('timestamp:1754', 0, 2158, 1076)\n",
        "('timestamp:1755', 0, 2158, 1076)"
       ]
      },
      {
       "output_type": "stream",
       "stream": "stdout",
       "text": [
        "\n",
        "('timestamp:1756', 0, 2158, 1076)\n",
        "('timestamp:1757', 0, 2158, 1076)\n",
        "('timestamp:1758', 0, 2158, 1075)\n",
        "('timestamp:1759', 0, 2158, 1075)\n",
        "('timestamp:1760', 0, 2158, 1074)\n",
        "('timestamp:1761', 0, 2158, 1074)\n",
        "('timestamp:1762', 0, 2158, 1074)\n",
        "('timestamp:1763', 0, 2158, 1074)"
       ]
      },
      {
       "output_type": "stream",
       "stream": "stdout",
       "text": [
        "\n",
        "('timestamp:1764', 0, 2158, 1073)\n",
        "('timestamp:1765', 0, 2158, 1073)\n",
        "('timestamp:1766', 0, 2158, 1074)\n",
        "('timestamp:1767', 0, 2158, 1073)\n",
        "('timestamp:1768', 0, 2158, 1073)\n",
        "('timestamp:1769', 0, 2158, 1073)\n",
        "('timestamp:1770', 0, 2158, 1073)\n",
        "('timestamp:1771', 0, 2158, 1072)"
       ]
      },
      {
       "output_type": "stream",
       "stream": "stdout",
       "text": [
        "\n",
        "('timestamp:1772', 0, 2158, 1072)\n",
        "('timestamp:1773', 0, 2158, 1072)\n",
        "('timestamp:1774', 0, 2158, 1072)\n",
        "('timestamp:1775', 0, 2158, 1072)\n",
        "('timestamp:1776', 0, 2158, 1072)\n",
        "('timestamp:1777', 0, 2158, 1072)\n",
        "('timestamp:1778', 0, 2158, 1072)\n",
        "('timestamp:1779', 0, 2158, 1072)"
       ]
      },
      {
       "output_type": "stream",
       "stream": "stdout",
       "text": [
        "\n",
        "('timestamp:1780', 0, 2158, 1072)\n",
        "('timestamp:1781', 0, 2158, 1072)\n",
        "('timestamp:1782', 0, 2158, 1073)\n",
        "('timestamp:1783', 0, 2158, 1073)\n",
        "('timestamp:1784', 0, 2158, 1073)\n",
        "('timestamp:1785', 0, 2158, 1073)\n",
        "('timestamp:1786', 0, 2158, 1073)\n",
        "('timestamp:1787', 0, 2158, 1073)"
       ]
      },
      {
       "output_type": "stream",
       "stream": "stdout",
       "text": [
        "\n",
        "('timestamp:1788', 0, 2158, 1073)\n",
        "('timestamp:1789', 0, 2158, 1072)\n",
        "('timestamp:1790', 0, 2158, 1072)\n",
        "('timestamp:1791', 0, 2158, 1072)\n",
        "('timestamp:1792', 0, 2158, 1072)\n",
        "('timestamp:1793', 0, 2158, 1072)\n",
        "('timestamp:1794', 0, 2158, 1073)\n",
        "('timestamp:1795', 0, 2158, 1073)"
       ]
      },
      {
       "output_type": "stream",
       "stream": "stdout",
       "text": [
        "\n",
        "('timestamp:1796', 0, 2158, 1073)\n",
        "('timestamp:1797', 0, 2158, 1073)\n",
        "('timestamp:1798', 0, 2158, 1073)\n",
        "('timestamp:1799', 0, 2158, 1084)\n",
        "('timestamp:1800', 0, 2158, 1084)\n",
        "('timestamp:1801', 0, 2158, 1084)\n",
        "('timestamp:1802', 0, 2158, 1084)\n",
        "('timestamp:1803', 0, 2158, 1084)"
       ]
      },
      {
       "output_type": "stream",
       "stream": "stdout",
       "text": [
        "\n",
        "('timestamp:1804', 0, 2158, 1084)\n",
        "('timestamp:1805', 0, 2158, 1084)\n",
        "('timestamp:1806', 0, 2158, 1084)\n",
        "('timestamp:1807', 0, 2158, 1084)\n",
        "('timestamp:1808', 0, 2158, 1084)\n",
        "('timestamp:1809', 0, 2158, 1084)\n",
        "('timestamp:1810', 0, 2158, 1084)"
       ]
      },
      {
       "output_type": "stream",
       "stream": "stdout",
       "text": [
        "\n",
        "('timestamp:1811', 0, 2158, 1086)\n",
        "('timestamp:1812', 0, 2158, 1086)\n"
       ]
      }
     ],
     "prompt_number": 32
    },
    {
     "cell_type": "code",
     "collapsed": false,
     "input": [
      "unique_ids = list(ndf[\"id\"].unique())\n",
      "(min(unique_ids), max(unique_ids))"
     ],
     "language": "python",
     "metadata": {},
     "outputs": [
      {
       "metadata": {},
       "output_type": "pyout",
       "prompt_number": 33,
       "text": [
        "(0, 2158)"
       ]
      }
     ],
     "prompt_number": 33
    },
    {
     "cell_type": "code",
     "collapsed": true,
     "input": [
      "#print sum of y values for all securities at each timestamp\n",
      "for tstamp in range(1813):\n",
      "    unique_ids = list(ndf['id'].loc[ndf.timestamp==tstamp].unique())\n",
      "    print('timestamp:'+str(tstamp),min(unique_ids), max(unique_ids),len(unique_ids),ndf['y'].loc[ndf.timestamp==tstamp].sum())\n",
      "#ndf['y'].loc[ndf.timestamp==0].sum()"
     ],
     "language": "python",
     "metadata": {},
     "outputs": [
      {
       "output_type": "stream",
       "stream": "stdout",
       "text": [
        "('timestamp:0', 10, 2156, 750, -1.4024982)\n",
        "('timestamp:1', 10, 2156, 750, 0.37550163)\n",
        "('timestamp:2', 10, 2156, 750, -4.340066)\n",
        "('timestamp:3', 10, 2156, 750, 1.2246002)"
       ]
      },
      {
       "output_type": "stream",
       "stream": "stdout",
       "text": [
        "\n",
        "('timestamp:4', 10, 2156, 750, -3.2315485)\n",
        "('timestamp:5', 10, 2156, 750, 2.811105)\n",
        "('timestamp:6', 10, 2156, 750, -4.9947519)"
       ]
      },
      {
       "output_type": "stream",
       "stream": "stdout",
       "text": [
        "\n",
        "('timestamp:7', 10, 2156, 750, -2.6757972)\n",
        "('timestamp:8', 10, 2156, 750, 3.9809937)\n",
        "('timestamp:9', 10, 2156, 750, 3.4455488)"
       ]
      },
      {
       "output_type": "stream",
       "stream": "stdout",
       "text": [
        "\n",
        "('timestamp:10', 10, 2156, 750, -3.4283891)\n",
        "('timestamp:11', 10, 2156, 750, -4.3172336)\n",
        "('timestamp:12', 10, 2156, 749, -7.2590237)"
       ]
      },
      {
       "output_type": "stream",
       "stream": "stdout",
       "text": [
        "\n",
        "('timestamp:13', 10, 2156, 749, 0.25481856)\n",
        "('timestamp:14', 10, 2156, 749, 0.58908123)\n",
        "('timestamp:15', 10, 2156, 749, 0.33776706)"
       ]
      },
      {
       "output_type": "stream",
       "stream": "stdout",
       "text": [
        "\n",
        "('timestamp:16', 10, 2156, 748, -4.3288698)\n",
        "('timestamp:17', 10, 2156, 748, -3.7906275)\n",
        "('timestamp:18', 10, 2156, 747, 0.10117412)"
       ]
      },
      {
       "output_type": "stream",
       "stream": "stdout",
       "text": [
        "\n",
        "('timestamp:19', 10, 2156, 747, 7.8671894)\n",
        "('timestamp:20', 10, 2156, 747, -3.5979671)\n",
        "('timestamp:21', 10, 2156, 747, 3.1231556)"
       ]
      },
      {
       "output_type": "stream",
       "stream": "stdout",
       "text": [
        "\n",
        "('timestamp:22', 10, 2156, 747, 6.2088146)\n",
        "('timestamp:23', 10, 2156, 747, 1.188248)\n",
        "('timestamp:24', 10, 2156, 746, 2.0276542)"
       ]
      },
      {
       "output_type": "stream",
       "stream": "stdout",
       "text": [
        "\n",
        "('timestamp:25', 10, 2156, 745, -3.5882647)\n",
        "('timestamp:26', 10, 2156, 745, 0.33755046)\n",
        "('timestamp:27', 10, 2156, 744, 0.052710533)"
       ]
      },
      {
       "output_type": "stream",
       "stream": "stdout",
       "text": [
        "\n",
        "('timestamp:28', 10, 2156, 744, -0.42965344)\n",
        "('timestamp:29', 10, 2156, 744, -1.797174)\n",
        "('timestamp:30', 10, 2156, 744, 2.1451702)"
       ]
      },
      {
       "output_type": "stream",
       "stream": "stdout",
       "text": [
        "\n",
        "('timestamp:31', 10, 2156, 744, 1.3822609)\n",
        "('timestamp:32', 10, 2156, 744, 7.0373526)\n",
        "('timestamp:33', 10, 2156, 744, -2.7594023)"
       ]
      },
      {
       "output_type": "stream",
       "stream": "stdout",
       "text": [
        "\n",
        "('timestamp:34', 10, 2156, 744, 1.9969933)\n",
        "('timestamp:35', 10, 2156, 744, -1.8457367)\n",
        "('timestamp:36', 10, 2156, 744, 0.64861321)"
       ]
      },
      {
       "output_type": "stream",
       "stream": "stdout",
       "text": [
        "\n",
        "('timestamp:37', 10, 2156, 744, -1.3978596)\n",
        "('timestamp:38', 10, 2156, 744, 2.0768306)\n",
        "('timestamp:39', 10, 2156, 744, 1.1757859)"
       ]
      },
      {
       "output_type": "stream",
       "stream": "stdout",
       "text": [
        "\n",
        "('timestamp:40', 10, 2156, 744, 3.4534786)\n",
        "('timestamp:41', 10, 2156, 744, -0.15602052)\n",
        "('timestamp:42', 10, 2156, 744, 8.1194324)"
       ]
      },
      {
       "output_type": "stream",
       "stream": "stdout",
       "text": [
        "\n",
        "('timestamp:43', 10, 2156, 744, 0.049597606)\n",
        "('timestamp:44', 10, 2156, 744, 5.602417)"
       ]
      },
      {
       "output_type": "stream",
       "stream": "stdout",
       "text": [
        "\n",
        "('timestamp:45', 10, 2156, 745, -0.04153505)\n",
        "('timestamp:46', 10, 2156, 745, 4.4830709)\n",
        "('timestamp:47', 10, 2156, 745, -4.2976809)"
       ]
      },
      {
       "output_type": "stream",
       "stream": "stdout",
       "text": [
        "\n",
        "('timestamp:48', 10, 2156, 745, -3.9565506)\n",
        "('timestamp:49', 10, 2156, 742, 4.0455389)\n",
        "('timestamp:50', 10, 2156, 741, 2.3803973)"
       ]
      },
      {
       "output_type": "stream",
       "stream": "stdout",
       "text": [
        "\n",
        "('timestamp:51', 10, 2156, 741, -1.0342689)\n",
        "('timestamp:52', 10, 2156, 740, 1.6583354)\n",
        "('timestamp:53', 10, 2156, 740, -0.41905066)"
       ]
      },
      {
       "output_type": "stream",
       "stream": "stdout",
       "text": [
        "\n",
        "('timestamp:54', 10, 2156, 740, -3.4656699)\n",
        "('timestamp:55', 10, 2156, 740, -1.1195024)\n",
        "('timestamp:56', 10, 2156, 740, -5.3348398)"
       ]
      },
      {
       "output_type": "stream",
       "stream": "stdout",
       "text": [
        "\n",
        "('timestamp:57', 10, 2156, 740, 1.749491)\n",
        "('timestamp:58', 10, 2156, 740, -2.9910078)\n",
        "('timestamp:59', 10, 2156, 740, -2.6887133)"
       ]
      },
      {
       "output_type": "stream",
       "stream": "stdout",
       "text": [
        "\n",
        "('timestamp:60', 10, 2156, 739, 2.1767991)\n",
        "('timestamp:61', 10, 2156, 739, -3.9931304)\n",
        "('timestamp:62', 10, 2156, 738, 0.72091848)"
       ]
      },
      {
       "output_type": "stream",
       "stream": "stdout",
       "text": [
        "\n",
        "('timestamp:63', 10, 2156, 738, 2.9116538)\n",
        "('timestamp:64', 10, 2156, 738, 5.4193234)\n",
        "('timestamp:65', 10, 2156, 738, 0.99781144)"
       ]
      },
      {
       "output_type": "stream",
       "stream": "stdout",
       "text": [
        "\n",
        "('timestamp:66', 10, 2156, 738, 8.416317)\n",
        "('timestamp:67', 10, 2156, 738, -6.7985253)\n",
        "('timestamp:68', 10, 2156, 824, 0.22698316)"
       ]
      },
      {
       "output_type": "stream",
       "stream": "stdout",
       "text": [
        "\n",
        "('timestamp:69', 10, 2156, 824, 0.68462759)\n",
        "('timestamp:70', 10, 2156, 824, -4.5639629)\n",
        "('timestamp:71', 10, 2156, 824, 0.027430996)"
       ]
      },
      {
       "output_type": "stream",
       "stream": "stdout",
       "text": [
        "\n",
        "('timestamp:72', 10, 2156, 824, -0.82951623)\n",
        "('timestamp:73', 10, 2156, 823, -1.3267517)\n",
        "('timestamp:74', 10, 2156, 823, 0.68905777)"
       ]
      },
      {
       "output_type": "stream",
       "stream": "stdout",
       "text": [
        "\n",
        "('timestamp:75', 10, 2156, 823, -1.0834336)\n",
        "('timestamp:76', 10, 2156, 823, 1.2002285)\n",
        "('timestamp:77', 10, 2156, 821, 4.296216)"
       ]
      },
      {
       "output_type": "stream",
       "stream": "stdout",
       "text": [
        "\n",
        "('timestamp:78', 10, 2156, 821, -2.8025889)\n",
        "('timestamp:79', 10, 2156, 821, -2.6697421)\n",
        "('timestamp:80', 10, 2156, 821, 5.6672378)"
       ]
      },
      {
       "output_type": "stream",
       "stream": "stdout",
       "text": [
        "\n",
        "('timestamp:81', 10, 2156, 821, 1.9439313)\n",
        "('timestamp:82', 10, 2156, 821, 0.58154422)\n",
        "('timestamp:83', 10, 2156, 821, -0.77387738)"
       ]
      },
      {
       "output_type": "stream",
       "stream": "stdout",
       "text": [
        "\n",
        "('timestamp:84', 10, 2156, 819, 1.8433912)\n",
        "('timestamp:85', 10, 2156, 819, -0.23876998)\n",
        "('timestamp:86', 10, 2156, 818, -0.37144983)"
       ]
      },
      {
       "output_type": "stream",
       "stream": "stdout",
       "text": [
        "\n",
        "('timestamp:87', 10, 2156, 818, 0.0024297833)\n",
        "('timestamp:88', 10, 2156, 818, -1.1696196)\n",
        "('timestamp:89', 10, 2156, 818, -1.8894717)"
       ]
      },
      {
       "output_type": "stream",
       "stream": "stdout",
       "text": [
        "\n",
        "('timestamp:90', 10, 2156, 818, 3.3703628)\n",
        "('timestamp:91', 10, 2156, 818, 0.017267853)\n",
        "('timestamp:92', 10, 2156, 818, -1.7202268)"
       ]
      },
      {
       "output_type": "stream",
       "stream": "stdout",
       "text": [
        "\n",
        "('timestamp:93', 10, 2156, 818, 2.3789141)\n",
        "('timestamp:94', 10, 2156, 818, -3.6110926)\n",
        "('timestamp:95', 10, 2156, 818, 1.1658176)"
       ]
      },
      {
       "output_type": "stream",
       "stream": "stdout",
       "text": [
        "\n",
        "('timestamp:96', 10, 2156, 818, -0.55959034)\n",
        "('timestamp:97', 10, 2156, 818, -1.2053128)\n",
        "('timestamp:98', 10, 2156, 818, 3.1293802)"
       ]
      },
      {
       "output_type": "stream",
       "stream": "stdout",
       "text": [
        "\n",
        "('timestamp:99', 10, 2156, 816, 3.5761805)\n",
        "('timestamp:100', 10, 2156, 815, 2.1643617)\n",
        "('timestamp:101', 10, 2156, 815, 1.7955098)"
       ]
      },
      {
       "output_type": "stream",
       "stream": "stdout",
       "text": [
        "\n",
        "('timestamp:102', 10, 2156, 815, -6.8819742)\n",
        "('timestamp:103', 10, 2156, 815, 2.1892452)\n",
        "('timestamp:104', 10, 2156, 815, 0.37352321)"
       ]
      },
      {
       "output_type": "stream",
       "stream": "stdout",
       "text": [
        "\n",
        "('timestamp:105', 10, 2156, 815, -7.893672)\n",
        "('timestamp:106', 10, 2156, 813, -5.4528475)\n",
        "('timestamp:107', 10, 2156, 813, -6.3702335)"
       ]
      },
      {
       "output_type": "stream",
       "stream": "stdout",
       "text": [
        "\n",
        "('timestamp:108', 10, 2156, 813, -3.0284777)\n",
        "('timestamp:109', 10, 2156, 813, -0.70582104)\n",
        "('timestamp:110', 10, 2156, 813, -2.2833834)"
       ]
      },
      {
       "output_type": "stream",
       "stream": "stdout",
       "text": [
        "\n",
        "('timestamp:111', 10, 2156, 813, 1.3569863)\n",
        "('timestamp:112', 10, 2156, 813, -4.5395579)\n",
        "('timestamp:113', 10, 2156, 813, -8.0386925)"
       ]
      },
      {
       "output_type": "stream",
       "stream": "stdout",
       "text": [
        "\n",
        "('timestamp:114', 10, 2156, 813, -0.45549142)\n",
        "('timestamp:115', 10, 2156, 813, 4.3078218)\n",
        "('timestamp:116', 11, 2156, 812, -9.2775774)"
       ]
      },
      {
       "output_type": "stream",
       "stream": "stdout",
       "text": [
        "\n",
        "('timestamp:117', 11, 2156, 811, 10.507395)\n",
        "('timestamp:118', 11, 2156, 811, 6.9067726)\n",
        "('timestamp:119', 11, 2156, 811, -2.4923139)"
       ]
      },
      {
       "output_type": "stream",
       "stream": "stdout",
       "text": [
        "\n",
        "('timestamp:120', 11, 2156, 811, 0.71893454)\n",
        "('timestamp:121', 11, 2156, 810, 5.0627995)\n",
        "('timestamp:122', 11, 2156, 810, 10.530977)"
       ]
      },
      {
       "output_type": "stream",
       "stream": "stdout",
       "text": [
        "\n",
        "('timestamp:123', 11, 2156, 810, -1.9292667)\n",
        "('timestamp:124', 11, 2156, 810, 4.5430212)\n",
        "('timestamp:125', 11, 2156, 810, -1.2002213)"
       ]
      },
      {
       "output_type": "stream",
       "stream": "stdout",
       "text": [
        "\n",
        "('timestamp:126', 11, 2156, 810, 3.5254619)\n",
        "('timestamp:127', 11, 2156, 810, 1.6278865)\n",
        "('timestamp:128', 11, 2156, 810, 2.9534059)"
       ]
      },
      {
       "output_type": "stream",
       "stream": "stdout",
       "text": [
        "\n",
        "('timestamp:129', 11, 2156, 809, 2.3665547)\n",
        "('timestamp:130', 11, 2156, 809, 2.0895905)\n",
        "('timestamp:131', 11, 2156, 809, 0.96433043)"
       ]
      },
      {
       "output_type": "stream",
       "stream": "stdout",
       "text": [
        "\n",
        "('timestamp:132', 11, 2156, 809, 6.1388316)\n",
        "('timestamp:133', 11, 2156, 808, -4.1416922)\n",
        "('timestamp:134', 11, 2156, 808, 2.3965998)"
       ]
      },
      {
       "output_type": "stream",
       "stream": "stdout",
       "text": [
        "\n",
        "('timestamp:135', 11, 2156, 808, -0.5940665)\n",
        "('timestamp:136', 11, 2156, 807, 4.270154)\n",
        "('timestamp:137', 11, 2156, 807, -5.0809507)\n",
        "('timestamp:138', 11, 2156, 807, 2.5121398)"
       ]
      },
      {
       "output_type": "stream",
       "stream": "stdout",
       "text": [
        "\n",
        "('timestamp:139', 11, 2156, 807, 2.5293851)\n",
        "('timestamp:140', 11, 2156, 807, 4.0616212)\n",
        "('timestamp:141', 11, 2156, 807, 1.6581395)"
       ]
      },
      {
       "output_type": "stream",
       "stream": "stdout",
       "text": [
        "\n",
        "('timestamp:142', 11, 2156, 807, -1.1939089)\n",
        "('timestamp:143', 11, 2156, 807, 0.4613744)\n",
        "('timestamp:144', 11, 2156, 807, 1.2762578)"
       ]
      },
      {
       "output_type": "stream",
       "stream": "stdout",
       "text": [
        "\n",
        "('timestamp:145', 11, 2156, 807, 2.8494587)\n",
        "('timestamp:146', 11, 2156, 806, 4.0312982)\n",
        "('timestamp:147', 11, 2156, 806, 0.46736804)"
       ]
      },
      {
       "output_type": "stream",
       "stream": "stdout",
       "text": [
        "\n",
        "('timestamp:148', 11, 2156, 806, 1.1147251)\n",
        "('timestamp:149', 11, 2156, 806, -0.9079361)\n",
        "('timestamp:150', 11, 2156, 807, -0.29381481)"
       ]
      },
      {
       "output_type": "stream",
       "stream": "stdout",
       "text": [
        "\n",
        "('timestamp:151', 11, 2156, 807, 6.3124332)\n",
        "('timestamp:152', 11, 2156, 807, 5.6233201)\n",
        "('timestamp:153', 11, 2156, 807, 4.3120422)"
       ]
      },
      {
       "output_type": "stream",
       "stream": "stdout",
       "text": [
        "\n",
        "('timestamp:154', 11, 2156, 806, 0.96846664)\n",
        "('timestamp:155', 11, 2156, 806, 0.9996137)\n",
        "('timestamp:156', 11, 2156, 806, 2.7848048)"
       ]
      },
      {
       "output_type": "stream",
       "stream": "stdout",
       "text": [
        "\n",
        "('timestamp:157', 11, 2156, 805, 0.84011149)\n",
        "('timestamp:158', 11, 2156, 804, -0.4600229)\n",
        "('timestamp:159', 11, 2156, 803, -1.853906)"
       ]
      },
      {
       "output_type": "stream",
       "stream": "stdout",
       "text": [
        "\n",
        "('timestamp:160', 11, 2156, 803, 3.9628754)\n",
        "('timestamp:161', 11, 2156, 803, -5.3301721)\n",
        "('timestamp:162', 11, 2156, 802, -2.5492215)"
       ]
      },
      {
       "output_type": "stream",
       "stream": "stdout",
       "text": [
        "\n",
        "('timestamp:163', 11, 2156, 802, 3.778656)\n",
        "('timestamp:164', 11, 2156, 801, 3.6467977)\n",
        "('timestamp:165', 11, 2156, 802, 0.99052513)"
       ]
      },
      {
       "output_type": "stream",
       "stream": "stdout",
       "text": [
        "\n",
        "('timestamp:166', 11, 2156, 802, 3.5413461)\n",
        "('timestamp:167', 0, 2156, 833, -5.223918)\n",
        "('timestamp:168', 0, 2156, 833, 1.2991806)"
       ]
      },
      {
       "output_type": "stream",
       "stream": "stdout",
       "text": [
        "\n",
        "('timestamp:169', 0, 2156, 833, 4.007237)\n",
        "('timestamp:170', 0, 2156, 832, 0.98670578)\n",
        "('timestamp:171', 0, 2156, 831, 1.481111)"
       ]
      },
      {
       "output_type": "stream",
       "stream": "stdout",
       "text": [
        "\n",
        "('timestamp:172', 0, 2156, 831, -2.3159518)\n",
        "('timestamp:173', 0, 2156, 830, -0.34322989)\n",
        "('timestamp:174', 0, 2156, 830, -6.3140697)"
       ]
      },
      {
       "output_type": "stream",
       "stream": "stdout",
       "text": [
        "\n",
        "('timestamp:175', 0, 2156, 830, -2.2852201)\n",
        "('timestamp:176', 0, 2156, 829, -1.6632038)\n",
        "('timestamp:177', 0, 2156, 829, -0.0006441474)"
       ]
      },
      {
       "output_type": "stream",
       "stream": "stdout",
       "text": [
        "\n",
        "('timestamp:178', 0, 2156, 829, -0.003442049)\n",
        "('timestamp:179', 0, 2156, 829, -1.3502722)\n",
        "('timestamp:180', 0, 2156, 829, 5.9368572)"
       ]
      },
      {
       "output_type": "stream",
       "stream": "stdout",
       "text": [
        "\n",
        "('timestamp:181', 0, 2156, 828, 1.0658772)\n",
        "('timestamp:182', 0, 2156, 828, 6.9489441)\n",
        "('timestamp:183', 0, 2156, 827, -1.2866751)"
       ]
      },
      {
       "output_type": "stream",
       "stream": "stdout",
       "text": [
        "\n",
        "('timestamp:184', 0, 2156, 827, -3.1018381)\n",
        "('timestamp:185', 0, 2156, 827, -2.5205431)\n",
        "('timestamp:186', 0, 2156, 828, -3.5435128)"
       ]
      },
      {
       "output_type": "stream",
       "stream": "stdout",
       "text": [
        "\n",
        "('timestamp:187', 0, 2156, 828, -2.4651809)\n",
        "('timestamp:188', 0, 2156, 828, 2.7560627)\n",
        "('timestamp:189', 0, 2156, 827, 1.714957)"
       ]
      },
      {
       "output_type": "stream",
       "stream": "stdout",
       "text": [
        "\n",
        "('timestamp:190', 0, 2156, 828, 1.9410644)\n",
        "('timestamp:191', 0, 2156, 827, -0.7920922)\n",
        "('timestamp:192', 0, 2156, 826, -2.7224307)"
       ]
      },
      {
       "output_type": "stream",
       "stream": "stdout",
       "text": [
        "\n",
        "('timestamp:193', 0, 2156, 825, -1.1222622)\n",
        "('timestamp:194', 0, 2156, 826, -1.9783756)\n",
        "('timestamp:195', 0, 2156, 825, 2.1120186)"
       ]
      },
      {
       "output_type": "stream",
       "stream": "stdout",
       "text": [
        "\n",
        "('timestamp:196', 0, 2156, 826, -1.9702706)\n",
        "('timestamp:197', 0, 2156, 825, -2.4754298)\n",
        "('timestamp:198', 0, 2156, 825, 6.3620138)"
       ]
      },
      {
       "output_type": "stream",
       "stream": "stdout",
       "text": [
        "\n",
        "('timestamp:199', 0, 2156, 826, 1.0730084)\n",
        "('timestamp:200', 0, 2156, 826, -1.9533385)\n",
        "('timestamp:201', 0, 2156, 826, -1.0760081)"
       ]
      },
      {
       "output_type": "stream",
       "stream": "stdout",
       "text": [
        "\n",
        "('timestamp:202', 0, 2156, 826, 7.2763143)\n",
        "('timestamp:203', 0, 2156, 826, 4.433475)\n",
        "('timestamp:204', 0, 2156, 826, 1.017266)"
       ]
      },
      {
       "output_type": "stream",
       "stream": "stdout",
       "text": [
        "\n",
        "('timestamp:205', 0, 2156, 826, 2.6498671)\n",
        "('timestamp:206', 0, 2156, 826, -0.38503557)\n",
        "('timestamp:207', 0, 2156, 826, -2.4649737)"
       ]
      },
      {
       "output_type": "stream",
       "stream": "stdout",
       "text": [
        "\n",
        "('timestamp:208', 0, 2156, 826, 0.9703213)\n",
        "('timestamp:209', 0, 2156, 826, 1.4405466)\n",
        "('timestamp:210', 0, 2156, 824, -3.773454)"
       ]
      },
      {
       "output_type": "stream",
       "stream": "stdout",
       "text": [
        "\n",
        "('timestamp:211', 0, 2156, 824, 4.7078543)\n",
        "('timestamp:212', 0, 2156, 823, 3.1226959)\n",
        "('timestamp:213', 0, 2156, 823, 3.7479844)"
       ]
      },
      {
       "output_type": "stream",
       "stream": "stdout",
       "text": [
        "\n",
        "('timestamp:214', 0, 2156, 822, -0.28376055)\n",
        "('timestamp:215', 0, 2156, 822, -0.4238627)\n",
        "('timestamp:216', 0, 2156, 822, 0.87090206)"
       ]
      },
      {
       "output_type": "stream",
       "stream": "stdout",
       "text": [
        "\n",
        "('timestamp:217', 0, 2156, 822, 2.651258)\n",
        "('timestamp:218', 0, 2156, 822, -0.47319099)\n",
        "('timestamp:219', 0, 2156, 823, -2.1556003)"
       ]
      },
      {
       "output_type": "stream",
       "stream": "stdout",
       "text": [
        "\n",
        "('timestamp:220', 0, 2156, 823, -1.1110969)\n",
        "('timestamp:221', 0, 2156, 823, 0.83601856)\n",
        "('timestamp:222', 0, 2156, 823, 2.0173039)"
       ]
      },
      {
       "output_type": "stream",
       "stream": "stdout",
       "text": [
        "\n",
        "('timestamp:223', 0, 2156, 823, 4.5976038)\n",
        "('timestamp:224', 0, 2156, 823, -0.34756655)\n",
        "('timestamp:225', 0, 2156, 823, 6.4659204)"
       ]
      },
      {
       "output_type": "stream",
       "stream": "stdout",
       "text": [
        "\n",
        "('timestamp:226', 0, 2156, 822, 5.6698599)\n",
        "('timestamp:227', 0, 2156, 822, -2.5344009)\n",
        "('timestamp:228', 0, 2156, 822, 0.30147147)"
       ]
      },
      {
       "output_type": "stream",
       "stream": "stdout",
       "text": [
        "\n",
        "('timestamp:229', 0, 2156, 822, -1.1828011)\n",
        "('timestamp:230', 0, 2156, 822, -0.87954813)\n",
        "('timestamp:231', 0, 2156, 822, 1.3319447)"
       ]
      },
      {
       "output_type": "stream",
       "stream": "stdout",
       "text": [
        "\n",
        "('timestamp:232', 0, 2156, 822, -0.22963864)\n",
        "('timestamp:233', 0, 2156, 822, 1.5464661)\n",
        "('timestamp:234', 0, 2156, 822, 1.3177342)"
       ]
      },
      {
       "output_type": "stream",
       "stream": "stdout",
       "text": [
        "\n",
        "('timestamp:235', 0, 2156, 822, 3.3245516)\n",
        "('timestamp:236', 0, 2156, 822, -1.1442575)\n",
        "('timestamp:237', 0, 2156, 822, 2.4979401)"
       ]
      },
      {
       "output_type": "stream",
       "stream": "stdout",
       "text": [
        "\n",
        "('timestamp:238', 0, 2156, 821, -9.1778202)\n",
        "('timestamp:239', 0, 2156, 821, 13.297361)\n",
        "('timestamp:240', 0, 2156, 821, -7.3017883)"
       ]
      },
      {
       "output_type": "stream",
       "stream": "stdout",
       "text": [
        "\n",
        "('timestamp:241', 0, 2156, 821, 14.428023)\n",
        "('timestamp:242', 0, 2156, 820, 0.95809865)\n",
        "('timestamp:243', 0, 2156, 820, -3.9051893)"
       ]
      },
      {
       "output_type": "stream",
       "stream": "stdout",
       "text": [
        "\n",
        "('timestamp:244', 0, 2156, 820, 1.8284214)\n",
        "('timestamp:245', 0, 2156, 819, -5.08178)\n",
        "('timestamp:246', 0, 2156, 819, -7.2402382)"
       ]
      },
      {
       "output_type": "stream",
       "stream": "stdout",
       "text": [
        "\n",
        "('timestamp:247', 0, 2156, 819, -1.1233605)\n",
        "('timestamp:248', 0, 2156, 819, -3.8136353)\n",
        "('timestamp:249', 0, 2156, 819, -1.6573317)"
       ]
      },
      {
       "output_type": "stream",
       "stream": "stdout",
       "text": [
        "\n",
        "('timestamp:250', 0, 2156, 819, -3.9804258)\n",
        "('timestamp:251', 0, 2156, 819, -1.1477468)\n",
        "('timestamp:252', 0, 2156, 819, -0.62934601)"
       ]
      },
      {
       "output_type": "stream",
       "stream": "stdout",
       "text": [
        "\n",
        "('timestamp:253', 0, 2156, 819, -2.7328334)\n",
        "('timestamp:254', 0, 2156, 819, 2.1903579)\n",
        "('timestamp:255', 0, 2156, 819, -9.1614294)"
       ]
      },
      {
       "output_type": "stream",
       "stream": "stdout",
       "text": [
        "\n",
        "('timestamp:256', 0, 2156, 819, 4.3046217)\n",
        "('timestamp:257', 0, 2156, 819, -0.65336168)\n",
        "('timestamp:258', 0, 2156, 819, -3.3319485)"
       ]
      },
      {
       "output_type": "stream",
       "stream": "stdout",
       "text": [
        "\n",
        "('timestamp:259', 0, 2156, 819, -5.0941839)\n",
        "('timestamp:260', 0, 2156, 819, 12.333585)\n",
        "('timestamp:261', 0, 2156, 819, -1.2891998)"
       ]
      },
      {
       "output_type": "stream",
       "stream": "stdout",
       "text": [
        "\n",
        "('timestamp:262', 0, 2156, 819, -6.6102982)\n",
        "('timestamp:263', 0, 2156, 819, -7.3249884)\n",
        "('timestamp:264', 0, 2156, 819, -3.8942657)"
       ]
      },
      {
       "output_type": "stream",
       "stream": "stdout",
       "text": [
        "\n",
        "('timestamp:265', 0, 2156, 819, -2.3856745)\n",
        "('timestamp:266', 0, 2156, 819, -7.6237478)\n",
        "('timestamp:267', 0, 2156, 819, -3.3493948)"
       ]
      },
      {
       "output_type": "stream",
       "stream": "stdout",
       "text": [
        "\n",
        "('timestamp:268', 0, 2156, 819, 6.6465149)\n",
        "('timestamp:269', 0, 2156, 819, 7.8499012)\n",
        "('timestamp:270', 0, 2156, 881, -16.02142)"
       ]
      },
      {
       "output_type": "stream",
       "stream": "stdout",
       "text": [
        "\n",
        "('timestamp:271', 0, 2156, 881, -2.2595558)\n",
        "('timestamp:272', 0, 2156, 881, 18.886105)\n",
        "('timestamp:273', 0, 2156, 881, -8.0486431)"
       ]
      },
      {
       "output_type": "stream",
       "stream": "stdout",
       "text": [
        "\n",
        "('timestamp:274', 0, 2156, 881, -9.3084335)\n",
        "('timestamp:275', 0, 2156, 881, 0.39987844)\n",
        "('timestamp:276', 0, 2156, 881, -1.8407861)"
       ]
      },
      {
       "output_type": "stream",
       "stream": "stdout",
       "text": [
        "\n",
        "('timestamp:277', 0, 2156, 880, -7.2546039)\n",
        "('timestamp:278', 0, 2156, 880, -11.341402)\n",
        "('timestamp:279', 0, 2156, 880, -14.258345)"
       ]
      },
      {
       "output_type": "stream",
       "stream": "stdout",
       "text": [
        "\n",
        "('timestamp:280', 0, 2156, 880, 17.162441)\n",
        "('timestamp:281', 0, 2156, 880, -1.7804513)\n",
        "('timestamp:282', 0, 2156, 880, 0.5188095)"
       ]
      },
      {
       "output_type": "stream",
       "stream": "stdout",
       "text": [
        "\n",
        "('timestamp:283', 0, 2156, 880, 25.723354)\n",
        "('timestamp:284', 0, 2156, 880, 5.9154463)\n",
        "('timestamp:285', 0, 2156, 880, -7.6005902)"
       ]
      },
      {
       "output_type": "stream",
       "stream": "stdout",
       "text": [
        "\n",
        "('timestamp:286', 0, 2156, 888, -6.8771424)\n",
        "('timestamp:287', 0, 2156, 887, -15.180827)\n",
        "('timestamp:288', 0, 2156, 887, -10.736986)"
       ]
      },
      {
       "output_type": "stream",
       "stream": "stdout",
       "text": [
        "\n",
        "('timestamp:289', 0, 2156, 887, 14.392428)\n",
        "('timestamp:290', 0, 2156, 887, 3.6617508)\n",
        "('timestamp:291', 0, 2156, 887, -0.42956331)"
       ]
      },
      {
       "output_type": "stream",
       "stream": "stdout",
       "text": [
        "\n",
        "('timestamp:292', 0, 2156, 887, -8.483285)\n",
        "('timestamp:293', 0, 2156, 887, 6.668148)\n",
        "('timestamp:294', 0, 2156, 887, 6.9491158)"
       ]
      },
      {
       "output_type": "stream",
       "stream": "stdout",
       "text": [
        "\n",
        "('timestamp:295', 0, 2156, 887, 4.8265581)\n",
        "('timestamp:296', 0, 2156, 887, -0.14976788)\n",
        "('timestamp:297', 0, 2156, 887, 9.7378883)"
       ]
      },
      {
       "output_type": "stream",
       "stream": "stdout",
       "text": [
        "\n",
        "('timestamp:298', 0, 2156, 887, 5.6507835)\n",
        "('timestamp:299', 0, 2156, 887, -7.578753)\n",
        "('timestamp:300', 0, 2156, 887, -8.7764091)"
       ]
      },
      {
       "output_type": "stream",
       "stream": "stdout",
       "text": [
        "\n",
        "('timestamp:301', 0, 2156, 887, -9.0111647)\n",
        "('timestamp:302', 0, 2156, 887, 6.4817019)\n",
        "('timestamp:303', 0, 2156, 887, -7.7923813)"
       ]
      },
      {
       "output_type": "stream",
       "stream": "stdout",
       "text": [
        "\n",
        "('timestamp:304', 0, 2156, 888, 7.9392018)\n",
        "('timestamp:305', 0, 2156, 888, -7.4652014)\n",
        "('timestamp:306', 0, 2156, 888, 11.605544)\n",
        "('timestamp:307', 0, 2156, 888, 0.52018052)"
       ]
      },
      {
       "output_type": "stream",
       "stream": "stdout",
       "text": [
        "\n",
        "('timestamp:308', 0, 2156, 888, 1.9229199)\n",
        "('timestamp:309', 0, 2156, 888, -6.0445547)\n",
        "('timestamp:310', 0, 2156, 888, 1.3732507)"
       ]
      },
      {
       "output_type": "stream",
       "stream": "stdout",
       "text": [
        "\n",
        "('timestamp:311', 0, 2156, 888, -6.7171774)\n",
        "('timestamp:312', 0, 2156, 888, -6.594285)\n",
        "('timestamp:313', 0, 2156, 888, -3.5516386)"
       ]
      },
      {
       "output_type": "stream",
       "stream": "stdout",
       "text": [
        "\n",
        "('timestamp:314', 0, 2156, 888, -6.9284496)\n",
        "('timestamp:315', 0, 2156, 888, -0.026066184)\n",
        "('timestamp:316', 0, 2156, 888, -3.4340501)"
       ]
      },
      {
       "output_type": "stream",
       "stream": "stdout",
       "text": [
        "\n",
        "('timestamp:317', 0, 2156, 888, 10.146019)\n",
        "('timestamp:318', 0, 2156, 888, 3.5065467)\n",
        "('timestamp:319', 0, 2156, 888, -4.4487667)\n",
        "('timestamp:320', 0, 2156, 888, -0.95022494)"
       ]
      },
      {
       "output_type": "stream",
       "stream": "stdout",
       "text": [
        "\n",
        "('timestamp:321', 0, 2156, 888, -10.570879)\n",
        "('timestamp:322', 0, 2156, 888, -11.393114)\n",
        "('timestamp:323', 0, 2156, 888, -0.97366393)"
       ]
      },
      {
       "output_type": "stream",
       "stream": "stdout",
       "text": [
        "\n",
        "('timestamp:324', 0, 2156, 888, -12.381353)\n",
        "('timestamp:325', 0, 2156, 888, 10.763401)\n",
        "('timestamp:326', 0, 2156, 888, 3.4847307)"
       ]
      },
      {
       "output_type": "stream",
       "stream": "stdout",
       "text": [
        "\n",
        "('timestamp:327', 0, 2156, 888, 13.671284)\n",
        "('timestamp:328', 0, 2156, 888, -12.213749)\n",
        "('timestamp:329', 0, 2156, 888, 15.579295)"
       ]
      },
      {
       "output_type": "stream",
       "stream": "stdout",
       "text": [
        "\n",
        "('timestamp:330', 0, 2156, 888, -1.141017)\n",
        "('timestamp:331', 0, 2156, 888, -5.7455788)\n",
        "('timestamp:332', 0, 2156, 888, 8.6882486)"
       ]
      },
      {
       "output_type": "stream",
       "stream": "stdout",
       "text": [
        "\n",
        "('timestamp:333', 0, 2156, 888, 1.2456226)\n",
        "('timestamp:334', 0, 2156, 888, 6.0219259)\n",
        "('timestamp:335', 0, 2156, 888, -1.4968699)"
       ]
      },
      {
       "output_type": "stream",
       "stream": "stdout",
       "text": [
        "\n",
        "('timestamp:336', 0, 2156, 888, -4.2965517)\n",
        "('timestamp:337', 0, 2156, 888, 7.1027927)\n",
        "('timestamp:338', 0, 2156, 888, 6.0044146)\n",
        "('timestamp:339', 0, 2156, 888, -4.0048447)"
       ]
      },
      {
       "output_type": "stream",
       "stream": "stdout",
       "text": [
        "\n",
        "('timestamp:340', 0, 2156, 888, 8.9854584)\n",
        "('timestamp:341', 0, 2156, 888, -5.9884591)\n",
        "('timestamp:342', 0, 2156, 888, -7.3586955)"
       ]
      },
      {
       "output_type": "stream",
       "stream": "stdout",
       "text": [
        "\n",
        "('timestamp:343', 0, 2156, 888, -7.6738529)\n",
        "('timestamp:344', 0, 2156, 888, 7.9309249)\n",
        "('timestamp:345', 0, 2156, 888, 2.4697821)"
       ]
      },
      {
       "output_type": "stream",
       "stream": "stdout",
       "text": [
        "\n",
        "('timestamp:346', 0, 2156, 888, 2.8868837)\n",
        "('timestamp:347', 0, 2156, 888, 2.8195894)\n",
        "('timestamp:348', 0, 2156, 888, -4.0846825)"
       ]
      },
      {
       "output_type": "stream",
       "stream": "stdout",
       "text": [
        "\n",
        "('timestamp:349', 0, 2156, 888, 8.1116104)\n",
        "('timestamp:350', 0, 2156, 888, 6.2882175)\n",
        "('timestamp:351', 0, 2156, 888, -3.3713512)\n",
        "('timestamp:352', 0, 2156, 888, 7.6370382)"
       ]
      },
      {
       "output_type": "stream",
       "stream": "stdout",
       "text": [
        "\n",
        "('timestamp:353', 0, 2156, 888, -0.4266113)\n",
        "('timestamp:354', 0, 2156, 888, 3.0734522)\n",
        "('timestamp:355', 0, 2156, 889, -7.5121937)"
       ]
      },
      {
       "output_type": "stream",
       "stream": "stdout",
       "text": [
        "\n",
        "('timestamp:356', 0, 2156, 889, -5.6043568)\n",
        "('timestamp:357', 0, 2156, 889, 0.29361814)\n",
        "('timestamp:358', 0, 2156, 889, -0.27648288)\n",
        "('timestamp:359', 0, 2156, 889, -8.1918297)"
       ]
      },
      {
       "output_type": "stream",
       "stream": "stdout",
       "text": [
        "\n",
        "('timestamp:360', 0, 2156, 889, 4.6703615)\n",
        "('timestamp:361', 0, 2156, 889, 1.5966445)\n",
        "('timestamp:362', 0, 2156, 888, 3.5604293)"
       ]
      },
      {
       "output_type": "stream",
       "stream": "stdout",
       "text": [
        "\n",
        "('timestamp:363', 0, 2156, 888, -4.4929819)\n",
        "('timestamp:364', 0, 2156, 888, -4.0545053)\n",
        "('timestamp:365', 0, 2156, 888, 0.062493369)"
       ]
      },
      {
       "output_type": "stream",
       "stream": "stdout",
       "text": [
        "\n",
        "('timestamp:366', 0, 2156, 888, 0.62551272)\n",
        "('timestamp:367', 0, 2156, 887, -0.86957586)\n",
        "('timestamp:368', 0, 2156, 887, 4.4476967)"
       ]
      },
      {
       "output_type": "stream",
       "stream": "stdout",
       "text": [
        "\n",
        "('timestamp:369', 0, 2156, 887, -0.26432994)\n",
        "('timestamp:370', 0, 2156, 887, -3.2883568)\n",
        "('timestamp:371', 0, 2156, 908, 3.5447426)\n",
        "('timestamp:372', 0, 2156, 908, -1.2756687)"
       ]
      },
      {
       "output_type": "stream",
       "stream": "stdout",
       "text": [
        "\n",
        "('timestamp:373', 0, 2156, 908, 2.8482194)\n",
        "('timestamp:374', 0, 2156, 908, -0.26733464)\n",
        "('timestamp:375', 0, 2156, 908, -2.0745397)"
       ]
      },
      {
       "output_type": "stream",
       "stream": "stdout",
       "text": [
        "\n",
        "('timestamp:376', 0, 2156, 908, 3.4191632)\n",
        "('timestamp:377', 0, 2156, 907, 3.2424273)\n",
        "('timestamp:378', 0, 2156, 907, -0.87458932)"
       ]
      },
      {
       "output_type": "stream",
       "stream": "stdout",
       "text": [
        "\n",
        "('timestamp:379', 0, 2156, 907, 0.65703338)\n",
        "('timestamp:380', 0, 2156, 907, -0.42867041)\n",
        "('timestamp:381', 0, 2156, 907, -0.70398515)\n",
        "('timestamp:382', 0, 2156, 907, 2.4563336)"
       ]
      },
      {
       "output_type": "stream",
       "stream": "stdout",
       "text": [
        "\n",
        "('timestamp:383', 0, 2156, 907, -0.59764946)\n",
        "('timestamp:384', 0, 2156, 907, -6.3542466)\n",
        "('timestamp:385', 0, 2156, 907, 2.8754063)"
       ]
      },
      {
       "output_type": "stream",
       "stream": "stdout",
       "text": [
        "\n",
        "('timestamp:386', 0, 2156, 907, 0.47321194)\n",
        "('timestamp:387', 0, 2156, 907, 0.7709893)\n",
        "('timestamp:388', 0, 2156, 908, -4.6464682)"
       ]
      },
      {
       "output_type": "stream",
       "stream": "stdout",
       "text": [
        "\n",
        "('timestamp:389', 0, 2156, 908, 0.44981885)\n",
        "('timestamp:390', 0, 2156, 908, -1.70175)\n",
        "('timestamp:391', 0, 2156, 908, -2.6820331)\n",
        "('timestamp:392', 0, 2156, 908, 1.3661666)"
       ]
      },
      {
       "output_type": "stream",
       "stream": "stdout",
       "text": [
        "\n",
        "('timestamp:393', 0, 2156, 908, 1.2703192)\n",
        "('timestamp:394', 0, 2156, 908, -3.6170983)\n",
        "('timestamp:395', 0, 2156, 908, -2.8746376)"
       ]
      },
      {
       "output_type": "stream",
       "stream": "stdout",
       "text": [
        "\n",
        "('timestamp:396', 0, 2156, 908, 6.0576115)\n",
        "('timestamp:397', 0, 2156, 908, -2.8316739)\n",
        "('timestamp:398', 0, 2156, 908, 4.1565199)\n",
        "('timestamp:399', 0, 2156, 908, 2.7268815)"
       ]
      },
      {
       "output_type": "stream",
       "stream": "stdout",
       "text": [
        "\n",
        "('timestamp:400', 0, 2156, 908, -2.9513133)\n",
        "('timestamp:401', 0, 2156, 908, -0.17972663)\n",
        "('timestamp:402', 0, 2156, 908, 0.35701483)"
       ]
      },
      {
       "output_type": "stream",
       "stream": "stdout",
       "text": [
        "\n",
        "('timestamp:403', 0, 2156, 908, 1.5583469)\n",
        "('timestamp:404', 0, 2156, 908, 0.71833462)\n",
        "('timestamp:405', 0, 2156, 908, 0.39907879)"
       ]
      },
      {
       "output_type": "stream",
       "stream": "stdout",
       "text": [
        "\n",
        "('timestamp:406', 0, 2156, 908, -1.6645925)\n",
        "('timestamp:407', 0, 2156, 908, -5.3208427)\n",
        "('timestamp:408', 0, 2156, 908, 0.87354583)\n",
        "('timestamp:409', 0, 2156, 908, -1.8750076)"
       ]
      },
      {
       "output_type": "stream",
       "stream": "stdout",
       "text": [
        "\n",
        "('timestamp:410', 0, 2156, 908, -0.89373553)\n",
        "('timestamp:411', 0, 2156, 908, -3.1929679)\n",
        "('timestamp:412', 0, 2156, 908, -4.0268135)\n",
        "('timestamp:413', 0, 2156, 908, 5.1674614)"
       ]
      },
      {
       "output_type": "stream",
       "stream": "stdout",
       "text": [
        "\n",
        "('timestamp:414', 0, 2156, 908, -1.383917)\n",
        "('timestamp:415', 0, 2156, 908, 5.1097732)\n",
        "('timestamp:416', 0, 2156, 908, -5.0145512)\n",
        "('timestamp:417', 0, 2156, 907, 0.93505132)"
       ]
      },
      {
       "output_type": "stream",
       "stream": "stdout",
       "text": [
        "\n",
        "('timestamp:418', 0, 2156, 907, -0.71976709)\n",
        "('timestamp:419', 0, 2156, 907, 0.7360096)\n",
        "('timestamp:420', 0, 2156, 907, 1.7098681)"
       ]
      },
      {
       "output_type": "stream",
       "stream": "stdout",
       "text": [
        "\n",
        "('timestamp:421', 0, 2156, 905, 1.2831609)\n",
        "('timestamp:422', 0, 2156, 905, -1.0047083)\n",
        "('timestamp:423', 0, 2156, 905, -0.34250572)"
       ]
      },
      {
       "output_type": "stream",
       "stream": "stdout",
       "text": [
        "\n",
        "('timestamp:424', 0, 2156, 905, 3.7263622)\n",
        "('timestamp:425', 0, 2156, 905, -4.5573764)\n",
        "('timestamp:426', 0, 2156, 905, 2.128783)"
       ]
      },
      {
       "output_type": "stream",
       "stream": "stdout",
       "text": [
        "\n",
        "('timestamp:427', 0, 2156, 905, -1.4260068)\n",
        "('timestamp:428', 0, 2156, 905, 1.9544849)\n",
        "('timestamp:429', 0, 2156, 905, 1.203604)\n",
        "('timestamp:430', 0, 2156, 905, 1.9692334)"
       ]
      },
      {
       "output_type": "stream",
       "stream": "stdout",
       "text": [
        "\n",
        "('timestamp:431', 0, 2156, 904, 1.7701498)\n",
        "('timestamp:432', 0, 2156, 904, 2.6931028)\n",
        "('timestamp:433', 0, 2156, 904, 3.99756)\n",
        "('timestamp:434', 0, 2156, 904, 0.40176612)"
       ]
      },
      {
       "output_type": "stream",
       "stream": "stdout",
       "text": [
        "\n",
        "('timestamp:435', 0, 2156, 904, -0.40582639)\n",
        "('timestamp:436', 0, 2156, 904, -0.4097448)\n",
        "('timestamp:437', 0, 2156, 903, 2.1127346)\n",
        "('timestamp:438', 0, 2156, 903, 2.2699389)"
       ]
      },
      {
       "output_type": "stream",
       "stream": "stdout",
       "text": [
        "\n",
        "('timestamp:439', 0, 2156, 902, 3.1323824)\n",
        "('timestamp:440', 0, 2156, 902, 5.7524891)\n",
        "('timestamp:441', 0, 2156, 902, 8.2454586)"
       ]
      },
      {
       "output_type": "stream",
       "stream": "stdout",
       "text": [
        "\n",
        "('timestamp:442', 0, 2156, 902, 0.47045508)\n",
        "('timestamp:443', 0, 2156, 902, 0.1897016)\n",
        "('timestamp:444', 0, 2156, 902, 1.1844318)\n",
        "('timestamp:445', 0, 2156, 902, 0.80148154)"
       ]
      },
      {
       "output_type": "stream",
       "stream": "stdout",
       "text": [
        "\n",
        "('timestamp:446', 0, 2156, 902, 2.0816913)\n",
        "('timestamp:447', 0, 2156, 902, 3.6957216)\n",
        "('timestamp:448', 0, 2156, 902, 2.8584385)\n",
        "('timestamp:449', 0, 2156, 902, 0.52926236)"
       ]
      },
      {
       "output_type": "stream",
       "stream": "stdout",
       "text": [
        "\n",
        "('timestamp:450', 0, 2156, 902, 0.76839745)\n",
        "('timestamp:451', 0, 2156, 902, 0.072126284)\n",
        "('timestamp:452', 0, 2156, 902, 1.4684308)\n",
        "('timestamp:453', 0, 2156, 902, 5.402854)"
       ]
      },
      {
       "output_type": "stream",
       "stream": "stdout",
       "text": [
        "\n",
        "('timestamp:454', 0, 2156, 902, 2.5342522)\n",
        "('timestamp:455', 0, 2156, 902, 5.0779333)\n",
        "('timestamp:456', 0, 2156, 901, 2.0653119)"
       ]
      },
      {
       "output_type": "stream",
       "stream": "stdout",
       "text": [
        "\n",
        "('timestamp:457', 0, 2156, 901, -3.9631658)\n",
        "('timestamp:458', 0, 2156, 901, 3.2815206)\n",
        "('timestamp:459', 0, 2156, 901, 4.6464701)\n",
        "('timestamp:460', 0, 2156, 901, -1.3058208)"
       ]
      },
      {
       "output_type": "stream",
       "stream": "stdout",
       "text": [
        "\n",
        "('timestamp:461', 0, 2156, 901, -5.7279549)\n",
        "('timestamp:462', 0, 2156, 901, 0.45191556)\n",
        "('timestamp:463', 0, 2156, 901, 0.64688873)\n",
        "('timestamp:464', 0, 2156, 901, 0.42317736)"
       ]
      },
      {
       "output_type": "stream",
       "stream": "stdout",
       "text": [
        "\n",
        "('timestamp:465', 0, 2156, 901, 0.029950321)\n",
        "('timestamp:466', 0, 2156, 901, -0.018624097)\n",
        "('timestamp:467', 0, 2156, 901, 1.5293405)\n",
        "('timestamp:468', 0, 2156, 901, -1.7353606)"
       ]
      },
      {
       "output_type": "stream",
       "stream": "stdout",
       "text": [
        "\n",
        "('timestamp:469', 0, 2156, 900, -4.2753243)\n",
        "('timestamp:470', 0, 2156, 900, 8.6460171)\n",
        "('timestamp:471', 0, 2156, 900, 0.89602017)\n",
        "('timestamp:472', 0, 2156, 900, 4.144187)"
       ]
      },
      {
       "output_type": "stream",
       "stream": "stdout",
       "text": [
        "\n",
        "('timestamp:473', 0, 2156, 941, -2.1056376)\n",
        "('timestamp:474', 0, 2156, 940, 4.3067179)\n",
        "('timestamp:475', 0, 2156, 940, 2.3748858)\n",
        "('timestamp:476', 0, 2156, 940, 1.4221292)"
       ]
      },
      {
       "output_type": "stream",
       "stream": "stdout",
       "text": [
        "\n",
        "('timestamp:477', 0, 2156, 940, -2.1455116)\n",
        "('timestamp:478', 0, 2156, 940, 3.9104235)\n",
        "('timestamp:479', 0, 2156, 940, -5.8317199)\n",
        "('timestamp:480', 0, 2156, 940, -0.20336977)"
       ]
      },
      {
       "output_type": "stream",
       "stream": "stdout",
       "text": [
        "\n",
        "('timestamp:481', 0, 2156, 940, 1.8217777)\n",
        "('timestamp:482', 0, 2156, 940, 1.7269478)\n",
        "('timestamp:483', 0, 2156, 940, 1.6583557)\n",
        "('timestamp:484', 0, 2156, 940, 2.4777584)"
       ]
      },
      {
       "output_type": "stream",
       "stream": "stdout",
       "text": [
        "\n",
        "('timestamp:485', 0, 2156, 940, -6.8391762)\n",
        "('timestamp:486', 0, 2156, 940, 5.6683173)\n",
        "('timestamp:487', 0, 2156, 940, 2.9089301)\n",
        "('timestamp:488', 0, 2156, 940, -0.32392359)"
       ]
      },
      {
       "output_type": "stream",
       "stream": "stdout",
       "text": [
        "\n",
        "('timestamp:489', 0, 2156, 940, 1.2904242)\n",
        "('timestamp:490', 0, 2156, 940, 0.75820822)\n",
        "('timestamp:491', 0, 2156, 940, -5.6978149)\n",
        "('timestamp:492', 0, 2156, 940, 2.1983457)"
       ]
      },
      {
       "output_type": "stream",
       "stream": "stdout",
       "text": [
        "\n",
        "('timestamp:493', 0, 2156, 940, -5.0283694)\n",
        "('timestamp:494', 0, 2156, 940, -4.8761249)\n",
        "('timestamp:495', 0, 2156, 939, 3.6301646)"
       ]
      },
      {
       "output_type": "stream",
       "stream": "stdout",
       "text": [
        "\n",
        "('timestamp:496', 0, 2156, 939, 5.8621578)\n",
        "('timestamp:497', 0, 2156, 939, 0.55870122)\n",
        "('timestamp:498', 0, 2156, 936, 1.4020299)"
       ]
      },
      {
       "output_type": "stream",
       "stream": "stdout",
       "text": [
        "\n",
        "('timestamp:499', 0, 2156, 939, 4.7403545)\n",
        "('timestamp:500', 0, 2156, 939, 5.0273218)\n",
        "('timestamp:501', 0, 2156, 939, 3.9779367)\n",
        "('timestamp:502', 0, 2156, 939, 7.1742334)"
       ]
      },
      {
       "output_type": "stream",
       "stream": "stdout",
       "text": [
        "\n",
        "('timestamp:503', 0, 2156, 939, -1.2847688)\n",
        "('timestamp:504', 0, 2156, 939, -4.6337814)\n",
        "('timestamp:505', 0, 2156, 939, 6.1777048)\n",
        "('timestamp:506', 0, 2156, 939, 4.0716195)"
       ]
      },
      {
       "output_type": "stream",
       "stream": "stdout",
       "text": [
        "\n",
        "('timestamp:507', 0, 2156, 939, -0.13147652)\n",
        "('timestamp:508', 0, 2156, 939, 1.2083988)\n",
        "('timestamp:509', 0, 2156, 939, 1.2428491)\n",
        "('timestamp:510', 0, 2156, 939, 1.7496465)"
       ]
      },
      {
       "output_type": "stream",
       "stream": "stdout",
       "text": [
        "\n",
        "('timestamp:511', 0, 2156, 939, 1.7657965)\n",
        "('timestamp:512', 0, 2156, 939, 0.76616728)\n",
        "('timestamp:513', 0, 2156, 939, -7.5088243)"
       ]
      },
      {
       "output_type": "stream",
       "stream": "stdout",
       "text": [
        "\n",
        "('timestamp:514', 0, 2156, 939, 1.674638)\n",
        "('timestamp:515', 0, 2156, 939, 1.3214793)\n",
        "('timestamp:516', 0, 2156, 939, 0.64286458)\n",
        "('timestamp:517', 0, 2156, 939, -1.0571482)"
       ]
      },
      {
       "output_type": "stream",
       "stream": "stdout",
       "text": [
        "\n",
        "('timestamp:518', 0, 2156, 939, 1.7143908)\n",
        "('timestamp:519', 0, 2156, 939, -1.7507172)\n",
        "('timestamp:520', 0, 2156, 938, 1.6546967)\n",
        "('timestamp:521', 0, 2156, 938, -6.0708637)"
       ]
      },
      {
       "output_type": "stream",
       "stream": "stdout",
       "text": [
        "\n",
        "('timestamp:522', 0, 2156, 938, -5.597086)\n",
        "('timestamp:523', 0, 2156, 937, 1.5856187)\n",
        "('timestamp:524', 0, 2156, 937, -1.7473224)\n",
        "('timestamp:525', 0, 2156, 937, 3.5860724)"
       ]
      },
      {
       "output_type": "stream",
       "stream": "stdout",
       "text": [
        "\n",
        "('timestamp:526', 0, 2156, 937, 4.4596925)\n",
        "('timestamp:527', 0, 2156, 937, 2.0225599)\n",
        "('timestamp:528', 0, 2156, 937, 1.7251285)\n",
        "('timestamp:529', 0, 2156, 937, 2.134654)"
       ]
      },
      {
       "output_type": "stream",
       "stream": "stdout",
       "text": [
        "\n",
        "('timestamp:530', 0, 2156, 936, 0.21527797)\n",
        "('timestamp:531', 0, 2156, 936, 3.6536279)\n",
        "('timestamp:532', 0, 2156, 936, -0.18224432)\n",
        "('timestamp:533', 0, 2156, 936, -2.5529861)"
       ]
      },
      {
       "output_type": "stream",
       "stream": "stdout",
       "text": [
        "\n",
        "('timestamp:534', 0, 2156, 936, 0.79622531)\n",
        "('timestamp:535', 0, 2156, 936, -2.6559274)\n",
        "('timestamp:536', 0, 2156, 936, -4.0699749)\n",
        "('timestamp:537', 0, 2156, 936, 1.2181833)"
       ]
      },
      {
       "output_type": "stream",
       "stream": "stdout",
       "text": [
        "\n",
        "('timestamp:538', 0, 2156, 936, 6.6071839)\n",
        "('timestamp:539', 0, 2156, 936, 0.17315802)\n",
        "('timestamp:540', 0, 2156, 936, 1.6198184)\n",
        "('timestamp:541', 0, 2156, 936, -1.6875873)"
       ]
      },
      {
       "output_type": "stream",
       "stream": "stdout",
       "text": [
        "\n",
        "('timestamp:542', 0, 2156, 935, 3.5537419)\n",
        "('timestamp:543', 0, 2156, 935, 1.9036113)\n",
        "('timestamp:544', 0, 2156, 935, 0.90071052)"
       ]
      },
      {
       "output_type": "stream",
       "stream": "stdout",
       "text": [
        "\n",
        "('timestamp:545', 0, 2156, 935, -5.6014452)\n",
        "('timestamp:546', 0, 2156, 935, -3.5045364)\n",
        "('timestamp:547', 0, 2156, 935, 5.5356927)"
       ]
      },
      {
       "output_type": "stream",
       "stream": "stdout",
       "text": [
        "\n",
        "('timestamp:548', 0, 2156, 934, 1.843716)\n",
        "('timestamp:549', 0, 2156, 934, -2.5739458)\n",
        "('timestamp:550', 0, 2156, 934, -3.3855171)"
       ]
      },
      {
       "output_type": "stream",
       "stream": "stdout",
       "text": [
        "\n",
        "('timestamp:551', 0, 2156, 934, -0.77728373)\n",
        "('timestamp:552', 0, 2156, 934, 1.453186)\n",
        "('timestamp:553', 0, 2156, 934, 1.7819591)"
       ]
      },
      {
       "output_type": "stream",
       "stream": "stdout",
       "text": [
        "\n",
        "('timestamp:554', 0, 2156, 934, 2.8451905)\n",
        "('timestamp:555', 0, 2156, 934, 4.8169928)\n",
        "('timestamp:556', 0, 2156, 934, 0.43488181)\n",
        "('timestamp:557', 0, 2156, 934, 3.072845)"
       ]
      },
      {
       "output_type": "stream",
       "stream": "stdout",
       "text": [
        "\n",
        "('timestamp:558', 0, 2156, 934, 1.6525488)\n",
        "('timestamp:559', 0, 2156, 934, -3.5869451)\n",
        "('timestamp:560', 0, 2156, 934, -5.4883037)"
       ]
      },
      {
       "output_type": "stream",
       "stream": "stdout",
       "text": [
        "\n",
        "('timestamp:561', 0, 2156, 934, -0.20778732)\n",
        "('timestamp:562', 0, 2156, 934, -1.5537676)\n",
        "('timestamp:563', 0, 2156, 934, -2.819633)\n",
        "('timestamp:564', 0, 2156, 934, -5.4129066)"
       ]
      },
      {
       "output_type": "stream",
       "stream": "stdout",
       "text": [
        "\n",
        "('timestamp:565', 0, 2156, 934, 6.1595154)\n",
        "('timestamp:566', 0, 2156, 934, 1.490968)\n",
        "('timestamp:567', 0, 2156, 934, -5.482429)\n",
        "('timestamp:568', 0, 2156, 934, -4.3819199)"
       ]
      },
      {
       "output_type": "stream",
       "stream": "stdout",
       "text": [
        "\n",
        "('timestamp:569', 0, 2156, 934, 3.0492637)\n",
        "('timestamp:570', 0, 2156, 934, -0.0016191676)\n",
        "('timestamp:571', 0, 2156, 934, 1.9940398)\n",
        "('timestamp:572', 0, 2156, 934, 0.24907699)"
       ]
      },
      {
       "output_type": "stream",
       "stream": "stdout",
       "text": [
        "\n",
        "('timestamp:573', 0, 2156, 934, 0.026392713)\n",
        "('timestamp:574', 0, 2156, 934, -5.0270452)\n",
        "('timestamp:575', 0, 2156, 941, 3.1315465)"
       ]
      },
      {
       "output_type": "stream",
       "stream": "stdout",
       "text": [
        "\n",
        "('timestamp:576', 0, 2156, 941, -0.29099202)\n",
        "('timestamp:577', 0, 2156, 941, 2.0038409)\n",
        "('timestamp:578', 0, 2156, 941, 1.3950906)"
       ]
      },
      {
       "output_type": "stream",
       "stream": "stdout",
       "text": [
        "\n",
        "('timestamp:579', 0, 2156, 941, 0.65109122)\n",
        "('timestamp:580', 0, 2156, 941, 5.3797522)\n",
        "('timestamp:581', 0, 2156, 938, 1.4040294)\n",
        "('timestamp:582', 0, 2156, 941, -0.16010638)"
       ]
      },
      {
       "output_type": "stream",
       "stream": "stdout",
       "text": [
        "\n",
        "('timestamp:583', 0, 2156, 941, 1.4343758)\n",
        "('timestamp:584', 0, 2156, 941, 2.6192713)\n",
        "('timestamp:585', 0, 2156, 941, 6.3011489)\n",
        "('timestamp:586', 0, 2156, 941, -5.0488567)"
       ]
      },
      {
       "output_type": "stream",
       "stream": "stdout",
       "text": [
        "\n",
        "('timestamp:587', 0, 2156, 937, 2.1101933)\n",
        "('timestamp:588', 0, 2156, 940, -3.306644)\n",
        "('timestamp:589', 0, 2156, 940, -0.87654865)\n",
        "('timestamp:590', 0, 2156, 940, -7.0688219)"
       ]
      },
      {
       "output_type": "stream",
       "stream": "stdout",
       "text": [
        "\n",
        "('timestamp:591', 0, 2156, 940, 4.6255589)\n",
        "('timestamp:592', 0, 2156, 940, -2.4995747)\n",
        "('timestamp:593', 0, 2156, 940, -1.7996429)"
       ]
      },
      {
       "output_type": "stream",
       "stream": "stdout",
       "text": [
        "\n",
        "('timestamp:594', 0, 2156, 940, -5.323844)\n",
        "('timestamp:595', 0, 2156, 940, 2.6248665)\n",
        "('timestamp:596', 0, 2156, 940, 5.5672884)\n",
        "('timestamp:597', 0, 2156, 940, 4.9079223)"
       ]
      },
      {
       "output_type": "stream",
       "stream": "stdout",
       "text": [
        "\n",
        "('timestamp:598', 0, 2156, 940, 1.3887348)\n",
        "('timestamp:599', 0, 2156, 939, -0.089592397)\n",
        "('timestamp:600', 0, 2156, 939, 1.1603835)"
       ]
      },
      {
       "output_type": "stream",
       "stream": "stdout",
       "text": [
        "\n",
        "('timestamp:601', 0, 2156, 939, -1.1061846)\n",
        "('timestamp:602', 0, 2156, 939, 0.95125437)\n",
        "('timestamp:603', 0, 2156, 939, 0.63741171)\n",
        "('timestamp:604', 0, 2156, 939, -4.1795344)"
       ]
      },
      {
       "output_type": "stream",
       "stream": "stdout",
       "text": [
        "\n",
        "('timestamp:605', 0, 2156, 939, -2.7779191)\n",
        "('timestamp:606', 0, 2156, 939, -7.3599024)\n",
        "('timestamp:607', 0, 2156, 939, 3.9294705)\n",
        "('timestamp:608', 0, 2156, 939, 5.7517567)"
       ]
      },
      {
       "output_type": "stream",
       "stream": "stdout",
       "text": [
        "\n",
        "('timestamp:609', 0, 2156, 938, 3.5480087)\n",
        "('timestamp:610', 0, 2156, 938, 2.4606411)\n",
        "('timestamp:611', 0, 2156, 938, 3.051106)\n",
        "('timestamp:612', 0, 2156, 938, 2.1202359)"
       ]
      },
      {
       "output_type": "stream",
       "stream": "stdout",
       "text": [
        "\n",
        "('timestamp:613', 0, 2156, 938, -1.5217675)\n",
        "('timestamp:614', 0, 2156, 938, -3.7333972)\n",
        "('timestamp:615', 0, 2156, 938, -2.1306429)\n"
       ]
      },
      {
       "output_type": "stream",
       "stream": "stdout",
       "text": [
        "('timestamp:616', 0, 2156, 938, 2.7012057)\n",
        "('timestamp:617', 0, 2156, 938, 4.0091333)\n",
        "('timestamp:618', 0, 2156, 938, -3.7949181)\n",
        "('timestamp:619', 0, 2156, 938, -3.3950601)\n",
        "('timestamp:620', 0, 2156, 938, 4.0143976)"
       ]
      },
      {
       "output_type": "stream",
       "stream": "stdout",
       "text": [
        "\n",
        "('timestamp:621', 0, 2156, 938, -2.0138357)\n",
        "('timestamp:622', 0, 2156, 938, 1.9521477)\n",
        "('timestamp:623', 0, 2156, 938, -1.9675184)\n",
        "('timestamp:624', 0, 2156, 934, 1.8297974)"
       ]
      },
      {
       "output_type": "stream",
       "stream": "stdout",
       "text": [
        "\n",
        "('timestamp:625', 0, 2156, 937, 2.2082047)\n",
        "('timestamp:626', 0, 2156, 936, 2.0400784)\n",
        "('timestamp:627', 0, 2156, 935, 1.3631451)\n",
        "('timestamp:628', 0, 2156, 935, -2.125221)"
       ]
      },
      {
       "output_type": "stream",
       "stream": "stdout",
       "text": [
        "\n",
        "('timestamp:629', 0, 2156, 935, -3.5211892)\n",
        "('timestamp:630', 0, 2156, 935, -2.1108637)\n",
        "('timestamp:631', 0, 2156, 935, -3.7045476)\n",
        "('timestamp:632', 0, 2156, 935, -3.0035567)"
       ]
      },
      {
       "output_type": "stream",
       "stream": "stdout",
       "text": [
        "\n",
        "('timestamp:633', 0, 2156, 935, -2.8606958)\n",
        "('timestamp:634', 0, 2156, 935, -2.1259742)\n",
        "('timestamp:635', 0, 2156, 935, 1.3553636)\n",
        "('timestamp:636', 0, 2156, 934, 0.66250122)"
       ]
      },
      {
       "output_type": "stream",
       "stream": "stdout",
       "text": [
        "\n",
        "('timestamp:637', 0, 2156, 934, 2.036289)\n",
        "('timestamp:638', 0, 2156, 934, 2.3735776)\n",
        "('timestamp:639', 0, 2156, 934, -0.36563081)\n",
        "('timestamp:640', 0, 2156, 934, -1.921056)"
       ]
      },
      {
       "output_type": "stream",
       "stream": "stdout",
       "text": [
        "\n",
        "('timestamp:641', 0, 2156, 934, -2.1247556)\n",
        "('timestamp:642', 0, 2156, 933, -6.0987506)\n",
        "('timestamp:643', 0, 2156, 933, -2.6564279)\n",
        "('timestamp:644', 0, 2156, 933, 2.5759377)"
       ]
      },
      {
       "output_type": "stream",
       "stream": "stdout",
       "text": [
        "\n",
        "('timestamp:645', 0, 2156, 932, 1.1955594)\n",
        "('timestamp:646', 0, 2156, 932, -3.0237772)\n",
        "('timestamp:647', 0, 2156, 932, -5.3905869)\n",
        "('timestamp:648', 0, 2156, 932, -5.6914062)"
       ]
      },
      {
       "output_type": "stream",
       "stream": "stdout",
       "text": [
        "\n",
        "('timestamp:649', 0, 2156, 932, 5.3394327)\n",
        "('timestamp:650', 0, 2156, 932, -2.6942291)\n",
        "('timestamp:651', 0, 2156, 932, 2.0249357)"
       ]
      },
      {
       "output_type": "stream",
       "stream": "stdout",
       "text": [
        "\n",
        "('timestamp:652', 0, 2156, 932, -1.9949621)\n",
        "('timestamp:653', 0, 2156, 932, 2.552465)\n",
        "('timestamp:654', 0, 2156, 932, 1.1455138)"
       ]
      },
      {
       "output_type": "stream",
       "stream": "stdout",
       "text": [
        "\n",
        "('timestamp:655', 0, 2156, 932, -0.91211092)\n",
        "('timestamp:656', 0, 2156, 932, 6.6698818)\n",
        "('timestamp:657', 0, 2156, 932, 4.0721736)\n",
        "('timestamp:658', 0, 2156, 932, -1.1538126)"
       ]
      },
      {
       "output_type": "stream",
       "stream": "stdout",
       "text": [
        "\n",
        "('timestamp:659', 0, 2156, 932, 3.319397)\n",
        "('timestamp:660', 0, 2156, 932, 0.54858732)\n",
        "('timestamp:661', 0, 2156, 932, -1.5809132)\n",
        "('timestamp:662', 0, 2156, 932, -5.1630516)"
       ]
      },
      {
       "output_type": "stream",
       "stream": "stdout",
       "text": [
        "\n",
        "('timestamp:663', 0, 2156, 932, 1.9188004)\n",
        "('timestamp:664', 0, 2156, 932, 0.023073092)\n",
        "('timestamp:665', 0, 2156, 932, -2.316663)\n",
        "('timestamp:666', 0, 2156, 932, -2.7401955)"
       ]
      },
      {
       "output_type": "stream",
       "stream": "stdout",
       "text": [
        "\n",
        "('timestamp:667', 0, 2156, 932, -3.2020335)\n",
        "('timestamp:668', 0, 2156, 932, 4.7474632)\n",
        "('timestamp:669', 0, 2156, 932, 0.077050835)\n",
        "('timestamp:670', 0, 2156, 932, 0.15913072)"
       ]
      },
      {
       "output_type": "stream",
       "stream": "stdout",
       "text": [
        "\n",
        "('timestamp:671', 0, 2156, 932, 2.0849962)\n",
        "('timestamp:672', 0, 2156, 932, 2.6536143)\n",
        "('timestamp:673', 0, 2156, 932, 8.6097174)\n",
        "('timestamp:674', 0, 2156, 931, -2.6738105)"
       ]
      },
      {
       "output_type": "stream",
       "stream": "stdout",
       "text": [
        "\n",
        "('timestamp:675', 0, 2156, 931, 0.6461457)\n",
        "('timestamp:676', 0, 2156, 931, 3.106108)\n",
        "('timestamp:677', 0, 2156, 960, -2.4627156)\n",
        "('timestamp:678', 0, 2156, 957, 1.3163487)"
       ]
      },
      {
       "output_type": "stream",
       "stream": "stdout",
       "text": [
        "\n",
        "('timestamp:679', 0, 2156, 957, -5.8456573)\n",
        "('timestamp:680', 0, 2156, 957, -0.28512251)\n",
        "('timestamp:681', 0, 2156, 956, 1.1534292)"
       ]
      },
      {
       "output_type": "stream",
       "stream": "stdout",
       "text": [
        "\n",
        "('timestamp:682', 0, 2156, 955, -3.6860654)\n",
        "('timestamp:683', 0, 2156, 955, -0.60912406)\n",
        "('timestamp:684', 0, 2156, 955, 6.7258916)\n",
        "('timestamp:685', 0, 2156, 955, -3.0824299)"
       ]
      },
      {
       "output_type": "stream",
       "stream": "stdout",
       "text": [
        "\n",
        "('timestamp:686', 0, 2156, 955, 0.47239)\n",
        "('timestamp:687', 0, 2156, 953, 5.2326975)\n",
        "('timestamp:688', 0, 2156, 953, -5.5619268)"
       ]
      },
      {
       "output_type": "stream",
       "stream": "stdout",
       "text": [
        "\n",
        "('timestamp:689', 0, 2156, 953, -3.0456109)\n",
        "('timestamp:690', 0, 2156, 955, -2.2527792)\n",
        "('timestamp:691', 0, 2156, 953, -5.7663994)\n",
        "('timestamp:692', 0, 2156, 955, 2.0457673)"
       ]
      },
      {
       "output_type": "stream",
       "stream": "stdout",
       "text": [
        "\n",
        "('timestamp:693', 0, 2156, 955, -3.6308246)\n",
        "('timestamp:694', 0, 2156, 955, -1.950265)\n",
        "('timestamp:695', 0, 2156, 955, -4.4564452)\n",
        "('timestamp:696', 0, 2156, 953, -1.188405)"
       ]
      },
      {
       "output_type": "stream",
       "stream": "stdout",
       "text": [
        "\n",
        "('timestamp:697', 0, 2156, 955, -0.25003332)\n",
        "('timestamp:698', 0, 2156, 955, -1.5530388)\n",
        "('timestamp:699', 0, 2156, 955, -1.5767254)\n",
        "('timestamp:700', 0, 2156, 955, 2.8058038)"
       ]
      },
      {
       "output_type": "stream",
       "stream": "stdout",
       "text": [
        "\n",
        "('timestamp:701', 0, 2156, 955, -2.4046757)\n",
        "('timestamp:702', 0, 2156, 955, -0.8579092)\n",
        "('timestamp:703', 0, 2156, 955, -2.519022)\n",
        "('timestamp:704', 0, 2156, 955, 2.7443547)"
       ]
      },
      {
       "output_type": "stream",
       "stream": "stdout",
       "text": [
        "\n",
        "('timestamp:705', 0, 2156, 954, 4.1526222)\n",
        "('timestamp:706', 0, 2156, 953, 5.0709224)\n",
        "('timestamp:707', 0, 2156, 953, 0.27312484)"
       ]
      },
      {
       "output_type": "stream",
       "stream": "stdout",
       "text": [
        "\n",
        "('timestamp:708', 0, 2156, 953, 0.1929749)\n",
        "('timestamp:709', 0, 2156, 952, -1.3172078)\n",
        "('timestamp:710', 0, 2156, 954, -0.62634021)\n",
        "('timestamp:711', 0, 2156, 955, 4.2036972)"
       ]
      },
      {
       "output_type": "stream",
       "stream": "stdout",
       "text": [
        "\n",
        "('timestamp:712', 0, 2156, 954, -1.1256924)\n",
        "('timestamp:713', 0, 2156, 954, -1.1238368)\n",
        "('timestamp:714', 0, 2156, 954, 1.2112067)\n",
        "('timestamp:715', 0, 2156, 952, -2.3235602)"
       ]
      },
      {
       "output_type": "stream",
       "stream": "stdout",
       "text": [
        "\n",
        "('timestamp:716', 0, 2156, 952, 5.0117111)\n",
        "('timestamp:717', 0, 2156, 952, 1.8260165)\n",
        "('timestamp:718', 0, 2156, 952, 4.1902537)\n",
        "('timestamp:719', 0, 2156, 952, 0.87222743)"
       ]
      },
      {
       "output_type": "stream",
       "stream": "stdout",
       "text": [
        "\n",
        "('timestamp:720', 0, 2156, 952, 4.0761986)\n",
        "('timestamp:721', 0, 2156, 952, -3.0258396)\n",
        "('timestamp:722', 0, 2156, 952, 2.4127696)"
       ]
      },
      {
       "output_type": "stream",
       "stream": "stdout",
       "text": [
        "\n",
        "('timestamp:723', 0, 2156, 952, 1.6802473)\n",
        "('timestamp:724', 0, 2156, 952, 2.2882149)\n",
        "('timestamp:725', 0, 2156, 952, -1.0512052)\n",
        "('timestamp:726', 0, 2156, 952, -3.3585749)"
       ]
      },
      {
       "output_type": "stream",
       "stream": "stdout",
       "text": [
        "\n",
        "('timestamp:727', 0, 2156, 951, 0.5303129)\n",
        "('timestamp:728', 0, 2156, 951, 2.0380838)\n",
        "('timestamp:729', 0, 2156, 950, 2.4206333)\n",
        "('timestamp:730', 0, 2156, 950, -1.3958433)"
       ]
      },
      {
       "output_type": "stream",
       "stream": "stdout",
       "text": [
        "\n",
        "('timestamp:731', 0, 2156, 950, 0.41244274)\n",
        "('timestamp:732', 0, 2156, 950, -0.65258086)\n",
        "('timestamp:733', 0, 2156, 949, -0.75999439)"
       ]
      },
      {
       "output_type": "stream",
       "stream": "stdout",
       "text": [
        "\n",
        "('timestamp:734', 0, 2156, 950, 0.81200653)\n",
        "('timestamp:735', 0, 2156, 950, 3.058836)\n",
        "('timestamp:736', 0, 2156, 950, -0.41126072)\n",
        "('timestamp:737', 0, 2156, 949, -0.79029089)"
       ]
      },
      {
       "output_type": "stream",
       "stream": "stdout",
       "text": [
        "\n",
        "('timestamp:738', 0, 2156, 949, 2.4840913)\n",
        "('timestamp:739', 0, 2156, 949, 2.033947)\n",
        "('timestamp:740', 0, 2156, 949, 1.1372317)\n",
        "('timestamp:741', 0, 2156, 949, 2.9941537)"
       ]
      },
      {
       "output_type": "stream",
       "stream": "stdout",
       "text": [
        "\n",
        "('timestamp:742', 0, 2156, 949, -4.5546026)\n",
        "('timestamp:743', 0, 2156, 949, 1.8367095)\n",
        "('timestamp:744', 0, 2156, 948, -0.84373093)\n",
        "('timestamp:745', 0, 2156, 948, 2.334646)"
       ]
      },
      {
       "output_type": "stream",
       "stream": "stdout",
       "text": [
        "\n",
        "('timestamp:746', 0, 2156, 948, -0.98694813)\n",
        "('timestamp:747', 0, 2156, 948, 0.0079321116)\n",
        "('timestamp:748', 0, 2156, 947, -3.2250123)\n",
        "('timestamp:749', 0, 2156, 948, 0.20814869)"
       ]
      },
      {
       "output_type": "stream",
       "stream": "stdout",
       "text": [
        "\n",
        "('timestamp:750', 0, 2156, 948, -0.65847766)\n",
        "('timestamp:751', 0, 2156, 948, 3.2340391)\n",
        "('timestamp:752', 0, 2156, 948, 2.380465)"
       ]
      },
      {
       "output_type": "stream",
       "stream": "stdout",
       "text": [
        "\n",
        "('timestamp:753', 0, 2156, 947, 0.33738935)\n",
        "('timestamp:754', 0, 2156, 948, -0.09388157)\n",
        "('timestamp:755', 0, 2156, 947, 0.30228704)\n",
        "('timestamp:756', 0, 2156, 946, -0.54421365)"
       ]
      },
      {
       "output_type": "stream",
       "stream": "stdout",
       "text": [
        "\n",
        "('timestamp:757', 0, 2156, 947, -1.2860072)\n",
        "('timestamp:758', 0, 2156, 947, 0.95163596)\n",
        "('timestamp:759', 0, 2156, 946, 2.7420878)\n",
        "('timestamp:760', 0, 2156, 946, 3.5267682)"
       ]
      },
      {
       "output_type": "stream",
       "stream": "stdout",
       "text": [
        "\n",
        "('timestamp:761', 0, 2156, 946, 0.38104984)\n",
        "('timestamp:762', 0, 2156, 945, 1.0539349)\n",
        "('timestamp:763', 0, 2156, 944, -0.64852625)"
       ]
      },
      {
       "output_type": "stream",
       "stream": "stdout",
       "text": [
        "\n",
        "('timestamp:764', 0, 2156, 944, 1.3528211)\n",
        "('timestamp:765', 0, 2156, 944, -1.7943484)\n",
        "('timestamp:766', 0, 2156, 943, 3.3931193)\n",
        "('timestamp:767', 0, 2156, 943, -2.433435)"
       ]
      },
      {
       "output_type": "stream",
       "stream": "stdout",
       "text": [
        "\n",
        "('timestamp:768', 0, 2156, 943, 3.02948)\n",
        "('timestamp:769', 0, 2156, 943, 2.6984847)\n",
        "('timestamp:770', 0, 2156, 943, -2.7518058)\n",
        "('timestamp:771', 0, 2156, 943, 5.1976786)"
       ]
      },
      {
       "output_type": "stream",
       "stream": "stdout",
       "text": [
        "\n",
        "('timestamp:772', 0, 2156, 943, -3.8660233)\n",
        "('timestamp:773', 0, 2156, 943, 0.22085619)\n",
        "('timestamp:774', 0, 2156, 943, 0.56873763)\n",
        "('timestamp:775', 0, 2156, 943, 0.28786403)"
       ]
      },
      {
       "output_type": "stream",
       "stream": "stdout",
       "text": [
        "\n",
        "('timestamp:776', 0, 2156, 943, 2.187155)\n",
        "('timestamp:777', 0, 2156, 943, 1.6013334)\n",
        "('timestamp:778', 0, 2156, 943, 0.60872191)\n",
        "('timestamp:779', 0, 2156, 951, -4.7588663)"
       ]
      },
      {
       "output_type": "stream",
       "stream": "stdout",
       "text": [
        "\n",
        "('timestamp:780', 0, 2156, 951, -4.4384623)\n",
        "('timestamp:781', 0, 2156, 950, -6.3997965)\n",
        "('timestamp:782', 0, 2156, 950, -0.88891113)\n",
        "('timestamp:783', 0, 2156, 951, -1.9814281)"
       ]
      },
      {
       "output_type": "stream",
       "stream": "stdout",
       "text": [
        "\n",
        "('timestamp:784', 0, 2156, 951, 0.28633219)\n",
        "('timestamp:785', 0, 2156, 950, -0.67642534)\n",
        "('timestamp:786', 0, 2156, 950, 4.8677378)\n",
        "('timestamp:787', 0, 2156, 950, 2.5072165)"
       ]
      },
      {
       "output_type": "stream",
       "stream": "stdout",
       "text": [
        "\n",
        "('timestamp:788', 0, 2156, 950, 0.74961954)\n",
        "('timestamp:789', 0, 2156, 950, 1.8317264)\n",
        "('timestamp:790', 0, 2156, 950, -3.6181405)"
       ]
      },
      {
       "output_type": "stream",
       "stream": "stdout",
       "text": [
        "\n",
        "('timestamp:791', 0, 2156, 950, -2.0429809)\n",
        "('timestamp:792', 0, 2156, 950, 4.2060585)\n",
        "('timestamp:793', 0, 2156, 950, 1.3765885)"
       ]
      },
      {
       "output_type": "stream",
       "stream": "stdout",
       "text": [
        "\n",
        "('timestamp:794', 0, 2156, 950, -0.29999071)\n",
        "('timestamp:795', 0, 2156, 950, 3.4425344)\n",
        "('timestamp:796', 0, 2156, 949, -0.50359344)\n",
        "('timestamp:797', 0, 2156, 949, 0.86332196)"
       ]
      },
      {
       "output_type": "stream",
       "stream": "stdout",
       "text": [
        "\n",
        "('timestamp:798', 0, 2156, 949, 0.095630646)\n",
        "('timestamp:799', 0, 2156, 949, 0.97559404)\n",
        "('timestamp:800', 0, 2156, 948, 0.35019922)"
       ]
      },
      {
       "output_type": "stream",
       "stream": "stdout",
       "text": [
        "\n",
        "('timestamp:801', 0, 2156, 948, -2.7510467)\n",
        "('timestamp:802', 0, 2156, 948, -2.7629728)\n",
        "('timestamp:803', 0, 2156, 948, 3.3889356)\n",
        "('timestamp:804', 0, 2156, 948, -0.28828707)"
       ]
      },
      {
       "output_type": "stream",
       "stream": "stdout",
       "text": [
        "\n",
        "('timestamp:805', 0, 2156, 947, -0.55997384)\n",
        "('timestamp:806', 0, 2156, 948, 1.2558118)"
       ]
      },
      {
       "output_type": "stream",
       "stream": "stdout",
       "text": [
        "\n",
        "('timestamp:807', 0, 2156, 948, 0.1746386)\n",
        "('timestamp:808', 0, 2156, 948, -1.8139027)\n",
        "('timestamp:809', 0, 2156, 947, 0.45936781)"
       ]
      },
      {
       "output_type": "stream",
       "stream": "stdout",
       "text": [
        "\n",
        "('timestamp:810', 0, 2156, 947, -2.3048062)\n",
        "('timestamp:811', 0, 2156, 946, -0.17982364)\n",
        "('timestamp:812', 0, 2156, 946, 0.5668515)\n",
        "('timestamp:813', 0, 2156, 946, 2.221437)"
       ]
      },
      {
       "output_type": "stream",
       "stream": "stdout",
       "text": [
        "\n",
        "('timestamp:814', 0, 2156, 946, -1.6397302)\n",
        "('timestamp:815', 0, 2156, 946, 1.8595908)\n",
        "('timestamp:816', 0, 2156, 946, -1.612951)"
       ]
      },
      {
       "output_type": "stream",
       "stream": "stdout",
       "text": [
        "\n",
        "('timestamp:817', 0, 2156, 946, 1.2812588)\n",
        "('timestamp:818', 0, 2156, 946, -2.343749)\n",
        "('timestamp:819', 0, 2156, 946, 4.90447)\n",
        "('timestamp:820', 0, 2156, 945, 1.5673678)"
       ]
      },
      {
       "output_type": "stream",
       "stream": "stdout",
       "text": [
        "\n",
        "('timestamp:821', 0, 2156, 945, 0.15810189)\n",
        "('timestamp:822', 0, 2156, 945, -3.1690965)\n",
        "('timestamp:823', 0, 2156, 945, 3.2919235)\n",
        "('timestamp:824', 0, 2156, 944, -4.0259571)"
       ]
      },
      {
       "output_type": "stream",
       "stream": "stdout",
       "text": [
        "\n",
        "('timestamp:825', 0, 2156, 944, 2.662122)\n",
        "('timestamp:826', 0, 2156, 943, -3.358886)\n",
        "('timestamp:827', 0, 2156, 943, -2.3260021)\n",
        "('timestamp:828', 0, 2156, 943, -1.1564704)"
       ]
      },
      {
       "output_type": "stream",
       "stream": "stdout",
       "text": [
        "\n",
        "('timestamp:829', 0, 2156, 943, 2.7046227)\n",
        "('timestamp:830', 0, 2156, 943, 2.632863)\n",
        "('timestamp:831', 0, 2156, 943, -2.412174)"
       ]
      },
      {
       "output_type": "stream",
       "stream": "stdout",
       "text": [
        "\n",
        "('timestamp:832', 0, 2156, 943, -2.4795365)\n",
        "('timestamp:833', 0, 2156, 943, -0.80278808)\n",
        "('timestamp:834', 0, 2156, 942, -2.2498474)"
       ]
      },
      {
       "output_type": "stream",
       "stream": "stdout",
       "text": [
        "\n",
        "('timestamp:835', 0, 2156, 941, 0.48454994)\n",
        "('timestamp:836', 0, 2156, 941, -1.7201331)\n",
        "('timestamp:837', 0, 2156, 941, 1.4309514)"
       ]
      },
      {
       "output_type": "stream",
       "stream": "stdout",
       "text": [
        "\n",
        "('timestamp:838', 0, 2156, 941, 0.71455467)\n",
        "('timestamp:839', 0, 2156, 941, 1.8368304)\n",
        "('timestamp:840', 0, 2156, 941, -3.9733799)"
       ]
      },
      {
       "output_type": "stream",
       "stream": "stdout",
       "text": [
        "\n",
        "('timestamp:841', 0, 2156, 941, -2.0308676)\n",
        "('timestamp:842', 0, 2156, 941, 0.82731164)\n",
        "('timestamp:843', 0, 2156, 941, 0.15390173)"
       ]
      },
      {
       "output_type": "stream",
       "stream": "stdout",
       "text": [
        "\n",
        "('timestamp:844', 0, 2156, 940, -2.9830551)\n",
        "('timestamp:845', 0, 2156, 940, -0.38944054)\n",
        "('timestamp:846', 0, 2156, 940, -4.4275455)"
       ]
      },
      {
       "output_type": "stream",
       "stream": "stdout",
       "text": [
        "\n",
        "('timestamp:847', 0, 2156, 940, 0.24707656)\n",
        "('timestamp:848', 0, 2156, 940, 0.038398862)\n",
        "('timestamp:849', 0, 2156, 940, -0.38788086)"
       ]
      },
      {
       "output_type": "stream",
       "stream": "stdout",
       "text": [
        "\n",
        "('timestamp:850', 0, 2156, 940, 1.8447049)\n",
        "('timestamp:851', 0, 2156, 940, 2.6649871)\n",
        "('timestamp:852', 0, 2156, 940, -0.088966653)\n",
        "('timestamp:853', 0, 2156, 940, 3.6511374)"
       ]
      },
      {
       "output_type": "stream",
       "stream": "stdout",
       "text": [
        "\n",
        "('timestamp:854', 0, 2156, 940, -1.1759197)\n",
        "('timestamp:855', 0, 2156, 940, 0.85762554)\n",
        "('timestamp:856', 0, 2156, 940, 0.28456232)\n",
        "('timestamp:857', 0, 2156, 940, -1.2291875)"
       ]
      },
      {
       "output_type": "stream",
       "stream": "stdout",
       "text": [
        "\n",
        "('timestamp:858', 0, 2156, 938, 4.7239513)\n",
        "('timestamp:859', 0, 2156, 938, 1.6752355)\n",
        "('timestamp:860', 0, 2156, 938, 0.26091376)"
       ]
      },
      {
       "output_type": "stream",
       "stream": "stdout",
       "text": [
        "\n",
        "('timestamp:861', 0, 2156, 938, -3.0742426)\n",
        "('timestamp:862', 0, 2156, 938, 1.7089578)\n",
        "('timestamp:863', 0, 2156, 938, 1.4617732)\n",
        "('timestamp:864', 0, 2156, 939, -1.5810995)"
       ]
      },
      {
       "output_type": "stream",
       "stream": "stdout",
       "text": [
        "\n",
        "('timestamp:865', 0, 2156, 939, 1.7728537)\n",
        "('timestamp:866', 0, 2156, 938, 0.94845736)\n",
        "('timestamp:867', 0, 2156, 938, 1.1904726)"
       ]
      },
      {
       "output_type": "stream",
       "stream": "stdout",
       "text": [
        "\n",
        "('timestamp:868', 0, 2156, 938, 0.26812059)\n",
        "('timestamp:869', 0, 2156, 938, 0.51855171)\n",
        "('timestamp:870', 0, 2156, 938, 2.0457959)"
       ]
      },
      {
       "output_type": "stream",
       "stream": "stdout",
       "text": [
        "\n",
        "('timestamp:871', 0, 2156, 938, 1.3026063)\n",
        "('timestamp:872', 0, 2156, 937, 1.1162176)\n",
        "('timestamp:873', 0, 2156, 937, 2.7298439)\n",
        "('timestamp:874', 0, 2156, 937, -3.1122613)"
       ]
      },
      {
       "output_type": "stream",
       "stream": "stdout",
       "text": [
        "\n",
        "('timestamp:875', 0, 2156, 937, 0.83786249)\n",
        "('timestamp:876', 0, 2156, 937, 2.7066274)\n",
        "('timestamp:877', 0, 2156, 936, -0.42399064)"
       ]
      },
      {
       "output_type": "stream",
       "stream": "stdout",
       "text": [
        "\n",
        "('timestamp:878', 0, 2156, 936, 2.6202683)\n",
        "('timestamp:879', 0, 2156, 936, 2.8536358)\n",
        "('timestamp:880', 0, 2156, 936, 3.9905803)"
       ]
      },
      {
       "output_type": "stream",
       "stream": "stdout",
       "text": [
        "\n",
        "('timestamp:881', 0, 2156, 976, 2.2337701)\n",
        "('timestamp:882', 0, 2156, 975, -0.81009436)\n",
        "('timestamp:883', 0, 2156, 974, 4.4124403)"
       ]
      },
      {
       "output_type": "stream",
       "stream": "stdout",
       "text": [
        "\n",
        "('timestamp:884', 0, 2156, 974, 0.82062)\n",
        "('timestamp:885', 0, 2156, 974, 2.1920426)\n",
        "('timestamp:886', 0, 2156, 974, -0.97552037)"
       ]
      },
      {
       "output_type": "stream",
       "stream": "stdout",
       "text": [
        "\n",
        "('timestamp:887', 0, 2156, 974, -1.824818)\n",
        "('timestamp:888', 0, 2156, 974, -3.8786221)\n",
        "('timestamp:889', 0, 2156, 974, 3.423964)\n",
        "('timestamp:890', 0, 2156, 974, 1.8479114)"
       ]
      },
      {
       "output_type": "stream",
       "stream": "stdout",
       "text": [
        "\n",
        "('timestamp:891', 0, 2156, 973, 2.2186847)\n",
        "('timestamp:892', 0, 2156, 973, -1.4940896)\n",
        "('timestamp:893', 0, 2156, 972, 1.1148932)\n",
        "('timestamp:894', 0, 2156, 972, 1.965548)"
       ]
      },
      {
       "output_type": "stream",
       "stream": "stdout",
       "text": [
        "\n",
        "('timestamp:895', 0, 2156, 971, -2.7904916)\n",
        "('timestamp:896', 0, 2156, 971, 1.4924529)\n",
        "('timestamp:897', 0, 2156, 972, 4.5545034)\n",
        "('timestamp:898', 0, 2156, 970, 1.1814924)"
       ]
      },
      {
       "output_type": "stream",
       "stream": "stdout",
       "text": [
        "\n",
        "('timestamp:899', 0, 2156, 970, -2.467036)\n",
        "('timestamp:900', 0, 2156, 970, -2.0444305)\n",
        "('timestamp:901', 0, 2156, 970, -1.0627997)\n",
        "('timestamp:902', 0, 2156, 969, -2.345612)"
       ]
      },
      {
       "output_type": "stream",
       "stream": "stdout",
       "text": [
        "\n",
        "('timestamp:903', 0, 2156, 969, -3.8247569)\n",
        "('timestamp:904', 0, 2156, 969, 2.5274789)\n",
        "('timestamp:905', 0, 2156, 968, -1.1532203)\n",
        "('timestamp:906', 0, 2156, 968, 2.5065908)"
       ]
      },
      {
       "output_type": "stream",
       "stream": "stdout",
       "text": [
        "\n",
        "('timestamp:907', 0, 2156, 968, 0.91017222)\n",
        "('timestamp:908', 0, 2156, 968, -0.97381306)\n",
        "('timestamp:909', 0, 2156, 968, -1.5619197)"
       ]
      },
      {
       "output_type": "stream",
       "stream": "stdout",
       "text": [
        "\n",
        "('timestamp:910', 0, 2156, 967, 0.82775444)\n",
        "('timestamp:911', 0, 2156, 967, 1.6975615)\n",
        "('timestamp:912', 0, 2156, 967, 4.5589495)"
       ]
      },
      {
       "output_type": "stream",
       "stream": "stdout",
       "text": [
        "\n",
        "('timestamp:913', 0, 2156, 967, -0.55100632)\n",
        "('timestamp:914', 0, 2156, 967, 2.2239618)\n",
        "('timestamp:915', 0, 2156, 967, -0.30600506)\n",
        "('timestamp:916', 0, 2156, 966, -1.1808028)"
       ]
      },
      {
       "output_type": "stream",
       "stream": "stdout",
       "text": [
        "\n",
        "('timestamp:917', 0, 2156, 966, -2.2776906)\n",
        "('timestamp:918', 0, 2156, 966, 0.55425125)\n",
        "('timestamp:919', 0, 2156, 966, 0.38840738)"
       ]
      },
      {
       "output_type": "stream",
       "stream": "stdout",
       "text": [
        "\n",
        "('timestamp:920', 0, 2156, 966, -2.3571694)\n",
        "('timestamp:921', 0, 2156, 966, 2.5228634)\n",
        "('timestamp:922', 0, 2156, 966, 1.4795219)\n",
        "('timestamp:923', 0, 2156, 965, -4.2244415)"
       ]
      },
      {
       "output_type": "stream",
       "stream": "stdout",
       "text": [
        "\n",
        "('timestamp:924', 0, 2156, 964, -0.25109869)\n",
        "('timestamp:925', 0, 2156, 964, 1.0201887)\n",
        "('timestamp:926', 0, 2156, 964, -2.4321918)"
       ]
      },
      {
       "output_type": "stream",
       "stream": "stdout",
       "text": [
        "\n",
        "('timestamp:927', 0, 2156, 964, -1.1977674)\n",
        "('timestamp:928', 0, 2156, 964, 3.5339291)\n",
        "('timestamp:929', 0, 2156, 963, -0.54870182)\n",
        "('timestamp:930', 0, 2156, 963, -1.9526602)"
       ]
      },
      {
       "output_type": "stream",
       "stream": "stdout",
       "text": [
        "\n",
        "('timestamp:931', 0, 2156, 963, 0.50651121)\n",
        "('timestamp:932', 0, 2156, 963, 4.9726381)\n",
        "('timestamp:933', 0, 2156, 966, 2.6191974)\n",
        "('timestamp:934', 0, 2156, 966, -1.9764233)"
       ]
      },
      {
       "output_type": "stream",
       "stream": "stdout",
       "text": [
        "\n",
        "('timestamp:935', 0, 2156, 966, -2.8384271)\n",
        "('timestamp:936', 0, 2156, 966, -0.18472323)\n",
        "('timestamp:937', 0, 2156, 966, -0.1929981)\n",
        "('timestamp:938', 0, 2156, 965, -5.3123975)"
       ]
      },
      {
       "output_type": "stream",
       "stream": "stdout",
       "text": [
        "\n",
        "('timestamp:939', 0, 2156, 965, -4.0603142)\n",
        "('timestamp:940', 0, 2156, 964, 0.18230462)\n",
        "('timestamp:941', 0, 2156, 964, -0.16902682)"
       ]
      },
      {
       "output_type": "stream",
       "stream": "stdout",
       "text": [
        "\n",
        "('timestamp:942', 0, 2156, 964, 0.6698215)\n",
        "('timestamp:943', 0, 2156, 964, 3.6221743)\n",
        "('timestamp:944', 0, 2156, 964, -1.6497698)\n",
        "('timestamp:945', 0, 2156, 964, -0.97554016)"
       ]
      },
      {
       "output_type": "stream",
       "stream": "stdout",
       "text": [
        "\n",
        "('timestamp:946', 0, 2156, 964, 0.15682159)\n",
        "('timestamp:947', 0, 2156, 964, -3.9154537)\n",
        "('timestamp:948', 0, 2156, 964, 5.8361249)\n",
        "('timestamp:949', 0, 2156, 964, 1.9464055)"
       ]
      },
      {
       "output_type": "stream",
       "stream": "stdout",
       "text": [
        "\n",
        "('timestamp:950', 0, 2156, 964, -2.0543361)\n",
        "('timestamp:951', 0, 2156, 964, 0.27872789)\n",
        "('timestamp:952', 0, 2156, 964, 0.72471756)\n",
        "('timestamp:953', 0, 2156, 964, -2.1588111)"
       ]
      },
      {
       "output_type": "stream",
       "stream": "stdout",
       "text": [
        "\n",
        "('timestamp:954', 0, 2156, 964, 1.5276198)\n",
        "('timestamp:955', 0, 2156, 963, -1.4552794)\n",
        "('timestamp:956', 0, 2156, 963, -0.76308084)"
       ]
      },
      {
       "output_type": "stream",
       "stream": "stdout",
       "text": [
        "\n",
        "('timestamp:957', 0, 2156, 963, -0.24724518)\n",
        "('timestamp:958', 0, 2156, 963, -1.5622371)\n",
        "('timestamp:959', 0, 2156, 963, -1.7956672)\n",
        "('timestamp:960', 0, 2156, 962, 2.4858563)"
       ]
      },
      {
       "output_type": "stream",
       "stream": "stdout",
       "text": [
        "\n",
        "('timestamp:961', 0, 2156, 962, -0.29420397)\n",
        "('timestamp:962', 0, 2156, 962, 1.0970137)\n",
        "('timestamp:963', 0, 2156, 962, -1.054827)\n",
        "('timestamp:964', 0, 2156, 962, -2.0694613)"
       ]
      },
      {
       "output_type": "stream",
       "stream": "stdout",
       "text": [
        "\n",
        "('timestamp:965', 0, 2156, 962, 2.1873031)\n",
        "('timestamp:966', 0, 2156, 962, 6.9879098)\n",
        "('timestamp:967', 0, 2156, 961, 0.69413793)\n",
        "('timestamp:968', 0, 2156, 961, -1.9487954)"
       ]
      },
      {
       "output_type": "stream",
       "stream": "stdout",
       "text": [
        "\n",
        "('timestamp:969', 0, 2156, 959, -0.53277218)\n",
        "('timestamp:970', 0, 2156, 959, 1.2838831)\n",
        "('timestamp:971', 0, 2156, 957, 1.4723676)\n",
        "('timestamp:972', 0, 2156, 956, -0.7281689)"
       ]
      },
      {
       "output_type": "stream",
       "stream": "stdout",
       "text": [
        "\n",
        "('timestamp:973', 0, 2156, 956, -3.4746702)\n",
        "('timestamp:974', 0, 2156, 956, -0.82210267)\n",
        "('timestamp:975', 0, 2156, 956, -1.912814)"
       ]
      },
      {
       "output_type": "stream",
       "stream": "stdout",
       "text": [
        "\n",
        "('timestamp:976', 0, 2156, 956, 1.1982768)\n",
        "('timestamp:977', 0, 2156, 956, -3.7979357)\n",
        "('timestamp:978', 0, 2156, 955, 3.083569)\n",
        "('timestamp:979', 0, 2156, 954, 1.4663324)"
       ]
      },
      {
       "output_type": "stream",
       "stream": "stdout",
       "text": [
        "\n",
        "('timestamp:980', 0, 2156, 953, 1.6988388)\n",
        "('timestamp:981', 0, 2156, 953, 1.0958298)\n",
        "('timestamp:982', 0, 2156, 953, 0.72377986)"
       ]
      },
      {
       "output_type": "stream",
       "stream": "stdout",
       "text": [
        "\n",
        "('timestamp:983', 0, 2156, 952, -6.143508)\n",
        "('timestamp:984', 0, 2156, 965, 2.6811838)\n",
        "('timestamp:985', 0, 2156, 965, 2.5445497)"
       ]
      },
      {
       "output_type": "stream",
       "stream": "stdout",
       "text": [
        "\n",
        "('timestamp:986', 0, 2156, 964, -1.0182071)\n",
        "('timestamp:987', 0, 2156, 964, 2.3417394)\n",
        "('timestamp:988', 0, 2156, 964, -2.1201732)\n",
        "('timestamp:989', 0, 2156, 964, 1.0724146)"
       ]
      },
      {
       "output_type": "stream",
       "stream": "stdout",
       "text": [
        "\n",
        "('timestamp:990', 0, 2156, 964, -1.1143246)\n",
        "('timestamp:991', 0, 2156, 964, -1.3318115)\n",
        "('timestamp:992', 0, 2156, 964, 4.04667)\n",
        "('timestamp:993', 0, 2156, 964, 3.3458519)"
       ]
      },
      {
       "output_type": "stream",
       "stream": "stdout",
       "text": [
        "\n",
        "('timestamp:994', 0, 2156, 964, 6.453187)\n",
        "('timestamp:995', 0, 2156, 964, -0.80532777)\n",
        "('timestamp:996', 0, 2156, 964, 5.367455)\n",
        "('timestamp:997', 0, 2156, 964, 0.9127475)"
       ]
      },
      {
       "output_type": "stream",
       "stream": "stdout",
       "text": [
        "\n",
        "('timestamp:998', 0, 2156, 963, -2.9913597)\n",
        "('timestamp:999', 0, 2156, 962, 5.5923238)\n",
        "('timestamp:1000', 0, 2156, 959, 0.1752595)\n",
        "('timestamp:1001', 0, 2156, 958, 1.531554)"
       ]
      },
      {
       "output_type": "stream",
       "stream": "stdout",
       "text": [
        "\n",
        "('timestamp:1002', 0, 2156, 958, 2.1947377)\n",
        "('timestamp:1003', 0, 2156, 958, 0.82464564)\n",
        "('timestamp:1004', 0, 2156, 958, -4.2854309)"
       ]
      },
      {
       "output_type": "stream",
       "stream": "stdout",
       "text": [
        "\n",
        "('timestamp:1005', 0, 2156, 958, 0.63122016)\n",
        "('timestamp:1006', 0, 2156, 958, -2.4025285)\n",
        "('timestamp:1007', 0, 2156, 958, -1.7911633)\n",
        "('timestamp:1008', 0, 2156, 958, -1.8203433)"
       ]
      },
      {
       "output_type": "stream",
       "stream": "stdout",
       "text": [
        "\n",
        "('timestamp:1009', 0, 2156, 958, 0.19252169)\n",
        "('timestamp:1010', 0, 2156, 957, -0.031642407)\n",
        "('timestamp:1011', 0, 2156, 957, 1.7931734)"
       ]
      },
      {
       "output_type": "stream",
       "stream": "stdout",
       "text": [
        "\n",
        "('timestamp:1012', 0, 2156, 957, -0.24446939)\n",
        "('timestamp:1013', 0, 2156, 957, 0.67028999)\n",
        "('timestamp:1014', 0, 2156, 957, 2.2359889)\n",
        "('timestamp:1015', 0, 2156, 957, 1.2370107)"
       ]
      },
      {
       "output_type": "stream",
       "stream": "stdout",
       "text": [
        "\n",
        "('timestamp:1016', 0, 2156, 957, -0.25461832)\n",
        "('timestamp:1017', 0, 2156, 956, 1.9784875)\n",
        "('timestamp:1018', 0, 2156, 956, 0.24774164)"
       ]
      },
      {
       "output_type": "stream",
       "stream": "stdout",
       "text": [
        "\n",
        "('timestamp:1019', 0, 2156, 956, -5.4915028)\n",
        "('timestamp:1020', 0, 2156, 954, 2.5846159)\n",
        "('timestamp:1021', 0, 2156, 954, -0.89428228)\n",
        "('timestamp:1022', 0, 2156, 954, -1.8189052)"
       ]
      },
      {
       "output_type": "stream",
       "stream": "stdout",
       "text": [
        "\n",
        "('timestamp:1023', 0, 2156, 954, 1.9640073)\n",
        "('timestamp:1024', 0, 2156, 954, -0.58243263)\n",
        "('timestamp:1025', 0, 2156, 954, 1.5019182)\n",
        "('timestamp:1026', 0, 2156, 954, -0.43326843)"
       ]
      },
      {
       "output_type": "stream",
       "stream": "stdout",
       "text": [
        "\n",
        "('timestamp:1027', 0, 2156, 953, -0.73927402)\n",
        "('timestamp:1028', 0, 2156, 953, -0.46169227)\n",
        "('timestamp:1029', 0, 2156, 953, 3.3539939)"
       ]
      },
      {
       "output_type": "stream",
       "stream": "stdout",
       "text": [
        "\n",
        "('timestamp:1030', 0, 2156, 953, 0.87604356)\n",
        "('timestamp:1031', 0, 2156, 953, 2.9341023)\n",
        "('timestamp:1032', 0, 2156, 953, 2.3399737)\n",
        "('timestamp:1033', 0, 2156, 953, 1.0909786)"
       ]
      },
      {
       "output_type": "stream",
       "stream": "stdout",
       "text": [
        "\n",
        "('timestamp:1034', 0, 2156, 955, -3.8587203)\n",
        "('timestamp:1035', 0, 2156, 952, -2.8881404)\n",
        "('timestamp:1036', 0, 2156, 952, 1.0193148)\n",
        "('timestamp:1037', 0, 2156, 951, 1.7507715)"
       ]
      },
      {
       "output_type": "stream",
       "stream": "stdout",
       "text": [
        "\n",
        "('timestamp:1038', 0, 2156, 950, 1.9048172)\n",
        "('timestamp:1039', 0, 2156, 951, -3.6729398)\n",
        "('timestamp:1040', 0, 2156, 951, 1.4845955)\n",
        "('timestamp:1041', 0, 2156, 951, 1.0514822)"
       ]
      },
      {
       "output_type": "stream",
       "stream": "stdout",
       "text": [
        "\n",
        "('timestamp:1042', 0, 2156, 951, 0.90246677)\n",
        "('timestamp:1043', 0, 2156, 951, -1.1912277)\n",
        "('timestamp:1044', 0, 2156, 950, -1.3931503)\n",
        "('timestamp:1045', 0, 2156, 950, -2.2385664)"
       ]
      },
      {
       "output_type": "stream",
       "stream": "stdout",
       "text": [
        "\n",
        "('timestamp:1046', 0, 2156, 949, -0.56543779)\n",
        "('timestamp:1047', 0, 2156, 949, 2.0614429)\n",
        "('timestamp:1048', 0, 2156, 949, -2.3759191)"
       ]
      },
      {
       "output_type": "stream",
       "stream": "stdout",
       "text": [
        "\n",
        "('timestamp:1049', 0, 2156, 949, -1.9391527)\n",
        "('timestamp:1050', 0, 2156, 949, 0.29770142)\n",
        "('timestamp:1051', 0, 2156, 949, 0.074940488)\n",
        "('timestamp:1052', 0, 2156, 949, -2.7824194)"
       ]
      },
      {
       "output_type": "stream",
       "stream": "stdout",
       "text": [
        "\n",
        "('timestamp:1053', 0, 2156, 948, 3.6836295)\n",
        "('timestamp:1054', 0, 2156, 948, 2.0417309)\n",
        "('timestamp:1055', 0, 2156, 948, -1.3837948)\n",
        "('timestamp:1056', 0, 2156, 947, 2.8875492)"
       ]
      },
      {
       "output_type": "stream",
       "stream": "stdout",
       "text": [
        "\n",
        "('timestamp:1057', 0, 2156, 947, -1.7094662)\n",
        "('timestamp:1058', 0, 2156, 947, -0.17668238)\n",
        "('timestamp:1059', 0, 2156, 947, -4.9661908)\n",
        "('timestamp:1060', 0, 2156, 947, -0.65146828)"
       ]
      },
      {
       "output_type": "stream",
       "stream": "stdout",
       "text": [
        "\n",
        "('timestamp:1061', 0, 2156, 947, 2.5959387)\n",
        "('timestamp:1062', 0, 2156, 947, 0.59020126)\n",
        "('timestamp:1063', 0, 2156, 947, 0.26359272)\n",
        "('timestamp:1064', 0, 2156, 946, -2.9777794)"
       ]
      },
      {
       "output_type": "stream",
       "stream": "stdout",
       "text": [
        "\n",
        "('timestamp:1065', 0, 2156, 946, 0.39604503)\n",
        "('timestamp:1066', 0, 2156, 946, 0.19213027)\n",
        "('timestamp:1067', 0, 2156, 946, 2.4064536)\n",
        "('timestamp:1068', 0, 2156, 946, 0.96988297)"
       ]
      },
      {
       "output_type": "stream",
       "stream": "stdout",
       "text": [
        "\n",
        "('timestamp:1069', 0, 2156, 945, -0.49324995)\n",
        "('timestamp:1070', 0, 2156, 943, -0.33896852)\n",
        "('timestamp:1071', 0, 2156, 943, -3.2014637)\n",
        "('timestamp:1072', 0, 2156, 943, 2.147398)"
       ]
      },
      {
       "output_type": "stream",
       "stream": "stdout",
       "text": [
        "\n",
        "('timestamp:1073', 0, 2156, 943, -2.3394082)\n",
        "('timestamp:1074', 0, 2156, 943, 2.6513326)\n",
        "('timestamp:1075', 0, 2156, 943, -4.8571739)\n",
        "('timestamp:1076', 0, 2156, 942, -1.7730093)"
       ]
      },
      {
       "output_type": "stream",
       "stream": "stdout",
       "text": [
        "\n",
        "('timestamp:1077', 0, 2156, 942, -1.8819643)\n",
        "('timestamp:1078', 0, 2156, 942, 3.3318377)\n",
        "('timestamp:1079', 0, 2156, 942, -2.2156777)\n",
        "('timestamp:1080', 0, 2156, 942, 3.4485002)"
       ]
      },
      {
       "output_type": "stream",
       "stream": "stdout",
       "text": [
        "\n",
        "('timestamp:1081', 0, 2156, 942, 0.51128936)\n",
        "('timestamp:1082', 0, 2156, 942, -0.13030952)\n",
        "('timestamp:1083', 0, 2156, 942, -1.524929)"
       ]
      },
      {
       "output_type": "stream",
       "stream": "stdout",
       "text": [
        "\n",
        "('timestamp:1084', 0, 2156, 941, 2.4603395)\n",
        "('timestamp:1085', 0, 2156, 978, -2.9612937)\n",
        "('timestamp:1086', 0, 2156, 977, -3.2828031)\n",
        "('timestamp:1087', 0, 2156, 977, -1.3902116)"
       ]
      },
      {
       "output_type": "stream",
       "stream": "stdout",
       "text": [
        "\n",
        "('timestamp:1088', 0, 2156, 975, -1.3344181)\n",
        "('timestamp:1089', 0, 2156, 975, -2.4485922)\n",
        "('timestamp:1090', 0, 2156, 975, -0.42220441)\n",
        "('timestamp:1091', 0, 2156, 975, -1.3893048)"
       ]
      },
      {
       "output_type": "stream",
       "stream": "stdout",
       "text": [
        "\n",
        "('timestamp:1092', 0, 2156, 974, -1.7913883)\n",
        "('timestamp:1093', 0, 2156, 974, -1.0489547)\n",
        "('timestamp:1094', 0, 2156, 974, -7.1007004)\n",
        "('timestamp:1095', 0, 2156, 974, -4.4817224)"
       ]
      },
      {
       "output_type": "stream",
       "stream": "stdout",
       "text": [
        "\n",
        "('timestamp:1096', 0, 2156, 974, 0.85920471)\n",
        "('timestamp:1097', 0, 2156, 974, 2.1981082)\n",
        "('timestamp:1098', 0, 2156, 974, -0.18544416)\n",
        "('timestamp:1099', 0, 2156, 974, -3.7761228)"
       ]
      },
      {
       "output_type": "stream",
       "stream": "stdout",
       "text": [
        "\n",
        "('timestamp:1100', 0, 2156, 974, 1.4717566)\n",
        "('timestamp:1101', 0, 2156, 974, 1.7560902)\n",
        "('timestamp:1102', 0, 2156, 975, -3.3024006)\n",
        "('timestamp:1103', 0, 2156, 975, 4.9727497)"
       ]
      },
      {
       "output_type": "stream",
       "stream": "stdout",
       "text": [
        "\n",
        "('timestamp:1104', 0, 2156, 975, -0.75179178)\n",
        "('timestamp:1105', 0, 2156, 975, -2.5584249)\n",
        "('timestamp:1106', 0, 2156, 974, -2.0141654)\n",
        "('timestamp:1107', 0, 2156, 974, 1.3095034)"
       ]
      },
      {
       "output_type": "stream",
       "stream": "stdout",
       "text": [
        "\n",
        "('timestamp:1108', 0, 2156, 974, 3.1604292)\n",
        "('timestamp:1109', 0, 2156, 974, 4.535183)\n",
        "('timestamp:1110', 0, 2156, 974, -3.178144)\n",
        "('timestamp:1111', 0, 2156, 974, 0.29548055)"
       ]
      },
      {
       "output_type": "stream",
       "stream": "stdout",
       "text": [
        "\n",
        "('timestamp:1112', 0, 2156, 973, -1.8814969)\n",
        "('timestamp:1113', 0, 2156, 973, -2.3717129)\n",
        "('timestamp:1114', 0, 2156, 973, 0.6376344)\n",
        "('timestamp:1115', 0, 2156, 973, 2.2461362)"
       ]
      },
      {
       "output_type": "stream",
       "stream": "stdout",
       "text": [
        "\n",
        "('timestamp:1116', 0, 2156, 973, 4.3518348)\n",
        "('timestamp:1117', 0, 2156, 973, 3.5348902)\n",
        "('timestamp:1118', 0, 2156, 973, 2.4711509)\n",
        "('timestamp:1119', 0, 2156, 974, -1.9607581)"
       ]
      },
      {
       "output_type": "stream",
       "stream": "stdout",
       "text": [
        "\n",
        "('timestamp:1120', 0, 2156, 974, 2.2793062)\n",
        "('timestamp:1121', 0, 2156, 974, -3.6262379)\n",
        "('timestamp:1122', 0, 2156, 974, 0.1674062)"
       ]
      },
      {
       "output_type": "stream",
       "stream": "stdout",
       "text": [
        "\n",
        "('timestamp:1123', 0, 2156, 974, -0.59581292)\n",
        "('timestamp:1124', 0, 2156, 974, 5.3714781)\n",
        "('timestamp:1125', 0, 2156, 974, 2.5131655)\n",
        "('timestamp:1126', 0, 2156, 974, -1.7944044)"
       ]
      },
      {
       "output_type": "stream",
       "stream": "stdout",
       "text": [
        "\n",
        "('timestamp:1127', 0, 2156, 974, -1.0886874)\n",
        "('timestamp:1128', 0, 2156, 973, -0.78660274)\n",
        "('timestamp:1129', 0, 2156, 973, 1.2013505)"
       ]
      },
      {
       "output_type": "stream",
       "stream": "stdout",
       "text": [
        "\n",
        "('timestamp:1130', 0, 2156, 973, -1.2441252)\n",
        "('timestamp:1131', 0, 2156, 973, -2.5733907)\n",
        "('timestamp:1132', 0, 2156, 973, 0.20531973)\n",
        "('timestamp:1133', 0, 2156, 973, -2.5581493)"
       ]
      },
      {
       "output_type": "stream",
       "stream": "stdout",
       "text": [
        "\n",
        "('timestamp:1134', 0, 2156, 973, 0.61085558)\n",
        "('timestamp:1135', 0, 2156, 973, -1.0848458)\n",
        "('timestamp:1136', 0, 2156, 973, -0.56630599)"
       ]
      },
      {
       "output_type": "stream",
       "stream": "stdout",
       "text": [
        "\n",
        "('timestamp:1137', 0, 2156, 974, -3.2785735)\n",
        "('timestamp:1138', 0, 2156, 974, -0.9889127)"
       ]
      },
      {
       "output_type": "stream",
       "stream": "stdout",
       "text": [
        "\n",
        "('timestamp:1139', 0, 2156, 973, 3.315731)\n",
        "('timestamp:1140', 0, 2156, 973, 0.3193199)\n",
        "('timestamp:1141', 0, 2156, 973, 2.3903742)"
       ]
      },
      {
       "output_type": "stream",
       "stream": "stdout",
       "text": [
        "\n",
        "('timestamp:1142', 0, 2156, 973, 1.4566774)\n",
        "('timestamp:1143', 0, 2156, 973, 3.5387387)\n",
        "('timestamp:1144', 0, 2156, 973, -2.9190404)"
       ]
      },
      {
       "output_type": "stream",
       "stream": "stdout",
       "text": [
        "\n",
        "('timestamp:1145', 0, 2156, 973, -2.5990839)\n",
        "('timestamp:1146', 0, 2156, 973, 0.67457598)\n",
        "('timestamp:1147', 0, 2156, 973, -5.3939743)\n",
        "('timestamp:1148', 0, 2156, 973, -2.4212799)"
       ]
      },
      {
       "output_type": "stream",
       "stream": "stdout",
       "text": [
        "\n",
        "('timestamp:1149', 0, 2156, 972, 0.41452831)\n",
        "('timestamp:1150', 0, 2156, 971, 2.6976175)\n",
        "('timestamp:1151', 0, 2156, 970, 2.0809851)\n",
        "('timestamp:1152', 0, 2156, 970, -1.4274739)"
       ]
      },
      {
       "output_type": "stream",
       "stream": "stdout",
       "text": [
        "\n",
        "('timestamp:1153', 0, 2156, 970, -2.4850602)\n",
        "('timestamp:1154', 0, 2156, 969, -0.37262827)\n",
        "('timestamp:1155', 0, 2156, 969, 2.6934223)\n",
        "('timestamp:1156', 0, 2156, 969, -0.57580262)"
       ]
      },
      {
       "output_type": "stream",
       "stream": "stdout",
       "text": [
        "\n",
        "('timestamp:1157', 0, 2156, 967, 0.033754751)\n",
        "('timestamp:1158', 0, 2156, 967, 0.40947407)\n",
        "('timestamp:1159', 0, 2156, 966, 0.74240637)"
       ]
      },
      {
       "output_type": "stream",
       "stream": "stdout",
       "text": [
        "\n",
        "('timestamp:1160', 0, 2156, 966, 2.7462347)\n",
        "('timestamp:1161', 0, 2156, 965, -1.228906)\n",
        "('timestamp:1162', 0, 2156, 965, -2.2027946)"
       ]
      },
      {
       "output_type": "stream",
       "stream": "stdout",
       "text": [
        "\n",
        "('timestamp:1163', 0, 2156, 965, 1.6357582)\n",
        "('timestamp:1164', 0, 2156, 965, 1.2699662)"
       ]
      },
      {
       "output_type": "stream",
       "stream": "stdout",
       "text": [
        "\n",
        "('timestamp:1165', 0, 2156, 965, 1.8280454)\n",
        "('timestamp:1166', 0, 2156, 965, -3.5035594)\n",
        "('timestamp:1167', 0, 2156, 965, -1.8399999)"
       ]
      },
      {
       "output_type": "stream",
       "stream": "stdout",
       "text": [
        "\n",
        "('timestamp:1168', 0, 2156, 965, 0.23762405)\n",
        "('timestamp:1169', 0, 2156, 965, 2.8067188)\n",
        "('timestamp:1170', 0, 2156, 963, 0.44198531)"
       ]
      },
      {
       "output_type": "stream",
       "stream": "stdout",
       "text": [
        "\n",
        "('timestamp:1171', 0, 2156, 963, 2.5088153)\n",
        "('timestamp:1172', 0, 2156, 963, -0.66410136)\n",
        "('timestamp:1173', 0, 2156, 963, 1.348134)\n",
        "('timestamp:1174', 0, 2156, 963, 0.58994699)"
       ]
      },
      {
       "output_type": "stream",
       "stream": "stdout",
       "text": [
        "\n",
        "('timestamp:1175', 0, 2156, 963, -1.3110226)\n",
        "('timestamp:1176', 0, 2156, 963, -1.956048)\n",
        "('timestamp:1177', 0, 2156, 963, -0.57788247)\n",
        "('timestamp:1178', 0, 2156, 963, -2.2024393)"
       ]
      },
      {
       "output_type": "stream",
       "stream": "stdout",
       "text": [
        "\n",
        "('timestamp:1179', 0, 2156, 963, -2.6855793)\n",
        "('timestamp:1180', 0, 2156, 962, -3.8836646)\n",
        "('timestamp:1181', 0, 2156, 962, -1.8302777)\n",
        "('timestamp:1182', 0, 2156, 962, -0.25601619)"
       ]
      },
      {
       "output_type": "stream",
       "stream": "stdout",
       "text": [
        "\n",
        "('timestamp:1183', 0, 2156, 962, 1.8246875)\n",
        "('timestamp:1184', 0, 2156, 962, 0.059322685)\n",
        "('timestamp:1185', 0, 2156, 962, -0.037744455)\n",
        "('timestamp:1186', 0, 2156, 962, -0.50104743)"
       ]
      },
      {
       "output_type": "stream",
       "stream": "stdout",
       "text": [
        "\n",
        "('timestamp:1187', 0, 2156, 962, -0.4193674)\n",
        "('timestamp:1188', 0, 2156, 977, 0.68491447)\n",
        "('timestamp:1189', 0, 2156, 977, -2.2349334)"
       ]
      },
      {
       "output_type": "stream",
       "stream": "stdout",
       "text": [
        "\n",
        "('timestamp:1190', 0, 2156, 977, -0.11812314)\n",
        "('timestamp:1191', 0, 2156, 977, 3.4073515)\n",
        "('timestamp:1192', 0, 2156, 977, 1.6277375)\n",
        "('timestamp:1193', 0, 2156, 977, 2.0559371)"
       ]
      },
      {
       "output_type": "stream",
       "stream": "stdout",
       "text": [
        "\n",
        "('timestamp:1194', 0, 2156, 977, 0.20234451)\n",
        "('timestamp:1195', 0, 2156, 977, -1.0768464)\n",
        "('timestamp:1196', 0, 2156, 976, -0.22880425)\n",
        "('timestamp:1197', 0, 2156, 976, 2.7074449)"
       ]
      },
      {
       "output_type": "stream",
       "stream": "stdout",
       "text": [
        "\n",
        "('timestamp:1198', 0, 2156, 976, 0.62943769)\n",
        "('timestamp:1199', 0, 2156, 976, 2.7352309)\n",
        "('timestamp:1200', 0, 2156, 976, -0.99501312)\n",
        "('timestamp:1201', 0, 2156, 976, 3.4408379)"
       ]
      },
      {
       "output_type": "stream",
       "stream": "stdout",
       "text": [
        "\n",
        "('timestamp:1202', 0, 2156, 975, 3.2064109)\n",
        "('timestamp:1203', 0, 2156, 972, -1.8231332)\n",
        "('timestamp:1204', 0, 2156, 972, 1.7159915)\n",
        "('timestamp:1205', 0, 2156, 972, 0.92665833)"
       ]
      },
      {
       "output_type": "stream",
       "stream": "stdout",
       "text": [
        "\n",
        "('timestamp:1206', 0, 2156, 972, 0.22159192)\n",
        "('timestamp:1207', 0, 2156, 972, 2.2048388)\n",
        "('timestamp:1208', 0, 2156, 972, 2.79215)\n",
        "('timestamp:1209', 0, 2156, 972, 1.8453898)"
       ]
      },
      {
       "output_type": "stream",
       "stream": "stdout",
       "text": [
        "\n",
        "('timestamp:1210', 0, 2156, 972, 0.025186926)\n",
        "('timestamp:1211', 0, 2156, 971, -0.18236247)\n",
        "('timestamp:1212', 0, 2156, 971, -1.8722471)\n",
        "('timestamp:1213', 0, 2156, 970, 2.1446724)"
       ]
      },
      {
       "output_type": "stream",
       "stream": "stdout",
       "text": [
        "\n",
        "('timestamp:1214', 0, 2156, 970, 1.3883963)\n",
        "('timestamp:1215', 0, 2156, 970, 2.838182)\n",
        "('timestamp:1216', 0, 2156, 969, 1.4280257)"
       ]
      },
      {
       "output_type": "stream",
       "stream": "stdout",
       "text": [
        "\n",
        "('timestamp:1217', 0, 2156, 969, 2.0024414)\n",
        "('timestamp:1218', 0, 2156, 969, -1.4513367)\n",
        "('timestamp:1219', 0, 2156, 969, 7.2685647)\n",
        "('timestamp:1220', 0, 2156, 969, -2.968585)"
       ]
      },
      {
       "output_type": "stream",
       "stream": "stdout",
       "text": [
        "\n",
        "('timestamp:1221', 0, 2156, 969, 0.38632536)\n",
        "('timestamp:1222', 0, 2156, 968, -0.74700201)\n",
        "('timestamp:1223', 0, 2156, 968, 1.9464853)\n",
        "('timestamp:1224', 0, 2156, 968, -0.52612877)"
       ]
      },
      {
       "output_type": "stream",
       "stream": "stdout",
       "text": [
        "\n",
        "('timestamp:1225', 0, 2156, 968, 1.4138184)\n",
        "('timestamp:1226', 0, 2156, 968, 0.3823745)\n",
        "('timestamp:1227', 0, 2156, 968, 2.5977147)\n",
        "('timestamp:1228', 0, 2156, 967, 2.1377749)"
       ]
      },
      {
       "output_type": "stream",
       "stream": "stdout",
       "text": [
        "\n",
        "('timestamp:1229', 0, 2156, 967, -0.34960496)\n",
        "('timestamp:1230', 0, 2156, 966, -0.1651966)\n",
        "('timestamp:1231', 0, 2156, 966, -4.21526)\n",
        "('timestamp:1232', 0, 2156, 965, 1.0996478)"
       ]
      },
      {
       "output_type": "stream",
       "stream": "stdout",
       "text": [
        "\n",
        "('timestamp:1233', 0, 2156, 965, -2.1592698)\n",
        "('timestamp:1234', 0, 2156, 965, 0.77881801)\n",
        "('timestamp:1235', 0, 2156, 965, 2.9045384)"
       ]
      },
      {
       "output_type": "stream",
       "stream": "stdout",
       "text": [
        "\n",
        "('timestamp:1236', 0, 2156, 965, -3.0465412)\n",
        "('timestamp:1237', 0, 2156, 965, 2.8252945)\n",
        "('timestamp:1238', 0, 2156, 964, 0.78213853)\n",
        "('timestamp:1239', 0, 2156, 963, -1.5879235)"
       ]
      },
      {
       "output_type": "stream",
       "stream": "stdout",
       "text": [
        "\n",
        "('timestamp:1240', 0, 2156, 963, -0.5610199)\n",
        "('timestamp:1241', 0, 2156, 963, 0.55697292)\n",
        "('timestamp:1242', 0, 2156, 963, -0.40950418)"
       ]
      },
      {
       "output_type": "stream",
       "stream": "stdout",
       "text": [
        "\n",
        "('timestamp:1243', 0, 2156, 963, -0.18106672)\n",
        "('timestamp:1244', 0, 2156, 963, 1.5082412)\n",
        "('timestamp:1245', 0, 2156, 963, -0.22516936)"
       ]
      },
      {
       "output_type": "stream",
       "stream": "stdout",
       "text": [
        "\n",
        "('timestamp:1246', 0, 2156, 963, -0.28173479)\n",
        "('timestamp:1247', 0, 2156, 963, -0.92051977)\n",
        "('timestamp:1248', 0, 2156, 963, -1.7755717)\n",
        "('timestamp:1249', 0, 2156, 963, -1.932498)"
       ]
      },
      {
       "output_type": "stream",
       "stream": "stdout",
       "text": [
        "\n",
        "('timestamp:1250', 0, 2156, 961, 2.531836)\n",
        "('timestamp:1251', 0, 2156, 961, -0.034175009)\n",
        "('timestamp:1252', 0, 2156, 961, -2.9588978)\n",
        "('timestamp:1253', 0, 2156, 961, -2.4426541)"
       ]
      },
      {
       "output_type": "stream",
       "stream": "stdout",
       "text": [
        "\n",
        "('timestamp:1254', 0, 2156, 961, -4.193388)\n",
        "('timestamp:1255', 0, 2156, 962, -1.7155048)\n",
        "('timestamp:1256', 0, 2156, 962, 3.3365314)\n",
        "('timestamp:1257', 0, 2156, 962, -0.0031112842)"
       ]
      },
      {
       "output_type": "stream",
       "stream": "stdout",
       "text": [
        "\n",
        "('timestamp:1258', 0, 2156, 962, 1.7468019)\n",
        "('timestamp:1259', 0, 2156, 962, 0.76463902)\n",
        "('timestamp:1260', 0, 2156, 961, -0.82774723)"
       ]
      },
      {
       "output_type": "stream",
       "stream": "stdout",
       "text": [
        "\n",
        "('timestamp:1261', 0, 2156, 961, -2.0032272)\n",
        "('timestamp:1262', 0, 2156, 961, -3.6083851)\n",
        "('timestamp:1263', 0, 2156, 961, -3.3080153)"
       ]
      },
      {
       "output_type": "stream",
       "stream": "stdout",
       "text": [
        "\n",
        "('timestamp:1264', 0, 2156, 961, -0.45827439)\n",
        "('timestamp:1265', 0, 2156, 961, -0.43070465)\n",
        "('timestamp:1266', 0, 2156, 961, 4.4914699)\n",
        "('timestamp:1267', 0, 2156, 961, 4.1013584)"
       ]
      },
      {
       "output_type": "stream",
       "stream": "stdout",
       "text": [
        "\n",
        "('timestamp:1268', 0, 2156, 961, -1.2582507)\n",
        "('timestamp:1269', 0, 2156, 961, -2.7383206)\n",
        "('timestamp:1270', 0, 2156, 961, -0.095557854)"
       ]
      },
      {
       "output_type": "stream",
       "stream": "stdout",
       "text": [
        "\n",
        "('timestamp:1271', 0, 2156, 961, 3.4096708)\n",
        "('timestamp:1272', 0, 2156, 960, 0.22453211)\n",
        "('timestamp:1273', 0, 2156, 958, -0.63288283)"
       ]
      },
      {
       "output_type": "stream",
       "stream": "stdout",
       "text": [
        "\n",
        "('timestamp:1274', 0, 2156, 957, -0.46493518)\n",
        "('timestamp:1275', 0, 2156, 957, -0.28829181)\n",
        "('timestamp:1276', 0, 2156, 957, -0.74837577)"
       ]
      },
      {
       "output_type": "stream",
       "stream": "stdout",
       "text": [
        "\n",
        "('timestamp:1277', 0, 2156, 957, -1.2917942)\n",
        "('timestamp:1278', 0, 2156, 957, 0.4650206)"
       ]
      },
      {
       "output_type": "stream",
       "stream": "stdout",
       "text": [
        "\n",
        "('timestamp:1279', 0, 2156, 957, -0.18515287)\n",
        "('timestamp:1280', 0, 2156, 956, 0.037047774)\n",
        "('timestamp:1281', 0, 2156, 956, -0.69114435)"
       ]
      },
      {
       "output_type": "stream",
       "stream": "stdout",
       "text": [
        "\n",
        "('timestamp:1282', 0, 2156, 956, -0.71738309)\n",
        "('timestamp:1283', 0, 2156, 956, 3.2233963)\n",
        "('timestamp:1284', 0, 2156, 956, -0.54956788)"
       ]
      },
      {
       "output_type": "stream",
       "stream": "stdout",
       "text": [
        "\n",
        "('timestamp:1285', 0, 2156, 956, 3.4426582)\n",
        "('timestamp:1286', 0, 2156, 956, -2.3963058)\n",
        "('timestamp:1287', 0, 2156, 956, -0.5363034)\n",
        "('timestamp:1288', 0, 2156, 956, 1.6548409)"
       ]
      },
      {
       "output_type": "stream",
       "stream": "stdout",
       "text": [
        "\n",
        "('timestamp:1289', 0, 2156, 956, -0.021173619)\n",
        "('timestamp:1290', 0, 2156, 971, -0.88498235)\n",
        "('timestamp:1291', 0, 2156, 971, 1.5555308)\n",
        "('timestamp:1292', 0, 2156, 971, 1.4655)"
       ]
      },
      {
       "output_type": "stream",
       "stream": "stdout",
       "text": [
        "\n",
        "('timestamp:1293', 0, 2156, 971, -0.72322571)\n",
        "('timestamp:1294', 0, 2156, 971, -1.9116809)\n",
        "('timestamp:1295', 0, 2156, 971, -4.6668491)\n",
        "('timestamp:1296', 0, 2156, 970, -0.29624054)"
       ]
      },
      {
       "output_type": "stream",
       "stream": "stdout",
       "text": [
        "\n",
        "('timestamp:1297', 0, 2156, 970, -0.21826261)\n",
        "('timestamp:1298', 0, 2156, 970, -1.0088693)\n",
        "('timestamp:1299', 0, 2156, 970, 0.44188949)\n",
        "('timestamp:1300', 0, 2156, 970, -0.67886078)"
       ]
      },
      {
       "output_type": "stream",
       "stream": "stdout",
       "text": [
        "\n",
        "('timestamp:1301', 0, 2156, 970, -5.3433075)\n",
        "('timestamp:1302', 0, 2156, 968, 0.7507304)\n",
        "('timestamp:1303', 0, 2156, 968, 1.998336)\n",
        "('timestamp:1304', 0, 2156, 968, -1.6377633)"
       ]
      },
      {
       "output_type": "stream",
       "stream": "stdout",
       "text": [
        "\n",
        "('timestamp:1305', 0, 2156, 968, 2.5228989)\n",
        "('timestamp:1306', 0, 2156, 971, -5.8883576)\n",
        "('timestamp:1307', 0, 2156, 971, 1.7617269)"
       ]
      },
      {
       "output_type": "stream",
       "stream": "stdout",
       "text": [
        "\n",
        "('timestamp:1308', 0, 2156, 970, -10.79922)\n",
        "('timestamp:1309', 0, 2156, 969, 1.4988911)\n",
        "('timestamp:1310', 0, 2156, 969, 7.778986)"
       ]
      },
      {
       "output_type": "stream",
       "stream": "stdout",
       "text": [
        "\n",
        "('timestamp:1311', 0, 2156, 969, 1.0887029)\n",
        "('timestamp:1312', 0, 2156, 969, -0.069516331)\n",
        "('timestamp:1313', 0, 2156, 969, -2.5100069)\n",
        "('timestamp:1314', 0, 2156, 969, 1.1014977)"
       ]
      },
      {
       "output_type": "stream",
       "stream": "stdout",
       "text": [
        "\n",
        "('timestamp:1315', 0, 2156, 968, -3.9013042)\n",
        "('timestamp:1316', 0, 2156, 967, 2.2712674)\n",
        "('timestamp:1317', 0, 2156, 967, 0.75123608)"
       ]
      },
      {
       "output_type": "stream",
       "stream": "stdout",
       "text": [
        "\n",
        "('timestamp:1318', 0, 2156, 967, -3.1962523)\n",
        "('timestamp:1319', 0, 2156, 965, 0.77036983)\n",
        "('timestamp:1320', 0, 2156, 965, -0.93487829)\n",
        "('timestamp:1321', 0, 2156, 965, 1.0926983)"
       ]
      },
      {
       "output_type": "stream",
       "stream": "stdout",
       "text": [
        "\n",
        "('timestamp:1322', 0, 2156, 965, 1.6681309)\n",
        "('timestamp:1323', 0, 2156, 965, -1.0664315)\n",
        "('timestamp:1324', 0, 2156, 965, 1.3455079)\n",
        "('timestamp:1325', 0, 2156, 965, -0.73438394)"
       ]
      },
      {
       "output_type": "stream",
       "stream": "stdout",
       "text": [
        "\n",
        "('timestamp:1326', 0, 2156, 965, 0.65742505)\n",
        "('timestamp:1327', 0, 2156, 964, -5.9978223)\n",
        "('timestamp:1328', 0, 2156, 964, -1.9498121)"
       ]
      },
      {
       "output_type": "stream",
       "stream": "stdout",
       "text": [
        "\n",
        "('timestamp:1329', 0, 2156, 964, -1.8519839)\n",
        "('timestamp:1330', 0, 2156, 964, 3.4009957)\n",
        "('timestamp:1331', 0, 2156, 964, -1.4647603)\n",
        "('timestamp:1332', 0, 2156, 963, -1.6558867)"
       ]
      },
      {
       "output_type": "stream",
       "stream": "stdout",
       "text": [
        "\n",
        "('timestamp:1333', 0, 2156, 963, 1.0906913)\n",
        "('timestamp:1334', 0, 2156, 963, -1.106174)\n",
        "('timestamp:1335', 0, 2156, 963, -2.167316)"
       ]
      },
      {
       "output_type": "stream",
       "stream": "stdout",
       "text": [
        "\n",
        "('timestamp:1336', 0, 2156, 963, -1.7706695)\n",
        "('timestamp:1337', 0, 2156, 963, -1.5267764)\n",
        "('timestamp:1338', 0, 2156, 962, 1.0043509)\n",
        "('timestamp:1339', 0, 2156, 962, 2.3855972)"
       ]
      },
      {
       "output_type": "stream",
       "stream": "stdout",
       "text": [
        "\n",
        "('timestamp:1340', 0, 2156, 962, -0.31000844)\n",
        "('timestamp:1341', 0, 2156, 959, 4.8907437)\n",
        "('timestamp:1342', 0, 2156, 957, 1.8903084)\n",
        "('timestamp:1343', 0, 2156, 957, -1.1785309)"
       ]
      },
      {
       "output_type": "stream",
       "stream": "stdout",
       "text": [
        "\n",
        "('timestamp:1344', 0, 2156, 956, -1.8825673)\n",
        "('timestamp:1345', 0, 2156, 956, 0.4645907)\n",
        "('timestamp:1346', 0, 2156, 956, -1.9319179)"
       ]
      },
      {
       "output_type": "stream",
       "stream": "stdout",
       "text": [
        "\n",
        "('timestamp:1347', 0, 2156, 955, -1.482316)\n",
        "('timestamp:1348', 0, 2156, 955, -1.4833796)\n",
        "('timestamp:1349', 0, 2156, 954, -0.066634491)\n",
        "('timestamp:1350', 0, 2156, 954, 3.5450387)"
       ]
      },
      {
       "output_type": "stream",
       "stream": "stdout",
       "text": [
        "\n",
        "('timestamp:1351', 0, 2156, 954, 4.2845311)\n",
        "('timestamp:1352', 0, 2156, 953, -1.9361581)\n",
        "('timestamp:1353', 0, 2156, 953, -1.7370756)\n",
        "('timestamp:1354', 0, 2156, 952, -2.9873843)"
       ]
      },
      {
       "output_type": "stream",
       "stream": "stdout",
       "text": [
        "\n",
        "('timestamp:1355', 0, 2156, 951, -0.76013988)\n",
        "('timestamp:1356', 0, 2156, 951, 2.8265591)\n",
        "('timestamp:1357', 0, 2156, 951, -0.76417768)\n",
        "('timestamp:1358', 0, 2156, 954, -2.1471529)"
       ]
      },
      {
       "output_type": "stream",
       "stream": "stdout",
       "text": [
        "\n",
        "('timestamp:1359', 0, 2156, 954, -2.4790123)\n",
        "('timestamp:1360', 0, 2156, 954, -2.0251107)\n",
        "('timestamp:1361', 0, 2156, 954, 4.0468483)\n",
        "('timestamp:1362', 0, 2156, 952, 3.469465)"
       ]
      },
      {
       "output_type": "stream",
       "stream": "stdout",
       "text": [
        "\n",
        "('timestamp:1363', 0, 2156, 951, 1.7286024)\n",
        "('timestamp:1364', 0, 2156, 951, -4.7709503)\n",
        "('timestamp:1365', 0, 2156, 951, -0.076723844)\n",
        "('timestamp:1366', 0, 2156, 950, 1.5718808)"
       ]
      },
      {
       "output_type": "stream",
       "stream": "stdout",
       "text": [
        "\n",
        "('timestamp:1367', 0, 2156, 949, -6.9035587)\n",
        "('timestamp:1368', 0, 2156, 946, -6.7103353)\n",
        "('timestamp:1369', 0, 2156, 946, 5.0668302)"
       ]
      },
      {
       "output_type": "stream",
       "stream": "stdout",
       "text": [
        "\n",
        "('timestamp:1370', 0, 2156, 945, -5.1555467)\n",
        "('timestamp:1371', 0, 2156, 945, 0.90872651)\n",
        "('timestamp:1372', 0, 2156, 945, -2.2142534)"
       ]
      },
      {
       "output_type": "stream",
       "stream": "stdout",
       "text": [
        "\n",
        "('timestamp:1373', 0, 2156, 945, 0.80203426)\n",
        "('timestamp:1374', 0, 2156, 945, -0.52761352)\n",
        "('timestamp:1375', 0, 2156, 945, -0.073204309)"
       ]
      },
      {
       "output_type": "stream",
       "stream": "stdout",
       "text": [
        "\n",
        "('timestamp:1376', 0, 2156, 945, -1.8585043)\n",
        "('timestamp:1377', 0, 2156, 945, 4.3464746)\n",
        "('timestamp:1378', 0, 2156, 945, 2.7286208)\n",
        "('timestamp:1379', 0, 2156, 945, 1.1434443)"
       ]
      },
      {
       "output_type": "stream",
       "stream": "stdout",
       "text": [
        "\n",
        "('timestamp:1380', 0, 2156, 945, -3.9586196)\n",
        "('timestamp:1381', 0, 2156, 945, -2.5416474)\n",
        "('timestamp:1382', 0, 2156, 944, -1.6331698)\n",
        "('timestamp:1383', 0, 2156, 944, 0.58504581)"
       ]
      },
      {
       "output_type": "stream",
       "stream": "stdout",
       "text": [
        "\n",
        "('timestamp:1384', 0, 2156, 944, 0.8206501)\n",
        "('timestamp:1385', 0, 2156, 944, 0.68635774)\n",
        "('timestamp:1386', 0, 2156, 942, -1.2502799)\n",
        "('timestamp:1387', 0, 2156, 941, 0.8341068)"
       ]
      },
      {
       "output_type": "stream",
       "stream": "stdout",
       "text": [
        "\n",
        "('timestamp:1388', 0, 2156, 941, -2.5924597)\n",
        "('timestamp:1389', 0, 2156, 941, -1.8337512)\n",
        "('timestamp:1390', 0, 2156, 940, 3.8117437)"
       ]
      },
      {
       "output_type": "stream",
       "stream": "stdout",
       "text": [
        "\n",
        "('timestamp:1391', 0, 2156, 981, -0.32416028)\n",
        "('timestamp:1392', 0, 2156, 981, -9.629283)\n",
        "('timestamp:1393', 0, 2156, 981, -2.9255471)"
       ]
      },
      {
       "output_type": "stream",
       "stream": "stdout",
       "text": [
        "\n",
        "('timestamp:1394', 0, 2156, 981, -2.5092731)\n",
        "('timestamp:1395', 0, 2156, 981, -9.521492)\n",
        "('timestamp:1396', 0, 2156, 981, 3.7750311)"
       ]
      },
      {
       "output_type": "stream",
       "stream": "stdout",
       "text": [
        "\n",
        "('timestamp:1397', 0, 2156, 981, 0.5180763)\n",
        "('timestamp:1398', 0, 2156, 981, -2.9109182)\n",
        "('timestamp:1399', 0, 2156, 981, 2.7369399)"
       ]
      },
      {
       "output_type": "stream",
       "stream": "stdout",
       "text": [
        "\n",
        "('timestamp:1400', 0, 2156, 981, 4.4453201)\n",
        "('timestamp:1401', 0, 2156, 981, 2.501518)\n",
        "('timestamp:1402', 0, 2156, 981, 10.441383)\n",
        "('timestamp:1403', 0, 2156, 981, -1.507992)"
       ]
      },
      {
       "output_type": "stream",
       "stream": "stdout",
       "text": [
        "\n",
        "('timestamp:1404', 0, 2156, 981, 8.6212234)\n",
        "('timestamp:1405', 0, 2156, 980, 3.2106261)\n",
        "('timestamp:1406', 0, 2156, 979, -3.6949039)\n",
        "('timestamp:1407', 0, 2156, 978, 3.2801268)"
       ]
      },
      {
       "output_type": "stream",
       "stream": "stdout",
       "text": [
        "\n",
        "('timestamp:1408', 0, 2156, 979, 9.3369398)\n",
        "('timestamp:1409', 0, 2156, 979, 2.2430587)\n",
        "('timestamp:1410', 0, 2156, 979, 6.242949)\n",
        "('timestamp:1411', 0, 2156, 979, -2.4501312)"
       ]
      },
      {
       "output_type": "stream",
       "stream": "stdout",
       "text": [
        "\n",
        "('timestamp:1412', 0, 2156, 979, 1.9230498)\n",
        "('timestamp:1413', 0, 2156, 979, -1.6258394)\n",
        "('timestamp:1414', 0, 2156, 979, -2.4094677)\n",
        "('timestamp:1415', 0, 2156, 979, 0.22102213)"
       ]
      },
      {
       "output_type": "stream",
       "stream": "stdout",
       "text": [
        "\n",
        "('timestamp:1416', 0, 2156, 979, -1.8947947)\n",
        "('timestamp:1417', 0, 2156, 979, -0.63282585)\n",
        "('timestamp:1418', 0, 2156, 978, -0.6460852)"
       ]
      },
      {
       "output_type": "stream",
       "stream": "stdout",
       "text": [
        "\n",
        "('timestamp:1419', 0, 2156, 978, -2.4917178)\n",
        "('timestamp:1420', 0, 2156, 978, 3.0101228)\n",
        "('timestamp:1421', 0, 2156, 978, 2.237519)"
       ]
      },
      {
       "output_type": "stream",
       "stream": "stdout",
       "text": [
        "\n",
        "('timestamp:1422', 0, 2156, 977, -1.4289081)\n",
        "('timestamp:1423', 0, 2156, 977, -3.5416026)\n",
        "('timestamp:1424', 0, 2156, 977, 1.7427692)"
       ]
      },
      {
       "output_type": "stream",
       "stream": "stdout",
       "text": [
        "\n",
        "('timestamp:1425', 0, 2156, 976, -2.1619167)\n",
        "('timestamp:1426', 0, 2156, 976, -0.024135619)\n",
        "('timestamp:1427', 0, 2156, 976, -0.8574177)"
       ]
      },
      {
       "output_type": "stream",
       "stream": "stdout",
       "text": [
        "\n",
        "('timestamp:1428', 0, 2156, 976, -3.0894742)\n",
        "('timestamp:1429', 0, 2156, 976, 2.558342)"
       ]
      },
      {
       "output_type": "stream",
       "stream": "stdout",
       "text": [
        "\n",
        "('timestamp:1430', 0, 2156, 975, -3.0021694)\n",
        "('timestamp:1431', 0, 2156, 975, 2.1069674)\n",
        "('timestamp:1432', 0, 2156, 975, 1.7177303)"
       ]
      },
      {
       "output_type": "stream",
       "stream": "stdout",
       "text": [
        "\n",
        "('timestamp:1433', 0, 2156, 974, -3.8546271)\n",
        "('timestamp:1434', 0, 2156, 974, 4.2572474)\n",
        "('timestamp:1435', 0, 2156, 974, -2.8344674)\n",
        "('timestamp:1436', 0, 2156, 974, 7.1880865)"
       ]
      },
      {
       "output_type": "stream",
       "stream": "stdout",
       "text": [
        "\n",
        "('timestamp:1437', 0, 2156, 974, 3.0808544)\n",
        "('timestamp:1438', 0, 2156, 974, -1.2590277)\n",
        "('timestamp:1439', 0, 2156, 974, -0.20067669)"
       ]
      },
      {
       "output_type": "stream",
       "stream": "stdout",
       "text": [
        "\n",
        "('timestamp:1440', 0, 2156, 974, -2.2751353)\n",
        "('timestamp:1441', 0, 2156, 974, 2.3166757)\n",
        "('timestamp:1442', 0, 2156, 974, -2.3015609)"
       ]
      },
      {
       "output_type": "stream",
       "stream": "stdout",
       "text": [
        "\n",
        "('timestamp:1443', 0, 2156, 974, 5.4646664)\n",
        "('timestamp:1444', 0, 2156, 973, -0.60828221)\n",
        "('timestamp:1445', 0, 2156, 973, 1.1311674)\n",
        "('timestamp:1446', 0, 2156, 973, -6.251965)"
       ]
      },
      {
       "output_type": "stream",
       "stream": "stdout",
       "text": [
        "\n",
        "('timestamp:1447', 0, 2156, 973, 2.3896785)\n",
        "('timestamp:1448', 0, 2156, 973, -1.4814839)\n",
        "('timestamp:1449', 0, 2156, 973, 1.1412113)"
       ]
      },
      {
       "output_type": "stream",
       "stream": "stdout",
       "text": [
        "\n",
        "('timestamp:1450', 0, 2156, 972, -1.7206607)\n",
        "('timestamp:1451', 0, 2156, 972, -2.6805015)\n",
        "('timestamp:1452', 0, 2156, 972, -2.0072513)\n",
        "('timestamp:1453', 0, 2156, 972, -4.8376746)"
       ]
      },
      {
       "output_type": "stream",
       "stream": "stdout",
       "text": [
        "\n",
        "('timestamp:1454', 0, 2156, 972, 1.1012081)\n",
        "('timestamp:1455', 0, 2156, 972, 2.5759816)\n",
        "('timestamp:1456', 0, 2156, 972, 2.6936359)"
       ]
      },
      {
       "output_type": "stream",
       "stream": "stdout",
       "text": [
        "\n",
        "('timestamp:1457', 0, 2156, 972, 1.2962918)\n",
        "('timestamp:1458', 0, 2156, 972, -0.56899178)\n",
        "('timestamp:1459', 0, 2156, 973, 2.1002688)\n",
        "('timestamp:1460', 0, 2156, 973, -2.48597)"
       ]
      },
      {
       "output_type": "stream",
       "stream": "stdout",
       "text": [
        "\n",
        "('timestamp:1461', 0, 2156, 972, 0.60953224)\n",
        "('timestamp:1462', 0, 2156, 972, 3.5965841)\n",
        "('timestamp:1463', 0, 2156, 972, -0.485138)\n",
        "('timestamp:1464', 0, 2156, 972, 5.4464827)"
       ]
      },
      {
       "output_type": "stream",
       "stream": "stdout",
       "text": [
        "\n",
        "('timestamp:1465', 0, 2156, 972, 2.307478)\n",
        "('timestamp:1466', 0, 2156, 972, 3.0919363)\n",
        "('timestamp:1467', 0, 2156, 972, 1.2551801)\n",
        "('timestamp:1468', 0, 2156, 971, -1.8292583)"
       ]
      },
      {
       "output_type": "stream",
       "stream": "stdout",
       "text": [
        "\n",
        "('timestamp:1469', 0, 2156, 971, 1.3014567)\n",
        "('timestamp:1470', 0, 2156, 971, 1.0476174)\n",
        "('timestamp:1471', 0, 2156, 971, 1.3369732)\n",
        "('timestamp:1472', 0, 2156, 971, 2.2384982)"
       ]
      },
      {
       "output_type": "stream",
       "stream": "stdout",
       "text": [
        "\n",
        "('timestamp:1473', 0, 2156, 971, 0.44068527)\n",
        "('timestamp:1474', 0, 2156, 971, 2.1389143)\n",
        "('timestamp:1475', 0, 2156, 971, 1.1969235)\n",
        "('timestamp:1476', 0, 2156, 971, 0.84243321)"
       ]
      },
      {
       "output_type": "stream",
       "stream": "stdout",
       "text": [
        "\n",
        "('timestamp:1477', 0, 2156, 970, 4.6645355)\n",
        "('timestamp:1478', 0, 2156, 970, 3.2133186)\n",
        "('timestamp:1479', 0, 2156, 969, 2.3911109)\n",
        "('timestamp:1480', 0, 2156, 969, -7.4681559)"
       ]
      },
      {
       "output_type": "stream",
       "stream": "stdout",
       "text": [
        "\n",
        "('timestamp:1481', 0, 2156, 969, -0.61733943)\n",
        "('timestamp:1482', 0, 2156, 969, -3.0802577)\n",
        "('timestamp:1483', 0, 2156, 969, 1.0025901)\n",
        "('timestamp:1484', 0, 2156, 969, 6.7923737)"
       ]
      },
      {
       "output_type": "stream",
       "stream": "stdout",
       "text": [
        "\n",
        "('timestamp:1485', 0, 2156, 969, -1.3000429)\n",
        "('timestamp:1486', 0, 2156, 969, -0.8489337)\n",
        "('timestamp:1487', 0, 2156, 969, 4.009376)\n",
        "('timestamp:1488', 0, 2156, 969, -9.6175299)"
       ]
      },
      {
       "output_type": "stream",
       "stream": "stdout",
       "text": [
        "\n",
        "('timestamp:1489', 0, 2156, 969, -5.3270254)\n",
        "('timestamp:1490', 0, 2156, 969, 2.3034739)\n",
        "('timestamp:1491', 0, 2156, 969, -1.5839769)\n",
        "('timestamp:1492', 0, 2156, 969, -9.3937244)"
       ]
      },
      {
       "output_type": "stream",
       "stream": "stdout",
       "text": [
        "\n",
        "('timestamp:1493', 0, 2156, 1030, -3.4460878)\n",
        "('timestamp:1494', 0, 2156, 1028, -1.3175924)\n",
        "('timestamp:1495', 0, 2156, 1028, -0.94527203)\n",
        "('timestamp:1496', 0, 2156, 1028, 4.7377472)"
       ]
      },
      {
       "output_type": "stream",
       "stream": "stdout",
       "text": [
        "\n",
        "('timestamp:1497', 0, 2156, 1028, -4.2077904)\n",
        "('timestamp:1498', 0, 2156, 1028, 5.5887051)\n",
        "('timestamp:1499', 0, 2156, 1027, 8.0248394)"
       ]
      },
      {
       "output_type": "stream",
       "stream": "stdout",
       "text": [
        "\n",
        "('timestamp:1500', 0, 2156, 1027, 6.3786964)\n",
        "('timestamp:1501', 0, 2156, 1027, -0.86501265)\n",
        "('timestamp:1502', 0, 2156, 1027, 2.5695529)"
       ]
      },
      {
       "output_type": "stream",
       "stream": "stdout",
       "text": [
        "\n",
        "('timestamp:1503', 0, 2156, 1027, 4.8048754)\n",
        "('timestamp:1504', 0, 2156, 1027, 3.6493015)\n",
        "('timestamp:1505', 0, 2156, 1027, -5.8219194)"
       ]
      },
      {
       "output_type": "stream",
       "stream": "stdout",
       "text": [
        "\n",
        "('timestamp:1506', 0, 2156, 1027, 0.95096093)\n",
        "('timestamp:1507', 0, 2156, 1027, 2.5303705)\n",
        "('timestamp:1508', 0, 2156, 1027, 3.4972458)"
       ]
      },
      {
       "output_type": "stream",
       "stream": "stdout",
       "text": [
        "\n",
        "('timestamp:1509', 0, 2156, 1027, -8.6384392)\n",
        "('timestamp:1510', 0, 2156, 1026, 6.9287734)\n",
        "('timestamp:1511', 0, 2156, 1027, -3.0702925)"
       ]
      },
      {
       "output_type": "stream",
       "stream": "stdout",
       "text": [
        "\n",
        "('timestamp:1512', 0, 2156, 1027, -2.7147243)\n",
        "('timestamp:1513', 0, 2156, 1027, 1.8586706)"
       ]
      },
      {
       "output_type": "stream",
       "stream": "stdout",
       "text": [
        "\n",
        "('timestamp:1514', 0, 2156, 1027, 2.49755)\n",
        "('timestamp:1515', 0, 2156, 1027, 0.66542488)\n",
        "('timestamp:1516', 0, 2156, 1027, 1.7478658)"
       ]
      },
      {
       "output_type": "stream",
       "stream": "stdout",
       "text": [
        "\n",
        "('timestamp:1517', 0, 2156, 1027, 1.8682532)\n",
        "('timestamp:1518', 0, 2156, 1027, 5.3178506)\n",
        "('timestamp:1519', 0, 2156, 1027, 0.0044246465)"
       ]
      },
      {
       "output_type": "stream",
       "stream": "stdout",
       "text": [
        "\n",
        "('timestamp:1520', 0, 2156, 1027, -3.6084521)\n",
        "('timestamp:1521', 0, 2156, 1027, 1.1899909)\n",
        "('timestamp:1522', 0, 2156, 1026, 1.307156)\n",
        "('timestamp:1523', 0, 2156, 1026, -0.63580817)"
       ]
      },
      {
       "output_type": "stream",
       "stream": "stdout",
       "text": [
        "\n",
        "('timestamp:1524', 0, 2156, 1025, 3.5953135)\n",
        "('timestamp:1525', 0, 2156, 1025, 2.6425967)\n",
        "('timestamp:1526', 0, 2156, 1025, 5.9379568)\n",
        "('timestamp:1527', 0, 2156, 1025, 2.2966247)"
       ]
      },
      {
       "output_type": "stream",
       "stream": "stdout",
       "text": [
        "\n",
        "('timestamp:1528', 0, 2156, 1026, 0.96405584)\n",
        "('timestamp:1529', 0, 2156, 1026, -4.0028648)\n",
        "('timestamp:1530', 0, 2156, 1026, -0.54340398)"
       ]
      },
      {
       "output_type": "stream",
       "stream": "stdout",
       "text": [
        "\n",
        "('timestamp:1531', 0, 2156, 1026, 2.61994)\n",
        "('timestamp:1532', 0, 2156, 1026, -7.6429219)\n",
        "('timestamp:1533', 0, 2156, 1026, 5.1526623)\n",
        "('timestamp:1534', 0, 2156, 1026, 5.9399991)"
       ]
      },
      {
       "output_type": "stream",
       "stream": "stdout",
       "text": [
        "\n",
        "('timestamp:1535', 0, 2156, 1026, 3.0564554)\n",
        "('timestamp:1536', 0, 2156, 1026, 0.57127702)\n",
        "('timestamp:1537', 0, 2156, 1025, -3.957448)\n",
        "('timestamp:1538', 0, 2156, 1025, 2.1210976)"
       ]
      },
      {
       "output_type": "stream",
       "stream": "stdout",
       "text": [
        "\n",
        "('timestamp:1539', 0, 2156, 1024, -5.7305822)\n",
        "('timestamp:1540', 0, 2156, 1024, -8.6050005)\n",
        "('timestamp:1541', 0, 2156, 1024, -7.6016254)"
       ]
      },
      {
       "output_type": "stream",
       "stream": "stdout",
       "text": [
        "\n",
        "('timestamp:1542', 0, 2156, 1024, 16.044256)\n",
        "('timestamp:1543', 0, 2156, 1023, -16.312464)\n",
        "('timestamp:1544', 0, 2156, 1023, -4.0136814)\n",
        "('timestamp:1545', 0, 2156, 1023, -9.682209)"
       ]
      },
      {
       "output_type": "stream",
       "stream": "stdout",
       "text": [
        "\n",
        "('timestamp:1546', 0, 2156, 1022, -8.5576344)\n",
        "('timestamp:1547', 0, 2156, 1022, -0.72097671)\n",
        "('timestamp:1548', 0, 2156, 1022, 0.83118021)\n",
        "('timestamp:1549', 0, 2156, 1022, -2.046185)"
       ]
      },
      {
       "output_type": "stream",
       "stream": "stdout",
       "text": [
        "\n",
        "('timestamp:1550', 0, 2156, 1022, -9.814867)\n",
        "('timestamp:1551', 0, 2156, 1022, -11.341475)\n",
        "('timestamp:1552', 0, 2156, 1022, 4.3737988)\n",
        "('timestamp:1553', 0, 2156, 1022, -7.5771112)"
       ]
      },
      {
       "output_type": "stream",
       "stream": "stdout",
       "text": [
        "\n",
        "('timestamp:1554', 0, 2156, 1022, 2.0427217)\n",
        "('timestamp:1555', 0, 2156, 1021, 0.65220398)\n",
        "('timestamp:1556', 0, 2156, 1021, -5.988203)\n",
        "('timestamp:1557', 0, 2156, 1021, -19.679468)"
       ]
      },
      {
       "output_type": "stream",
       "stream": "stdout",
       "text": [
        "\n",
        "('timestamp:1558', 0, 2156, 1021, 23.572628)\n",
        "('timestamp:1559', 0, 2156, 1020, 14.122173)\n",
        "('timestamp:1560', 0, 2156, 1019, 13.832621)"
       ]
      },
      {
       "output_type": "stream",
       "stream": "stdout",
       "text": [
        "\n",
        "('timestamp:1561', 0, 2156, 1024, 4.3805103)\n",
        "('timestamp:1562', 0, 2156, 1023, -10.682459)\n",
        "('timestamp:1563', 0, 2156, 1022, 2.5969851)"
       ]
      },
      {
       "output_type": "stream",
       "stream": "stdout",
       "text": [
        "\n",
        "('timestamp:1564', 0, 2156, 1022, 1.1409631)\n",
        "('timestamp:1565', 0, 2156, 1022, -6.7779284)\n",
        "('timestamp:1566', 0, 2156, 1022, -12.492053)"
       ]
      },
      {
       "output_type": "stream",
       "stream": "stdout",
       "text": [
        "\n",
        "('timestamp:1567', 0, 2156, 1022, -5.435586)\n",
        "('timestamp:1568', 0, 2156, 1022, -6.1613569)\n",
        "('timestamp:1569', 0, 2156, 1022, 6.0452437)\n",
        "('timestamp:1570', 0, 2156, 1022, -10.60178)"
       ]
      },
      {
       "output_type": "stream",
       "stream": "stdout",
       "text": [
        "\n",
        "('timestamp:1571', 0, 2156, 1021, -14.707481)\n",
        "('timestamp:1572', 0, 2156, 1020, -15.041621)\n",
        "('timestamp:1573', 0, 2156, 1020, -4.3711262)\n",
        "('timestamp:1574', 0, 2156, 1020, -6.643168)"
       ]
      },
      {
       "output_type": "stream",
       "stream": "stdout",
       "text": [
        "\n",
        "('timestamp:1575', 0, 2156, 1020, 13.984411)\n",
        "('timestamp:1576', 0, 2156, 1019, 11.080214)\n",
        "('timestamp:1577', 0, 2156, 1018, 2.0970821)\n",
        "('timestamp:1578', 0, 2156, 1018, -10.675467)"
       ]
      },
      {
       "output_type": "stream",
       "stream": "stdout",
       "text": [
        "\n",
        "('timestamp:1579', 0, 2156, 1019, 6.3902302)\n",
        "('timestamp:1580', 0, 2156, 1019, 5.6030583)\n",
        "('timestamp:1581', 0, 2156, 1018, 4.8369088)\n",
        "('timestamp:1582', 0, 2156, 1018, 11.448671)"
       ]
      },
      {
       "output_type": "stream",
       "stream": "stdout",
       "text": [
        "\n",
        "('timestamp:1583', 0, 2156, 1018, -10.50599)\n",
        "('timestamp:1584', 0, 2156, 1018, 14.583972)\n",
        "('timestamp:1585', 0, 2156, 1018, -11.60569)\n",
        "('timestamp:1586', 0, 2156, 1018, 3.8609633)"
       ]
      },
      {
       "output_type": "stream",
       "stream": "stdout",
       "text": [
        "\n",
        "('timestamp:1587', 0, 2156, 1018, 18.360233)\n",
        "('timestamp:1588', 0, 2156, 1018, 0.61186045)\n",
        "('timestamp:1589', 0, 2156, 1018, 8.039175)\n",
        "('timestamp:1590', 0, 2156, 1018, -2.7158239)"
       ]
      },
      {
       "output_type": "stream",
       "stream": "stdout",
       "text": [
        "\n",
        "('timestamp:1591', 0, 2156, 1018, 6.6285782)\n",
        "('timestamp:1592', 0, 2156, 1018, -10.026258)\n",
        "('timestamp:1593', 0, 2156, 1018, 6.1713653)"
       ]
      },
      {
       "output_type": "stream",
       "stream": "stdout",
       "text": [
        "\n",
        "('timestamp:1594', 0, 2156, 1017, 11.043747)\n",
        "('timestamp:1595', 0, 2156, 1070, -0.84080684)\n",
        "('timestamp:1596', 0, 2156, 1063, 10.290743)"
       ]
      },
      {
       "output_type": "stream",
       "stream": "stdout",
       "text": [
        "\n",
        "('timestamp:1597', 0, 2156, 1063, 16.818295)\n",
        "('timestamp:1598', 0, 2156, 1063, -0.72328615)\n",
        "('timestamp:1599', 0, 2156, 1063, 6.4625626)\n",
        "('timestamp:1600', 0, 2156, 1063, -5.1107407)"
       ]
      },
      {
       "output_type": "stream",
       "stream": "stdout",
       "text": [
        "\n",
        "('timestamp:1601', 0, 2156, 1063, 4.387063)\n",
        "('timestamp:1602', 0, 2156, 1063, -5.1096191)\n",
        "('timestamp:1603', 0, 2156, 1063, 10.80329)\n",
        "('timestamp:1604', 0, 2156, 1063, 3.8345904)"
       ]
      },
      {
       "output_type": "stream",
       "stream": "stdout",
       "text": [
        "\n",
        "('timestamp:1605', 0, 2156, 1063, -8.274931)\n",
        "('timestamp:1606', 0, 2156, 1063, 2.5552778)\n",
        "('timestamp:1607', 0, 2156, 1063, -10.029308)\n",
        "('timestamp:1608', 0, 2156, 1063, 5.8435459)"
       ]
      },
      {
       "output_type": "stream",
       "stream": "stdout",
       "text": [
        "\n",
        "('timestamp:1609', 0, 2156, 1063, 0.18247259)\n",
        "('timestamp:1610', 0, 2156, 1063, 0.236045)"
       ]
      },
      {
       "output_type": "stream",
       "stream": "stdout",
       "text": [
        "\n",
        "('timestamp:1611', 0, 2156, 1063, -4.0246744)"
       ]
      },
      {
       "output_type": "stream",
       "stream": "stdout",
       "text": [
        "\n",
        "('timestamp:1612', 0, 2156, 1063, -2.6263847)\n",
        "('timestamp:1613', 0, 2156, 1063, -7.3264608)"
       ]
      },
      {
       "output_type": "stream",
       "stream": "stdout",
       "text": [
        "\n",
        "('timestamp:1614', 0, 2156, 1063, 4.2936335)\n",
        "('timestamp:1615', 0, 2156, 1063, 0.26742974)"
       ]
      },
      {
       "output_type": "stream",
       "stream": "stdout",
       "text": [
        "\n",
        "('timestamp:1616', 0, 2156, 1063, 8.857275)\n",
        "('timestamp:1617', 0, 2156, 1063, -1.434099)"
       ]
      },
      {
       "output_type": "stream",
       "stream": "stdout",
       "text": [
        "\n",
        "('timestamp:1618', 0, 2156, 1063, 5.6916924)\n",
        "('timestamp:1619', 0, 2156, 1063, -1.0128175)"
       ]
      },
      {
       "output_type": "stream",
       "stream": "stdout",
       "text": [
        "\n",
        "('timestamp:1620', 0, 2156, 1063, 0.63819599)\n",
        "('timestamp:1621', 0, 2156, 1063, -0.47907338)"
       ]
      },
      {
       "output_type": "stream",
       "stream": "stdout",
       "text": [
        "\n",
        "('timestamp:1622', 0, 2156, 1063, -9.838397)\n",
        "('timestamp:1623', 0, 2156, 1063, -7.6971903)"
       ]
      },
      {
       "output_type": "stream",
       "stream": "stdout",
       "text": [
        "\n",
        "('timestamp:1624', 0, 2156, 1063, 2.6381073)\n",
        "('timestamp:1625', 0, 2156, 1063, -0.7157383)"
       ]
      },
      {
       "output_type": "stream",
       "stream": "stdout",
       "text": [
        "\n",
        "('timestamp:1626', 0, 2156, 1063, -6.4075966)\n",
        "('timestamp:1627', 0, 2156, 1063, 2.7063372)\n",
        "('timestamp:1628', 0, 2156, 1063, 12.216267)"
       ]
      },
      {
       "output_type": "stream",
       "stream": "stdout",
       "text": [
        "\n",
        "('timestamp:1629', 0, 2156, 1062, -8.4338093)\n",
        "('timestamp:1630', 0, 2156, 1062, 6.1743145)\n",
        "('timestamp:1631', 0, 2156, 1062, -5.7356529)"
       ]
      },
      {
       "output_type": "stream",
       "stream": "stdout",
       "text": [
        "\n",
        "('timestamp:1632', 0, 2156, 1062, 0.68330419)\n",
        "('timestamp:1633', 0, 2156, 1062, 8.2119265)\n",
        "('timestamp:1634', 0, 2156, 1062, 2.4273136)"
       ]
      },
      {
       "output_type": "stream",
       "stream": "stdout",
       "text": [
        "\n",
        "('timestamp:1635', 0, 2156, 1062, 7.187912)\n",
        "('timestamp:1636', 0, 2156, 1062, -0.87977892)\n",
        "('timestamp:1637', 0, 2156, 1062, 2.0894418)"
       ]
      },
      {
       "output_type": "stream",
       "stream": "stdout",
       "text": [
        "\n",
        "('timestamp:1638', 0, 2156, 1062, 12.629938)\n",
        "('timestamp:1639', 0, 2156, 1062, 6.769835)\n",
        "('timestamp:1640', 0, 2156, 1062, -9.1903648)\n",
        "('timestamp:1641', 0, 2156, 1062, 4.3092518)"
       ]
      },
      {
       "output_type": "stream",
       "stream": "stdout",
       "text": [
        "\n",
        "('timestamp:1642', 0, 2156, 1062, 3.876955)\n",
        "('timestamp:1643', 0, 2156, 1062, 15.481676)\n",
        "('timestamp:1644', 0, 2156, 1062, -3.9410796)"
       ]
      },
      {
       "output_type": "stream",
       "stream": "stdout",
       "text": [
        "\n",
        "('timestamp:1645', 0, 2156, 1061, 2.8667345)\n",
        "('timestamp:1646', 0, 2156, 1079, 1.4002354)\n",
        "('timestamp:1647', 0, 2156, 1079, 17.035196)\n",
        "('timestamp:1648', 0, 2156, 1078, 9.5788002)"
       ]
      },
      {
       "output_type": "stream",
       "stream": "stdout",
       "text": [
        "\n",
        "('timestamp:1649', 0, 2156, 1078, -3.9834955)\n",
        "('timestamp:1650', 0, 2156, 1078, 7.4726515)\n",
        "('timestamp:1651', 0, 2156, 1078, 1.669409)\n",
        "('timestamp:1652', 0, 2156, 1078, -2.0234771)"
       ]
      },
      {
       "output_type": "stream",
       "stream": "stdout",
       "text": [
        "\n",
        "('timestamp:1653', 0, 2156, 1078, 3.139081)\n",
        "('timestamp:1654', 0, 2156, 1078, -9.5118914)\n",
        "('timestamp:1655', 0, 2156, 1078, 13.350732)"
       ]
      },
      {
       "output_type": "stream",
       "stream": "stdout",
       "text": [
        "\n",
        "('timestamp:1656', 0, 2156, 1078, 12.661478)\n",
        "('timestamp:1657', 0, 2156, 1078, -8.4341927)\n",
        "('timestamp:1658', 0, 2156, 1078, 8.7035046)"
       ]
      },
      {
       "output_type": "stream",
       "stream": "stdout",
       "text": [
        "\n",
        "('timestamp:1659', 0, 2156, 1078, -8.552125)\n",
        "('timestamp:1660', 0, 2156, 1078, 4.5243168)\n",
        "('timestamp:1661', 0, 2156, 1078, 8.677846)"
       ]
      },
      {
       "output_type": "stream",
       "stream": "stdout",
       "text": [
        "\n",
        "('timestamp:1662', 0, 2156, 1078, 3.5065272)\n",
        "('timestamp:1663', 0, 2158, 1080, -2.0033731)\n",
        "('timestamp:1664', 0, 2158, 1080, 7.05898)"
       ]
      },
      {
       "output_type": "stream",
       "stream": "stdout",
       "text": [
        "\n",
        "('timestamp:1665', 0, 2158, 1080, 1.4085312)\n",
        "('timestamp:1666', 0, 2158, 1080, -10.424067)\n",
        "('timestamp:1667', 0, 2158, 1080, 6.8799725)"
       ]
      },
      {
       "output_type": "stream",
       "stream": "stdout",
       "text": [
        "\n",
        "('timestamp:1668', 0, 2158, 1080, -12.084043)\n",
        "('timestamp:1669', 0, 2158, 1080, -15.960665)\n",
        "('timestamp:1670', 0, 2158, 1080, 7.7323589)"
       ]
      },
      {
       "output_type": "stream",
       "stream": "stdout",
       "text": [
        "\n",
        "('timestamp:1671', 0, 2158, 1080, 0.96333218)\n",
        "('timestamp:1672', 0, 2158, 1080, 7.5319023)\n",
        "('timestamp:1673', 0, 2158, 1080, 4.8196621)"
       ]
      },
      {
       "output_type": "stream",
       "stream": "stdout",
       "text": [
        "\n",
        "('timestamp:1674', 0, 2158, 1080, 0.18320528)\n",
        "('timestamp:1675', 0, 2158, 1074, -3.0138118)\n",
        "('timestamp:1676', 0, 2158, 1074, 6.4227085)"
       ]
      },
      {
       "output_type": "stream",
       "stream": "stdout",
       "text": [
        "\n",
        "('timestamp:1677', 0, 2158, 1074, 4.552618)\n",
        "('timestamp:1678', 0, 2158, 1074, -7.4929223)\n",
        "('timestamp:1679', 0, 2158, 1074, 1.7109158)"
       ]
      },
      {
       "output_type": "stream",
       "stream": "stdout",
       "text": [
        "\n",
        "('timestamp:1680', 0, 2158, 1074, 8.4467163)\n",
        "('timestamp:1681', 0, 2158, 1073, -0.3220793)\n",
        "('timestamp:1682', 0, 2158, 1073, 1.4640379)"
       ]
      },
      {
       "output_type": "stream",
       "stream": "stdout",
       "text": [
        "\n",
        "('timestamp:1683', 0, 2158, 1072, -6.1274419)\n",
        "('timestamp:1684', 0, 2158, 1071, 0.049488813)\n",
        "('timestamp:1685', 0, 2158, 1071, -2.3991141)"
       ]
      },
      {
       "output_type": "stream",
       "stream": "stdout",
       "text": [
        "\n",
        "('timestamp:1686', 0, 2158, 1071, -3.5393944)\n",
        "('timestamp:1687', 0, 2158, 1071, 0.14153829)\n",
        "('timestamp:1688', 0, 2158, 1071, -2.3786559)"
       ]
      },
      {
       "output_type": "stream",
       "stream": "stdout",
       "text": [
        "\n",
        "('timestamp:1689', 0, 2158, 1071, -2.3739581)\n",
        "('timestamp:1690', 0, 2158, 1071, -5.6958408)\n",
        "('timestamp:1691', 0, 2158, 1071, 2.1181898)"
       ]
      },
      {
       "output_type": "stream",
       "stream": "stdout",
       "text": [
        "\n",
        "('timestamp:1692', 0, 2158, 1071, -5.2015152)\n",
        "('timestamp:1693', 0, 2158, 1071, -4.5353632)"
       ]
      },
      {
       "output_type": "stream",
       "stream": "stdout",
       "text": [
        "\n",
        "('timestamp:1694', 0, 2158, 1071, 5.708045)\n",
        "('timestamp:1695', 0, 2158, 1071, 0.95390201)"
       ]
      },
      {
       "output_type": "stream",
       "stream": "stdout",
       "text": [
        "\n",
        "('timestamp:1696', 0, 2158, 1071, 6.4225392)\n",
        "('timestamp:1697', 0, 2158, 1071, -3.7212975)\n",
        "('timestamp:1698', 0, 2158, 1086, -0.86198246)"
       ]
      },
      {
       "output_type": "stream",
       "stream": "stdout",
       "text": [
        "\n",
        "('timestamp:1699', 0, 2158, 1086, -9.3748207)\n",
        "('timestamp:1700', 0, 2158, 1086, 0.60182142)\n",
        "('timestamp:1701', 0, 2158, 1086, -5.6093044)"
       ]
      },
      {
       "output_type": "stream",
       "stream": "stdout",
       "text": [
        "\n",
        "('timestamp:1702', 0, 2158, 1086, 2.1721458)\n",
        "('timestamp:1703', 0, 2158, 1086, 3.5201497)\n",
        "('timestamp:1704', 0, 2158, 1086, 3.8483148)"
       ]
      },
      {
       "output_type": "stream",
       "stream": "stdout",
       "text": [
        "\n",
        "('timestamp:1705', 0, 2158, 1086, 1.9257559)\n",
        "('timestamp:1706', 0, 2158, 1086, -3.3513665)\n",
        "('timestamp:1707', 0, 2158, 1085, 5.1238256)"
       ]
      },
      {
       "output_type": "stream",
       "stream": "stdout",
       "text": [
        "\n",
        "('timestamp:1708', 0, 2158, 1085, -6.1887531)\n",
        "('timestamp:1709', 0, 2158, 1085, 3.973947)"
       ]
      },
      {
       "output_type": "stream",
       "stream": "stdout",
       "text": [
        "\n",
        "('timestamp:1710', 0, 2158, 1084, 1.6338551)\n",
        "('timestamp:1711', 0, 2158, 1083, -2.7579808)"
       ]
      },
      {
       "output_type": "stream",
       "stream": "stdout",
       "text": [
        "\n",
        "('timestamp:1712', 0, 2158, 1083, 3.6776204)\n",
        "('timestamp:1713', 0, 2158, 1083, 1.9055624)\n",
        "('timestamp:1714', 0, 2158, 1083, 3.6833396)"
       ]
      },
      {
       "output_type": "stream",
       "stream": "stdout",
       "text": [
        "\n",
        "('timestamp:1715', 0, 2158, 1082, 6.0386009)\n",
        "('timestamp:1716', 0, 2158, 1082, 2.0087667)\n",
        "('timestamp:1717', 0, 2158, 1082, -1.4479696)"
       ]
      },
      {
       "output_type": "stream",
       "stream": "stdout",
       "text": [
        "\n",
        "('timestamp:1718', 0, 2158, 1082, 7.8246994)\n",
        "('timestamp:1719', 0, 2158, 1082, 0.62752342)\n",
        "('timestamp:1720', 0, 2158, 1082, -0.24143749)"
       ]
      },
      {
       "output_type": "stream",
       "stream": "stdout",
       "text": [
        "\n",
        "('timestamp:1721', 0, 2158, 1082, 0.65844083)\n",
        "('timestamp:1722', 0, 2158, 1082, 1.426733)\n",
        "('timestamp:1723', 0, 2158, 1082, -1.5311852)"
       ]
      },
      {
       "output_type": "stream",
       "stream": "stdout",
       "text": [
        "\n",
        "('timestamp:1724', 0, 2158, 1082, 3.1209936)\n",
        "('timestamp:1725', 0, 2158, 1081, -2.0958686)\n",
        "('timestamp:1726', 0, 2158, 1080, 0.51897568)"
       ]
      },
      {
       "output_type": "stream",
       "stream": "stdout",
       "text": [
        "\n",
        "('timestamp:1727', 0, 2158, 1080, -1.1428233)\n",
        "('timestamp:1728', 0, 2158, 1080, 0.016135037)\n",
        "('timestamp:1729', 0, 2158, 1080, -0.12938818)"
       ]
      },
      {
       "output_type": "stream",
       "stream": "stdout",
       "text": [
        "\n",
        "('timestamp:1730', 0, 2158, 1080, 3.5756929)\n",
        "('timestamp:1731', 0, 2158, 1080, -4.5939207)\n",
        "('timestamp:1732', 0, 2158, 1080, -2.0579069)\n",
        "('timestamp:1733', 0, 2158, 1079, 4.7391191)"
       ]
      },
      {
       "output_type": "stream",
       "stream": "stdout",
       "text": [
        "\n",
        "('timestamp:1734', 0, 2158, 1079, -1.0488877)\n",
        "('timestamp:1735', 0, 2158, 1079, 2.7598972)\n",
        "('timestamp:1736', 0, 2158, 1078, 2.5832772)"
       ]
      },
      {
       "output_type": "stream",
       "stream": "stdout",
       "text": [
        "\n",
        "('timestamp:1737', 0, 2158, 1078, 3.148159)\n",
        "('timestamp:1738', 0, 2158, 1078, 6.6990356)\n",
        "('timestamp:1739', 0, 2158, 1078, 3.0781527)"
       ]
      },
      {
       "output_type": "stream",
       "stream": "stdout",
       "text": [
        "\n",
        "('timestamp:1740', 0, 2158, 1078, -2.6669638)\n",
        "('timestamp:1741', 0, 2158, 1078, -1.5877527)\n",
        "('timestamp:1742', 0, 2158, 1078, 0.21139848)"
       ]
      },
      {
       "output_type": "stream",
       "stream": "stdout",
       "text": [
        "\n",
        "('timestamp:1743', 0, 2158, 1078, -7.847702)\n",
        "('timestamp:1744', 0, 2158, 1078, 1.1726165)\n",
        "('timestamp:1745', 0, 2158, 1078, 1.7103516)\n",
        "('timestamp:1746', 0, 2158, 1078, 4.0570908)"
       ]
      },
      {
       "output_type": "stream",
       "stream": "stdout",
       "text": [
        "\n",
        "('timestamp:1747', 0, 2158, 1078, -1.9668984)\n",
        "('timestamp:1748', 0, 2158, 1078, -2.3424971)\n",
        "('timestamp:1749', 0, 2158, 1078, -3.2629063)\n",
        "('timestamp:1750', 0, 2158, 1076, -1.4128866)"
       ]
      },
      {
       "output_type": "stream",
       "stream": "stdout",
       "text": [
        "\n",
        "('timestamp:1751', 0, 2158, 1076, 5.0489764)\n",
        "('timestamp:1752', 0, 2158, 1076, 0.59041774)\n",
        "('timestamp:1753', 0, 2158, 1076, -2.3413205)"
       ]
      },
      {
       "output_type": "stream",
       "stream": "stdout",
       "text": [
        "\n",
        "('timestamp:1754', 0, 2158, 1076, 0.46902475)\n",
        "('timestamp:1755', 0, 2158, 1076, -1.2353213)\n",
        "('timestamp:1756', 0, 2158, 1076, -2.2837887)"
       ]
      },
      {
       "output_type": "stream",
       "stream": "stdout",
       "text": [
        "\n",
        "('timestamp:1757', 0, 2158, 1076, -1.7520708)\n",
        "('timestamp:1758', 0, 2158, 1075, -0.71052659)\n",
        "('timestamp:1759', 0, 2158, 1075, -4.1788712)"
       ]
      },
      {
       "output_type": "stream",
       "stream": "stdout",
       "text": [
        "\n",
        "('timestamp:1760', 0, 2158, 1074, 1.7536609)\n",
        "('timestamp:1761', 0, 2158, 1074, -3.5206196)\n",
        "('timestamp:1762', 0, 2158, 1074, -0.14389145)"
       ]
      },
      {
       "output_type": "stream",
       "stream": "stdout",
       "text": [
        "\n",
        "('timestamp:1763', 0, 2158, 1074, -8.2323275)\n",
        "('timestamp:1764', 0, 2158, 1073, 2.3600404)\n",
        "('timestamp:1765', 0, 2158, 1073, -6.0919762)\n",
        "('timestamp:1766', 0, 2158, 1074, 10.489123)"
       ]
      },
      {
       "output_type": "stream",
       "stream": "stdout",
       "text": [
        "\n",
        "('timestamp:1767', 0, 2158, 1073, -5.7310739)\n",
        "('timestamp:1768', 0, 2158, 1073, 2.7562656)\n",
        "('timestamp:1769', 0, 2158, 1073, -3.2848024)"
       ]
      },
      {
       "output_type": "stream",
       "stream": "stdout",
       "text": [
        "\n",
        "('timestamp:1770', 0, 2158, 1073, -1.5607851)\n",
        "('timestamp:1771', 0, 2158, 1072, -4.027936)\n",
        "('timestamp:1772', 0, 2158, 1072, 1.6587886)\n",
        "('timestamp:1773', 0, 2158, 1072, -3.8122106)"
       ]
      },
      {
       "output_type": "stream",
       "stream": "stdout",
       "text": [
        "\n",
        "('timestamp:1774', 0, 2158, 1072, 3.2772675)\n",
        "('timestamp:1775', 0, 2158, 1072, -2.4490495)\n",
        "('timestamp:1776', 0, 2158, 1072, -4.4053183)\n",
        "('timestamp:1777', 0, 2158, 1072, -1.2940993)"
       ]
      },
      {
       "output_type": "stream",
       "stream": "stdout",
       "text": [
        "\n",
        "('timestamp:1778', 0, 2158, 1072, -5.369956)\n",
        "('timestamp:1779', 0, 2158, 1072, -2.2361784)\n",
        "('timestamp:1780', 0, 2158, 1072, 1.3096811)"
       ]
      },
      {
       "output_type": "stream",
       "stream": "stdout",
       "text": [
        "\n",
        "('timestamp:1781', 0, 2158, 1072, -0.49596569)\n",
        "('timestamp:1782', 0, 2158, 1073, 1.0829591)\n",
        "('timestamp:1783', 0, 2158, 1073, 6.6377583)\n",
        "('timestamp:1784', 0, 2158, 1073, 8.9716816)"
       ]
      },
      {
       "output_type": "stream",
       "stream": "stdout",
       "text": [
        "\n",
        "('timestamp:1785', 0, 2158, 1073, 3.0683885)\n",
        "('timestamp:1786', 0, 2158, 1073, 3.3788645)\n",
        "('timestamp:1787', 0, 2158, 1073, -3.112637)\n",
        "('timestamp:1788', 0, 2158, 1073, -3.9916134)"
       ]
      },
      {
       "output_type": "stream",
       "stream": "stdout",
       "text": [
        "\n",
        "('timestamp:1789', 0, 2158, 1072, 3.2482977)\n",
        "('timestamp:1790', 0, 2158, 1072, 5.8561401)\n",
        "('timestamp:1791', 0, 2158, 1072, 3.6201167)\n",
        "('timestamp:1792', 0, 2158, 1072, 0.61082631)"
       ]
      },
      {
       "output_type": "stream",
       "stream": "stdout",
       "text": [
        "\n",
        "('timestamp:1793', 0, 2158, 1072, 0.33973515)\n",
        "('timestamp:1794', 0, 2158, 1073, 4.861372)\n",
        "('timestamp:1795', 0, 2158, 1073, -0.6598677)\n",
        "('timestamp:1796', 0, 2158, 1073, 0.5489645)"
       ]
      },
      {
       "output_type": "stream",
       "stream": "stdout",
       "text": [
        "\n",
        "('timestamp:1797', 0, 2158, 1073, -1.4637659)\n",
        "('timestamp:1798', 0, 2158, 1073, 1.0509409)\n",
        "('timestamp:1799', 0, 2158, 1084, -0.57681441)\n",
        "('timestamp:1800', 0, 2158, 1084, 1.2533945)"
       ]
      },
      {
       "output_type": "stream",
       "stream": "stdout",
       "text": [
        "\n",
        "('timestamp:1801', 0, 2158, 1084, 3.904815)\n",
        "('timestamp:1802', 0, 2158, 1084, 1.9271547)\n",
        "('timestamp:1803', 0, 2158, 1084, 0.79279268)"
       ]
      },
      {
       "output_type": "stream",
       "stream": "stdout",
       "text": [
        "\n",
        "('timestamp:1804', 0, 2158, 1084, -1.8371384)\n",
        "('timestamp:1805', 0, 2158, 1084, -3.3221879)\n",
        "('timestamp:1806', 0, 2158, 1084, 2.2602103)\n",
        "('timestamp:1807', 0, 2158, 1084, -0.25870734)"
       ]
      },
      {
       "output_type": "stream",
       "stream": "stdout",
       "text": [
        "\n",
        "('timestamp:1808', 0, 2158, 1084, 1.3061864)\n",
        "('timestamp:1809', 0, 2158, 1084, 3.0411379)\n",
        "('timestamp:1810', 0, 2158, 1084, 7.9410963)"
       ]
      },
      {
       "output_type": "stream",
       "stream": "stdout",
       "text": [
        "\n",
        "('timestamp:1811', 0, 2158, 1086, 5.1154051)\n",
        "('timestamp:1812', 0, 2158, 1086, 0.90646696)\n"
       ]
      }
     ],
     "prompt_number": 37
    },
    {
     "cell_type": "code",
     "collapsed": false,
     "input": [
      "#get histogram info of securities and number of times it is predicted\n",
      "#idx=100\n",
      "#idx_count=sum(ndf.id==idx)\n",
      "#print \"security {}: {}\".format(idx,idx_count)\n",
      "for idx in unique_ids:\n",
      "    idx_count=sum(ndf.id==idx)\n",
      "    if idx_count<>0:\n",
      "        print \"security {}: {}\".format(idx,idx_count)"
     ],
     "language": "python",
     "metadata": {},
     "outputs": [
      {
       "output_type": "stream",
       "stream": "stdout",
       "text": [
        "security 0: 1646\n",
        "security 6: 728"
       ]
      },
      {
       "output_type": "stream",
       "stream": "stdout",
       "text": [
        "\n",
        "security 7: 1543"
       ]
      },
      {
       "output_type": "stream",
       "stream": "stdout",
       "text": [
        "\n",
        "security 11: 1813"
       ]
      },
      {
       "output_type": "stream",
       "stream": "stdout",
       "text": [
        "\n",
        "security 12: 1813"
       ]
      },
      {
       "output_type": "stream",
       "stream": "stdout",
       "text": [
        "\n",
        "security 13: 1543"
       ]
      },
      {
       "output_type": "stream",
       "stream": "stdout",
       "text": [
        "\n",
        "security 14: 218"
       ]
      },
      {
       "output_type": "stream",
       "stream": "stdout",
       "text": [
        "\n",
        "security 15: 1340"
       ]
      },
      {
       "output_type": "stream",
       "stream": "stdout",
       "text": [
        "\n",
        "security 16: 1745"
       ]
      },
      {
       "output_type": "stream",
       "stream": "stdout",
       "text": [
        "\n",
        "security 17: 779"
       ]
      },
      {
       "output_type": "stream",
       "stream": "stdout",
       "text": [
        "\n",
        "security 18: 218"
       ]
      },
      {
       "output_type": "stream",
       "stream": "stdout",
       "text": [
        "\n",
        "security 19: 829"
       ]
      },
      {
       "output_type": "stream",
       "stream": "stdout",
       "text": [
        "\n",
        "security 20: 1646"
       ]
      },
      {
       "output_type": "stream",
       "stream": "stdout",
       "text": [
        "\n",
        "security 22: 1442"
       ]
      },
      {
       "output_type": "stream",
       "stream": "stdout",
       "text": [
        "\n",
        "security 23: 218"
       ]
      },
      {
       "output_type": "stream",
       "stream": "stdout",
       "text": [
        "\n",
        "security 24: 932"
       ]
      },
      {
       "output_type": "stream",
       "stream": "stdout",
       "text": [
        "\n",
        "security 25: 1813"
       ]
      },
      {
       "output_type": "stream",
       "stream": "stdout",
       "text": [
        "\n",
        "security 26: 1813"
       ]
      },
      {
       "output_type": "stream",
       "stream": "stdout",
       "text": [
        "\n",
        "security 30: 932"
       ]
      },
      {
       "output_type": "stream",
       "stream": "stdout",
       "text": [
        "\n",
        "security 31: 1813"
       ]
      },
      {
       "output_type": "stream",
       "stream": "stdout",
       "text": [
        "\n",
        "security 32: 218"
       ]
      },
      {
       "output_type": "stream",
       "stream": "stdout",
       "text": [
        "\n",
        "security 33: 422"
       ]
      },
      {
       "output_type": "stream",
       "stream": "stdout",
       "text": [
        "\n",
        "security 38: 1813"
       ]
      },
      {
       "output_type": "stream",
       "stream": "stdout",
       "text": [
        "\n",
        "security 39: 1813"
       ]
      },
      {
       "output_type": "stream",
       "stream": "stdout",
       "text": [
        "\n",
        "security 40: 1813"
       ]
      },
      {
       "output_type": "stream",
       "stream": "stdout",
       "text": [
        "\n",
        "security 41: 1813"
       ]
      },
      {
       "output_type": "stream",
       "stream": "stdout",
       "text": [
        "\n",
        "security 43: 1813"
       ]
      },
      {
       "output_type": "stream",
       "stream": "stdout",
       "text": [
        "\n",
        "security 44: 1813"
       ]
      },
      {
       "output_type": "stream",
       "stream": "stdout",
       "text": [
        "\n",
        "security 47: 1442"
       ]
      },
      {
       "output_type": "stream",
       "stream": "stdout",
       "text": [
        "\n",
        "security 48: 1745"
       ]
      },
      {
       "output_type": "stream",
       "stream": "stdout",
       "text": [
        "\n",
        "security 54: 1813"
       ]
      },
      {
       "output_type": "stream",
       "stream": "stdout",
       "text": [
        "\n",
        "security 55: 1543"
       ]
      },
      {
       "output_type": "stream",
       "stream": "stdout",
       "text": [
        "\n",
        "security 56: 320"
       ]
      },
      {
       "output_type": "stream",
       "stream": "stdout",
       "text": [
        "\n",
        "security 58: 285"
       ]
      },
      {
       "output_type": "stream",
       "stream": "stdout",
       "text": [
        "\n",
        "security 59: 1813"
       ]
      },
      {
       "output_type": "stream",
       "stream": "stdout",
       "text": [
        "\n",
        "security 60: 1813"
       ]
      },
      {
       "output_type": "stream",
       "stream": "stdout",
       "text": [
        "\n",
        "security 64: 218"
       ]
      },
      {
       "output_type": "stream",
       "stream": "stdout",
       "text": [
        "\n",
        "security 65: 1442"
       ]
      },
      {
       "output_type": "stream",
       "stream": "stdout",
       "text": [
        "\n",
        "security 66: 1745"
       ]
      },
      {
       "output_type": "stream",
       "stream": "stdout",
       "text": [
        "\n",
        "security 68: 1813"
       ]
      },
      {
       "output_type": "stream",
       "stream": "stdout",
       "text": [
        "\n",
        "security 72: 167"
       ]
      },
      {
       "output_type": "stream",
       "stream": "stdout",
       "text": [
        "\n",
        "security 76: 1813"
       ]
      },
      {
       "output_type": "stream",
       "stream": "stdout",
       "text": [
        "\n",
        "security 77: 986"
       ]
      },
      {
       "output_type": "stream",
       "stream": "stdout",
       "text": [
        "\n",
        "security 79: 1813"
       ]
      },
      {
       "output_type": "stream",
       "stream": "stdout",
       "text": [
        "\n",
        "security 80: 1813"
       ]
      },
      {
       "output_type": "stream",
       "stream": "stdout",
       "text": [
        "\n",
        "security 81: 932"
       ]
      },
      {
       "output_type": "stream",
       "stream": "stdout",
       "text": [
        "\n",
        "security 82: 1813"
       ]
      },
      {
       "output_type": "stream",
       "stream": "stdout",
       "text": [
        "\n",
        "security 83: 1813"
       ]
      },
      {
       "output_type": "stream",
       "stream": "stdout",
       "text": [
        "\n",
        "security 87: 1813"
       ]
      },
      {
       "output_type": "stream",
       "stream": "stdout",
       "text": [
        "\n",
        "security 95: 1813"
       ]
      },
      {
       "output_type": "stream",
       "stream": "stdout",
       "text": [
        "\n",
        "security 97: 1543"
       ]
      },
      {
       "output_type": "stream",
       "stream": "stdout",
       "text": [
        "\n",
        "security 98: 1813"
       ]
      },
      {
       "output_type": "stream",
       "stream": "stdout",
       "text": [
        "\n",
        "security 104: 252"
       ]
      },
      {
       "output_type": "stream",
       "stream": "stdout",
       "text": [
        "\n",
        "security 106: 1543"
       ]
      },
      {
       "output_type": "stream",
       "stream": "stdout",
       "text": [
        "\n",
        "security 108: 320"
       ]
      },
      {
       "output_type": "stream",
       "stream": "stdout",
       "text": [
        "\n",
        "security 113: 1813"
       ]
      },
      {
       "output_type": "stream",
       "stream": "stdout",
       "text": [
        "\n",
        "security 115: 1527"
       ]
      },
      {
       "output_type": "stream",
       "stream": "stdout",
       "text": [
        "\n",
        "security 118: 1813"
       ]
      },
      {
       "output_type": "stream",
       "stream": "stdout",
       "text": [
        "\n",
        "security 121: 1813"
       ]
      },
      {
       "output_type": "stream",
       "stream": "stdout",
       "text": [
        "\n",
        "security 122: 320"
       ]
      },
      {
       "output_type": "stream",
       "stream": "stdout",
       "text": [
        "\n",
        "security 124: 1813"
       ]
      },
      {
       "output_type": "stream",
       "stream": "stdout",
       "text": [
        "\n",
        "security 127: 218"
       ]
      },
      {
       "output_type": "stream",
       "stream": "stdout",
       "text": [
        "\n",
        "security 128: 1813"
       ]
      },
      {
       "output_type": "stream",
       "stream": "stdout",
       "text": [
        "\n",
        "security 130: 1813"
       ]
      },
      {
       "output_type": "stream",
       "stream": "stdout",
       "text": [
        "\n",
        "security 132: 1813"
       ]
      },
      {
       "output_type": "stream",
       "stream": "stdout",
       "text": [
        "\n",
        "security 133: 1442"
       ]
      },
      {
       "output_type": "stream",
       "stream": "stdout",
       "text": [
        "\n",
        "security 134: 218"
       ]
      },
      {
       "output_type": "stream",
       "stream": "stdout",
       "text": [
        "\n",
        "security 137: 320"
       ]
      },
      {
       "output_type": "stream",
       "stream": "stdout",
       "text": [
        "\n",
        "security 140: 1813"
       ]
      },
      {
       "output_type": "stream",
       "stream": "stdout",
       "text": [
        "\n",
        "security 142: 1813"
       ]
      },
      {
       "output_type": "stream",
       "stream": "stdout",
       "text": [
        "\n",
        "security 149: 1442"
       ]
      },
      {
       "output_type": "stream",
       "stream": "stdout",
       "text": [
        "\n",
        "security 150: 728"
       ]
      },
      {
       "output_type": "stream",
       "stream": "stdout",
       "text": [
        "\n",
        "security 151: 1136"
       ]
      },
      {
       "output_type": "stream",
       "stream": "stdout",
       "text": [
        "\n",
        "security 152: 1813"
       ]
      },
      {
       "output_type": "stream",
       "stream": "stdout",
       "text": [
        "\n",
        "security 154: 1813"
       ]
      },
      {
       "output_type": "stream",
       "stream": "stdout",
       "text": [
        "\n",
        "security 156: 1813"
       ]
      },
      {
       "output_type": "stream",
       "stream": "stdout",
       "text": [
        "\n",
        "security 158: 167"
       ]
      },
      {
       "output_type": "stream",
       "stream": "stdout",
       "text": [
        "\n",
        "security 159: 829"
       ]
      },
      {
       "output_type": "stream",
       "stream": "stdout",
       "text": [
        "\n",
        "security 160: 1813"
       ]
      },
      {
       "output_type": "stream",
       "stream": "stdout",
       "text": [
        "\n",
        "security 163: 523"
       ]
      },
      {
       "output_type": "stream",
       "stream": "stdout",
       "text": [
        "\n",
        "security 170: 728"
       ]
      },
      {
       "output_type": "stream",
       "stream": "stdout",
       "text": [
        "\n",
        "security 172: 1813"
       ]
      },
      {
       "output_type": "stream",
       "stream": "stdout",
       "text": [
        "\n",
        "security 173: 14"
       ]
      },
      {
       "output_type": "stream",
       "stream": "stdout",
       "text": [
        "\n",
        "security 174: 422"
       ]
      },
      {
       "output_type": "stream",
       "stream": "stdout",
       "text": [
        "\n",
        "security 175: 1813"
       ]
      },
      {
       "output_type": "stream",
       "stream": "stdout",
       "text": [
        "\n",
        "security 176: 1813"
       ]
      },
      {
       "output_type": "stream",
       "stream": "stdout",
       "text": [
        "\n",
        "security 177: 1340"
       ]
      },
      {
       "output_type": "stream",
       "stream": "stdout",
       "text": [
        "\n",
        "security 179: 1527"
       ]
      },
      {
       "output_type": "stream",
       "stream": "stdout",
       "text": [
        "\n",
        "security 181: 320"
       ]
      },
      {
       "output_type": "stream",
       "stream": "stdout",
       "text": [
        "\n",
        "security 183: 320"
       ]
      },
      {
       "output_type": "stream",
       "stream": "stdout",
       "text": [
        "\n",
        "security 184: 1813"
       ]
      },
      {
       "output_type": "stream",
       "stream": "stdout",
       "text": [
        "\n",
        "security 185: 1340"
       ]
      },
      {
       "output_type": "stream",
       "stream": "stdout",
       "text": [
        "\n",
        "security 186: 1813"
       ]
      },
      {
       "output_type": "stream",
       "stream": "stdout",
       "text": [
        "\n",
        "security 187: 1813"
       ]
      },
      {
       "output_type": "stream",
       "stream": "stdout",
       "text": [
        "\n",
        "security 191: 1813"
       ]
      },
      {
       "output_type": "stream",
       "stream": "stdout",
       "text": [
        "\n",
        "security 195: 1813"
       ]
      },
      {
       "output_type": "stream",
       "stream": "stdout",
       "text": [
        "\n",
        "security 199: 1813"
       ]
      },
      {
       "output_type": "stream",
       "stream": "stdout",
       "text": [
        "\n",
        "security 203: 1813"
       ]
      },
      {
       "output_type": "stream",
       "stream": "stdout",
       "text": [
        "\n",
        "security 206: 1813"
       ]
      },
      {
       "output_type": "stream",
       "stream": "stdout",
       "text": [
        "\n",
        "security 208: 1136"
       ]
      },
      {
       "output_type": "stream",
       "stream": "stdout",
       "text": [
        "\n",
        "security 212: 1136"
       ]
      },
      {
       "output_type": "stream",
       "stream": "stdout",
       "text": [
        "\n",
        "security 215: 1813"
       ]
      },
      {
       "output_type": "stream",
       "stream": "stdout",
       "text": [
        "\n",
        "security 216: 1813"
       ]
      },
      {
       "output_type": "stream",
       "stream": "stdout",
       "text": [
        "\n",
        "security 217: 1813"
       ]
      },
      {
       "output_type": "stream",
       "stream": "stdout",
       "text": [
        "\n",
        "security 218: 1646"
       ]
      },
      {
       "output_type": "stream",
       "stream": "stdout",
       "text": [
        "\n",
        "security 219: 1813"
       ]
      },
      {
       "output_type": "stream",
       "stream": "stdout",
       "text": [
        "\n",
        "security 220: 218"
       ]
      },
      {
       "output_type": "stream",
       "stream": "stdout",
       "text": [
        "\n",
        "security 221: 1745"
       ]
      },
      {
       "output_type": "stream",
       "stream": "stdout",
       "text": [
        "\n",
        "security 222: 218"
       ]
      },
      {
       "output_type": "stream",
       "stream": "stdout",
       "text": [
        "\n",
        "security 223: 1813"
       ]
      },
      {
       "output_type": "stream",
       "stream": "stdout",
       "text": [
        "\n",
        "security 224: 1813"
       ]
      },
      {
       "output_type": "stream",
       "stream": "stdout",
       "text": [
        "\n",
        "security 225: 1813"
       ]
      },
      {
       "output_type": "stream",
       "stream": "stdout",
       "text": [
        "\n",
        "security 226: 19"
       ]
      },
      {
       "output_type": "stream",
       "stream": "stdout",
       "text": [
        "\n",
        "security 227: 523"
       ]
      },
      {
       "output_type": "stream",
       "stream": "stdout",
       "text": [
        "\n",
        "security 229: 1813"
       ]
      },
      {
       "output_type": "stream",
       "stream": "stdout",
       "text": [
        "\n",
        "security 232: 1813"
       ]
      },
      {
       "output_type": "stream",
       "stream": "stdout",
       "text": [
        "\n",
        "security 233: 1745"
       ]
      },
      {
       "output_type": "stream",
       "stream": "stdout",
       "text": [
        "\n",
        "security 235: 1813"
       ]
      },
      {
       "output_type": "stream",
       "stream": "stdout",
       "text": [
        "\n",
        "security 240: 1813"
       ]
      },
      {
       "output_type": "stream",
       "stream": "stdout",
       "text": [
        "\n",
        "security 242: 1813"
       ]
      },
      {
       "output_type": "stream",
       "stream": "stdout",
       "text": [
        "\n",
        "security 244: 1813"
       ]
      },
      {
       "output_type": "stream",
       "stream": "stdout",
       "text": [
        "\n",
        "security 245: 1543"
       ]
      },
      {
       "output_type": "stream",
       "stream": "stdout",
       "text": [
        "\n",
        "security 248: 1813"
       ]
      },
      {
       "output_type": "stream",
       "stream": "stdout",
       "text": [
        "\n",
        "security 249: 1813"
       ]
      },
      {
       "output_type": "stream",
       "stream": "stdout",
       "text": [
        "\n",
        "security 252: 1813"
       ]
      },
      {
       "output_type": "stream",
       "stream": "stdout",
       "text": [
        "\n",
        "security 255: 1813"
       ]
      },
      {
       "output_type": "stream",
       "stream": "stdout",
       "text": [
        "\n",
        "security 256: 422"
       ]
      },
      {
       "output_type": "stream",
       "stream": "stdout",
       "text": [
        "\n",
        "security 257: 1813"
       ]
      },
      {
       "output_type": "stream",
       "stream": "stdout",
       "text": [
        "\n",
        "security 258: 218"
       ]
      },
      {
       "output_type": "stream",
       "stream": "stdout",
       "text": [
        "\n",
        "security 259: 1813"
       ]
      },
      {
       "output_type": "stream",
       "stream": "stdout",
       "text": [
        "\n",
        "security 261: 1813"
       ]
      },
      {
       "output_type": "stream",
       "stream": "stdout",
       "text": [
        "\n",
        "security 262: 1813"
       ]
      },
      {
       "output_type": "stream",
       "stream": "stdout",
       "text": [
        "\n",
        "security 265: 1813"
       ]
      },
      {
       "output_type": "stream",
       "stream": "stdout",
       "text": [
        "\n",
        "security 266: 1813"
       ]
      },
      {
       "output_type": "stream",
       "stream": "stdout",
       "text": [
        "\n",
        "security 268: 1813"
       ]
      },
      {
       "output_type": "stream",
       "stream": "stdout",
       "text": [
        "\n",
        "security 269: 1813"
       ]
      },
      {
       "output_type": "stream",
       "stream": "stdout",
       "text": [
        "\n",
        "security 273: 1813"
       ]
      },
      {
       "output_type": "stream",
       "stream": "stdout",
       "text": [
        "\n",
        "security 274: 1745"
       ]
      },
      {
       "output_type": "stream",
       "stream": "stdout",
       "text": [
        "\n",
        "security 275: 422"
       ]
      },
      {
       "output_type": "stream",
       "stream": "stdout",
       "text": [
        "\n",
        "security 278: 1340"
       ]
      },
      {
       "output_type": "stream",
       "stream": "stdout",
       "text": [
        "\n",
        "security 279: 932"
       ]
      },
      {
       "output_type": "stream",
       "stream": "stdout",
       "text": [
        "\n",
        "security 287: 1813"
       ]
      },
      {
       "output_type": "stream",
       "stream": "stdout",
       "text": [
        "\n",
        "security 290: 1813"
       ]
      },
      {
       "output_type": "stream",
       "stream": "stdout",
       "text": [
        "\n",
        "security 294: 320"
       ]
      },
      {
       "output_type": "stream",
       "stream": "stdout",
       "text": [
        "\n",
        "security 295: 218"
       ]
      },
      {
       "output_type": "stream",
       "stream": "stdout",
       "text": [
        "\n",
        "security 296: 1813"
       ]
      },
      {
       "output_type": "stream",
       "stream": "stdout",
       "text": [
        "\n",
        "security 298: 218"
       ]
      },
      {
       "output_type": "stream",
       "stream": "stdout",
       "text": [
        "\n",
        "security 300: 1813"
       ]
      },
      {
       "output_type": "stream",
       "stream": "stdout",
       "text": [
        "\n",
        "security 304: 1543"
       ]
      },
      {
       "output_type": "stream",
       "stream": "stdout",
       "text": [
        "\n",
        "security 305: 523"
       ]
      },
      {
       "output_type": "stream",
       "stream": "stdout",
       "text": [
        "\n",
        "security 307: 1543"
       ]
      },
      {
       "output_type": "stream",
       "stream": "stdout",
       "text": [
        "\n",
        "security 308: 31"
       ]
      },
      {
       "output_type": "stream",
       "stream": "stdout",
       "text": [
        "\n",
        "security 310: 932"
       ]
      },
      {
       "output_type": "stream",
       "stream": "stdout",
       "text": [
        "\n",
        "security 312: 932"
       ]
      },
      {
       "output_type": "stream",
       "stream": "stdout",
       "text": [
        "\n",
        "security 317: 1813"
       ]
      },
      {
       "output_type": "stream",
       "stream": "stdout",
       "text": [
        "\n",
        "security 318: 1813"
       ]
      },
      {
       "output_type": "stream",
       "stream": "stdout",
       "text": [
        "\n",
        "security 319: 1813"
       ]
      },
      {
       "output_type": "stream",
       "stream": "stdout",
       "text": [
        "\n",
        "security 321: 728"
       ]
      },
      {
       "output_type": "stream",
       "stream": "stdout",
       "text": [
        "\n",
        "security 324: 218"
       ]
      },
      {
       "output_type": "stream",
       "stream": "stdout",
       "text": [
        "\n",
        "security 325: 218"
       ]
      },
      {
       "output_type": "stream",
       "stream": "stdout",
       "text": [
        "\n",
        "security 329: 1543"
       ]
      },
      {
       "output_type": "stream",
       "stream": "stdout",
       "text": [
        "\n",
        "security 330: 1745"
       ]
      },
      {
       "output_type": "stream",
       "stream": "stdout",
       "text": [
        "\n",
        "security 333: 422"
       ]
      },
      {
       "output_type": "stream",
       "stream": "stdout",
       "text": [
        "\n",
        "security 334: 1745"
       ]
      },
      {
       "output_type": "stream",
       "stream": "stdout",
       "text": [
        "\n",
        "security 338: 1813"
       ]
      },
      {
       "output_type": "stream",
       "stream": "stdout",
       "text": [
        "\n",
        "security 339: 1745"
       ]
      },
      {
       "output_type": "stream",
       "stream": "stdout",
       "text": [
        "\n",
        "security 340: 1136"
       ]
      },
      {
       "output_type": "stream",
       "stream": "stdout",
       "text": [
        "\n",
        "security 341: 1813"
       ]
      },
      {
       "output_type": "stream",
       "stream": "stdout",
       "text": [
        "\n",
        "security 346: 1543"
       ]
      },
      {
       "output_type": "stream",
       "stream": "stdout",
       "text": [
        "\n",
        "security 347: 1813"
       ]
      },
      {
       "output_type": "stream",
       "stream": "stdout",
       "text": [
        "\n",
        "security 348: 1813"
       ]
      },
      {
       "output_type": "stream",
       "stream": "stdout",
       "text": [
        "\n",
        "security 349: 1813"
       ]
      },
      {
       "output_type": "stream",
       "stream": "stdout",
       "text": [
        "\n",
        "security 351: 1813"
       ]
      },
      {
       "output_type": "stream",
       "stream": "stdout",
       "text": [
        "\n",
        "security 352: 1813"
       ]
      },
      {
       "output_type": "stream",
       "stream": "stdout",
       "text": [
        "\n",
        "security 353: 728"
       ]
      },
      {
       "output_type": "stream",
       "stream": "stdout",
       "text": [
        "\n",
        "security 357: 167"
       ]
      },
      {
       "output_type": "stream",
       "stream": "stdout",
       "text": [
        "\n",
        "security 358: 1813"
       ]
      },
      {
       "output_type": "stream",
       "stream": "stdout",
       "text": [
        "\n",
        "security 363: 1238"
       ]
      },
      {
       "output_type": "stream",
       "stream": "stdout",
       "text": [
        "\n",
        "security 364: 218"
       ]
      },
      {
       "output_type": "stream",
       "stream": "stdout",
       "text": [
        "\n",
        "security 365: 1813"
       ]
      },
      {
       "output_type": "stream",
       "stream": "stdout",
       "text": [
        "\n",
        "security 372: 1813"
       ]
      },
      {
       "output_type": "stream",
       "stream": "stdout",
       "text": [
        "\n",
        "security 374: 320"
       ]
      },
      {
       "output_type": "stream",
       "stream": "stdout",
       "text": [
        "\n",
        "security 378: 1034"
       ]
      },
      {
       "output_type": "stream",
       "stream": "stdout",
       "text": [
        "\n",
        "security 379: 167"
       ]
      },
      {
       "output_type": "stream",
       "stream": "stdout",
       "text": [
        "\n",
        "security 381: 932"
       ]
      },
      {
       "output_type": "stream",
       "stream": "stdout",
       "text": [
        "\n",
        "security 382: 167"
       ]
      },
      {
       "output_type": "stream",
       "stream": "stdout",
       "text": [
        "\n",
        "security 383: 1813"
       ]
      },
      {
       "output_type": "stream",
       "stream": "stdout",
       "text": [
        "\n",
        "security 384: 1646"
       ]
      },
      {
       "output_type": "stream",
       "stream": "stdout",
       "text": [
        "\n",
        "security 388: 1813"
       ]
      },
      {
       "output_type": "stream",
       "stream": "stdout",
       "text": [
        "\n",
        "security 393: 1442"
       ]
      },
      {
       "output_type": "stream",
       "stream": "stdout",
       "text": [
        "\n",
        "security 395: 1813"
       ]
      },
      {
       "output_type": "stream",
       "stream": "stdout",
       "text": [
        "\n",
        "security 396: 1813"
       ]
      },
      {
       "output_type": "stream",
       "stream": "stdout",
       "text": [
        "\n",
        "security 397: 728"
       ]
      },
      {
       "output_type": "stream",
       "stream": "stdout",
       "text": [
        "\n",
        "security 398: 455"
       ]
      },
      {
       "output_type": "stream",
       "stream": "stdout",
       "text": [
        "\n",
        "security 399: 320"
       ]
      },
      {
       "output_type": "stream",
       "stream": "stdout",
       "text": [
        "\n",
        "security 403: 320"
       ]
      },
      {
       "output_type": "stream",
       "stream": "stdout",
       "text": [
        "\n",
        "security 404: 218"
       ]
      },
      {
       "output_type": "stream",
       "stream": "stdout",
       "text": [
        "\n",
        "security 410: 1136"
       ]
      },
      {
       "output_type": "stream",
       "stream": "stdout",
       "text": [
        "\n",
        "security 411: 1745"
       ]
      },
      {
       "output_type": "stream",
       "stream": "stdout",
       "text": [
        "\n",
        "security 413: 1813"
       ]
      },
      {
       "output_type": "stream",
       "stream": "stdout",
       "text": [
        "\n",
        "security 414: 932"
       ]
      },
      {
       "output_type": "stream",
       "stream": "stdout",
       "text": [
        "\n",
        "security 416: 694"
       ]
      },
      {
       "output_type": "stream",
       "stream": "stdout",
       "text": [
        "\n",
        "security 418: 676"
       ]
      },
      {
       "output_type": "stream",
       "stream": "stdout",
       "text": [
        "\n",
        "security 424: 1442"
       ]
      },
      {
       "output_type": "stream",
       "stream": "stdout",
       "text": [
        "\n",
        "security 425: 1813"
       ]
      },
      {
       "output_type": "stream",
       "stream": "stdout",
       "text": [
        "\n",
        "security 429: 1745"
       ]
      },
      {
       "output_type": "stream",
       "stream": "stdout",
       "text": [
        "\n",
        "security 430: 1813"
       ]
      },
      {
       "output_type": "stream",
       "stream": "stdout",
       "text": [
        "\n",
        "security 432: 1340"
       ]
      },
      {
       "output_type": "stream",
       "stream": "stdout",
       "text": [
        "\n",
        "security 433: 1813"
       ]
      },
      {
       "output_type": "stream",
       "stream": "stdout",
       "text": [
        "\n",
        "security 435: 2"
       ]
      },
      {
       "output_type": "stream",
       "stream": "stdout",
       "text": [
        "\n",
        "security 437: 422"
       ]
      },
      {
       "output_type": "stream",
       "stream": "stdout",
       "text": [
        "\n",
        "security 438: 1813"
       ]
      },
      {
       "output_type": "stream",
       "stream": "stdout",
       "text": [
        "\n",
        "security 439: 167"
       ]
      },
      {
       "output_type": "stream",
       "stream": "stdout",
       "text": [
        "\n",
        "security 440: 320"
       ]
      },
      {
       "output_type": "stream",
       "stream": "stdout",
       "text": [
        "\n",
        "security 441: 1813"
       ]
      },
      {
       "output_type": "stream",
       "stream": "stdout",
       "text": [
        "\n",
        "security 445: 1813"
       ]
      },
      {
       "output_type": "stream",
       "stream": "stdout",
       "text": [
        "\n",
        "security 446: 1034"
       ]
      },
      {
       "output_type": "stream",
       "stream": "stdout",
       "text": [
        "\n",
        "security 448: 1745"
       ]
      },
      {
       "output_type": "stream",
       "stream": "stdout",
       "text": [
        "\n",
        "security 449: 455"
       ]
      },
      {
       "output_type": "stream",
       "stream": "stdout",
       "text": [
        "\n",
        "security 450: 625"
       ]
      },
      {
       "output_type": "stream",
       "stream": "stdout",
       "text": [
        "\n",
        "security 451: 1813"
       ]
      },
      {
       "output_type": "stream",
       "stream": "stdout",
       "text": [
        "\n",
        "security 452: 1813"
       ]
      },
      {
       "output_type": "stream",
       "stream": "stdout",
       "text": [
        "\n",
        "security 453: 1813"
       ]
      },
      {
       "output_type": "stream",
       "stream": "stdout",
       "text": [
        "\n",
        "security 458: 728"
       ]
      },
      {
       "output_type": "stream",
       "stream": "stdout",
       "text": [
        "\n",
        "security 459: 1745"
       ]
      },
      {
       "output_type": "stream",
       "stream": "stdout",
       "text": [
        "\n",
        "security 461: 218"
       ]
      },
      {
       "output_type": "stream",
       "stream": "stdout",
       "text": [
        "\n",
        "security 462: 167"
       ]
      },
      {
       "output_type": "stream",
       "stream": "stdout",
       "text": [
        "\n",
        "security 467: 1813"
       ]
      },
      {
       "output_type": "stream",
       "stream": "stdout",
       "text": [
        "\n",
        "security 468: 1813"
       ]
      },
      {
       "output_type": "stream",
       "stream": "stdout",
       "text": [
        "\n",
        "security 470: 320"
       ]
      },
      {
       "output_type": "stream",
       "stream": "stdout",
       "text": [
        "\n",
        "security 472: 728"
       ]
      },
      {
       "output_type": "stream",
       "stream": "stdout",
       "text": [
        "\n",
        "security 480: 1813"
       ]
      },
      {
       "output_type": "stream",
       "stream": "stdout",
       "text": [
        "\n",
        "security 481: 1813"
       ]
      },
      {
       "output_type": "stream",
       "stream": "stdout",
       "text": [
        "\n",
        "security 482: 1136"
       ]
      },
      {
       "output_type": "stream",
       "stream": "stdout",
       "text": [
        "\n",
        "security 484: 1813"
       ]
      },
      {
       "output_type": "stream",
       "stream": "stdout",
       "text": [
        "\n",
        "security 490: 1813"
       ]
      },
      {
       "output_type": "stream",
       "stream": "stdout",
       "text": [
        "\n",
        "security 491: 829"
       ]
      },
      {
       "output_type": "stream",
       "stream": "stdout",
       "text": [
        "\n",
        "security 492: 1813"
       ]
      },
      {
       "output_type": "stream",
       "stream": "stdout",
       "text": [
        "\n",
        "security 494: 1663"
       ]
      },
      {
       "output_type": "stream",
       "stream": "stdout",
       "text": [
        "\n",
        "security 500: 1813"
       ]
      },
      {
       "output_type": "stream",
       "stream": "stdout",
       "text": [
        "\n",
        "security 505: 1813"
       ]
      },
      {
       "output_type": "stream",
       "stream": "stdout",
       "text": [
        "\n",
        "security 506: 1813"
       ]
      },
      {
       "output_type": "stream",
       "stream": "stdout",
       "text": [
        "\n",
        "security 507: 1813"
       ]
      },
      {
       "output_type": "stream",
       "stream": "stdout",
       "text": [
        "\n",
        "security 508: 523"
       ]
      },
      {
       "output_type": "stream",
       "stream": "stdout",
       "text": [
        "\n",
        "security 509: 1813"
       ]
      },
      {
       "output_type": "stream",
       "stream": "stdout",
       "text": [
        "\n",
        "security 510: 1813"
       ]
      },
      {
       "output_type": "stream",
       "stream": "stdout",
       "text": [
        "\n",
        "security 512: 1813"
       ]
      },
      {
       "output_type": "stream",
       "stream": "stdout",
       "text": [
        "\n",
        "security 513: 1813"
       ]
      },
      {
       "output_type": "stream",
       "stream": "stdout",
       "text": [
        "\n",
        "security 515: 625"
       ]
      },
      {
       "output_type": "stream",
       "stream": "stdout",
       "text": [
        "\n",
        "security 517: 1745"
       ]
      },
      {
       "output_type": "stream",
       "stream": "stdout",
       "text": [
        "\n",
        "security 520: 1813"
       ]
      },
      {
       "output_type": "stream",
       "stream": "stdout",
       "text": [
        "\n",
        "security 521: 1340"
       ]
      },
      {
       "output_type": "stream",
       "stream": "stdout",
       "text": [
        "\n",
        "security 523: 1813"
       ]
      },
      {
       "output_type": "stream",
       "stream": "stdout",
       "text": [
        "\n",
        "security 527: 1813"
       ]
      },
      {
       "output_type": "stream",
       "stream": "stdout",
       "text": [
        "\n",
        "security 528: 880"
       ]
      },
      {
       "output_type": "stream",
       "stream": "stdout",
       "text": [
        "\n",
        "security 529: 1813"
       ]
      },
      {
       "output_type": "stream",
       "stream": "stdout",
       "text": [
        "\n",
        "security 530: 1813"
       ]
      },
      {
       "output_type": "stream",
       "stream": "stdout",
       "text": [
        "\n",
        "security 531: 1813"
       ]
      },
      {
       "output_type": "stream",
       "stream": "stdout",
       "text": [
        "\n",
        "security 532: 1813"
       ]
      },
      {
       "output_type": "stream",
       "stream": "stdout",
       "text": [
        "\n",
        "security 533: 320"
       ]
      },
      {
       "output_type": "stream",
       "stream": "stdout",
       "text": [
        "\n",
        "security 535: 1813"
       ]
      },
      {
       "output_type": "stream",
       "stream": "stdout",
       "text": [
        "\n",
        "security 536: 1813"
       ]
      },
      {
       "output_type": "stream",
       "stream": "stdout",
       "text": [
        "\n",
        "security 539: 422"
       ]
      },
      {
       "output_type": "stream",
       "stream": "stdout",
       "text": [
        "\n",
        "security 542: 1813"
       ]
      },
      {
       "output_type": "stream",
       "stream": "stdout",
       "text": [
        "\n",
        "security 543: 1813"
       ]
      },
      {
       "output_type": "stream",
       "stream": "stdout",
       "text": [
        "\n",
        "security 545: 1813"
       ]
      },
      {
       "output_type": "stream",
       "stream": "stdout",
       "text": [
        "\n",
        "security 546: 14"
       ]
      },
      {
       "output_type": "stream",
       "stream": "stdout",
       "text": [
        "\n",
        "security 548: 1813"
       ]
      },
      {
       "output_type": "stream",
       "stream": "stdout",
       "text": [
        "\n",
        "security 553: 422"
       ]
      },
      {
       "output_type": "stream",
       "stream": "stdout",
       "text": [
        "\n",
        "security 557: 1813"
       ]
      },
      {
       "output_type": "stream",
       "stream": "stdout",
       "text": [
        "\n",
        "security 558: 1813"
       ]
      },
      {
       "output_type": "stream",
       "stream": "stdout",
       "text": [
        "\n",
        "security 559: 1813"
       ]
      },
      {
       "output_type": "stream",
       "stream": "stdout",
       "text": [
        "\n",
        "security 561: 320"
       ]
      },
      {
       "output_type": "stream",
       "stream": "stdout",
       "text": [
        "\n",
        "security 565: 1813"
       ]
      },
      {
       "output_type": "stream",
       "stream": "stdout",
       "text": [
        "\n",
        "security 570: 218"
       ]
      },
      {
       "output_type": "stream",
       "stream": "stdout",
       "text": [
        "\n",
        "security 571: 1813"
       ]
      },
      {
       "output_type": "stream",
       "stream": "stdout",
       "text": [
        "\n",
        "security 572: 422"
       ]
      },
      {
       "output_type": "stream",
       "stream": "stdout",
       "text": [
        "\n",
        "security 573: 218"
       ]
      },
      {
       "output_type": "stream",
       "stream": "stdout",
       "text": [
        "\n",
        "security 575: 150"
       ]
      },
      {
       "output_type": "stream",
       "stream": "stdout",
       "text": [
        "\n",
        "security 576: 167"
       ]
      },
      {
       "output_type": "stream",
       "stream": "stdout",
       "text": [
        "\n",
        "security 578: 1813"
       ]
      },
      {
       "output_type": "stream",
       "stream": "stdout",
       "text": [
        "\n",
        "security 580: 1813"
       ]
      },
      {
       "output_type": "stream",
       "stream": "stdout",
       "text": [
        "\n",
        "security 582: 422"
       ]
      },
      {
       "output_type": "stream",
       "stream": "stdout",
       "text": [
        "\n",
        "security 583: 1813"
       ]
      },
      {
       "output_type": "stream",
       "stream": "stdout",
       "text": [
        "\n",
        "security 584: 1813"
       ]
      },
      {
       "output_type": "stream",
       "stream": "stdout",
       "text": [
        "\n",
        "security 585: 218"
       ]
      },
      {
       "output_type": "stream",
       "stream": "stdout",
       "text": [
        "\n",
        "security 586: 1813"
       ]
      },
      {
       "output_type": "stream",
       "stream": "stdout",
       "text": [
        "\n",
        "security 587: 1813"
       ]
      },
      {
       "output_type": "stream",
       "stream": "stdout",
       "text": [
        "\n",
        "security 588: 1813"
       ]
      },
      {
       "output_type": "stream",
       "stream": "stdout",
       "text": [
        "\n",
        "security 589: 1745"
       ]
      },
      {
       "output_type": "stream",
       "stream": "stdout",
       "text": [
        "\n",
        "security 591: 1813"
       ]
      },
      {
       "output_type": "stream",
       "stream": "stdout",
       "text": [
        "\n",
        "security 592: 320"
       ]
      },
      {
       "output_type": "stream",
       "stream": "stdout",
       "text": [
        "\n",
        "security 593: 1813"
       ]
      },
      {
       "output_type": "stream",
       "stream": "stdout",
       "text": [
        "\n",
        "security 595: 932"
       ]
      },
      {
       "output_type": "stream",
       "stream": "stdout",
       "text": [
        "\n",
        "security 597: 1745"
       ]
      },
      {
       "output_type": "stream",
       "stream": "stdout",
       "text": [
        "\n",
        "security 599: 1543"
       ]
      },
      {
       "output_type": "stream",
       "stream": "stdout",
       "text": [
        "\n",
        "security 602: 1813"
       ]
      },
      {
       "output_type": "stream",
       "stream": "stdout",
       "text": [
        "\n",
        "security 604: 1543"
       ]
      },
      {
       "output_type": "stream",
       "stream": "stdout",
       "text": [
        "\n",
        "security 605: 1813"
       ]
      },
      {
       "output_type": "stream",
       "stream": "stdout",
       "text": [
        "\n",
        "security 606: 422"
       ]
      },
      {
       "output_type": "stream",
       "stream": "stdout",
       "text": [
        "\n",
        "security 608: 1813"
       ]
      },
      {
       "output_type": "stream",
       "stream": "stdout",
       "text": [
        "\n",
        "security 610: 115"
       ]
      },
      {
       "output_type": "stream",
       "stream": "stdout",
       "text": [
        "\n",
        "security 611: 1813"
       ]
      },
      {
       "output_type": "stream",
       "stream": "stdout",
       "text": [
        "\n",
        "security 613: 1543"
       ]
      },
      {
       "output_type": "stream",
       "stream": "stdout",
       "text": [
        "\n",
        "security 615: 1813"
       ]
      },
      {
       "output_type": "stream",
       "stream": "stdout",
       "text": [
        "\n",
        "security 618: 1813"
       ]
      },
      {
       "output_type": "stream",
       "stream": "stdout",
       "text": [
        "\n",
        "security 620: 1813"
       ]
      },
      {
       "output_type": "stream",
       "stream": "stdout",
       "text": [
        "\n",
        "security 621: 1458"
       ]
      },
      {
       "output_type": "stream",
       "stream": "stdout",
       "text": [
        "\n",
        "security 624: 1813"
       ]
      },
      {
       "output_type": "stream",
       "stream": "stdout",
       "text": [
        "\n",
        "security 629: 422"
       ]
      },
      {
       "output_type": "stream",
       "stream": "stdout",
       "text": [
        "\n",
        "security 631: 1813"
       ]
      },
      {
       "output_type": "stream",
       "stream": "stdout",
       "text": [
        "\n",
        "security 636: 1813"
       ]
      },
      {
       "output_type": "stream",
       "stream": "stdout",
       "text": [
        "\n",
        "security 637: 1813"
       ]
      },
      {
       "output_type": "stream",
       "stream": "stdout",
       "text": [
        "\n",
        "security 640: 1543"
       ]
      },
      {
       "output_type": "stream",
       "stream": "stdout",
       "text": [
        "\n",
        "security 641: 285"
       ]
      },
      {
       "output_type": "stream",
       "stream": "stdout",
       "text": [
        "\n",
        "security 642: 1425"
       ]
      },
      {
       "output_type": "stream",
       "stream": "stdout",
       "text": [
        "\n",
        "security 644: 625"
       ]
      },
      {
       "output_type": "stream",
       "stream": "stdout",
       "text": [
        "\n",
        "security 646: 1813"
       ]
      },
      {
       "output_type": "stream",
       "stream": "stdout",
       "text": [
        "\n",
        "security 648: 422"
       ]
      },
      {
       "output_type": "stream",
       "stream": "stdout",
       "text": [
        "\n",
        "security 651: 1813"
       ]
      },
      {
       "output_type": "stream",
       "stream": "stdout",
       "text": [
        "\n",
        "security 652: 320"
       ]
      },
      {
       "output_type": "stream",
       "stream": "stdout",
       "text": [
        "\n",
        "security 653: 167"
       ]
      },
      {
       "output_type": "stream",
       "stream": "stdout",
       "text": [
        "\n",
        "security 654: 1813"
       ]
      },
      {
       "output_type": "stream",
       "stream": "stdout",
       "text": [
        "\n",
        "security 656: 1813"
       ]
      },
      {
       "output_type": "stream",
       "stream": "stdout",
       "text": [
        "\n",
        "security 657: 1813"
       ]
      },
      {
       "output_type": "stream",
       "stream": "stdout",
       "text": [
        "\n",
        "security 659: 1340"
       ]
      },
      {
       "output_type": "stream",
       "stream": "stdout",
       "text": [
        "\n",
        "security 663: 115"
       ]
      },
      {
       "output_type": "stream",
       "stream": "stdout",
       "text": [
        "\n",
        "security 667: 1813"
       ]
      },
      {
       "output_type": "stream",
       "stream": "stdout",
       "text": [
        "\n",
        "security 669: 1813"
       ]
      },
      {
       "output_type": "stream",
       "stream": "stdout",
       "text": [
        "\n",
        "security 672: 1340"
       ]
      },
      {
       "output_type": "stream",
       "stream": "stdout",
       "text": [
        "\n",
        "security 677: 1813"
       ]
      },
      {
       "output_type": "stream",
       "stream": "stdout",
       "text": [
        "\n",
        "security 679: 1813"
       ]
      },
      {
       "output_type": "stream",
       "stream": "stdout",
       "text": [
        "\n",
        "security 683: 115"
       ]
      },
      {
       "output_type": "stream",
       "stream": "stdout",
       "text": [
        "\n",
        "security 684: 1813"
       ]
      },
      {
       "output_type": "stream",
       "stream": "stdout",
       "text": [
        "\n",
        "security 686: 1813"
       ]
      },
      {
       "output_type": "stream",
       "stream": "stdout",
       "text": [
        "\n",
        "security 687: 625"
       ]
      },
      {
       "output_type": "stream",
       "stream": "stdout",
       "text": [
        "\n",
        "security 689: 1813"
       ]
      },
      {
       "output_type": "stream",
       "stream": "stdout",
       "text": [
        "\n",
        "security 690: 1813"
       ]
      },
      {
       "output_type": "stream",
       "stream": "stdout",
       "text": [
        "\n",
        "security 691: 1813"
       ]
      },
      {
       "output_type": "stream",
       "stream": "stdout",
       "text": [
        "\n",
        "security 692: 870"
       ]
      },
      {
       "output_type": "stream",
       "stream": "stdout",
       "text": [
        "\n",
        "security 693: 1646"
       ]
      },
      {
       "output_type": "stream",
       "stream": "stdout",
       "text": [
        "\n",
        "security 696: 1813"
       ]
      },
      {
       "output_type": "stream",
       "stream": "stdout",
       "text": [
        "\n",
        "security 697: 1813"
       ]
      },
      {
       "output_type": "stream",
       "stream": "stdout",
       "text": [
        "\n",
        "security 699: 1813"
       ]
      },
      {
       "output_type": "stream",
       "stream": "stdout",
       "text": [
        "\n",
        "security 701: 676"
       ]
      },
      {
       "output_type": "stream",
       "stream": "stdout",
       "text": [
        "\n",
        "security 703: 1813"
       ]
      },
      {
       "output_type": "stream",
       "stream": "stdout",
       "text": [
        "\n",
        "security 704: 1813"
       ]
      },
      {
       "output_type": "stream",
       "stream": "stdout",
       "text": [
        "\n",
        "security 706: 1612"
       ]
      },
      {
       "output_type": "stream",
       "stream": "stdout",
       "text": [
        "\n",
        "security 707: 1813"
       ]
      },
      {
       "output_type": "stream",
       "stream": "stdout",
       "text": [
        "\n",
        "security 708: 1543"
       ]
      },
      {
       "output_type": "stream",
       "stream": "stdout",
       "text": [
        "\n",
        "security 709: 1813"
       ]
      },
      {
       "output_type": "stream",
       "stream": "stdout",
       "text": [
        "\n",
        "security 711: 1813"
       ]
      },
      {
       "output_type": "stream",
       "stream": "stdout",
       "text": [
        "\n",
        "security 713: 1813"
       ]
      },
      {
       "output_type": "stream",
       "stream": "stdout",
       "text": [
        "\n",
        "security 715: 1646"
       ]
      },
      {
       "output_type": "stream",
       "stream": "stdout",
       "text": [
        "\n",
        "security 719: 1813"
       ]
      },
      {
       "output_type": "stream",
       "stream": "stdout",
       "text": [
        "\n",
        "security 722: 1813"
       ]
      },
      {
       "output_type": "stream",
       "stream": "stdout",
       "text": [
        "\n",
        "security 724: 320"
       ]
      },
      {
       "output_type": "stream",
       "stream": "stdout",
       "text": [
        "\n",
        "security 726: 728"
       ]
      },
      {
       "output_type": "stream",
       "stream": "stdout",
       "text": [
        "\n",
        "security 727: 1813"
       ]
      },
      {
       "output_type": "stream",
       "stream": "stdout",
       "text": [
        "\n",
        "security 728: 1813"
       ]
      },
      {
       "output_type": "stream",
       "stream": "stdout",
       "text": [
        "\n",
        "security 729: 1509"
       ]
      },
      {
       "output_type": "stream",
       "stream": "stdout",
       "text": [
        "\n",
        "security 731: 625"
       ]
      },
      {
       "output_type": "stream",
       "stream": "stdout",
       "text": [
        "\n",
        "security 737: 115"
       ]
      },
      {
       "output_type": "stream",
       "stream": "stdout",
       "text": [
        "\n",
        "security 741: 728"
       ]
      },
      {
       "output_type": "stream",
       "stream": "stdout",
       "text": [
        "\n",
        "security 743: 728"
       ]
      },
      {
       "output_type": "stream",
       "stream": "stdout",
       "text": [
        "\n",
        "security 748: 1813"
       ]
      },
      {
       "output_type": "stream",
       "stream": "stdout",
       "text": [
        "\n",
        "security 751: 1813"
       ]
      },
      {
       "output_type": "stream",
       "stream": "stdout",
       "text": [
        "\n",
        "security 752: 14"
       ]
      },
      {
       "output_type": "stream",
       "stream": "stdout",
       "text": [
        "\n",
        "security 753: 1813"
       ]
      },
      {
       "output_type": "stream",
       "stream": "stdout",
       "text": [
        "\n",
        "security 757: 1813"
       ]
      },
      {
       "output_type": "stream",
       "stream": "stdout",
       "text": [
        "\n",
        "security 758: 218"
       ]
      },
      {
       "output_type": "stream",
       "stream": "stdout",
       "text": [
        "\n",
        "security 760: 167"
       ]
      },
      {
       "output_type": "stream",
       "stream": "stdout",
       "text": [
        "\n",
        "security 761: 1813"
       ]
      },
      {
       "output_type": "stream",
       "stream": "stdout",
       "text": [
        "\n",
        "security 763: 1646"
       ]
      },
      {
       "output_type": "stream",
       "stream": "stdout",
       "text": [
        "\n",
        "security 765: 1813"
       ]
      },
      {
       "output_type": "stream",
       "stream": "stdout",
       "text": [
        "\n",
        "security 766: 1813"
       ]
      },
      {
       "output_type": "stream",
       "stream": "stdout",
       "text": [
        "\n",
        "security 767: 14"
       ]
      },
      {
       "output_type": "stream",
       "stream": "stdout",
       "text": [
        "\n",
        "security 769: 523"
       ]
      },
      {
       "output_type": "stream",
       "stream": "stdout",
       "text": [
        "\n",
        "security 773: 1543"
       ]
      },
      {
       "output_type": "stream",
       "stream": "stdout",
       "text": [
        "\n",
        "security 777: 829"
       ]
      },
      {
       "output_type": "stream",
       "stream": "stdout",
       "text": [
        "\n",
        "security 786: 1136"
       ]
      },
      {
       "output_type": "stream",
       "stream": "stdout",
       "text": [
        "\n",
        "security 789: 1813"
       ]
      },
      {
       "output_type": "stream",
       "stream": "stdout",
       "text": [
        "\n",
        "security 791: 218"
       ]
      },
      {
       "output_type": "stream",
       "stream": "stdout",
       "text": [
        "\n",
        "security 792: 320"
       ]
      },
      {
       "output_type": "stream",
       "stream": "stdout",
       "text": [
        "\n",
        "security 793: 1745"
       ]
      },
      {
       "output_type": "stream",
       "stream": "stdout",
       "text": [
        "\n",
        "security 794: 1813"
       ]
      },
      {
       "output_type": "stream",
       "stream": "stdout",
       "text": [
        "\n",
        "security 795: 728"
       ]
      },
      {
       "output_type": "stream",
       "stream": "stdout",
       "text": [
        "\n",
        "security 796: 1813"
       ]
      },
      {
       "output_type": "stream",
       "stream": "stdout",
       "text": [
        "\n",
        "security 797: 1646"
       ]
      },
      {
       "output_type": "stream",
       "stream": "stdout",
       "text": [
        "\n",
        "security 800: 1813"
       ]
      },
      {
       "output_type": "stream",
       "stream": "stdout",
       "text": [
        "\n",
        "security 802: 252"
       ]
      },
      {
       "output_type": "stream",
       "stream": "stdout",
       "text": [
        "\n",
        "security 805: 320"
       ]
      },
      {
       "output_type": "stream",
       "stream": "stdout",
       "text": [
        "\n",
        "security 806: 1813"
       ]
      },
      {
       "output_type": "stream",
       "stream": "stdout",
       "text": [
        "\n",
        "security 808: 115"
       ]
      },
      {
       "output_type": "stream",
       "stream": "stdout",
       "text": [
        "\n",
        "security 809: 1813"
       ]
      },
      {
       "output_type": "stream",
       "stream": "stdout",
       "text": [
        "\n",
        "security 810: 523"
       ]
      },
      {
       "output_type": "stream",
       "stream": "stdout",
       "text": [
        "\n",
        "security 811: 1813"
       ]
      },
      {
       "output_type": "stream",
       "stream": "stdout",
       "text": [
        "\n",
        "security 812: 234"
       ]
      },
      {
       "output_type": "stream",
       "stream": "stdout",
       "text": [
        "\n",
        "security 816: 1813"
       ]
      },
      {
       "output_type": "stream",
       "stream": "stdout",
       "text": [
        "\n",
        "security 817: 1813"
       ]
      },
      {
       "output_type": "stream",
       "stream": "stdout",
       "text": [
        "\n",
        "security 821: 422"
       ]
      },
      {
       "output_type": "stream",
       "stream": "stdout",
       "text": [
        "\n",
        "security 828: 1813"
       ]
      },
      {
       "output_type": "stream",
       "stream": "stdout",
       "text": [
        "\n",
        "security 829: 1745"
       ]
      },
      {
       "output_type": "stream",
       "stream": "stdout",
       "text": [
        "\n",
        "security 830: 1813"
       ]
      },
      {
       "output_type": "stream",
       "stream": "stdout",
       "text": [
        "\n",
        "security 831: 625"
       ]
      },
      {
       "output_type": "stream",
       "stream": "stdout",
       "text": [
        "\n",
        "security 832: 1646"
       ]
      },
      {
       "output_type": "stream",
       "stream": "stdout",
       "text": [
        "\n",
        "security 833: 1813"
       ]
      },
      {
       "output_type": "stream",
       "stream": "stdout",
       "text": [
        "\n",
        "security 838: 507"
       ]
      },
      {
       "output_type": "stream",
       "stream": "stdout",
       "text": [
        "\n",
        "security 839: 1340"
       ]
      },
      {
       "output_type": "stream",
       "stream": "stdout",
       "text": [
        "\n",
        "security 841: 320"
       ]
      },
      {
       "output_type": "stream",
       "stream": "stdout",
       "text": [
        "\n",
        "security 842: 320"
       ]
      },
      {
       "output_type": "stream",
       "stream": "stdout",
       "text": [
        "\n",
        "security 843: 320"
       ]
      },
      {
       "output_type": "stream",
       "stream": "stdout",
       "text": [
        "\n",
        "security 844: 932"
       ]
      },
      {
       "output_type": "stream",
       "stream": "stdout",
       "text": [
        "\n",
        "security 845: 728"
       ]
      },
      {
       "output_type": "stream",
       "stream": "stdout",
       "text": [
        "\n",
        "security 846: 1813"
       ]
      },
      {
       "output_type": "stream",
       "stream": "stdout",
       "text": [
        "\n",
        "security 848: 1340"
       ]
      },
      {
       "output_type": "stream",
       "stream": "stdout",
       "text": [
        "\n",
        "security 849: 1813"
       ]
      },
      {
       "output_type": "stream",
       "stream": "stdout",
       "text": [
        "\n",
        "security 852: 1813"
       ]
      },
      {
       "output_type": "stream",
       "stream": "stdout",
       "text": [
        "\n",
        "security 853: 1813"
       ]
      },
      {
       "output_type": "stream",
       "stream": "stdout",
       "text": [
        "\n",
        "security 855: 1813"
       ]
      },
      {
       "output_type": "stream",
       "stream": "stdout",
       "text": [
        "\n",
        "security 856: 218"
       ]
      },
      {
       "output_type": "stream",
       "stream": "stdout",
       "text": [
        "\n",
        "security 858: 218"
       ]
      },
      {
       "output_type": "stream",
       "stream": "stdout",
       "text": [
        "\n",
        "security 859: 1813"
       ]
      },
      {
       "output_type": "stream",
       "stream": "stdout",
       "text": [
        "\n",
        "security 860: 1813"
       ]
      },
      {
       "output_type": "stream",
       "stream": "stdout",
       "text": [
        "\n",
        "security 861: 14"
       ]
      },
      {
       "output_type": "stream",
       "stream": "stdout",
       "text": [
        "\n",
        "security 863: 1813"
       ]
      },
      {
       "output_type": "stream",
       "stream": "stdout",
       "text": [
        "\n",
        "security 865: 1813"
       ]
      },
      {
       "output_type": "stream",
       "stream": "stdout",
       "text": [
        "\n",
        "security 866: 218"
       ]
      },
      {
       "output_type": "stream",
       "stream": "stdout",
       "text": [
        "\n",
        "security 867: 1745"
       ]
      },
      {
       "output_type": "stream",
       "stream": "stdout",
       "text": [
        "\n",
        "security 868: 1813"
       ]
      },
      {
       "output_type": "stream",
       "stream": "stdout",
       "text": [
        "\n",
        "security 869: 439"
       ]
      },
      {
       "output_type": "stream",
       "stream": "stdout",
       "text": [
        "\n",
        "security 870: 320"
       ]
      },
      {
       "output_type": "stream",
       "stream": "stdout",
       "text": [
        "\n",
        "security 871: 1813"
       ]
      },
      {
       "output_type": "stream",
       "stream": "stdout",
       "text": [
        "\n",
        "security 872: 115"
       ]
      },
      {
       "output_type": "stream",
       "stream": "stdout",
       "text": [
        "\n",
        "security 873: 1745"
       ]
      },
      {
       "output_type": "stream",
       "stream": "stdout",
       "text": [
        "\n",
        "security 874: 1813"
       ]
      },
      {
       "output_type": "stream",
       "stream": "stdout",
       "text": [
        "\n",
        "security 875: 320"
       ]
      },
      {
       "output_type": "stream",
       "stream": "stdout",
       "text": [
        "\n",
        "security 880: 1813"
       ]
      },
      {
       "output_type": "stream",
       "stream": "stdout",
       "text": [
        "\n",
        "security 881: 1813"
       ]
      },
      {
       "output_type": "stream",
       "stream": "stdout",
       "text": [
        "\n",
        "security 882: 14"
       ]
      },
      {
       "output_type": "stream",
       "stream": "stdout",
       "text": [
        "\n",
        "security 884: 115"
       ]
      },
      {
       "output_type": "stream",
       "stream": "stdout",
       "text": [
        "\n",
        "security 885: 1813"
       ]
      },
      {
       "output_type": "stream",
       "stream": "stdout",
       "text": [
        "\n",
        "security 888: 115"
       ]
      },
      {
       "output_type": "stream",
       "stream": "stdout",
       "text": [
        "\n",
        "security 889: 252"
       ]
      },
      {
       "output_type": "stream",
       "stream": "stdout",
       "text": [
        "\n",
        "security 890: 1543"
       ]
      },
      {
       "output_type": "stream",
       "stream": "stdout",
       "text": [
        "\n",
        "security 892: 1813"
       ]
      },
      {
       "output_type": "stream",
       "stream": "stdout",
       "text": [
        "\n",
        "security 895: 829"
       ]
      },
      {
       "output_type": "stream",
       "stream": "stdout",
       "text": [
        "\n",
        "security 898: 1813"
       ]
      },
      {
       "output_type": "stream",
       "stream": "stdout",
       "text": [
        "\n",
        "security 901: 1813"
       ]
      },
      {
       "output_type": "stream",
       "stream": "stdout",
       "text": [
        "\n",
        "security 906: 1813"
       ]
      },
      {
       "output_type": "stream",
       "stream": "stdout",
       "text": [
        "\n",
        "security 909: 1813"
       ]
      },
      {
       "output_type": "stream",
       "stream": "stdout",
       "text": [
        "\n",
        "security 910: 1813"
       ]
      },
      {
       "output_type": "stream",
       "stream": "stdout",
       "text": [
        "\n",
        "security 911: 1813"
       ]
      },
      {
       "output_type": "stream",
       "stream": "stdout",
       "text": [
        "\n",
        "security 912: 1813"
       ]
      },
      {
       "output_type": "stream",
       "stream": "stdout",
       "text": [
        "\n",
        "security 913: 1813"
       ]
      },
      {
       "output_type": "stream",
       "stream": "stdout",
       "text": [
        "\n",
        "security 914: 1136"
       ]
      },
      {
       "output_type": "stream",
       "stream": "stdout",
       "text": [
        "\n",
        "security 915: 949"
       ]
      },
      {
       "output_type": "stream",
       "stream": "stdout",
       "text": [
        "\n",
        "security 918: 1646"
       ]
      },
      {
       "output_type": "stream",
       "stream": "stdout",
       "text": [
        "\n",
        "security 920: 1813"
       ]
      },
      {
       "output_type": "stream",
       "stream": "stdout",
       "text": [
        "\n",
        "security 924: 320"
       ]
      },
      {
       "output_type": "stream",
       "stream": "stdout",
       "text": [
        "\n",
        "security 925: 1813"
       ]
      },
      {
       "output_type": "stream",
       "stream": "stdout",
       "text": [
        "\n",
        "security 926: 1813"
       ]
      },
      {
       "output_type": "stream",
       "stream": "stdout",
       "text": [
        "\n",
        "security 929: 829"
       ]
      },
      {
       "output_type": "stream",
       "stream": "stdout",
       "text": [
        "\n",
        "security 932: 1813"
       ]
      },
      {
       "output_type": "stream",
       "stream": "stdout",
       "text": [
        "\n",
        "security 934: 1813"
       ]
      },
      {
       "output_type": "stream",
       "stream": "stdout",
       "text": [
        "\n",
        "security 936: 1813"
       ]
      },
      {
       "output_type": "stream",
       "stream": "stdout",
       "text": [
        "\n",
        "security 937: 932"
       ]
      },
      {
       "output_type": "stream",
       "stream": "stdout",
       "text": [
        "\n",
        "security 938: 1745"
       ]
      },
      {
       "output_type": "stream",
       "stream": "stdout",
       "text": [
        "\n",
        "security 943: 1813"
       ]
      },
      {
       "output_type": "stream",
       "stream": "stdout",
       "text": [
        "\n",
        "security 944: 880"
       ]
      },
      {
       "output_type": "stream",
       "stream": "stdout",
       "text": [
        "\n",
        "security 946: 1813"
       ]
      },
      {
       "output_type": "stream",
       "stream": "stdout",
       "text": [
        "\n",
        "security 949: 422"
       ]
      },
      {
       "output_type": "stream",
       "stream": "stdout",
       "text": [
        "\n",
        "security 952: 1136"
       ]
      },
      {
       "output_type": "stream",
       "stream": "stdout",
       "text": [
        "\n",
        "security 953: 1543"
       ]
      },
      {
       "output_type": "stream",
       "stream": "stdout",
       "text": [
        "\n",
        "security 954: 1813"
       ]
      },
      {
       "output_type": "stream",
       "stream": "stdout",
       "text": [
        "\n",
        "security 955: 1813"
       ]
      },
      {
       "output_type": "stream",
       "stream": "stdout",
       "text": [
        "\n",
        "security 958: 1745"
       ]
      },
      {
       "output_type": "stream",
       "stream": "stdout",
       "text": [
        "\n",
        "security 959: 1813"
       ]
      },
      {
       "output_type": "stream",
       "stream": "stdout",
       "text": [
        "\n",
        "security 960: 422"
       ]
      },
      {
       "output_type": "stream",
       "stream": "stdout",
       "text": [
        "\n",
        "security 964: 1813"
       ]
      },
      {
       "output_type": "stream",
       "stream": "stdout",
       "text": [
        "\n",
        "security 967: 1646"
       ]
      },
      {
       "output_type": "stream",
       "stream": "stdout",
       "text": [
        "\n",
        "security 968: 1543"
       ]
      },
      {
       "output_type": "stream",
       "stream": "stdout",
       "text": [
        "\n",
        "security 970: 320"
       ]
      },
      {
       "output_type": "stream",
       "stream": "stdout",
       "text": [
        "\n",
        "security 972: 1813"
       ]
      },
      {
       "output_type": "stream",
       "stream": "stdout",
       "text": [
        "\n",
        "security 973: 1813"
       ]
      },
      {
       "output_type": "stream",
       "stream": "stdout",
       "text": [
        "\n",
        "security 975: 1813"
       ]
      },
      {
       "output_type": "stream",
       "stream": "stdout",
       "text": [
        "\n",
        "security 976: 932"
       ]
      },
      {
       "output_type": "stream",
       "stream": "stdout",
       "text": [
        "\n",
        "security 977: 320"
       ]
      },
      {
       "output_type": "stream",
       "stream": "stdout",
       "text": [
        "\n",
        "security 979: 1813"
       ]
      },
      {
       "output_type": "stream",
       "stream": "stdout",
       "text": [
        "\n",
        "security 982: 218"
       ]
      },
      {
       "output_type": "stream",
       "stream": "stdout",
       "text": [
        "\n",
        "security 984: 252"
       ]
      },
      {
       "output_type": "stream",
       "stream": "stdout",
       "text": [
        "\n",
        "security 985: 523"
       ]
      },
      {
       "output_type": "stream",
       "stream": "stdout",
       "text": [
        "\n",
        "security 988: 932"
       ]
      },
      {
       "output_type": "stream",
       "stream": "stdout",
       "text": [
        "\n",
        "security 989: 422"
       ]
      },
      {
       "output_type": "stream",
       "stream": "stdout",
       "text": [
        "\n",
        "security 992: 1527"
       ]
      },
      {
       "output_type": "stream",
       "stream": "stdout",
       "text": [
        "\n",
        "security 993: 167"
       ]
      },
      {
       "output_type": "stream",
       "stream": "stdout",
       "text": [
        "\n",
        "security 994: 115"
       ]
      },
      {
       "output_type": "stream",
       "stream": "stdout",
       "text": [
        "\n",
        "security 999: 1527"
       ]
      },
      {
       "output_type": "stream",
       "stream": "stdout",
       "text": [
        "\n",
        "security 1000: 167"
       ]
      },
      {
       "output_type": "stream",
       "stream": "stdout",
       "text": [
        "\n",
        "security 1003: 1813"
       ]
      },
      {
       "output_type": "stream",
       "stream": "stdout",
       "text": [
        "\n",
        "security 1004: 1543"
       ]
      },
      {
       "output_type": "stream",
       "stream": "stdout",
       "text": [
        "\n",
        "security 1008: 218"
       ]
      },
      {
       "output_type": "stream",
       "stream": "stdout",
       "text": [
        "\n",
        "security 1009: 1543"
       ]
      },
      {
       "output_type": "stream",
       "stream": "stdout",
       "text": [
        "\n",
        "security 1010: 167"
       ]
      },
      {
       "output_type": "stream",
       "stream": "stdout",
       "text": [
        "\n",
        "security 1011: 1813"
       ]
      },
      {
       "output_type": "stream",
       "stream": "stdout",
       "text": [
        "\n",
        "security 1013: 1813"
       ]
      },
      {
       "output_type": "stream",
       "stream": "stdout",
       "text": [
        "\n",
        "security 1015: 829"
       ]
      },
      {
       "output_type": "stream",
       "stream": "stdout",
       "text": [
        "\n",
        "security 1016: 829"
       ]
      },
      {
       "output_type": "stream",
       "stream": "stdout",
       "text": [
        "\n",
        "security 1017: 422"
       ]
      },
      {
       "output_type": "stream",
       "stream": "stdout",
       "text": [
        "\n",
        "security 1018: 932"
       ]
      },
      {
       "output_type": "stream",
       "stream": "stdout",
       "text": [
        "\n",
        "security 1019: 1813"
       ]
      },
      {
       "output_type": "stream",
       "stream": "stdout",
       "text": [
        "\n",
        "security 1021: 218"
       ]
      },
      {
       "output_type": "stream",
       "stream": "stdout",
       "text": [
        "\n",
        "security 1022: 320"
       ]
      },
      {
       "output_type": "stream",
       "stream": "stdout",
       "text": [
        "\n",
        "security 1023: 779"
       ]
      },
      {
       "output_type": "stream",
       "stream": "stdout",
       "text": [
        "\n",
        "security 1024: 1813"
       ]
      },
      {
       "output_type": "stream",
       "stream": "stdout",
       "text": [
        "\n",
        "security 1025: 320"
       ]
      },
      {
       "output_type": "stream",
       "stream": "stdout",
       "text": [
        "\n",
        "security 1026: 320"
       ]
      },
      {
       "output_type": "stream",
       "stream": "stdout",
       "text": [
        "\n",
        "security 1034: 1813"
       ]
      },
      {
       "output_type": "stream",
       "stream": "stdout",
       "text": [
        "\n",
        "security 1035: 932"
       ]
      },
      {
       "output_type": "stream",
       "stream": "stdout",
       "text": [
        "\n",
        "security 1036: 1813"
       ]
      },
      {
       "output_type": "stream",
       "stream": "stdout",
       "text": [
        "\n",
        "security 1037: 1813"
       ]
      },
      {
       "output_type": "stream",
       "stream": "stdout",
       "text": [
        "\n",
        "security 1039: 218"
       ]
      },
      {
       "output_type": "stream",
       "stream": "stdout",
       "text": [
        "\n",
        "security 1043: 1813"
       ]
      },
      {
       "output_type": "stream",
       "stream": "stdout",
       "text": [
        "\n",
        "security 1045: 1543"
       ]
      },
      {
       "output_type": "stream",
       "stream": "stdout",
       "text": [
        "\n",
        "security 1046: 1442"
       ]
      },
      {
       "output_type": "stream",
       "stream": "stdout",
       "text": [
        "\n",
        "security 1048: 1813"
       ]
      },
      {
       "output_type": "stream",
       "stream": "stdout",
       "text": [
        "\n",
        "security 1050: 1813"
       ]
      },
      {
       "output_type": "stream",
       "stream": "stdout",
       "text": [
        "\n",
        "security 1053: 1745"
       ]
      },
      {
       "output_type": "stream",
       "stream": "stdout",
       "text": [
        "\n",
        "security 1057: 1813"
       ]
      },
      {
       "output_type": "stream",
       "stream": "stdout",
       "text": [
        "\n",
        "security 1059: 1745"
       ]
      },
      {
       "output_type": "stream",
       "stream": "stdout",
       "text": [
        "\n",
        "security 1060: 1034"
       ]
      },
      {
       "output_type": "stream",
       "stream": "stdout",
       "text": [
        "\n",
        "security 1062: 320"
       ]
      },
      {
       "output_type": "stream",
       "stream": "stdout",
       "text": [
        "\n",
        "security 1063: 1813"
       ]
      },
      {
       "output_type": "stream",
       "stream": "stdout",
       "text": [
        "\n",
        "security 1064: 1646"
       ]
      },
      {
       "output_type": "stream",
       "stream": "stdout",
       "text": [
        "\n",
        "security 1065: 1442"
       ]
      },
      {
       "output_type": "stream",
       "stream": "stdout",
       "text": [
        "\n",
        "security 1066: 1813"
       ]
      },
      {
       "output_type": "stream",
       "stream": "stdout",
       "text": [
        "\n",
        "security 1070: 1813"
       ]
      },
      {
       "output_type": "stream",
       "stream": "stdout",
       "text": [
        "\n",
        "security 1072: 1646"
       ]
      },
      {
       "output_type": "stream",
       "stream": "stdout",
       "text": [
        "\n",
        "security 1073: 1813"
       ]
      },
      {
       "output_type": "stream",
       "stream": "stdout",
       "text": [
        "\n",
        "security 1075: 1813"
       ]
      },
      {
       "output_type": "stream",
       "stream": "stdout",
       "text": [
        "\n",
        "security 1076: 932"
       ]
      },
      {
       "output_type": "stream",
       "stream": "stdout",
       "text": [
        "\n",
        "security 1085: 1527"
       ]
      },
      {
       "output_type": "stream",
       "stream": "stdout",
       "text": [
        "\n",
        "security 1087: 1136"
       ]
      },
      {
       "output_type": "stream",
       "stream": "stdout",
       "text": [
        "\n",
        "security 1088: 1543"
       ]
      },
      {
       "output_type": "stream",
       "stream": "stdout",
       "text": [
        "\n",
        "security 1090: 1813"
       ]
      },
      {
       "output_type": "stream",
       "stream": "stdout",
       "text": [
        "\n",
        "security 1093: 1646"
       ]
      },
      {
       "output_type": "stream",
       "stream": "stdout",
       "text": [
        "\n",
        "security 1094: 218"
       ]
      },
      {
       "output_type": "stream",
       "stream": "stdout",
       "text": [
        "\n",
        "security 1098: 1813"
       ]
      },
      {
       "output_type": "stream",
       "stream": "stdout",
       "text": [
        "\n",
        "security 1100: 728"
       ]
      },
      {
       "output_type": "stream",
       "stream": "stdout",
       "text": [
        "\n",
        "security 1101: 1813"
       ]
      },
      {
       "output_type": "stream",
       "stream": "stdout",
       "text": [
        "\n",
        "security 1103: 1813"
       ]
      },
      {
       "output_type": "stream",
       "stream": "stdout",
       "text": [
        "\n",
        "security 1105: 1813"
       ]
      },
      {
       "output_type": "stream",
       "stream": "stdout",
       "text": [
        "\n",
        "security 1107: 320"
       ]
      },
      {
       "output_type": "stream",
       "stream": "stdout",
       "text": [
        "\n",
        "security 1108: 422"
       ]
      },
      {
       "output_type": "stream",
       "stream": "stdout",
       "text": [
        "\n",
        "security 1114: 932"
       ]
      },
      {
       "output_type": "stream",
       "stream": "stdout",
       "text": [
        "\n",
        "security 1116: 1813"
       ]
      },
      {
       "output_type": "stream",
       "stream": "stdout",
       "text": [
        "\n",
        "security 1120: 932"
       ]
      },
      {
       "output_type": "stream",
       "stream": "stdout",
       "text": [
        "\n",
        "security 1124: 320"
       ]
      },
      {
       "output_type": "stream",
       "stream": "stdout",
       "text": [
        "\n",
        "security 1126: 1813"
       ]
      },
      {
       "output_type": "stream",
       "stream": "stdout",
       "text": [
        "\n",
        "security 1128: 1813"
       ]
      },
      {
       "output_type": "stream",
       "stream": "stdout",
       "text": [
        "\n",
        "security 1129: 1813"
       ]
      },
      {
       "output_type": "stream",
       "stream": "stdout",
       "text": [
        "\n",
        "security 1131: 320"
       ]
      },
      {
       "output_type": "stream",
       "stream": "stdout",
       "text": [
        "\n",
        "security 1133: 1745"
       ]
      },
      {
       "output_type": "stream",
       "stream": "stdout",
       "text": [
        "\n",
        "security 1134: 1813"
       ]
      },
      {
       "output_type": "stream",
       "stream": "stdout",
       "text": [
        "\n",
        "security 1135: 1813"
       ]
      },
      {
       "output_type": "stream",
       "stream": "stdout",
       "text": [
        "\n",
        "security 1136: 1136"
       ]
      },
      {
       "output_type": "stream",
       "stream": "stdout",
       "text": [
        "\n",
        "security 1137: 932"
       ]
      },
      {
       "output_type": "stream",
       "stream": "stdout",
       "text": [
        "\n",
        "security 1138: 1813"
       ]
      },
      {
       "output_type": "stream",
       "stream": "stdout",
       "text": [
        "\n",
        "security 1139: 1136"
       ]
      },
      {
       "output_type": "stream",
       "stream": "stdout",
       "text": [
        "\n",
        "security 1140: 1813"
       ]
      },
      {
       "output_type": "stream",
       "stream": "stdout",
       "text": [
        "\n",
        "security 1144: 1813"
       ]
      },
      {
       "output_type": "stream",
       "stream": "stdout",
       "text": [
        "\n",
        "security 1146: 1340"
       ]
      },
      {
       "output_type": "stream",
       "stream": "stdout",
       "text": [
        "\n",
        "security 1149: 320"
       ]
      },
      {
       "output_type": "stream",
       "stream": "stdout",
       "text": [
        "\n",
        "security 1150: 1813"
       ]
      },
      {
       "output_type": "stream",
       "stream": "stdout",
       "text": [
        "\n",
        "security 1153: 1813"
       ]
      },
      {
       "output_type": "stream",
       "stream": "stdout",
       "text": [
        "\n",
        "security 1155: 1543"
       ]
      },
      {
       "output_type": "stream",
       "stream": "stdout",
       "text": [
        "\n",
        "security 1159: 1646"
       ]
      },
      {
       "output_type": "stream",
       "stream": "stdout",
       "text": [
        "\n",
        "security 1161: 1646"
       ]
      },
      {
       "output_type": "stream",
       "stream": "stdout",
       "text": [
        "\n",
        "security 1164: 1543"
       ]
      },
      {
       "output_type": "stream",
       "stream": "stdout",
       "text": [
        "\n",
        "security 1165: 405"
       ]
      },
      {
       "output_type": "stream",
       "stream": "stdout",
       "text": [
        "\n",
        "security 1166: 218"
       ]
      },
      {
       "output_type": "stream",
       "stream": "stdout",
       "text": [
        "\n",
        "security 1168: 1813"
       ]
      },
      {
       "output_type": "stream",
       "stream": "stdout",
       "text": [
        "\n",
        "security 1170: 320"
       ]
      },
      {
       "output_type": "stream",
       "stream": "stdout",
       "text": [
        "\n",
        "security 1174: 422"
       ]
      },
      {
       "output_type": "stream",
       "stream": "stdout",
       "text": [
        "\n",
        "security 1175: 1745"
       ]
      },
      {
       "output_type": "stream",
       "stream": "stdout",
       "text": [
        "\n",
        "security 1176: 1543"
       ]
      },
      {
       "output_type": "stream",
       "stream": "stdout",
       "text": [
        "\n",
        "security 1177: 1813"
       ]
      },
      {
       "output_type": "stream",
       "stream": "stdout",
       "text": [
        "\n",
        "security 1178: 1451"
       ]
      },
      {
       "output_type": "stream",
       "stream": "stdout",
       "text": [
        "\n",
        "security 1181: 1136"
       ]
      },
      {
       "output_type": "stream",
       "stream": "stdout",
       "text": [
        "\n",
        "security 1182: 320"
       ]
      },
      {
       "output_type": "stream",
       "stream": "stdout",
       "text": [
        "\n",
        "security 1184: 167"
       ]
      },
      {
       "output_type": "stream",
       "stream": "stdout",
       "text": [
        "\n",
        "security 1187: 320"
       ]
      },
      {
       "output_type": "stream",
       "stream": "stdout",
       "text": [
        "\n",
        "security 1192: 1813"
       ]
      },
      {
       "output_type": "stream",
       "stream": "stdout",
       "text": [
        "\n",
        "security 1194: 1745"
       ]
      },
      {
       "output_type": "stream",
       "stream": "stdout",
       "text": [
        "\n",
        "security 1197: 1813"
       ]
      },
      {
       "output_type": "stream",
       "stream": "stdout",
       "text": [
        "\n",
        "security 1199: 1813"
       ]
      },
      {
       "output_type": "stream",
       "stream": "stdout",
       "text": [
        "\n",
        "security 1200: 354"
       ]
      },
      {
       "output_type": "stream",
       "stream": "stdout",
       "text": [
        "\n",
        "security 1201: 1813"
       ]
      },
      {
       "output_type": "stream",
       "stream": "stdout",
       "text": [
        "\n",
        "security 1204: 1136"
       ]
      },
      {
       "output_type": "stream",
       "stream": "stdout",
       "text": [
        "\n",
        "security 1207: 320"
       ]
      },
      {
       "output_type": "stream",
       "stream": "stdout",
       "text": [
        "\n",
        "security 1208: 1813"
       ]
      },
      {
       "output_type": "stream",
       "stream": "stdout",
       "text": [
        "\n",
        "security 1209: 1813"
       ]
      },
      {
       "output_type": "stream",
       "stream": "stdout",
       "text": [
        "\n",
        "security 1210: 932"
       ]
      },
      {
       "output_type": "stream",
       "stream": "stdout",
       "text": [
        "\n",
        "security 1212: 1340"
       ]
      },
      {
       "output_type": "stream",
       "stream": "stdout",
       "text": [
        "\n",
        "security 1213: 218"
       ]
      },
      {
       "output_type": "stream",
       "stream": "stdout",
       "text": [
        "\n",
        "security 1221: 1813"
       ]
      },
      {
       "output_type": "stream",
       "stream": "stdout",
       "text": [
        "\n",
        "security 1224: 1745"
       ]
      },
      {
       "output_type": "stream",
       "stream": "stdout",
       "text": [
        "\n",
        "security 1225: 1813"
       ]
      },
      {
       "output_type": "stream",
       "stream": "stdout",
       "text": [
        "\n",
        "security 1226: 1813"
       ]
      },
      {
       "output_type": "stream",
       "stream": "stdout",
       "text": [
        "\n",
        "security 1227: 1813"
       ]
      },
      {
       "output_type": "stream",
       "stream": "stdout",
       "text": [
        "\n",
        "security 1228: 1813"
       ]
      },
      {
       "output_type": "stream",
       "stream": "stdout",
       "text": [
        "\n",
        "security 1229: 2"
       ]
      },
      {
       "output_type": "stream",
       "stream": "stdout",
       "text": [
        "\n",
        "security 1231: 1813"
       ]
      },
      {
       "output_type": "stream",
       "stream": "stdout",
       "text": [
        "\n",
        "security 1232: 1543"
       ]
      },
      {
       "output_type": "stream",
       "stream": "stdout",
       "text": [
        "\n",
        "security 1235: 1813"
       ]
      },
      {
       "output_type": "stream",
       "stream": "stdout",
       "text": [
        "\n",
        "security 1238: 1813"
       ]
      },
      {
       "output_type": "stream",
       "stream": "stdout",
       "text": [
        "\n",
        "security 1239: 218"
       ]
      },
      {
       "output_type": "stream",
       "stream": "stdout",
       "text": [
        "\n",
        "security 1241: 1813"
       ]
      },
      {
       "output_type": "stream",
       "stream": "stdout",
       "text": [
        "\n",
        "security 1243: 167"
       ]
      },
      {
       "output_type": "stream",
       "stream": "stdout",
       "text": [
        "\n",
        "security 1246: 1813"
       ]
      },
      {
       "output_type": "stream",
       "stream": "stdout",
       "text": [
        "\n",
        "security 1247: 1813"
       ]
      },
      {
       "output_type": "stream",
       "stream": "stdout",
       "text": [
        "\n",
        "security 1249: 1813"
       ]
      },
      {
       "output_type": "stream",
       "stream": "stdout",
       "text": [
        "\n",
        "security 1253: 1813"
       ]
      },
      {
       "output_type": "stream",
       "stream": "stdout",
       "text": [
        "\n",
        "security 1255: 1543"
       ]
      },
      {
       "output_type": "stream",
       "stream": "stdout",
       "text": [
        "\n",
        "security 1256: 1102"
       ]
      },
      {
       "output_type": "stream",
       "stream": "stdout",
       "text": [
        "\n",
        "security 1257: 200"
       ]
      },
      {
       "output_type": "stream",
       "stream": "stdout",
       "text": [
        "\n",
        "security 1259: 1813"
       ]
      },
      {
       "output_type": "stream",
       "stream": "stdout",
       "text": [
        "\n",
        "security 1260: 1813"
       ]
      },
      {
       "output_type": "stream",
       "stream": "stdout",
       "text": [
        "\n",
        "security 1261: 320"
       ]
      },
      {
       "output_type": "stream",
       "stream": "stdout",
       "text": [
        "\n",
        "security 1264: 1813"
       ]
      },
      {
       "output_type": "stream",
       "stream": "stdout",
       "text": [
        "\n",
        "security 1265: 19"
       ]
      },
      {
       "output_type": "stream",
       "stream": "stdout",
       "text": [
        "\n",
        "security 1266: 422"
       ]
      },
      {
       "output_type": "stream",
       "stream": "stdout",
       "text": [
        "\n",
        "security 1267: 1813"
       ]
      },
      {
       "output_type": "stream",
       "stream": "stdout",
       "text": [
        "\n",
        "security 1269: 1813"
       ]
      },
      {
       "output_type": "stream",
       "stream": "stdout",
       "text": [
        "\n",
        "security 1270: 1034"
       ]
      },
      {
       "output_type": "stream",
       "stream": "stdout",
       "text": [
        "\n",
        "security 1271: 829"
       ]
      },
      {
       "output_type": "stream",
       "stream": "stdout",
       "text": [
        "\n",
        "security 1272: 1813"
       ]
      },
      {
       "output_type": "stream",
       "stream": "stdout",
       "text": [
        "\n",
        "security 1274: 422"
       ]
      },
      {
       "output_type": "stream",
       "stream": "stdout",
       "text": [
        "\n",
        "security 1277: 218"
       ]
      },
      {
       "output_type": "stream",
       "stream": "stdout",
       "text": [
        "\n",
        "security 1279: 1813"
       ]
      },
      {
       "output_type": "stream",
       "stream": "stdout",
       "text": [
        "\n",
        "security 1281: 728"
       ]
      },
      {
       "output_type": "stream",
       "stream": "stdout",
       "text": [
        "\n",
        "security 1287: 1813"
       ]
      },
      {
       "output_type": "stream",
       "stream": "stdout",
       "text": [
        "\n",
        "security 1288: 1745"
       ]
      },
      {
       "output_type": "stream",
       "stream": "stdout",
       "text": [
        "\n",
        "security 1290: 218"
       ]
      },
      {
       "output_type": "stream",
       "stream": "stdout",
       "text": [
        "\n",
        "security 1291: 1813"
       ]
      },
      {
       "output_type": "stream",
       "stream": "stdout",
       "text": [
        "\n",
        "security 1292: 728"
       ]
      },
      {
       "output_type": "stream",
       "stream": "stdout",
       "text": [
        "\n",
        "security 1294: 1813"
       ]
      },
      {
       "output_type": "stream",
       "stream": "stdout",
       "text": [
        "\n",
        "security 1296: 1813"
       ]
      },
      {
       "output_type": "stream",
       "stream": "stdout",
       "text": [
        "\n",
        "security 1297: 1340"
       ]
      },
      {
       "output_type": "stream",
       "stream": "stdout",
       "text": [
        "\n",
        "security 1298: 1813"
       ]
      },
      {
       "output_type": "stream",
       "stream": "stdout",
       "text": [
        "\n",
        "security 1301: 1813"
       ]
      },
      {
       "output_type": "stream",
       "stream": "stdout",
       "text": [
        "\n",
        "security 1303: 1813"
       ]
      },
      {
       "output_type": "stream",
       "stream": "stdout",
       "text": [
        "\n",
        "security 1304: 1813"
       ]
      },
      {
       "output_type": "stream",
       "stream": "stdout",
       "text": [
        "\n",
        "security 1306: 728"
       ]
      },
      {
       "output_type": "stream",
       "stream": "stdout",
       "text": [
        "\n",
        "security 1307: 728"
       ]
      },
      {
       "output_type": "stream",
       "stream": "stdout",
       "text": [
        "\n",
        "security 1310: 1813"
       ]
      },
      {
       "output_type": "stream",
       "stream": "stdout",
       "text": [
        "\n",
        "security 1311: 167"
       ]
      },
      {
       "output_type": "stream",
       "stream": "stdout",
       "text": [
        "\n",
        "security 1312: 1813"
       ]
      },
      {
       "output_type": "stream",
       "stream": "stdout",
       "text": [
        "\n",
        "security 1316: 728"
       ]
      },
      {
       "output_type": "stream",
       "stream": "stdout",
       "text": [
        "\n",
        "security 1318: 320"
       ]
      },
      {
       "output_type": "stream",
       "stream": "stdout",
       "text": [
        "\n",
        "security 1319: 1543"
       ]
      },
      {
       "output_type": "stream",
       "stream": "stdout",
       "text": [
        "\n",
        "security 1320: 14"
       ]
      },
      {
       "output_type": "stream",
       "stream": "stdout",
       "text": [
        "\n",
        "security 1322: 625"
       ]
      },
      {
       "output_type": "stream",
       "stream": "stdout",
       "text": [
        "\n",
        "security 1324: 422"
       ]
      },
      {
       "output_type": "stream",
       "stream": "stdout",
       "text": [
        "\n",
        "security 1325: 320"
       ]
      },
      {
       "output_type": "stream",
       "stream": "stdout",
       "text": [
        "\n",
        "security 1326: 422"
       ]
      },
      {
       "output_type": "stream",
       "stream": "stdout",
       "text": [
        "\n",
        "security 1327: 728"
       ]
      },
      {
       "output_type": "stream",
       "stream": "stdout",
       "text": [
        "\n",
        "security 1328: 1813"
       ]
      },
      {
       "output_type": "stream",
       "stream": "stdout",
       "text": [
        "\n",
        "security 1329: 1543"
       ]
      },
      {
       "output_type": "stream",
       "stream": "stdout",
       "text": [
        "\n",
        "security 1331: 1034"
       ]
      },
      {
       "output_type": "stream",
       "stream": "stdout",
       "text": [
        "\n",
        "security 1332: 1813"
       ]
      },
      {
       "output_type": "stream",
       "stream": "stdout",
       "text": [
        "\n",
        "security 1334: 1813"
       ]
      },
      {
       "output_type": "stream",
       "stream": "stdout",
       "text": [
        "\n",
        "security 1335: 1340"
       ]
      },
      {
       "output_type": "stream",
       "stream": "stdout",
       "text": [
        "\n",
        "security 1340: 1813"
       ]
      },
      {
       "output_type": "stream",
       "stream": "stdout",
       "text": [
        "\n",
        "security 1342: 1813"
       ]
      },
      {
       "output_type": "stream",
       "stream": "stdout",
       "text": [
        "\n",
        "security 1346: 932"
       ]
      },
      {
       "output_type": "stream",
       "stream": "stdout",
       "text": [
        "\n",
        "security 1349: 523"
       ]
      },
      {
       "output_type": "stream",
       "stream": "stdout",
       "text": [
        "\n",
        "security 1350: 1813"
       ]
      },
      {
       "output_type": "stream",
       "stream": "stdout",
       "text": [
        "\n",
        "security 1352: 1813"
       ]
      },
      {
       "output_type": "stream",
       "stream": "stdout",
       "text": [
        "\n",
        "security 1354: 167"
       ]
      },
      {
       "output_type": "stream",
       "stream": "stdout",
       "text": [
        "\n",
        "security 1357: 218"
       ]
      },
      {
       "output_type": "stream",
       "stream": "stdout",
       "text": [
        "\n",
        "security 1359: 1646"
       ]
      },
      {
       "output_type": "stream",
       "stream": "stdout",
       "text": [
        "\n",
        "security 1367: 1813"
       ]
      },
      {
       "output_type": "stream",
       "stream": "stdout",
       "text": [
        "\n",
        "security 1370: 1543"
       ]
      },
      {
       "output_type": "stream",
       "stream": "stdout",
       "text": [
        "\n",
        "security 1373: 1768"
       ]
      },
      {
       "output_type": "stream",
       "stream": "stdout",
       "text": [
        "\n",
        "security 1374: 1527"
       ]
      },
      {
       "output_type": "stream",
       "stream": "stdout",
       "text": [
        "\n",
        "security 1375: 1745"
       ]
      },
      {
       "output_type": "stream",
       "stream": "stdout",
       "text": [
        "\n",
        "security 1377: 218"
       ]
      },
      {
       "output_type": "stream",
       "stream": "stdout",
       "text": [
        "\n",
        "security 1378: 625"
       ]
      },
      {
       "output_type": "stream",
       "stream": "stdout",
       "text": [
        "\n",
        "security 1379: 455"
       ]
      },
      {
       "output_type": "stream",
       "stream": "stdout",
       "text": [
        "\n",
        "security 1380: 320"
       ]
      },
      {
       "output_type": "stream",
       "stream": "stdout",
       "text": [
        "\n",
        "security 1381: 1813"
       ]
      },
      {
       "output_type": "stream",
       "stream": "stdout",
       "text": [
        "\n",
        "security 1382: 1813"
       ]
      },
      {
       "output_type": "stream",
       "stream": "stdout",
       "text": [
        "\n",
        "security 1383: 1543"
       ]
      },
      {
       "output_type": "stream",
       "stream": "stdout",
       "text": [
        "\n",
        "security 1385: 320"
       ]
      },
      {
       "output_type": "stream",
       "stream": "stdout",
       "text": [
        "\n",
        "security 1386: 1813"
       ]
      },
      {
       "output_type": "stream",
       "stream": "stdout",
       "text": [
        "\n",
        "security 1388: 1340"
       ]
      },
      {
       "output_type": "stream",
       "stream": "stdout",
       "text": [
        "\n",
        "security 1390: 1813"
       ]
      },
      {
       "output_type": "stream",
       "stream": "stdout",
       "text": [
        "\n",
        "security 1393: 1813"
       ]
      },
      {
       "output_type": "stream",
       "stream": "stdout",
       "text": [
        "\n",
        "security 1394: 472"
       ]
      },
      {
       "output_type": "stream",
       "stream": "stdout",
       "text": [
        "\n",
        "security 1395: 1813"
       ]
      },
      {
       "output_type": "stream",
       "stream": "stdout",
       "text": [
        "\n",
        "security 1396: 1813"
       ]
      },
      {
       "output_type": "stream",
       "stream": "stdout",
       "text": [
        "\n",
        "security 1401: 1813"
       ]
      },
      {
       "output_type": "stream",
       "stream": "stdout",
       "text": [
        "\n",
        "security 1404: 1745"
       ]
      },
      {
       "output_type": "stream",
       "stream": "stdout",
       "text": [
        "\n",
        "security 1406: 1136"
       ]
      },
      {
       "output_type": "stream",
       "stream": "stdout",
       "text": [
        "\n",
        "security 1407: 1813"
       ]
      },
      {
       "output_type": "stream",
       "stream": "stdout",
       "text": [
        "\n",
        "security 1408: 1813"
       ]
      },
      {
       "output_type": "stream",
       "stream": "stdout",
       "text": [
        "\n",
        "security 1410: 1813"
       ]
      },
      {
       "output_type": "stream",
       "stream": "stdout",
       "text": [
        "\n",
        "security 1412: 1813"
       ]
      },
      {
       "output_type": "stream",
       "stream": "stdout",
       "text": [
        "\n",
        "security 1413: 320"
       ]
      },
      {
       "output_type": "stream",
       "stream": "stdout",
       "text": [
        "\n",
        "security 1414: 523"
       ]
      },
      {
       "output_type": "stream",
       "stream": "stdout",
       "text": [
        "\n",
        "security 1415: 932"
       ]
      },
      {
       "output_type": "stream",
       "stream": "stdout",
       "text": [
        "\n",
        "security 1416: 1813"
       ]
      },
      {
       "output_type": "stream",
       "stream": "stdout",
       "text": [
        "\n",
        "security 1419: 1745"
       ]
      },
      {
       "output_type": "stream",
       "stream": "stdout",
       "text": [
        "\n",
        "security 1421: 1813"
       ]
      },
      {
       "output_type": "stream",
       "stream": "stdout",
       "text": [
        "\n",
        "security 1422: 1813"
       ]
      },
      {
       "output_type": "stream",
       "stream": "stdout",
       "text": [
        "\n",
        "security 1424: 1813"
       ]
      },
      {
       "output_type": "stream",
       "stream": "stdout",
       "text": [
        "\n",
        "security 1426: 1813"
       ]
      },
      {
       "output_type": "stream",
       "stream": "stdout",
       "text": [
        "\n",
        "security 1427: 115"
       ]
      },
      {
       "output_type": "stream",
       "stream": "stdout",
       "text": [
        "\n",
        "security 1429: 523"
       ]
      },
      {
       "output_type": "stream",
       "stream": "stdout",
       "text": [
        "\n",
        "security 1434: 1813"
       ]
      },
      {
       "output_type": "stream",
       "stream": "stdout",
       "text": [
        "\n",
        "security 1436: 320"
       ]
      },
      {
       "output_type": "stream",
       "stream": "stdout",
       "text": [
        "\n",
        "security 1440: 1745"
       ]
      },
      {
       "output_type": "stream",
       "stream": "stdout",
       "text": [
        "\n",
        "security 1442: 218"
       ]
      },
      {
       "output_type": "stream",
       "stream": "stdout",
       "text": [
        "\n",
        "security 1443: 1813"
       ]
      },
      {
       "output_type": "stream",
       "stream": "stdout",
       "text": [
        "\n",
        "security 1444: 1813"
       ]
      },
      {
       "output_type": "stream",
       "stream": "stdout",
       "text": [
        "\n",
        "security 1445: 1813"
       ]
      },
      {
       "output_type": "stream",
       "stream": "stdout",
       "text": [
        "\n",
        "security 1448: 1813"
       ]
      },
      {
       "output_type": "stream",
       "stream": "stdout",
       "text": [
        "\n",
        "security 1450: 1745"
       ]
      },
      {
       "output_type": "stream",
       "stream": "stdout",
       "text": [
        "\n",
        "security 1452: 1813"
       ]
      },
      {
       "output_type": "stream",
       "stream": "stdout",
       "text": [
        "\n",
        "security 1454: 218"
       ]
      },
      {
       "output_type": "stream",
       "stream": "stdout",
       "text": [
        "\n",
        "security 1457: 218"
       ]
      },
      {
       "output_type": "stream",
       "stream": "stdout",
       "text": [
        "\n",
        "security 1460: 1543"
       ]
      },
      {
       "output_type": "stream",
       "stream": "stdout",
       "text": [
        "\n",
        "security 1464: 1813"
       ]
      },
      {
       "output_type": "stream",
       "stream": "stdout",
       "text": [
        "\n",
        "security 1466: 1813"
       ]
      },
      {
       "output_type": "stream",
       "stream": "stdout",
       "text": [
        "\n",
        "security 1467: 1813"
       ]
      },
      {
       "output_type": "stream",
       "stream": "stdout",
       "text": [
        "\n",
        "security 1473: 1543"
       ]
      },
      {
       "output_type": "stream",
       "stream": "stdout",
       "text": [
        "\n",
        "security 1474: 218"
       ]
      },
      {
       "output_type": "stream",
       "stream": "stdout",
       "text": [
        "\n",
        "security 1476: 1813"
       ]
      },
      {
       "output_type": "stream",
       "stream": "stdout",
       "text": [
        "\n",
        "security 1478: 422"
       ]
      },
      {
       "output_type": "stream",
       "stream": "stdout",
       "text": [
        "\n",
        "security 1481: 1813"
       ]
      },
      {
       "output_type": "stream",
       "stream": "stdout",
       "text": [
        "\n",
        "security 1483: 1442"
       ]
      },
      {
       "output_type": "stream",
       "stream": "stdout",
       "text": [
        "\n",
        "security 1485: 1813"
       ]
      },
      {
       "output_type": "stream",
       "stream": "stdout",
       "text": [
        "\n",
        "security 1486: 523"
       ]
      },
      {
       "output_type": "stream",
       "stream": "stdout",
       "text": [
        "\n",
        "security 1491: 1745"
       ]
      },
      {
       "output_type": "stream",
       "stream": "stdout",
       "text": [
        "\n",
        "security 1492: 1813"
       ]
      },
      {
       "output_type": "stream",
       "stream": "stdout",
       "text": [
        "\n",
        "security 1493: 1340"
       ]
      },
      {
       "output_type": "stream",
       "stream": "stdout",
       "text": [
        "\n",
        "security 1494: 1813"
       ]
      },
      {
       "output_type": "stream",
       "stream": "stdout",
       "text": [
        "\n",
        "security 1497: 1238"
       ]
      },
      {
       "output_type": "stream",
       "stream": "stdout",
       "text": [
        "\n",
        "security 1498: 1813"
       ]
      },
      {
       "output_type": "stream",
       "stream": "stdout",
       "text": [
        "\n",
        "security 1499: 728"
       ]
      },
      {
       "output_type": "stream",
       "stream": "stdout",
       "text": [
        "\n",
        "security 1500: 1813"
       ]
      },
      {
       "output_type": "stream",
       "stream": "stdout",
       "text": [
        "\n",
        "security 1501: 1813"
       ]
      },
      {
       "output_type": "stream",
       "stream": "stdout",
       "text": [
        "\n",
        "security 1502: 320"
       ]
      },
      {
       "output_type": "stream",
       "stream": "stdout",
       "text": [
        "\n",
        "security 1505: 1813"
       ]
      },
      {
       "output_type": "stream",
       "stream": "stdout",
       "text": [
        "\n",
        "security 1506: 14"
       ]
      },
      {
       "output_type": "stream",
       "stream": "stdout",
       "text": [
        "\n",
        "security 1508: 1543"
       ]
      },
      {
       "output_type": "stream",
       "stream": "stdout",
       "text": [
        "\n",
        "security 1509: 728"
       ]
      },
      {
       "output_type": "stream",
       "stream": "stdout",
       "text": [
        "\n",
        "security 1511: 1813"
       ]
      },
      {
       "output_type": "stream",
       "stream": "stdout",
       "text": [
        "\n",
        "security 1513: 1813"
       ]
      },
      {
       "output_type": "stream",
       "stream": "stdout",
       "text": [
        "\n",
        "security 1514: 932"
       ]
      },
      {
       "output_type": "stream",
       "stream": "stdout",
       "text": [
        "\n",
        "security 1515: 47"
       ]
      },
      {
       "output_type": "stream",
       "stream": "stdout",
       "text": [
        "\n",
        "security 1516: 1813"
       ]
      },
      {
       "output_type": "stream",
       "stream": "stdout",
       "text": [
        "\n",
        "security 1517: 1745"
       ]
      },
      {
       "output_type": "stream",
       "stream": "stdout",
       "text": [
        "\n",
        "security 1518: 1238"
       ]
      },
      {
       "output_type": "stream",
       "stream": "stdout",
       "text": [
        "\n",
        "security 1519: 728"
       ]
      },
      {
       "output_type": "stream",
       "stream": "stdout",
       "text": [
        "\n",
        "security 1522: 932"
       ]
      },
      {
       "output_type": "stream",
       "stream": "stdout",
       "text": [
        "\n",
        "security 1523: 115"
       ]
      },
      {
       "output_type": "stream",
       "stream": "stdout",
       "text": [
        "\n",
        "security 1524: 422"
       ]
      },
      {
       "output_type": "stream",
       "stream": "stdout",
       "text": [
        "\n",
        "security 1527: 1813"
       ]
      },
      {
       "output_type": "stream",
       "stream": "stdout",
       "text": [
        "\n",
        "security 1530: 625"
       ]
      },
      {
       "output_type": "stream",
       "stream": "stdout",
       "text": [
        "\n",
        "security 1532: 829"
       ]
      },
      {
       "output_type": "stream",
       "stream": "stdout",
       "text": [
        "\n",
        "security 1534: 1813"
       ]
      },
      {
       "output_type": "stream",
       "stream": "stdout",
       "text": [
        "\n",
        "security 1536: 1813"
       ]
      },
      {
       "output_type": "stream",
       "stream": "stdout",
       "text": [
        "\n",
        "security 1537: 728"
       ]
      },
      {
       "output_type": "stream",
       "stream": "stdout",
       "text": [
        "\n",
        "security 1539: 1813"
       ]
      },
      {
       "output_type": "stream",
       "stream": "stdout",
       "text": [
        "\n",
        "security 1541: 320"
       ]
      },
      {
       "output_type": "stream",
       "stream": "stdout",
       "text": [
        "\n",
        "security 1543: 1813"
       ]
      },
      {
       "output_type": "stream",
       "stream": "stdout",
       "text": [
        "\n",
        "security 1545: 1813"
       ]
      },
      {
       "output_type": "stream",
       "stream": "stdout",
       "text": [
        "\n",
        "security 1546: 711"
       ]
      },
      {
       "output_type": "stream",
       "stream": "stdout",
       "text": [
        "\n",
        "security 1548: 1813"
       ]
      },
      {
       "output_type": "stream",
       "stream": "stdout",
       "text": [
        "\n",
        "security 1553: 507"
       ]
      },
      {
       "output_type": "stream",
       "stream": "stdout",
       "text": [
        "\n",
        "security 1554: 320"
       ]
      },
      {
       "output_type": "stream",
       "stream": "stdout",
       "text": [
        "\n",
        "security 1555: 320"
       ]
      },
      {
       "output_type": "stream",
       "stream": "stdout",
       "text": [
        "\n",
        "security 1560: 1813"
       ]
      },
      {
       "output_type": "stream",
       "stream": "stdout",
       "text": [
        "\n",
        "security 1561: 1813"
       ]
      },
      {
       "output_type": "stream",
       "stream": "stdout",
       "text": [
        "\n",
        "security 1562: 1813"
       ]
      },
      {
       "output_type": "stream",
       "stream": "stdout",
       "text": [
        "\n",
        "security 1565: 1813"
       ]
      },
      {
       "output_type": "stream",
       "stream": "stdout",
       "text": [
        "\n",
        "security 1566: 1136"
       ]
      },
      {
       "output_type": "stream",
       "stream": "stdout",
       "text": [
        "\n",
        "security 1569: 1813"
       ]
      },
      {
       "output_type": "stream",
       "stream": "stdout",
       "text": [
        "\n",
        "security 1570: 932"
       ]
      },
      {
       "output_type": "stream",
       "stream": "stdout",
       "text": [
        "\n",
        "security 1573: 1340"
       ]
      },
      {
       "output_type": "stream",
       "stream": "stdout",
       "text": [
        "\n",
        "security 1575: 625"
       ]
      },
      {
       "output_type": "stream",
       "stream": "stdout",
       "text": [
        "\n",
        "security 1578: 932"
       ]
      },
      {
       "output_type": "stream",
       "stream": "stdout",
       "text": [
        "\n",
        "security 1579: 1813"
       ]
      },
      {
       "output_type": "stream",
       "stream": "stdout",
       "text": [
        "\n",
        "security 1585: 1813"
       ]
      },
      {
       "output_type": "stream",
       "stream": "stdout",
       "text": [
        "\n",
        "security 1587: 1813"
       ]
      },
      {
       "output_type": "stream",
       "stream": "stdout",
       "text": [
        "\n",
        "security 1591: 1745"
       ]
      },
      {
       "output_type": "stream",
       "stream": "stdout",
       "text": [
        "\n",
        "security 1593: 728"
       ]
      },
      {
       "output_type": "stream",
       "stream": "stdout",
       "text": [
        "\n",
        "security 1598: 115"
       ]
      },
      {
       "output_type": "stream",
       "stream": "stdout",
       "text": [
        "\n",
        "security 1599: 1813"
       ]
      },
      {
       "output_type": "stream",
       "stream": "stdout",
       "text": [
        "\n",
        "security 1602: 1813"
       ]
      },
      {
       "output_type": "stream",
       "stream": "stdout",
       "text": [
        "\n",
        "security 1604: 320"
       ]
      },
      {
       "output_type": "stream",
       "stream": "stdout",
       "text": [
        "\n",
        "security 1607: 1745"
       ]
      },
      {
       "output_type": "stream",
       "stream": "stdout",
       "text": [
        "\n",
        "security 1610: 1813"
       ]
      },
      {
       "output_type": "stream",
       "stream": "stdout",
       "text": [
        "\n",
        "security 1611: 1136"
       ]
      },
      {
       "output_type": "stream",
       "stream": "stdout",
       "text": [
        "\n",
        "security 1612: 1813"
       ]
      },
      {
       "output_type": "stream",
       "stream": "stdout",
       "text": [
        "\n",
        "security 1613: 1813"
       ]
      },
      {
       "output_type": "stream",
       "stream": "stdout",
       "text": [
        "\n",
        "security 1614: 115"
       ]
      },
      {
       "output_type": "stream",
       "stream": "stdout",
       "text": [
        "\n",
        "security 1615: 728"
       ]
      },
      {
       "output_type": "stream",
       "stream": "stdout",
       "text": [
        "\n",
        "security 1616: 1813"
       ]
      },
      {
       "output_type": "stream",
       "stream": "stdout",
       "text": [
        "\n",
        "security 1619: 1340"
       ]
      },
      {
       "output_type": "stream",
       "stream": "stdout",
       "text": [
        "\n",
        "security 1620: 1813"
       ]
      },
      {
       "output_type": "stream",
       "stream": "stdout",
       "text": [
        "\n",
        "security 1624: 1813"
       ]
      },
      {
       "output_type": "stream",
       "stream": "stdout",
       "text": [
        "\n",
        "security 1625: 1745"
       ]
      },
      {
       "output_type": "stream",
       "stream": "stdout",
       "text": [
        "\n",
        "security 1627: 1813"
       ]
      },
      {
       "output_type": "stream",
       "stream": "stdout",
       "text": [
        "\n",
        "security 1630: 1813"
       ]
      },
      {
       "output_type": "stream",
       "stream": "stdout",
       "text": [
        "\n",
        "security 1635: 1813"
       ]
      },
      {
       "output_type": "stream",
       "stream": "stdout",
       "text": [
        "\n",
        "security 1636: 1813"
       ]
      },
      {
       "output_type": "stream",
       "stream": "stdout",
       "text": [
        "\n",
        "security 1638: 1442"
       ]
      },
      {
       "output_type": "stream",
       "stream": "stdout",
       "text": [
        "\n",
        "security 1639: 1340"
       ]
      },
      {
       "output_type": "stream",
       "stream": "stdout",
       "text": [
        "\n",
        "security 1646: 1813"
       ]
      },
      {
       "output_type": "stream",
       "stream": "stdout",
       "text": [
        "\n",
        "security 1647: 1813"
       ]
      },
      {
       "output_type": "stream",
       "stream": "stdout",
       "text": [
        "\n",
        "security 1650: 218"
       ]
      },
      {
       "output_type": "stream",
       "stream": "stdout",
       "text": [
        "\n",
        "security 1652: 1340"
       ]
      },
      {
       "output_type": "stream",
       "stream": "stdout",
       "text": [
        "\n",
        "security 1653: 1813"
       ]
      },
      {
       "output_type": "stream",
       "stream": "stdout",
       "text": [
        "\n",
        "security 1654: 320"
       ]
      },
      {
       "output_type": "stream",
       "stream": "stdout",
       "text": [
        "\n",
        "security 1655: 1813"
       ]
      },
      {
       "output_type": "stream",
       "stream": "stdout",
       "text": [
        "\n",
        "security 1657: 1813"
       ]
      },
      {
       "output_type": "stream",
       "stream": "stdout",
       "text": [
        "\n",
        "security 1659: 1813"
       ]
      },
      {
       "output_type": "stream",
       "stream": "stdout",
       "text": [
        "\n",
        "security 1660: 1813"
       ]
      },
      {
       "output_type": "stream",
       "stream": "stdout",
       "text": [
        "\n",
        "security 1662: 1813"
       ]
      },
      {
       "output_type": "stream",
       "stream": "stdout",
       "text": [
        "\n",
        "security 1663: 1543"
       ]
      },
      {
       "output_type": "stream",
       "stream": "stdout",
       "text": [
        "\n",
        "security 1666: 1745"
       ]
      },
      {
       "output_type": "stream",
       "stream": "stdout",
       "text": [
        "\n",
        "security 1667: 1745"
       ]
      },
      {
       "output_type": "stream",
       "stream": "stdout",
       "text": [
        "\n",
        "security 1668: 1628"
       ]
      },
      {
       "output_type": "stream",
       "stream": "stdout",
       "text": [
        "\n",
        "security 1669: 1813"
       ]
      },
      {
       "output_type": "stream",
       "stream": "stdout",
       "text": [
        "\n",
        "security 1671: 1813"
       ]
      },
      {
       "output_type": "stream",
       "stream": "stdout",
       "text": [
        "\n",
        "security 1672: 1646"
       ]
      },
      {
       "output_type": "stream",
       "stream": "stdout",
       "text": [
        "\n",
        "security 1673: 625"
       ]
      },
      {
       "output_type": "stream",
       "stream": "stdout",
       "text": [
        "\n",
        "security 1676: 1813"
       ]
      },
      {
       "output_type": "stream",
       "stream": "stdout",
       "text": [
        "\n",
        "security 1677: 1813"
       ]
      },
      {
       "output_type": "stream",
       "stream": "stdout",
       "text": [
        "\n",
        "security 1679: 1543"
       ]
      },
      {
       "output_type": "stream",
       "stream": "stdout",
       "text": [
        "\n",
        "security 1680: 1813"
       ]
      },
      {
       "output_type": "stream",
       "stream": "stdout",
       "text": [
        "\n",
        "security 1683: 1543"
       ]
      },
      {
       "output_type": "stream",
       "stream": "stdout",
       "text": [
        "\n",
        "security 1686: 1442"
       ]
      },
      {
       "output_type": "stream",
       "stream": "stdout",
       "text": [
        "\n",
        "security 1687: 1543"
       ]
      },
      {
       "output_type": "stream",
       "stream": "stdout",
       "text": [
        "\n",
        "security 1688: 1813"
       ]
      },
      {
       "output_type": "stream",
       "stream": "stdout",
       "text": [
        "\n",
        "security 1690: 218"
       ]
      },
      {
       "output_type": "stream",
       "stream": "stdout",
       "text": [
        "\n",
        "security 1696: 1340"
       ]
      },
      {
       "output_type": "stream",
       "stream": "stdout",
       "text": [
        "\n",
        "security 1697: 422"
       ]
      },
      {
       "output_type": "stream",
       "stream": "stdout",
       "text": [
        "\n",
        "security 1701: 1745"
       ]
      },
      {
       "output_type": "stream",
       "stream": "stdout",
       "text": [
        "\n",
        "security 1703: 1034"
       ]
      },
      {
       "output_type": "stream",
       "stream": "stdout",
       "text": [
        "\n",
        "security 1704: 1813"
       ]
      },
      {
       "output_type": "stream",
       "stream": "stdout",
       "text": [
        "\n",
        "security 1705: 1543"
       ]
      },
      {
       "output_type": "stream",
       "stream": "stdout",
       "text": [
        "\n",
        "security 1706: 1813"
       ]
      },
      {
       "output_type": "stream",
       "stream": "stdout",
       "text": [
        "\n",
        "security 1708: 1136"
       ]
      },
      {
       "output_type": "stream",
       "stream": "stdout",
       "text": [
        "\n",
        "security 1711: 1813"
       ]
      },
      {
       "output_type": "stream",
       "stream": "stdout",
       "text": [
        "\n",
        "security 1712: 218"
       ]
      },
      {
       "output_type": "stream",
       "stream": "stdout",
       "text": [
        "\n",
        "security 1714: 1813"
       ]
      },
      {
       "output_type": "stream",
       "stream": "stdout",
       "text": [
        "\n",
        "security 1717: 1745"
       ]
      },
      {
       "output_type": "stream",
       "stream": "stdout",
       "text": [
        "\n",
        "security 1724: 1813"
       ]
      },
      {
       "output_type": "stream",
       "stream": "stdout",
       "text": [
        "\n",
        "security 1725: 422"
       ]
      },
      {
       "output_type": "stream",
       "stream": "stdout",
       "text": [
        "\n",
        "security 1726: 14"
       ]
      },
      {
       "output_type": "stream",
       "stream": "stdout",
       "text": [
        "\n",
        "security 1727: 1813"
       ]
      },
      {
       "output_type": "stream",
       "stream": "stdout",
       "text": [
        "\n",
        "security 1729: 1813"
       ]
      },
      {
       "output_type": "stream",
       "stream": "stdout",
       "text": [
        "\n",
        "security 1730: 1813"
       ]
      },
      {
       "output_type": "stream",
       "stream": "stdout",
       "text": [
        "\n",
        "security 1733: 1813"
       ]
      },
      {
       "output_type": "stream",
       "stream": "stdout",
       "text": [
        "\n",
        "security 1734: 728"
       ]
      },
      {
       "output_type": "stream",
       "stream": "stdout",
       "text": [
        "\n",
        "security 1737: 167"
       ]
      },
      {
       "output_type": "stream",
       "stream": "stdout",
       "text": [
        "\n",
        "security 1738: 1813"
       ]
      },
      {
       "output_type": "stream",
       "stream": "stdout",
       "text": [
        "\n",
        "security 1739: 1813"
       ]
      },
      {
       "output_type": "stream",
       "stream": "stdout",
       "text": [
        "\n",
        "security 1741: 422"
       ]
      },
      {
       "output_type": "stream",
       "stream": "stdout",
       "text": [
        "\n",
        "security 1744: 1492"
       ]
      },
      {
       "output_type": "stream",
       "stream": "stdout",
       "text": [
        "\n",
        "security 1747: 728"
       ]
      },
      {
       "output_type": "stream",
       "stream": "stdout",
       "text": [
        "\n",
        "security 1749: 422"
       ]
      },
      {
       "output_type": "stream",
       "stream": "stdout",
       "text": [
        "\n",
        "security 1752: 1813"
       ]
      },
      {
       "output_type": "stream",
       "stream": "stdout",
       "text": [
        "\n",
        "security 1753: 1136"
       ]
      },
      {
       "output_type": "stream",
       "stream": "stdout",
       "text": [
        "\n",
        "security 1758: 1813"
       ]
      },
      {
       "output_type": "stream",
       "stream": "stdout",
       "text": [
        "\n",
        "security 1760: 1813"
       ]
      },
      {
       "output_type": "stream",
       "stream": "stdout",
       "text": [
        "\n",
        "security 1766: 1813"
       ]
      },
      {
       "output_type": "stream",
       "stream": "stdout",
       "text": [
        "\n",
        "security 1767: 1543"
       ]
      },
      {
       "output_type": "stream",
       "stream": "stdout",
       "text": [
        "\n",
        "security 1769: 1813"
       ]
      },
      {
       "output_type": "stream",
       "stream": "stdout",
       "text": [
        "\n",
        "security 1772: 779"
       ]
      },
      {
       "output_type": "stream",
       "stream": "stdout",
       "text": [
        "\n",
        "security 1774: 1813"
       ]
      },
      {
       "output_type": "stream",
       "stream": "stdout",
       "text": [
        "\n",
        "security 1775: 1813"
       ]
      },
      {
       "output_type": "stream",
       "stream": "stdout",
       "text": [
        "\n",
        "security 1776: 1813"
       ]
      },
      {
       "output_type": "stream",
       "stream": "stdout",
       "text": [
        "\n",
        "security 1780: 779"
       ]
      },
      {
       "output_type": "stream",
       "stream": "stdout",
       "text": [
        "\n",
        "security 1782: 1813"
       ]
      },
      {
       "output_type": "stream",
       "stream": "stdout",
       "text": [
        "\n",
        "security 1783: 1813"
       ]
      },
      {
       "output_type": "stream",
       "stream": "stdout",
       "text": [
        "\n",
        "security 1784: 1813"
       ]
      },
      {
       "output_type": "stream",
       "stream": "stdout",
       "text": [
        "\n",
        "security 1785: 320"
       ]
      },
      {
       "output_type": "stream",
       "stream": "stdout",
       "text": [
        "\n",
        "security 1787: 218"
       ]
      },
      {
       "output_type": "stream",
       "stream": "stdout",
       "text": [
        "\n",
        "security 1788: 1813"
       ]
      },
      {
       "output_type": "stream",
       "stream": "stdout",
       "text": [
        "\n",
        "security 1789: 1813"
       ]
      },
      {
       "output_type": "stream",
       "stream": "stdout",
       "text": [
        "\n",
        "security 1790: 1543"
       ]
      },
      {
       "output_type": "stream",
       "stream": "stdout",
       "text": [
        "\n",
        "security 1791: 1034"
       ]
      },
      {
       "output_type": "stream",
       "stream": "stdout",
       "text": [
        "\n",
        "security 1793: 218"
       ]
      },
      {
       "output_type": "stream",
       "stream": "stdout",
       "text": [
        "\n",
        "security 1794: 660"
       ]
      },
      {
       "output_type": "stream",
       "stream": "stdout",
       "text": [
        "\n",
        "security 1795: 218"
       ]
      },
      {
       "output_type": "stream",
       "stream": "stdout",
       "text": [
        "\n",
        "security 1796: 1813"
       ]
      },
      {
       "output_type": "stream",
       "stream": "stdout",
       "text": [
        "\n",
        "security 1798: 1745"
       ]
      },
      {
       "output_type": "stream",
       "stream": "stdout",
       "text": [
        "\n",
        "security 1799: 422"
       ]
      },
      {
       "output_type": "stream",
       "stream": "stdout",
       "text": [
        "\n",
        "security 1802: 1813"
       ]
      },
      {
       "output_type": "stream",
       "stream": "stdout",
       "text": [
        "\n",
        "security 1806: 1813"
       ]
      },
      {
       "output_type": "stream",
       "stream": "stdout",
       "text": [
        "\n",
        "security 1809: 14"
       ]
      },
      {
       "output_type": "stream",
       "stream": "stdout",
       "text": [
        "\n",
        "security 1810: 1813"
       ]
      },
      {
       "output_type": "stream",
       "stream": "stdout",
       "text": [
        "\n",
        "security 1812: 1813"
       ]
      },
      {
       "output_type": "stream",
       "stream": "stdout",
       "text": [
        "\n",
        "security 1813: 1543"
       ]
      },
      {
       "output_type": "stream",
       "stream": "stdout",
       "text": [
        "\n",
        "security 1814: 1745"
       ]
      },
      {
       "output_type": "stream",
       "stream": "stdout",
       "text": [
        "\n",
        "security 1815: 1813"
       ]
      },
      {
       "output_type": "stream",
       "stream": "stdout",
       "text": [
        "\n",
        "security 1817: 1543"
       ]
      },
      {
       "output_type": "stream",
       "stream": "stdout",
       "text": [
        "\n",
        "security 1818: 1813"
       ]
      },
      {
       "output_type": "stream",
       "stream": "stdout",
       "text": [
        "\n",
        "security 1821: 1813"
       ]
      },
      {
       "output_type": "stream",
       "stream": "stdout",
       "text": [
        "\n",
        "security 1822: 218"
       ]
      },
      {
       "output_type": "stream",
       "stream": "stdout",
       "text": [
        "\n",
        "security 1825: 1136"
       ]
      },
      {
       "output_type": "stream",
       "stream": "stdout",
       "text": [
        "\n",
        "security 1827: 1813"
       ]
      },
      {
       "output_type": "stream",
       "stream": "stdout",
       "text": [
        "\n",
        "security 1828: 1745"
       ]
      },
      {
       "output_type": "stream",
       "stream": "stdout",
       "text": [
        "\n",
        "security 1830: 1813"
       ]
      },
      {
       "output_type": "stream",
       "stream": "stdout",
       "text": [
        "\n",
        "security 1831: 1812"
       ]
      },
      {
       "output_type": "stream",
       "stream": "stdout",
       "text": [
        "\n",
        "security 1832: 1813"
       ]
      },
      {
       "output_type": "stream",
       "stream": "stdout",
       "text": [
        "\n",
        "security 1833: 320"
       ]
      },
      {
       "output_type": "stream",
       "stream": "stdout",
       "text": [
        "\n",
        "security 1836: 1813"
       ]
      },
      {
       "output_type": "stream",
       "stream": "stdout",
       "text": [
        "\n",
        "security 1838: 1813"
       ]
      },
      {
       "output_type": "stream",
       "stream": "stdout",
       "text": [
        "\n",
        "security 1843: 320"
       ]
      },
      {
       "output_type": "stream",
       "stream": "stdout",
       "text": [
        "\n",
        "security 1845: 1543"
       ]
      },
      {
       "output_type": "stream",
       "stream": "stdout",
       "text": [
        "\n",
        "security 1848: 320"
       ]
      },
      {
       "output_type": "stream",
       "stream": "stdout",
       "text": [
        "\n",
        "security 1849: 1813"
       ]
      },
      {
       "output_type": "stream",
       "stream": "stdout",
       "text": [
        "\n",
        "security 1851: 1813"
       ]
      },
      {
       "output_type": "stream",
       "stream": "stdout",
       "text": [
        "\n",
        "security 1852: 1813"
       ]
      },
      {
       "output_type": "stream",
       "stream": "stdout",
       "text": [
        "\n",
        "security 1853: 1813"
       ]
      },
      {
       "output_type": "stream",
       "stream": "stdout",
       "text": [
        "\n",
        "security 1857: 422"
       ]
      },
      {
       "output_type": "stream",
       "stream": "stdout",
       "text": [
        "\n",
        "security 1858: 1813"
       ]
      },
      {
       "output_type": "stream",
       "stream": "stdout",
       "text": [
        "\n",
        "security 1859: 320"
       ]
      },
      {
       "output_type": "stream",
       "stream": "stdout",
       "text": [
        "\n",
        "security 1860: 1813"
       ]
      },
      {
       "output_type": "stream",
       "stream": "stdout",
       "text": [
        "\n",
        "security 1861: 218"
       ]
      },
      {
       "output_type": "stream",
       "stream": "stdout",
       "text": [
        "\n",
        "security 1863: 320"
       ]
      },
      {
       "output_type": "stream",
       "stream": "stdout",
       "text": [
        "\n",
        "security 1864: 218"
       ]
      },
      {
       "output_type": "stream",
       "stream": "stdout",
       "text": [
        "\n",
        "security 1865: 1543"
       ]
      },
      {
       "output_type": "stream",
       "stream": "stdout",
       "text": [
        "\n",
        "security 1867: 1442"
       ]
      },
      {
       "output_type": "stream",
       "stream": "stdout",
       "text": [
        "\n",
        "security 1869: 1813"
       ]
      },
      {
       "output_type": "stream",
       "stream": "stdout",
       "text": [
        "\n",
        "security 1870: 1813"
       ]
      },
      {
       "output_type": "stream",
       "stream": "stdout",
       "text": [
        "\n",
        "security 1872: 1442"
       ]
      },
      {
       "output_type": "stream",
       "stream": "stdout",
       "text": [
        "\n",
        "security 1873: 1813"
       ]
      },
      {
       "output_type": "stream",
       "stream": "stdout",
       "text": [
        "\n",
        "security 1874: 422"
       ]
      },
      {
       "output_type": "stream",
       "stream": "stdout",
       "text": [
        "\n",
        "security 1876: 1813"
       ]
      },
      {
       "output_type": "stream",
       "stream": "stdout",
       "text": [
        "\n",
        "security 1877: 218"
       ]
      },
      {
       "output_type": "stream",
       "stream": "stdout",
       "text": [
        "\n",
        "security 1878: 1646"
       ]
      },
      {
       "output_type": "stream",
       "stream": "stdout",
       "text": [
        "\n",
        "security 1882: 728"
       ]
      },
      {
       "output_type": "stream",
       "stream": "stdout",
       "text": [
        "\n",
        "security 1883: 1543"
       ]
      },
      {
       "output_type": "stream",
       "stream": "stdout",
       "text": [
        "\n",
        "security 1884: 1813"
       ]
      },
      {
       "output_type": "stream",
       "stream": "stdout",
       "text": [
        "\n",
        "security 1887: 1813"
       ]
      },
      {
       "output_type": "stream",
       "stream": "stdout",
       "text": [
        "\n",
        "security 1888: 302"
       ]
      },
      {
       "output_type": "stream",
       "stream": "stdout",
       "text": [
        "\n",
        "security 1890: 1813"
       ]
      },
      {
       "output_type": "stream",
       "stream": "stdout",
       "text": [
        "\n",
        "security 1891: 1745"
       ]
      },
      {
       "output_type": "stream",
       "stream": "stdout",
       "text": [
        "\n",
        "security 1892: 1813"
       ]
      },
      {
       "output_type": "stream",
       "stream": "stdout",
       "text": [
        "\n",
        "security 1895: 1813"
       ]
      },
      {
       "output_type": "stream",
       "stream": "stdout",
       "text": [
        "\n",
        "security 1896: 1813"
       ]
      },
      {
       "output_type": "stream",
       "stream": "stdout",
       "text": [
        "\n",
        "security 1897: 1442"
       ]
      },
      {
       "output_type": "stream",
       "stream": "stdout",
       "text": [
        "\n",
        "security 1898: 1813"
       ]
      },
      {
       "output_type": "stream",
       "stream": "stdout",
       "text": [
        "\n",
        "security 1901: 1813"
       ]
      },
      {
       "output_type": "stream",
       "stream": "stdout",
       "text": [
        "\n",
        "security 1902: 1813"
       ]
      },
      {
       "output_type": "stream",
       "stream": "stdout",
       "text": [
        "\n",
        "security 1903: 1813"
       ]
      },
      {
       "output_type": "stream",
       "stream": "stdout",
       "text": [
        "\n",
        "security 1904: 371"
       ]
      },
      {
       "output_type": "stream",
       "stream": "stdout",
       "text": [
        "\n",
        "security 1905: 1813"
       ]
      },
      {
       "output_type": "stream",
       "stream": "stdout",
       "text": [
        "\n",
        "security 1907: 1813"
       ]
      },
      {
       "output_type": "stream",
       "stream": "stdout",
       "text": [
        "\n",
        "security 1910: 1813"
       ]
      },
      {
       "output_type": "stream",
       "stream": "stdout",
       "text": [
        "\n",
        "security 1911: 1238"
       ]
      },
      {
       "output_type": "stream",
       "stream": "stdout",
       "text": [
        "\n",
        "security 1912: 1813"
       ]
      },
      {
       "output_type": "stream",
       "stream": "stdout",
       "text": [
        "\n",
        "security 1918: 1813"
       ]
      },
      {
       "output_type": "stream",
       "stream": "stdout",
       "text": [
        "\n",
        "security 1919: 932"
       ]
      },
      {
       "output_type": "stream",
       "stream": "stdout",
       "text": [
        "\n",
        "security 1921: 1813"
       ]
      },
      {
       "output_type": "stream",
       "stream": "stdout",
       "text": [
        "\n",
        "security 1923: 523"
       ]
      },
      {
       "output_type": "stream",
       "stream": "stdout",
       "text": [
        "\n",
        "security 1925: 1813"
       ]
      },
      {
       "output_type": "stream",
       "stream": "stdout",
       "text": [
        "\n",
        "security 1926: 1813"
       ]
      },
      {
       "output_type": "stream",
       "stream": "stdout",
       "text": [
        "\n",
        "security 1927: 1543"
       ]
      },
      {
       "output_type": "stream",
       "stream": "stdout",
       "text": [
        "\n",
        "security 1928: 1813"
       ]
      },
      {
       "output_type": "stream",
       "stream": "stdout",
       "text": [
        "\n",
        "security 1929: 728"
       ]
      },
      {
       "output_type": "stream",
       "stream": "stdout",
       "text": [
        "\n",
        "security 1931: 1745"
       ]
      },
      {
       "output_type": "stream",
       "stream": "stdout",
       "text": [
        "\n",
        "security 1935: 1813"
       ]
      },
      {
       "output_type": "stream",
       "stream": "stdout",
       "text": [
        "\n",
        "security 1939: 523"
       ]
      },
      {
       "output_type": "stream",
       "stream": "stdout",
       "text": [
        "\n",
        "security 1943: 1340"
       ]
      },
      {
       "output_type": "stream",
       "stream": "stdout",
       "text": [
        "\n",
        "security 1949: 1136"
       ]
      },
      {
       "output_type": "stream",
       "stream": "stdout",
       "text": [
        "\n",
        "security 1951: 1813"
       ]
      },
      {
       "output_type": "stream",
       "stream": "stdout",
       "text": [
        "\n",
        "security 1952: 1813"
       ]
      },
      {
       "output_type": "stream",
       "stream": "stdout",
       "text": [
        "\n",
        "security 1954: 1813"
       ]
      },
      {
       "output_type": "stream",
       "stream": "stdout",
       "text": [
        "\n",
        "security 1956: 1813"
       ]
      },
      {
       "output_type": "stream",
       "stream": "stdout",
       "text": [
        "\n",
        "security 1957: 1813"
       ]
      },
      {
       "output_type": "stream",
       "stream": "stdout",
       "text": [
        "\n",
        "security 1962: 507"
       ]
      },
      {
       "output_type": "stream",
       "stream": "stdout",
       "text": [
        "\n",
        "security 1963: 1813"
       ]
      },
      {
       "output_type": "stream",
       "stream": "stdout",
       "text": [
        "\n",
        "security 1965: 1745"
       ]
      },
      {
       "output_type": "stream",
       "stream": "stdout",
       "text": [
        "\n",
        "security 1966: 1813"
       ]
      },
      {
       "output_type": "stream",
       "stream": "stdout",
       "text": [
        "\n",
        "security 1967: 1543"
       ]
      },
      {
       "output_type": "stream",
       "stream": "stdout",
       "text": [
        "\n",
        "security 1969: 1813"
       ]
      },
      {
       "output_type": "stream",
       "stream": "stdout",
       "text": [
        "\n",
        "security 1970: 1813"
       ]
      },
      {
       "output_type": "stream",
       "stream": "stdout",
       "text": [
        "\n",
        "security 1972: 1813"
       ]
      },
      {
       "output_type": "stream",
       "stream": "stdout",
       "text": [
        "\n",
        "security 1973: 728"
       ]
      },
      {
       "output_type": "stream",
       "stream": "stdout",
       "text": [
        "\n",
        "security 1975: 1813"
       ]
      },
      {
       "output_type": "stream",
       "stream": "stdout",
       "text": [
        "\n",
        "security 1976: 1813"
       ]
      },
      {
       "output_type": "stream",
       "stream": "stdout",
       "text": [
        "\n",
        "security 1977: 1340"
       ]
      },
      {
       "output_type": "stream",
       "stream": "stdout",
       "text": [
        "\n",
        "security 1979: 1813"
       ]
      },
      {
       "output_type": "stream",
       "stream": "stdout",
       "text": [
        "\n",
        "security 1980: 625"
       ]
      },
      {
       "output_type": "stream",
       "stream": "stdout",
       "text": [
        "\n",
        "security 1981: 1813"
       ]
      },
      {
       "output_type": "stream",
       "stream": "stdout",
       "text": [
        "\n",
        "security 1987: 1745"
       ]
      },
      {
       "output_type": "stream",
       "stream": "stdout",
       "text": [
        "\n",
        "security 1990: 1813"
       ]
      },
      {
       "output_type": "stream",
       "stream": "stdout",
       "text": [
        "\n",
        "security 1991: 779"
       ]
      },
      {
       "output_type": "stream",
       "stream": "stdout",
       "text": [
        "\n",
        "security 1992: 1813"
       ]
      },
      {
       "output_type": "stream",
       "stream": "stdout",
       "text": [
        "\n",
        "security 1998: 1745"
       ]
      },
      {
       "output_type": "stream",
       "stream": "stdout",
       "text": [
        "\n",
        "security 2000: 1813"
       ]
      },
      {
       "output_type": "stream",
       "stream": "stdout",
       "text": [
        "\n",
        "security 2001: 1813"
       ]
      },
      {
       "output_type": "stream",
       "stream": "stdout",
       "text": [
        "\n",
        "security 2002: 728"
       ]
      },
      {
       "output_type": "stream",
       "stream": "stdout",
       "text": [
        "\n",
        "security 2004: 1745"
       ]
      },
      {
       "output_type": "stream",
       "stream": "stdout",
       "text": [
        "\n",
        "security 2008: 1813"
       ]
      },
      {
       "output_type": "stream",
       "stream": "stdout",
       "text": [
        "\n",
        "security 2011: 1136"
       ]
      },
      {
       "output_type": "stream",
       "stream": "stdout",
       "text": [
        "\n",
        "security 2015: 1646"
       ]
      },
      {
       "output_type": "stream",
       "stream": "stdout",
       "text": [
        "\n",
        "security 2021: 1813"
       ]
      },
      {
       "output_type": "stream",
       "stream": "stdout",
       "text": [
        "\n",
        "security 2028: 320"
       ]
      },
      {
       "output_type": "stream",
       "stream": "stdout",
       "text": [
        "\n",
        "security 2030: 1813"
       ]
      },
      {
       "output_type": "stream",
       "stream": "stdout",
       "text": [
        "\n",
        "security 2031: 625"
       ]
      },
      {
       "output_type": "stream",
       "stream": "stdout",
       "text": [
        "\n",
        "security 2033: 1813"
       ]
      },
      {
       "output_type": "stream",
       "stream": "stdout",
       "text": [
        "\n",
        "security 2036: 1813"
       ]
      },
      {
       "output_type": "stream",
       "stream": "stdout",
       "text": [
        "\n",
        "security 2037: 1813"
       ]
      },
      {
       "output_type": "stream",
       "stream": "stdout",
       "text": [
        "\n",
        "security 2043: 1813"
       ]
      },
      {
       "output_type": "stream",
       "stream": "stdout",
       "text": [
        "\n",
        "security 2044: 1813"
       ]
      },
      {
       "output_type": "stream",
       "stream": "stdout",
       "text": [
        "\n",
        "security 2047: 1813"
       ]
      },
      {
       "output_type": "stream",
       "stream": "stdout",
       "text": [
        "\n",
        "security 2050: 1813"
       ]
      },
      {
       "output_type": "stream",
       "stream": "stdout",
       "text": [
        "\n",
        "security 2054: 1813"
       ]
      },
      {
       "output_type": "stream",
       "stream": "stdout",
       "text": [
        "\n",
        "security 2056: 1813"
       ]
      },
      {
       "output_type": "stream",
       "stream": "stdout",
       "text": [
        "\n",
        "security 2057: 1813"
       ]
      },
      {
       "output_type": "stream",
       "stream": "stdout",
       "text": [
        "\n",
        "security 2061: 523"
       ]
      },
      {
       "output_type": "stream",
       "stream": "stdout",
       "text": [
        "\n",
        "security 2062: 1813"
       ]
      },
      {
       "output_type": "stream",
       "stream": "stdout",
       "text": [
        "\n",
        "security 2063: 14"
       ]
      },
      {
       "output_type": "stream",
       "stream": "stdout",
       "text": [
        "\n",
        "security 2064: 1745"
       ]
      },
      {
       "output_type": "stream",
       "stream": "stdout",
       "text": [
        "\n",
        "security 2065: 1813"
       ]
      },
      {
       "output_type": "stream",
       "stream": "stdout",
       "text": [
        "\n",
        "security 2068: 728"
       ]
      },
      {
       "output_type": "stream",
       "stream": "stdout",
       "text": [
        "\n",
        "security 2069: 1813"
       ]
      },
      {
       "output_type": "stream",
       "stream": "stdout",
       "text": [
        "\n",
        "security 2070: 1813"
       ]
      },
      {
       "output_type": "stream",
       "stream": "stdout",
       "text": [
        "\n",
        "security 2071: 1340"
       ]
      },
      {
       "output_type": "stream",
       "stream": "stdout",
       "text": [
        "\n",
        "security 2074: 1813"
       ]
      },
      {
       "output_type": "stream",
       "stream": "stdout",
       "text": [
        "\n",
        "security 2075: 1442"
       ]
      },
      {
       "output_type": "stream",
       "stream": "stdout",
       "text": [
        "\n",
        "security 2076: 14"
       ]
      },
      {
       "output_type": "stream",
       "stream": "stdout",
       "text": [
        "\n",
        "security 2077: 829"
       ]
      },
      {
       "output_type": "stream",
       "stream": "stdout",
       "text": [
        "\n",
        "security 2078: 1813"
       ]
      },
      {
       "output_type": "stream",
       "stream": "stdout",
       "text": [
        "\n",
        "security 2079: 1813"
       ]
      },
      {
       "output_type": "stream",
       "stream": "stdout",
       "text": [
        "\n",
        "security 2080: 1813"
       ]
      },
      {
       "output_type": "stream",
       "stream": "stdout",
       "text": [
        "\n",
        "security 2081: 932"
       ]
      },
      {
       "output_type": "stream",
       "stream": "stdout",
       "text": [
        "\n",
        "security 2083: 1813"
       ]
      },
      {
       "output_type": "stream",
       "stream": "stdout",
       "text": [
        "\n",
        "security 2086: 252"
       ]
      },
      {
       "output_type": "stream",
       "stream": "stdout",
       "text": [
        "\n",
        "security 2087: 523"
       ]
      },
      {
       "output_type": "stream",
       "stream": "stdout",
       "text": [
        "\n",
        "security 2089: 1813"
       ]
      },
      {
       "output_type": "stream",
       "stream": "stdout",
       "text": [
        "\n",
        "security 2090: 422"
       ]
      },
      {
       "output_type": "stream",
       "stream": "stdout",
       "text": [
        "\n",
        "security 2092: 1813"
       ]
      },
      {
       "output_type": "stream",
       "stream": "stdout",
       "text": [
        "\n",
        "security 2093: 320"
       ]
      },
      {
       "output_type": "stream",
       "stream": "stdout",
       "text": [
        "\n",
        "security 2095: 1813"
       ]
      },
      {
       "output_type": "stream",
       "stream": "stdout",
       "text": [
        "\n",
        "security 2097: 932"
       ]
      },
      {
       "output_type": "stream",
       "stream": "stdout",
       "text": [
        "\n",
        "security 2098: 218"
       ]
      },
      {
       "output_type": "stream",
       "stream": "stdout",
       "text": [
        "\n",
        "security 2100: 1813"
       ]
      },
      {
       "output_type": "stream",
       "stream": "stdout",
       "text": [
        "\n",
        "security 2101: 1813"
       ]
      },
      {
       "output_type": "stream",
       "stream": "stdout",
       "text": [
        "\n",
        "security 2102: 1745"
       ]
      },
      {
       "output_type": "stream",
       "stream": "stdout",
       "text": [
        "\n",
        "security 2104: 1813"
       ]
      },
      {
       "output_type": "stream",
       "stream": "stdout",
       "text": [
        "\n",
        "security 2107: 1543"
       ]
      },
      {
       "output_type": "stream",
       "stream": "stdout",
       "text": [
        "\n",
        "security 2108: 1813"
       ]
      },
      {
       "output_type": "stream",
       "stream": "stdout",
       "text": [
        "\n",
        "security 2109: 1813"
       ]
      },
      {
       "output_type": "stream",
       "stream": "stdout",
       "text": [
        "\n",
        "security 2114: 1813"
       ]
      },
      {
       "output_type": "stream",
       "stream": "stdout",
       "text": [
        "\n",
        "security 2117: 728"
       ]
      },
      {
       "output_type": "stream",
       "stream": "stdout",
       "text": [
        "\n",
        "security 2118: 829"
       ]
      },
      {
       "output_type": "stream",
       "stream": "stdout",
       "text": [
        "\n",
        "security 2120: 1745"
       ]
      },
      {
       "output_type": "stream",
       "stream": "stdout",
       "text": [
        "\n",
        "security 2121: 422"
       ]
      },
      {
       "output_type": "stream",
       "stream": "stdout",
       "text": [
        "\n",
        "security 2126: 1813"
       ]
      },
      {
       "output_type": "stream",
       "stream": "stdout",
       "text": [
        "\n",
        "security 2129: 1813"
       ]
      },
      {
       "output_type": "stream",
       "stream": "stdout",
       "text": [
        "\n",
        "security 2130: 1745"
       ]
      },
      {
       "output_type": "stream",
       "stream": "stdout",
       "text": [
        "\n",
        "security 2131: 1813"
       ]
      },
      {
       "output_type": "stream",
       "stream": "stdout",
       "text": [
        "\n",
        "security 2137: 1646"
       ]
      },
      {
       "output_type": "stream",
       "stream": "stdout",
       "text": [
        "\n",
        "security 2138: 1813"
       ]
      },
      {
       "output_type": "stream",
       "stream": "stdout",
       "text": [
        "\n",
        "security 2139: 880"
       ]
      },
      {
       "output_type": "stream",
       "stream": "stdout",
       "text": [
        "\n",
        "security 2140: 1442"
       ]
      },
      {
       "output_type": "stream",
       "stream": "stdout",
       "text": [
        "\n",
        "security 2142: 1813"
       ]
      },
      {
       "output_type": "stream",
       "stream": "stdout",
       "text": [
        "\n",
        "security 2145: 1646"
       ]
      },
      {
       "output_type": "stream",
       "stream": "stdout",
       "text": [
        "\n",
        "security 2146: 1813"
       ]
      },
      {
       "output_type": "stream",
       "stream": "stdout",
       "text": [
        "\n",
        "security 2148: 1813"
       ]
      },
      {
       "output_type": "stream",
       "stream": "stdout",
       "text": [
        "\n",
        "security 2149: 1813"
       ]
      },
      {
       "output_type": "stream",
       "stream": "stdout",
       "text": [
        "\n",
        "security 2150: 1646"
       ]
      },
      {
       "output_type": "stream",
       "stream": "stdout",
       "text": [
        "\n",
        "security 2151: 1745"
       ]
      },
      {
       "output_type": "stream",
       "stream": "stdout",
       "text": [
        "\n",
        "security 2154: 1813"
       ]
      },
      {
       "output_type": "stream",
       "stream": "stdout",
       "text": [
        "\n",
        "security 2156: 1813"
       ]
      },
      {
       "output_type": "stream",
       "stream": "stdout",
       "text": [
        "\n",
        "security 2158: 150"
       ]
      },
      {
       "output_type": "stream",
       "stream": "stdout",
       "text": [
        "\n"
       ]
      }
     ],
     "prompt_number": 42
    },
    {
     "cell_type": "code",
     "collapsed": false,
     "input": [
      "#get length of unique_ids list\n",
      "len(unique_ids)"
     ],
     "language": "python",
     "metadata": {},
     "outputs": [
      {
       "metadata": {},
       "output_type": "pyout",
       "prompt_number": 43,
       "text": [
        "1086"
       ]
      }
     ],
     "prompt_number": 43
    },
    {
     "cell_type": "code",
     "collapsed": false,
     "input": [
      "#prepare dummy dataset\n",
      "from sklearn.cross_validation import train_test_split"
     ],
     "language": "python",
     "metadata": {},
     "outputs": [
      {
       "output_type": "stream",
       "stream": "stderr",
       "text": [
        "/Library/Python/2.7/site-packages/sklearn/cross_validation.py:44: DeprecationWarning: This module was deprecated in version 0.18 in favor of the model_selection module into which all the refactored classes and functions are moved. Also note that the interface of the new CV iterators are different from that of this module. This module will be removed in 0.20.\n",
        "  \"This module will be removed in 0.20.\", DeprecationWarning)\n"
       ]
      }
     ],
     "prompt_number": 6
    },
    {
     "cell_type": "code",
     "collapsed": false,
     "input": [
      "#fill na positions with column mean values\n",
      "ndf=ndf.fillna(ndf_mean)"
     ],
     "language": "python",
     "metadata": {},
     "outputs": [],
     "prompt_number": 10
    },
    {
     "cell_type": "code",
     "collapsed": false,
     "input": [
      "#make sure if nulls have been replaced\n",
      "ndf.isnull().sum()"
     ],
     "language": "python",
     "metadata": {},
     "outputs": [
      {
       "metadata": {},
       "output_type": "pyout",
       "prompt_number": 11,
       "text": [
        "id           0\n",
        "timestamp    0\n",
        "derived_0    0\n",
        "derived_1    0\n",
        "derived_2    0\n",
        "derived_3    0\n",
        "derived_4    0\n",
        "y            0\n",
        "dtype: int64"
       ]
      }
     ],
     "prompt_number": 11
    },
    {
     "cell_type": "code",
     "collapsed": false,
     "input": [
      "#print length of dataframe\n",
      "len(ndf)"
     ],
     "language": "python",
     "metadata": {},
     "outputs": [
      {
       "metadata": {},
       "output_type": "pyout",
       "prompt_number": 12,
       "text": [
        "1710756"
       ]
      }
     ],
     "prompt_number": 12
    },
    {
     "cell_type": "code",
     "collapsed": false,
     "input": [
      "#create labels and drop y column from ndf dataframe\n",
      "features=ndf.columns.drop(['y'])\n",
      "labels=ndf.y\n",
      "\n",
      "ndf=ndf[features]"
     ],
     "language": "python",
     "metadata": {},
     "outputs": [],
     "prompt_number": 14
    },
    {
     "cell_type": "code",
     "collapsed": false,
     "input": [
      "features=ndf.columns.drop(['id'])\n",
      "ndf=ndf[features]"
     ],
     "language": "python",
     "metadata": {},
     "outputs": [],
     "prompt_number": 17
    },
    {
     "cell_type": "code",
     "collapsed": false,
     "input": [
      "features=ndf.columns.drop(['timestamp'])\n",
      "ndf=ndf[features]"
     ],
     "language": "python",
     "metadata": {},
     "outputs": [],
     "prompt_number": 20
    },
    {
     "cell_type": "code",
     "collapsed": false,
     "input": [
      "#split dataframe into train and test\n",
      "X_train, X_test, y_train, y_test = train_test_split(ndf,labels,test_size=0.2,random_state=37)"
     ],
     "language": "python",
     "metadata": {},
     "outputs": [],
     "prompt_number": 21
    },
    {
     "cell_type": "code",
     "collapsed": false,
     "input": [
      "X_train.head()"
     ],
     "language": "python",
     "metadata": {},
     "outputs": [
      {
       "html": [
        "<div style=\"max-width:1500px;overflow:auto;\">\n",
        "<table border=\"1\" class=\"dataframe\">\n",
        "  <thead>\n",
        "    <tr style=\"text-align: right;\">\n",
        "      <th></th>\n",
        "      <th>derived_0</th>\n",
        "      <th>derived_1</th>\n",
        "      <th>derived_2</th>\n",
        "      <th>derived_3</th>\n",
        "      <th>derived_4</th>\n",
        "    </tr>\n",
        "  </thead>\n",
        "  <tbody>\n",
        "    <tr>\n",
        "      <th>1300062</th>\n",
        "      <td>0.828896</td>\n",
        "      <td>0.147398</td>\n",
        "      <td>0.406280</td>\n",
        "      <td>-0.455338</td>\n",
        "      <td>0.335968</td>\n",
        "    </tr>\n",
        "    <tr>\n",
        "      <th>431621</th>\n",
        "      <td>0.022562</td>\n",
        "      <td>-0.041310</td>\n",
        "      <td>-0.332033</td>\n",
        "      <td>0.037427</td>\n",
        "      <td>18.016613</td>\n",
        "    </tr>\n",
        "    <tr>\n",
        "      <th>1428609</th>\n",
        "      <td>-0.098603</td>\n",
        "      <td>-0.017022</td>\n",
        "      <td>0.008341</td>\n",
        "      <td>0.320352</td>\n",
        "      <td>0.107937</td>\n",
        "    </tr>\n",
        "    <tr>\n",
        "      <th>42940</th>\n",
        "      <td>0.113862</td>\n",
        "      <td>-0.043542</td>\n",
        "      <td>-0.332033</td>\n",
        "      <td>0.074052</td>\n",
        "      <td>18.016613</td>\n",
        "    </tr>\n",
        "    <tr>\n",
        "      <th>890377</th>\n",
        "      <td>0.319204</td>\n",
        "      <td>0.529335</td>\n",
        "      <td>0.183077</td>\n",
        "      <td>-0.037426</td>\n",
        "      <td>0.070574</td>\n",
        "    </tr>\n",
        "  </tbody>\n",
        "</table>\n",
        "</div>"
       ],
       "metadata": {},
       "output_type": "pyout",
       "prompt_number": 22,
       "text": [
        "         derived_0  derived_1  derived_2  derived_3  derived_4\n",
        "1300062   0.828896   0.147398   0.406280  -0.455338   0.335968\n",
        "431621    0.022562  -0.041310  -0.332033   0.037427  18.016613\n",
        "1428609  -0.098603  -0.017022   0.008341   0.320352   0.107937\n",
        "42940     0.113862  -0.043542  -0.332033   0.074052  18.016613\n",
        "890377    0.319204   0.529335   0.183077  -0.037426   0.070574"
       ]
      }
     ],
     "prompt_number": 22
    },
    {
     "cell_type": "code",
     "collapsed": false,
     "input": [
      "y_train.head()"
     ],
     "language": "python",
     "metadata": {},
     "outputs": [
      {
       "metadata": {},
       "output_type": "pyout",
       "prompt_number": 23,
       "text": [
        "1300062    0.004486\n",
        "431621     0.010544\n",
        "1428609    0.026771\n",
        "42940      0.003464\n",
        "890377    -0.001438\n",
        "Name: y, dtype: float32"
       ]
      }
     ],
     "prompt_number": 23
    },
    {
     "cell_type": "code",
     "collapsed": false,
     "input": [
      "print(X_train.shape, y_train.shape)"
     ],
     "language": "python",
     "metadata": {},
     "outputs": [
      {
       "output_type": "stream",
       "stream": "stdout",
       "text": [
        "((1368604, 5), (1368604,))\n"
       ]
      }
     ],
     "prompt_number": 24
    },
    {
     "cell_type": "code",
     "collapsed": false,
     "input": [
      "#split X_train dataframe into train and validation\n",
      "X_train0, X_val0, y_train0, y_val0 = train_test_split(X_train,y_train,test_size=0.2,random_state=37)"
     ],
     "language": "python",
     "metadata": {},
     "outputs": [],
     "prompt_number": 26
    },
    {
     "cell_type": "code",
     "collapsed": false,
     "input": [
      "print('Training set', X_train0.shape, y_train0.shape)\n",
      "print('Validation set', X_val0.shape, y_val0.shape)\n",
      "print('Test set', X_test.shape, y_test.shape)"
     ],
     "language": "python",
     "metadata": {},
     "outputs": [
      {
       "output_type": "stream",
       "stream": "stdout",
       "text": [
        "('Training set', (1094883, 5), (1094883,))\n",
        "('Validation set', (273721, 5), (273721,))\n",
        "('Test set', (342152, 5), (342152,))\n"
       ]
      }
     ],
     "prompt_number": 27
    },
    {
     "cell_type": "code",
     "collapsed": false,
     "input": [
      "import tensorflow as tf"
     ],
     "language": "python",
     "metadata": {},
     "outputs": [],
     "prompt_number": 25
    },
    {
     "cell_type": "code",
     "collapsed": false,
     "input": [
      "#make datasets desne\n",
      "#make sure datasets are numpy arrays and not dataframes\n",
      "print type(X_train0)\n",
      "print type(y_train0)\n",
      "print type(X_val0)\n",
      "print type(y_val0)\n",
      "print type(X_test)\n",
      "print type(y_test) "
     ],
     "language": "python",
     "metadata": {},
     "outputs": [
      {
       "output_type": "stream",
       "stream": "stdout",
       "text": [
        "<class 'pandas.core.frame.DataFrame'>\n",
        "<class 'pandas.core.series.Series'>\n",
        "<class 'pandas.core.frame.DataFrame'>\n",
        "<class 'pandas.core.series.Series'>\n",
        "<class 'pandas.core.frame.DataFrame'>\n",
        "<class 'pandas.core.series.Series'>\n"
       ]
      }
     ],
     "prompt_number": 30
    },
    {
     "cell_type": "code",
     "collapsed": false,
     "input": [
      "type(X_val0.values)"
     ],
     "language": "python",
     "metadata": {},
     "outputs": [
      {
       "metadata": {},
       "output_type": "pyout",
       "prompt_number": 34,
       "text": [
        "numpy.ndarray"
       ]
      }
     ],
     "prompt_number": 34
    },
    {
     "cell_type": "code",
     "collapsed": false,
     "input": [
      "X_val0.values"
     ],
     "language": "python",
     "metadata": {},
     "outputs": [
      {
       "metadata": {},
       "output_type": "pyout",
       "prompt_number": 35,
       "text": [
        "array([[ -6.73986301e-02,  -2.11793240e-02,  -3.32032830e-01,\n",
        "          9.81123932e-03,   1.80166130e+01],\n",
        "       [ -1.00406446e-01,  -2.84284875e-02,  -5.34849800e-02,\n",
        "         -9.59285051e-02,  -5.65402173e-02],\n",
        "       [ -4.53604555e+00,   7.72943577e+11,  -3.32032830e-01,\n",
        "         -5.04601181e-01,   1.80166130e+01],\n",
        "       ..., \n",
        "       [ -3.67290020e-01,  -2.60419101e-02,   3.91583741e-01,\n",
        "         -1.15507886e-01,  -2.53418297e-01],\n",
        "       [ -4.04670313e-02,  -1.28555596e-02,   1.65826708e-01,\n",
        "          3.66693377e-01,   3.38057056e-02],\n",
        "       [ -2.03610510e-01,   1.68544799e-02,  -4.32090499e-02,\n",
        "         -1.94032080e-02,   4.15892107e-03]], dtype=float32)"
       ]
      }
     ],
     "prompt_number": 35
    },
    {
     "cell_type": "code",
     "collapsed": false,
     "input": [
      "#rearrange datasets\n",
      "train_dataset=X_train0.values\n",
      "train_labels=y_train0.values\n",
      "val_dataset=X_val0.values\n",
      "val_labels=y_val0.values\n",
      "test_dataset=X_test.values\n",
      "test_labels=y_test.values"
     ],
     "language": "python",
     "metadata": {},
     "outputs": [],
     "prompt_number": 36
    },
    {
     "cell_type": "code",
     "collapsed": false,
     "input": [
      "print val_labels.shape\n",
      "print val_labels.shape[0]\n",
      "#print val_labels.shape[1]"
     ],
     "language": "python",
     "metadata": {},
     "outputs": [
      {
       "output_type": "stream",
       "stream": "stdout",
       "text": [
        "(273721,)\n",
        "273721\n"
       ]
      }
     ],
     "prompt_number": 43
    },
    {
     "cell_type": "code",
     "collapsed": false,
     "input": [
      "type(val_labels)"
     ],
     "language": "python",
     "metadata": {},
     "outputs": [
      {
       "metadata": {},
       "output_type": "pyout",
       "prompt_number": 39,
       "text": [
        "numpy.ndarray"
       ]
      }
     ],
     "prompt_number": 39
    },
    {
     "cell_type": "code",
     "collapsed": false,
     "input": [
      "xx=tf.reshape(val_labels, [val_labels.shape[0],1])"
     ],
     "language": "python",
     "metadata": {},
     "outputs": [],
     "prompt_number": 45
    },
    {
     "cell_type": "code",
     "collapsed": false,
     "input": [
      "print xx.get_shape()\n",
      "print type(xx)"
     ],
     "language": "python",
     "metadata": {},
     "outputs": [
      {
       "output_type": "stream",
       "stream": "stdout",
       "text": [
        "(273721, 1)\n",
        "<class 'tensorflow.python.framework.ops.Tensor'>\n"
       ]
      }
     ],
     "prompt_number": 48
    },
    {
     "cell_type": "code",
     "collapsed": false,
     "input": [
      "num_features = 5 #number of columns in X_train0 dataset\n",
      "num_labels = 1 # y value\n",
      "\n",
      "batch_size = 64\n",
      "num_hidden1 = 64\n",
      "#num_hidden2 = 16\n",
      "\n",
      "graph = tf.Graph()\n",
      "with graph.as_default():\n",
      "\n",
      "    # Input data.\n",
      "    tf_train_dataset = tf.placeholder(tf.float32, shape=(batch_size, num_features))\n",
      "    tf_train_labels  = tf.placeholder(tf.int32, shape=(batch_size, ))\n",
      "    tf_valid_dataset = tf.constant(val_dataset)\n",
      "    tf_test_dataset  = tf.constant(test_dataset)\n",
      "  \n",
      "    # Variables.\n",
      "    layer1_weights = tf.Variable(tf.truncated_normal([num_features, num_hidden1], stddev=0.1))\n",
      "    layer1_biases  = tf.Variable(tf.constant(1.0, shape=[num_hidden1]))\n",
      "    \n",
      "    # Read Out layer\n",
      "    out1_w = tf.Variable(tf.truncated_normal([num_hidden1, num_labels], stddev=0.1))\n",
      "    out1_b = tf.Variable(tf.constant(1.0, shape=[num_labels]))\n",
      "  \n",
      "    # Model.\n",
      "    def model(data):\n",
      "        h1 = tf.nn.relu(tf.matmul(data, layer1_weights) + layer1_biases)\n",
      "        logits1 = tf.matmul(h1, out1_w) + out1_b\n",
      "        \n",
      "        return logits1\n",
      "  \n",
      "    # Training computation.\n",
      "    logits1 = model(tf_train_dataset)\n",
      "    \n",
      "    loss = tf.reduce_mean(tf.nn.sparse_softmax_cross_entropy_with_logits(logits1, tf_train_labels))\n",
      "    \n",
      "    # Optimizer.\n",
      "    #optimizer = tf.train.AdagradOptimizer(0.01).minimize(loss)\n",
      "    global_step = tf.Variable(0)\n",
      "    learning_rate = tf.train.exponential_decay(0.05, global_step, 10000, 0.95)\n",
      "    optimizer = tf.train.AdagradOptimizer(learning_rate).minimize(loss, global_step=global_step)\n",
      "\n",
      "    # Predictions for the training, validation, and test data.\n",
      "    tr_logits = model(tf_train_dataset)\n",
      "    train_prediction = tr_logits\n",
      "    \n",
      "    v_logits = model(tf_valid_dataset)\n",
      "    valid_prediction = v_logits\n",
      "    \n",
      "    te_logits = model(tf_test_dataset)\n",
      "    test_prediction = te_logits\n",
      "    \n",
      "    saver = tf.train.Saver()"
     ],
     "language": "python",
     "metadata": {},
     "outputs": [],
     "prompt_number": 50
    },
    {
     "cell_type": "code",
     "collapsed": false,
     "input": [
      "import time as t\n",
      "from sklearn.metrics import accuracy_score"
     ],
     "language": "python",
     "metadata": {},
     "outputs": [],
     "prompt_number": 54
    },
    {
     "cell_type": "code",
     "collapsed": false,
     "input": [
      "num_steps = 10001\n",
      "\n",
      "val_accs=[]\n",
      "test_accs=[]\n",
      "minbat_accs=[]\n",
      "\n",
      "t0 = t.time()\n",
      "\n",
      "with tf.Session(graph=graph) as session:\n",
      "    tf.initialize_all_variables().run()  \n",
      "\n",
      "    print('Initialized')\n",
      "    for step in range(num_steps):\n",
      "        #print('step: %d' % step)\n",
      "        offset = (step * batch_size) % (train_labels.shape[0] - batch_size)\n",
      "        batch_data = train_dataset[offset:(offset + batch_size), :]\n",
      "        batch_labels = train_labels[offset:(offset + batch_size)]\n",
      "        feed_dict = {tf_train_dataset : batch_data, tf_train_labels : batch_labels}\n",
      "        _, l, predictions = session.run(\n",
      "          [optimizer, loss, train_prediction], feed_dict=feed_dict)\n",
      "\n",
      "        if (step % 500 == 0): \n",
      "            minbat_acc=accuracy_score(predictions, batch_labels[:])\n",
      "            minbat_accs.append(minbat_acc)\n",
      "            val_acc=accuracy_score(valid_prediction.eval(), valid_labels[:])\n",
      "            val_accs.append(val_acc)\n",
      "            #test_acc=accuracy_score(test_prediction.eval(), test_labels[:])\n",
      "            #test_accs.append(test_acc)\n",
      "            print('Step: %d, Minibatch loss: %f, Minibatch acc: %.1f%%, Validation acc: %.1f%%' \n",
      "                  % (step, l, minbat_acc, val_acc))\n",
      "    \n",
      "    print('Test accuracy: %.1f%%' % accuracy(test_prediction.eval(), test_labels[:,1:6]))\n",
      "    \n",
      "    save_path = saver.save(session, \"2sigma_NN_0.ckpt\")\n",
      "    print(\"Model saved in file: %s\" % save_path)\n",
      "\n",
      "#note time\n",
      "t1=t.time()\n",
      "print('Time to train: %.2f' %round(t1-t0,3))\n",
      "\n",
      "#\n",
      "print(\"Model train complete\")"
     ],
     "language": "python",
     "metadata": {},
     "outputs": [
      {
       "output_type": "stream",
       "stream": "stdout",
       "text": [
        "Initialized\n"
       ]
      },
      {
       "ename": "ValueError",
       "evalue": "continuous is not supported",
       "output_type": "pyerr",
       "traceback": [
        "\u001b[0;31m---------------------------------------------------------------------------\u001b[0m\n\u001b[0;31mValueError\u001b[0m                                Traceback (most recent call last)",
        "\u001b[0;32m<ipython-input-55-4539366facf3>\u001b[0m in \u001b[0;36m<module>\u001b[0;34m()\u001b[0m\n\u001b[1;32m     21\u001b[0m \u001b[0;34m\u001b[0m\u001b[0m\n\u001b[1;32m     22\u001b[0m         \u001b[0;32mif\u001b[0m \u001b[0;34m(\u001b[0m\u001b[0mstep\u001b[0m \u001b[0;34m%\u001b[0m \u001b[0;36m500\u001b[0m \u001b[0;34m==\u001b[0m \u001b[0;36m0\u001b[0m\u001b[0;34m)\u001b[0m\u001b[0;34m:\u001b[0m\u001b[0;34m\u001b[0m\u001b[0m\n\u001b[0;32m---> 23\u001b[0;31m             \u001b[0mminbat_acc\u001b[0m\u001b[0;34m=\u001b[0m\u001b[0maccuracy_score\u001b[0m\u001b[0;34m(\u001b[0m\u001b[0mpredictions\u001b[0m\u001b[0;34m,\u001b[0m \u001b[0mbatch_labels\u001b[0m\u001b[0;34m[\u001b[0m\u001b[0;34m:\u001b[0m\u001b[0;34m]\u001b[0m\u001b[0;34m)\u001b[0m\u001b[0;34m\u001b[0m\u001b[0m\n\u001b[0m\u001b[1;32m     24\u001b[0m             \u001b[0mminbat_accs\u001b[0m\u001b[0;34m.\u001b[0m\u001b[0mappend\u001b[0m\u001b[0;34m(\u001b[0m\u001b[0mminbat_acc\u001b[0m\u001b[0;34m)\u001b[0m\u001b[0;34m\u001b[0m\u001b[0m\n\u001b[1;32m     25\u001b[0m             \u001b[0mval_acc\u001b[0m\u001b[0;34m=\u001b[0m\u001b[0maccuracy_score\u001b[0m\u001b[0;34m(\u001b[0m\u001b[0mvalid_prediction\u001b[0m\u001b[0;34m.\u001b[0m\u001b[0meval\u001b[0m\u001b[0;34m(\u001b[0m\u001b[0;34m)\u001b[0m\u001b[0;34m,\u001b[0m \u001b[0mvalid_labels\u001b[0m\u001b[0;34m[\u001b[0m\u001b[0;34m:\u001b[0m\u001b[0;34m]\u001b[0m\u001b[0;34m)\u001b[0m\u001b[0;34m\u001b[0m\u001b[0m\n",
        "\u001b[0;32m/Library/Python/2.7/site-packages/sklearn/metrics/classification.pyc\u001b[0m in \u001b[0;36maccuracy_score\u001b[0;34m(y_true, y_pred, normalize, sample_weight)\u001b[0m\n\u001b[1;32m    170\u001b[0m \u001b[0;34m\u001b[0m\u001b[0m\n\u001b[1;32m    171\u001b[0m     \u001b[0;31m# Compute accuracy for each possible representation\u001b[0m\u001b[0;34m\u001b[0m\u001b[0;34m\u001b[0m\u001b[0m\n\u001b[0;32m--> 172\u001b[0;31m     \u001b[0my_type\u001b[0m\u001b[0;34m,\u001b[0m \u001b[0my_true\u001b[0m\u001b[0;34m,\u001b[0m \u001b[0my_pred\u001b[0m \u001b[0;34m=\u001b[0m \u001b[0m_check_targets\u001b[0m\u001b[0;34m(\u001b[0m\u001b[0my_true\u001b[0m\u001b[0;34m,\u001b[0m \u001b[0my_pred\u001b[0m\u001b[0;34m)\u001b[0m\u001b[0;34m\u001b[0m\u001b[0m\n\u001b[0m\u001b[1;32m    173\u001b[0m     \u001b[0;32mif\u001b[0m \u001b[0my_type\u001b[0m\u001b[0;34m.\u001b[0m\u001b[0mstartswith\u001b[0m\u001b[0;34m(\u001b[0m\u001b[0;34m'multilabel'\u001b[0m\u001b[0;34m)\u001b[0m\u001b[0;34m:\u001b[0m\u001b[0;34m\u001b[0m\u001b[0m\n\u001b[1;32m    174\u001b[0m         \u001b[0mdiffering_labels\u001b[0m \u001b[0;34m=\u001b[0m \u001b[0mcount_nonzero\u001b[0m\u001b[0;34m(\u001b[0m\u001b[0my_true\u001b[0m \u001b[0;34m-\u001b[0m \u001b[0my_pred\u001b[0m\u001b[0;34m,\u001b[0m \u001b[0maxis\u001b[0m\u001b[0;34m=\u001b[0m\u001b[0;36m1\u001b[0m\u001b[0;34m)\u001b[0m\u001b[0;34m\u001b[0m\u001b[0m\n",
        "\u001b[0;32m/Library/Python/2.7/site-packages/sklearn/metrics/classification.pyc\u001b[0m in \u001b[0;36m_check_targets\u001b[0;34m(y_true, y_pred)\u001b[0m\n\u001b[1;32m     87\u001b[0m     \u001b[0;31m# No metrics support \"multiclass-multioutput\" format\u001b[0m\u001b[0;34m\u001b[0m\u001b[0;34m\u001b[0m\u001b[0m\n\u001b[1;32m     88\u001b[0m     \u001b[0;32mif\u001b[0m \u001b[0;34m(\u001b[0m\u001b[0my_type\u001b[0m \u001b[0;32mnot\u001b[0m \u001b[0;32min\u001b[0m \u001b[0;34m[\u001b[0m\u001b[0;34m\"binary\"\u001b[0m\u001b[0;34m,\u001b[0m \u001b[0;34m\"multiclass\"\u001b[0m\u001b[0;34m,\u001b[0m \u001b[0;34m\"multilabel-indicator\"\u001b[0m\u001b[0;34m]\u001b[0m\u001b[0;34m)\u001b[0m\u001b[0;34m:\u001b[0m\u001b[0;34m\u001b[0m\u001b[0m\n\u001b[0;32m---> 89\u001b[0;31m         \u001b[0;32mraise\u001b[0m \u001b[0mValueError\u001b[0m\u001b[0;34m(\u001b[0m\u001b[0;34m\"{0} is not supported\"\u001b[0m\u001b[0;34m.\u001b[0m\u001b[0mformat\u001b[0m\u001b[0;34m(\u001b[0m\u001b[0my_type\u001b[0m\u001b[0;34m)\u001b[0m\u001b[0;34m)\u001b[0m\u001b[0;34m\u001b[0m\u001b[0m\n\u001b[0m\u001b[1;32m     90\u001b[0m \u001b[0;34m\u001b[0m\u001b[0m\n\u001b[1;32m     91\u001b[0m     \u001b[0;32mif\u001b[0m \u001b[0my_type\u001b[0m \u001b[0;32min\u001b[0m \u001b[0;34m[\u001b[0m\u001b[0;34m\"binary\"\u001b[0m\u001b[0;34m,\u001b[0m \u001b[0;34m\"multiclass\"\u001b[0m\u001b[0;34m]\u001b[0m\u001b[0;34m:\u001b[0m\u001b[0;34m\u001b[0m\u001b[0m\n",
        "\u001b[0;31mValueError\u001b[0m: continuous is not supported"
       ]
      }
     ],
     "prompt_number": 55
    },
    {
     "cell_type": "code",
     "collapsed": false,
     "input": [],
     "language": "python",
     "metadata": {},
     "outputs": []
    },
    {
     "cell_type": "code",
     "collapsed": false,
     "input": [],
     "language": "python",
     "metadata": {},
     "outputs": []
    },
    {
     "cell_type": "code",
     "collapsed": false,
     "input": [],
     "language": "python",
     "metadata": {},
     "outputs": []
    },
    {
     "cell_type": "code",
     "collapsed": false,
     "input": [
      "#get list of securities at all timestamps\n",
      "#As per my experiments at the competition, there will be multiple securities that will get added at later timestamps"
     ],
     "language": "python",
     "metadata": {},
     "outputs": []
    },
    {
     "cell_type": "code",
     "collapsed": false,
     "input": [],
     "language": "python",
     "metadata": {},
     "outputs": []
    },
    {
     "cell_type": "code",
     "collapsed": false,
     "input": [
      "#find clusters in data\n",
      "#if a new security is added (during testing) find which cluster it belongs to\n",
      "#take mean value of that cluster\n"
     ],
     "language": "python",
     "metadata": {},
     "outputs": []
    },
    {
     "cell_type": "code",
     "collapsed": false,
     "input": [],
     "language": "python",
     "metadata": {},
     "outputs": []
    },
    {
     "cell_type": "code",
     "collapsed": false,
     "input": [
      "#find (if possible) rows that have same features in data"
     ],
     "language": "python",
     "metadata": {},
     "outputs": []
    },
    {
     "cell_type": "code",
     "collapsed": false,
     "input": [],
     "language": "python",
     "metadata": {},
     "outputs": []
    },
    {
     "cell_type": "code",
     "collapsed": false,
     "input": [
      "#find if y values can be represented as states"
     ],
     "language": "python",
     "metadata": {},
     "outputs": []
    },
    {
     "cell_type": "code",
     "collapsed": false,
     "input": [],
     "language": "python",
     "metadata": {},
     "outputs": []
    },
    {
     "cell_type": "code",
     "collapsed": false,
     "input": [
      "# reinforcement learning  framework\n",
      "# step1: represent state, action, reward\n",
      "#       state: all features at particular time\n",
      "#       action: y value\n",
      "#       reward: avg R value over the predicted values for the previous day\n",
      "\n",
      "\n",
      "#Notes\n",
      "#1.) Assume all securities to be same in first pass\n",
      "#2.) At each timestamp, we get a batch of rows that have no y values\n",
      "#3.) we use our model to predict y values for the new rows\n",
      "#4.) we submit the predicted values and receive reward indicating if predicted value was good/bad\n",
      "#5.) new timestamp t1, new data to predict\n",
      "#6.) so, before predicting, fintune existing model depending upon reward\n",
      "#7.) use finetuned model to predict values at new timestamp t1\n",
      "\n",
      "\n",
      "\n",
      "# use Neural Network to learn Q function\n",
      "# for now, assume discount factor=0\n",
      "# the reward is \"avg r value over the predicted values for the previous day\"\n",
      "# "
     ],
     "language": "python",
     "metadata": {},
     "outputs": []
    },
    {
     "cell_type": "code",
     "collapsed": false,
     "input": [],
     "language": "python",
     "metadata": {},
     "outputs": []
    },
    {
     "cell_type": "code",
     "collapsed": false,
     "input": [],
     "language": "python",
     "metadata": {},
     "outputs": []
    },
    {
     "cell_type": "code",
     "collapsed": false,
     "input": [
      "# restrict data to only include 10 securities"
     ],
     "language": "python",
     "metadata": {},
     "outputs": []
    },
    {
     "cell_type": "code",
     "collapsed": false,
     "input": [],
     "language": "python",
     "metadata": {},
     "outputs": []
    },
    {
     "cell_type": "code",
     "collapsed": false,
     "input": [],
     "language": "python",
     "metadata": {},
     "outputs": []
    },
    {
     "cell_type": "code",
     "collapsed": false,
     "input": [],
     "language": "python",
     "metadata": {},
     "outputs": []
    },
    {
     "cell_type": "code",
     "collapsed": false,
     "input": [
      "# expect and handle missing values"
     ],
     "language": "python",
     "metadata": {},
     "outputs": []
    },
    {
     "cell_type": "code",
     "collapsed": false,
     "input": [],
     "language": "python",
     "metadata": {},
     "outputs": []
    },
    {
     "cell_type": "code",
     "collapsed": false,
     "input": [],
     "language": "python",
     "metadata": {},
     "outputs": []
    },
    {
     "cell_type": "code",
     "collapsed": false,
     "input": [],
     "language": "python",
     "metadata": {},
     "outputs": []
    },
    {
     "cell_type": "code",
     "collapsed": false,
     "input": [
      "a=[1,2,3]\n",
      "b=[1,4,5]\n",
      "\n",
      "set(b).intersection(a)"
     ],
     "language": "python",
     "metadata": {},
     "outputs": [
      {
       "metadata": {},
       "output_type": "pyout",
       "prompt_number": 45,
       "text": [
        "{1}"
       ]
      }
     ],
     "prompt_number": 45
    },
    {
     "cell_type": "code",
     "collapsed": false,
     "input": [
      "range(10)"
     ],
     "language": "python",
     "metadata": {},
     "outputs": [
      {
       "metadata": {},
       "output_type": "pyout",
       "prompt_number": 17,
       "text": [
        "[0, 1, 2, 3, 4, 5, 6, 7, 8, 9]"
       ]
      }
     ],
     "prompt_number": 17
    },
    {
     "cell_type": "code",
     "collapsed": false,
     "input": [
      "df[['id', 'timestamp']].hist()"
     ],
     "language": "python",
     "metadata": {},
     "outputs": [
      {
       "metadata": {},
       "output_type": "pyout",
       "prompt_number": 27,
       "text": [
        "array([[<matplotlib.axes._subplots.AxesSubplot object at 0x000000000C7B7518>,\n",
        "        <matplotlib.axes._subplots.AxesSubplot object at 0x000000000C7E6F28>]], dtype=object)"
       ]
      }
     ],
     "prompt_number": 27
    },
    {
     "cell_type": "code",
     "collapsed": false,
     "input": [
      "df.plot()"
     ],
     "language": "python",
     "metadata": {},
     "outputs": [],
     "prompt_number": null
    },
    {
     "cell_type": "code",
     "collapsed": true,
     "input": [
      "df"
     ],
     "language": "python",
     "metadata": {},
     "outputs": [
      {
       "ename": "NameError",
       "evalue": "name 'df' is not defined",
       "output_type": "pyerr",
       "traceback": [
        "\u001b[0;31m---------------------------------------------------------------------------\u001b[0m\n\u001b[0;31mNameError\u001b[0m                                 Traceback (most recent call last)",
        "\u001b[0;32m<ipython-input-1-7ed0097d7e9e>\u001b[0m in \u001b[0;36m<module>\u001b[0;34m()\u001b[0m\n\u001b[0;32m----> 1\u001b[0;31m \u001b[0mdf\u001b[0m\u001b[0;34m\u001b[0m\u001b[0m\n\u001b[0m",
        "\u001b[0;31mNameError\u001b[0m: name 'df' is not defined"
       ]
      }
     ],
     "prompt_number": 1
    },
    {
     "cell_type": "code",
     "collapsed": true,
     "input": [],
     "language": "python",
     "metadata": {},
     "outputs": [],
     "prompt_number": null
    },
    {
     "cell_type": "code",
     "collapsed": true,
     "input": [],
     "language": "python",
     "metadata": {},
     "outputs": [],
     "prompt_number": null
    },
    {
     "cell_type": "code",
     "collapsed": true,
     "input": [],
     "language": "python",
     "metadata": {},
     "outputs": [],
     "prompt_number": null
    },
    {
     "cell_type": "code",
     "collapsed": true,
     "input": [],
     "language": "python",
     "metadata": {},
     "outputs": [],
     "prompt_number": null
    },
    {
     "cell_type": "code",
     "collapsed": true,
     "input": [],
     "language": "python",
     "metadata": {},
     "outputs": [],
     "prompt_number": null
    }
   ],
   "metadata": {}
  }
 ]
}